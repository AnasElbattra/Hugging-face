{
 "cells": [
  {
   "cell_type": "code",
   "execution_count": 1,
   "metadata": {},
   "outputs": [
    {
     "name": "stderr",
     "output_type": "stream",
     "text": [
      "C:\\Users\\youse\\AppData\\Local\\Packages\\PythonSoftwareFoundation.Python.3.11_qbz5n2kfra8p0\\LocalCache\\local-packages\\Python311\\site-packages\\tqdm\\auto.py:21: TqdmWarning: IProgress not found. Please update jupyter and ipywidgets. See https://ipywidgets.readthedocs.io/en/stable/user_install.html\n",
      "  from .autonotebook import tqdm as notebook_tqdm\n",
      "[nltk_data] Downloading package punkt to\n",
      "[nltk_data]     C:\\Users\\youse\\AppData\\Roaming\\nltk_data...\n",
      "[nltk_data]   Package punkt is already up-to-date!\n"
     ]
    },
    {
     "data": {
      "text/plain": [
       "True"
      ]
     },
     "execution_count": 1,
     "metadata": {},
     "output_type": "execute_result"
    }
   ],
   "source": [
    "import torch\n",
    "from datasets import load_dataset\n",
    "\n",
    "import pandas as pd\n",
    "import gc\n",
    "from transformers import AutoTokenizer, T5ForConditionalGeneration\n",
    "\n",
    "import evaluate\n",
    "import nltk\n",
    "from nltk.tokenize import sent_tokenize\n",
    "\n",
    "nltk.download(\"punkt\")"
   ]
  },
  {
   "cell_type": "code",
   "execution_count": 2,
   "metadata": {},
   "outputs": [
    {
     "name": "stderr",
     "output_type": "stream",
     "text": [
      "Downloading data: 100%|██████████| 313M/313M [00:22<00:00, 13.7MB/s] \n",
      "Downloading data: 100%|██████████| 304M/304M [00:21<00:00, 14.1MB/s] \n",
      "Downloading data: 100%|██████████| 155M/155M [00:11<00:00, 14.0MB/s] \n",
      "Downloading data: 100%|██████████| 34.7M/34.7M [00:03<00:00, 11.2MB/s]\n",
      "Downloading data: 100%|██████████| 30.0M/30.0M [00:02<00:00, 11.9MB/s]\n",
      "Generating train split: 100%|██████████| 287113/287113 [00:03<00:00, 85132.32 examples/s]\n",
      "Generating validation split: 100%|██████████| 13368/13368 [00:00<00:00, 95727.57 examples/s]\n",
      "Generating test split: 100%|██████████| 11490/11490 [00:00<00:00, 88069.42 examples/s]\n",
      "Filter: 100%|██████████| 287113/287113 [00:02<00:00, 96653.98 examples/s]\n"
     ]
    },
    {
     "data": {
      "text/plain": [
       "Dataset({\n",
       "    features: ['article', 'highlights', 'id'],\n",
       "    num_rows: 100\n",
       "})"
      ]
     },
     "execution_count": 2,
     "metadata": {},
     "output_type": "execute_result"
    }
   ],
   "source": [
    "full_dataset = load_dataset(\n",
    "    \"cnn_dailymail\", \"3.0.0\"\n",
    ")  # Note: We specify cache_dir to use pre-cached data.\n",
    "\n",
    "# Use a small sample of the data during this lab, for speed.\n",
    "sample_size = 100\n",
    "sample = (\n",
    "    full_dataset[\"train\"]\n",
    "    .filter(lambda r: \"CNN\" in r[\"article\"][:25])\n",
    "    .shuffle(seed=42)\n",
    "    .select(range(sample_size))\n",
    ")\n",
    "sample"
   ]
  },
  {
   "cell_type": "code",
   "execution_count": 3,
   "metadata": {},
   "outputs": [
    {
     "data": {
      "text/html": [
       "<div>\n",
       "<style scoped>\n",
       "    .dataframe tbody tr th:only-of-type {\n",
       "        vertical-align: middle;\n",
       "    }\n",
       "\n",
       "    .dataframe tbody tr th {\n",
       "        vertical-align: top;\n",
       "    }\n",
       "\n",
       "    .dataframe thead th {\n",
       "        text-align: right;\n",
       "    }\n",
       "</style>\n",
       "<table border=\"1\" class=\"dataframe\">\n",
       "  <thead>\n",
       "    <tr style=\"text-align: right;\">\n",
       "      <th></th>\n",
       "      <th>article</th>\n",
       "      <th>highlights</th>\n",
       "      <th>id</th>\n",
       "    </tr>\n",
       "  </thead>\n",
       "  <tbody>\n",
       "    <tr>\n",
       "      <th>0</th>\n",
       "      <td>(CNN) -- A magnitude 6.7 earthquake rattled Pa...</td>\n",
       "      <td>Papua New Guinea is on the so-called Ring of F...</td>\n",
       "      <td>8093dba7bc2260c26f18939826909ef27549c758</td>\n",
       "    </tr>\n",
       "    <tr>\n",
       "      <th>1</th>\n",
       "      <td>(CNN) -- Pakistan took big steps towards level...</td>\n",
       "      <td>Australia collapse to 88 all out on opening da...</td>\n",
       "      <td>67d626156f971d0bf55e5f2a48e1ed965eb622a6</td>\n",
       "    </tr>\n",
       "    <tr>\n",
       "      <th>2</th>\n",
       "      <td>(CNN) -- Federal prosecutors are pushing to fo...</td>\n",
       "      <td>Jared Loughner is refusing the government's re...</td>\n",
       "      <td>0d02fb8f0d406db956b128a5c1cc7bf3f13860a6</td>\n",
       "    </tr>\n",
       "    <tr>\n",
       "      <th>3</th>\n",
       "      <td>Centennial, Colorado (CNN) -- McKayla Hicks sa...</td>\n",
       "      <td>Shooting victim McKayla Hicks went to hearing ...</td>\n",
       "      <td>39aee887c6d34bd311c826142b14037e6f2639ee</td>\n",
       "    </tr>\n",
       "    <tr>\n",
       "      <th>4</th>\n",
       "      <td>(CNN) -- Double-amputee sprinter Oscar Pistori...</td>\n",
       "      <td>Oscar Pistorius to become first double-amputee...</td>\n",
       "      <td>cc83ecdf08f0b598c3b97b3e2819c7e0ae7ca4f2</td>\n",
       "    </tr>\n",
       "    <tr>\n",
       "      <th>...</th>\n",
       "      <td>...</td>\n",
       "      <td>...</td>\n",
       "      <td>...</td>\n",
       "    </tr>\n",
       "    <tr>\n",
       "      <th>95</th>\n",
       "      <td>(CNN) -- Samuel Eto'o netted a superb hat-tric...</td>\n",
       "      <td>Samuel Eto'o scored a hat-trick as Inter Milan...</td>\n",
       "      <td>6c1924f5852b6980a0835877d3f9591a00c70f37</td>\n",
       "    </tr>\n",
       "    <tr>\n",
       "      <th>96</th>\n",
       "      <td>Washington (CNN) -- President Barack Obama's r...</td>\n",
       "      <td>Obama raised almost $30 million less than Romn...</td>\n",
       "      <td>0a5691b8fe654b6b2cdace5ab87aff2ee4c23577</td>\n",
       "    </tr>\n",
       "    <tr>\n",
       "      <th>97</th>\n",
       "      <td>(CNN) -- Violence swept across Syria on Friday...</td>\n",
       "      <td>NEW: U.N. Secretary-General Ban Ki-moon joins ...</td>\n",
       "      <td>2cc6e4db9758192ac467bbd7424782e4c92206c1</td>\n",
       "    </tr>\n",
       "    <tr>\n",
       "      <th>98</th>\n",
       "      <td>(CNN) -- New HIV infections have fallen worldw...</td>\n",
       "      <td>New infections in sub-Saharan Africa 15 percen...</td>\n",
       "      <td>acb2148184f83ecb516ad19a1b0a0e1bc5047237</td>\n",
       "    </tr>\n",
       "    <tr>\n",
       "      <th>99</th>\n",
       "      <td>CHENGDU, China (CNN) -- Rainy weather and poor...</td>\n",
       "      <td>NEW: China says at least 10,000 dead but it ex...</td>\n",
       "      <td>3f9a8410859aa332b02873bb71dc540909e0deb3</td>\n",
       "    </tr>\n",
       "  </tbody>\n",
       "</table>\n",
       "<p>100 rows × 3 columns</p>\n",
       "</div>"
      ],
      "text/plain": [
       "                                              article  \\\n",
       "0   (CNN) -- A magnitude 6.7 earthquake rattled Pa...   \n",
       "1   (CNN) -- Pakistan took big steps towards level...   \n",
       "2   (CNN) -- Federal prosecutors are pushing to fo...   \n",
       "3   Centennial, Colorado (CNN) -- McKayla Hicks sa...   \n",
       "4   (CNN) -- Double-amputee sprinter Oscar Pistori...   \n",
       "..                                                ...   \n",
       "95  (CNN) -- Samuel Eto'o netted a superb hat-tric...   \n",
       "96  Washington (CNN) -- President Barack Obama's r...   \n",
       "97  (CNN) -- Violence swept across Syria on Friday...   \n",
       "98  (CNN) -- New HIV infections have fallen worldw...   \n",
       "99  CHENGDU, China (CNN) -- Rainy weather and poor...   \n",
       "\n",
       "                                           highlights  \\\n",
       "0   Papua New Guinea is on the so-called Ring of F...   \n",
       "1   Australia collapse to 88 all out on opening da...   \n",
       "2   Jared Loughner is refusing the government's re...   \n",
       "3   Shooting victim McKayla Hicks went to hearing ...   \n",
       "4   Oscar Pistorius to become first double-amputee...   \n",
       "..                                                ...   \n",
       "95  Samuel Eto'o scored a hat-trick as Inter Milan...   \n",
       "96  Obama raised almost $30 million less than Romn...   \n",
       "97  NEW: U.N. Secretary-General Ban Ki-moon joins ...   \n",
       "98  New infections in sub-Saharan Africa 15 percen...   \n",
       "99  NEW: China says at least 10,000 dead but it ex...   \n",
       "\n",
       "                                          id  \n",
       "0   8093dba7bc2260c26f18939826909ef27549c758  \n",
       "1   67d626156f971d0bf55e5f2a48e1ed965eb622a6  \n",
       "2   0d02fb8f0d406db956b128a5c1cc7bf3f13860a6  \n",
       "3   39aee887c6d34bd311c826142b14037e6f2639ee  \n",
       "4   cc83ecdf08f0b598c3b97b3e2819c7e0ae7ca4f2  \n",
       "..                                       ...  \n",
       "95  6c1924f5852b6980a0835877d3f9591a00c70f37  \n",
       "96  0a5691b8fe654b6b2cdace5ab87aff2ee4c23577  \n",
       "97  2cc6e4db9758192ac467bbd7424782e4c92206c1  \n",
       "98  acb2148184f83ecb516ad19a1b0a0e1bc5047237  \n",
       "99  3f9a8410859aa332b02873bb71dc540909e0deb3  \n",
       "\n",
       "[100 rows x 3 columns]"
      ]
     },
     "metadata": {},
     "output_type": "display_data"
    }
   ],
   "source": [
    "display(sample.to_pandas())"
   ]
  },
  {
   "cell_type": "code",
   "execution_count": 4,
   "metadata": {},
   "outputs": [
    {
     "name": "stdout",
     "output_type": "stream",
     "text": [
      "Article:\n",
      "(CNN) -- A magnitude 6.7 earthquake rattled Papua New Guinea early Friday afternoon, according to the U.S. Geological Survey. The quake was centered about 200 miles north-northeast of Port Moresby and had a depth of 28 miles. No tsunami warning was issued, according to the Tsunami Warning Center. Papua New Guinea is on the so-called Ring of Fire, an arc of fault lines circling the Pacific Basin that is prone to frequent earthquakes and volcanic eruptions.\n",
      "\n",
      "Summary:\n",
      "Papua New Guinea is on the so-called Ring of Fire .\n",
      "It's on an arc of fault lines that is prone to frequent earthquakes .\n",
      "No tsunami warning was issued .\n"
     ]
    }
   ],
   "source": [
    "example_article = sample[\"article\"][0]\n",
    "example_summary = sample[\"highlights\"][0]\n",
    "print(f\"Article:\\n{example_article}\\n\")\n",
    "print(f\"Summary:\\n{example_summary}\")"
   ]
  },
  {
   "cell_type": "code",
   "execution_count": 5,
   "metadata": {},
   "outputs": [],
   "source": [
    "def batch_generator(data: list, batch_size: int):\n",
    "    \"\"\"\n",
    "    Creates batches of size `batch_size` from a list.\n",
    "    \"\"\"\n",
    "    s = 0\n",
    "    e = s + batch_size\n",
    "    while s < len(data):\n",
    "        yield data[s:e]\n",
    "        s = e\n",
    "        e = min(s + batch_size, len(data))"
   ]
  },
  {
   "cell_type": "code",
   "execution_count": 6,
   "metadata": {},
   "outputs": [],
   "source": [
    "def summarize_with_t5(\n",
    "    model_checkpoint: str, articles: list, batch_size: int = 8\n",
    ") -> list:\n",
    "    \"\"\"\n",
    "    Compute summaries using a T5 model.\n",
    "    This is similar to a `pipeline` for a T5 model but does tokenization manually.\n",
    "\n",
    "    :param model_checkpoint: Name for a model checkpoint in Hugging Face, such as \"t5-small\" or \"t5-base\"\n",
    "    :param articles: List of strings, where each string represents one article.\n",
    "    :return: List of strings, where each string represents one article's generated summary\n",
    "    \"\"\"\n",
    "    if torch.cuda.is_available():\n",
    "        device = \"cuda:0\"\n",
    "    else:\n",
    "        device = \"cpu\"\n",
    "\n",
    "    model = T5ForConditionalGeneration.from_pretrained(model_checkpoint).to(device)\n",
    "    tokenizer = AutoTokenizer.from_pretrained(model_checkpoint, model_max_length=1024)\n",
    "\n",
    "    def perform_inference(batch: list) -> list:\n",
    "        inputs = tokenizer(\n",
    "            batch, max_length=1024, return_tensors=\"pt\", padding=True, truncation=True\n",
    "        )\n",
    "\n",
    "        summary_ids = model.generate(\n",
    "            inputs.input_ids.to(device),\n",
    "            attention_mask=inputs.attention_mask.to(device),\n",
    "            num_beams=2,\n",
    "            min_length=0,\n",
    "            max_length=40,\n",
    "        )\n",
    "        return tokenizer.batch_decode(summary_ids, skip_special_tokens=True)\n",
    "\n",
    "    res = []\n",
    "\n",
    "    summary_articles = list(map(lambda article: \"summarize: \" + article, articles))\n",
    "    for batch in batch_generator(summary_articles, batch_size=batch_size):\n",
    "        res += perform_inference(batch)\n",
    "\n",
    "        torch.cuda.empty_cache()\n",
    "        gc.collect()\n",
    "\n",
    "    # clean up\n",
    "    del tokenizer\n",
    "    del model\n",
    "    torch.cuda.empty_cache()\n",
    "    gc.collect()\n",
    "    return res"
   ]
  },
  {
   "cell_type": "code",
   "execution_count": 7,
   "metadata": {},
   "outputs": [
    {
     "name": "stderr",
     "output_type": "stream",
     "text": [
      "config.json: 100%|██████████| 1.21k/1.21k [00:00<?, ?B/s]\n",
      "C:\\Users\\youse\\AppData\\Local\\Packages\\PythonSoftwareFoundation.Python.3.11_qbz5n2kfra8p0\\LocalCache\\local-packages\\Python311\\site-packages\\huggingface_hub\\file_download.py:149: UserWarning: `huggingface_hub` cache-system uses symlinks by default to efficiently store duplicated files but your machine does not support them in C:\\Users\\youse\\.cache\\huggingface\\hub\\models--t5-small. Caching files will still work but in a degraded version that might require more space on your disk. This warning can be disabled by setting the `HF_HUB_DISABLE_SYMLINKS_WARNING` environment variable. For more details, see https://huggingface.co/docs/huggingface_hub/how-to-cache#limitations.\n",
      "To support symlinks on Windows, you either need to activate Developer Mode or to run Python as an administrator. In order to see activate developer mode, see this article: https://docs.microsoft.com/en-us/windows/apps/get-started/enable-your-device-for-development\n",
      "  warnings.warn(message)\n",
      "model.safetensors: 100%|██████████| 242M/242M [00:08<00:00, 28.2MB/s] \n",
      "generation_config.json: 100%|██████████| 147/147 [00:00<?, ?B/s] \n",
      "tokenizer_config.json: 100%|██████████| 2.32k/2.32k [00:00<?, ?B/s]\n",
      "spiece.model: 100%|██████████| 792k/792k [00:00<00:00, 1.83MB/s]\n",
      "tokenizer.json: 100%|██████████| 1.39M/1.39M [00:01<00:00, 1.06MB/s]\n"
     ]
    }
   ],
   "source": [
    "t5_small_summaries = summarize_with_t5(\"t5-small\", sample[\"article\"])"
   ]
  },
  {
   "cell_type": "code",
   "execution_count": 8,
   "metadata": {},
   "outputs": [],
   "source": [
    "reference_summaries = sample[\"highlights\"]"
   ]
  },
  {
   "cell_type": "code",
   "execution_count": 9,
   "metadata": {},
   "outputs": [
    {
     "data": {
      "text/html": [
       "<div>\n",
       "<style scoped>\n",
       "    .dataframe tbody tr th:only-of-type {\n",
       "        vertical-align: middle;\n",
       "    }\n",
       "\n",
       "    .dataframe tbody tr th {\n",
       "        vertical-align: top;\n",
       "    }\n",
       "\n",
       "    .dataframe thead th {\n",
       "        text-align: right;\n",
       "    }\n",
       "</style>\n",
       "<table border=\"1\" class=\"dataframe\">\n",
       "  <thead>\n",
       "    <tr style=\"text-align: right;\">\n",
       "      <th></th>\n",
       "      <th>generated</th>\n",
       "      <th>reference</th>\n",
       "    </tr>\n",
       "  </thead>\n",
       "  <tbody>\n",
       "    <tr>\n",
       "      <th>0</th>\n",
       "      <td>a magnitude 6.7 earthquake rattles Papua new G...</td>\n",
       "      <td>Papua New Guinea is on the so-called Ring of F...</td>\n",
       "    </tr>\n",
       "    <tr>\n",
       "      <th>1</th>\n",
       "      <td>the two-Test cricket series is being played in...</td>\n",
       "      <td>Australia collapse to 88 all out on opening da...</td>\n",
       "    </tr>\n",
       "    <tr>\n",
       "      <th>2</th>\n",
       "      <td>federal prosecutors want jared Lee Loughner to...</td>\n",
       "      <td>Jared Loughner is refusing the government's re...</td>\n",
       "    </tr>\n",
       "    <tr>\n",
       "      <th>3</th>\n",
       "      <td>new: \"he tried to kill people,\" a 17-year-old ...</td>\n",
       "      <td>Shooting victim McKayla Hicks went to hearing ...</td>\n",
       "    </tr>\n",
       "    <tr>\n",
       "      <th>4</th>\n",
       "      <td>double-amputee sprinter Oscar Pistorius will c...</td>\n",
       "      <td>Oscar Pistorius to become first double-amputee...</td>\n",
       "    </tr>\n",
       "    <tr>\n",
       "      <th>...</th>\n",
       "      <td>...</td>\n",
       "      <td>...</td>\n",
       "    </tr>\n",
       "    <tr>\n",
       "      <th>95</th>\n",
       "      <td>holders Inter Milan thrash Werder Bremen 4-0 i...</td>\n",
       "      <td>Samuel Eto'o scored a hat-trick as Inter Milan...</td>\n",
       "    </tr>\n",
       "    <tr>\n",
       "      <th>96</th>\n",
       "      <td>president's re-election campaign raises $71 mi...</td>\n",
       "      <td>Obama raised almost $30 million less than Romn...</td>\n",
       "    </tr>\n",
       "    <tr>\n",
       "      <th>97</th>\n",
       "      <td>at least 75 people were killed in protests, an...</td>\n",
       "      <td>NEW: U.N. Secretary-General Ban Ki-moon joins ...</td>\n",
       "    </tr>\n",
       "    <tr>\n",
       "      <th>98</th>\n",
       "      <td>new infections have fallen by 17 percent in th...</td>\n",
       "      <td>New infections in sub-Saharan Africa 15 percen...</td>\n",
       "    </tr>\n",
       "    <tr>\n",
       "      <th>99</th>\n",
       "      <td>nearly 10,000 people died in quake in central ...</td>\n",
       "      <td>NEW: China says at least 10,000 dead but it ex...</td>\n",
       "    </tr>\n",
       "  </tbody>\n",
       "</table>\n",
       "<p>100 rows × 2 columns</p>\n",
       "</div>"
      ],
      "text/plain": [
       "                                            generated  \\\n",
       "0   a magnitude 6.7 earthquake rattles Papua new G...   \n",
       "1   the two-Test cricket series is being played in...   \n",
       "2   federal prosecutors want jared Lee Loughner to...   \n",
       "3   new: \"he tried to kill people,\" a 17-year-old ...   \n",
       "4   double-amputee sprinter Oscar Pistorius will c...   \n",
       "..                                                ...   \n",
       "95  holders Inter Milan thrash Werder Bremen 4-0 i...   \n",
       "96  president's re-election campaign raises $71 mi...   \n",
       "97  at least 75 people were killed in protests, an...   \n",
       "98  new infections have fallen by 17 percent in th...   \n",
       "99  nearly 10,000 people died in quake in central ...   \n",
       "\n",
       "                                            reference  \n",
       "0   Papua New Guinea is on the so-called Ring of F...  \n",
       "1   Australia collapse to 88 all out on opening da...  \n",
       "2   Jared Loughner is refusing the government's re...  \n",
       "3   Shooting victim McKayla Hicks went to hearing ...  \n",
       "4   Oscar Pistorius to become first double-amputee...  \n",
       "..                                                ...  \n",
       "95  Samuel Eto'o scored a hat-trick as Inter Milan...  \n",
       "96  Obama raised almost $30 million less than Romn...  \n",
       "97  NEW: U.N. Secretary-General Ban Ki-moon joins ...  \n",
       "98  New infections in sub-Saharan Africa 15 percen...  \n",
       "99  NEW: China says at least 10,000 dead but it ex...  \n",
       "\n",
       "[100 rows x 2 columns]"
      ]
     },
     "metadata": {},
     "output_type": "display_data"
    }
   ],
   "source": [
    "display(\n",
    "    pd.DataFrame.from_dict(\n",
    "        {\n",
    "            \"generated\": t5_small_summaries,\n",
    "            \"reference\": reference_summaries,\n",
    "        }\n",
    "    )\n",
    ")"
   ]
  },
  {
   "cell_type": "code",
   "execution_count": 10,
   "metadata": {},
   "outputs": [
    {
     "name": "stdout",
     "output_type": "stream",
     "text": [
      "Achieved accuracy 0.0!\n"
     ]
    }
   ],
   "source": [
    "accuracy = 0.0\n",
    "for i in range(len(reference_summaries)):\n",
    "    generated_summary = t5_small_summaries[i]\n",
    "    if generated_summary == reference_summaries[i]:\n",
    "        accuracy += 1.0\n",
    "accuracy = accuracy / len(reference_summaries)\n",
    "\n",
    "print(f\"Achieved accuracy {accuracy}!\")"
   ]
  },
  {
   "cell_type": "code",
   "execution_count": 12,
   "metadata": {},
   "outputs": [],
   "source": [
    "rouge_score = evaluate.load(\"rouge\")"
   ]
  },
  {
   "cell_type": "code",
   "execution_count": 13,
   "metadata": {},
   "outputs": [],
   "source": [
    "def compute_rouge_score(generated: list, reference: list) -> dict:\n",
    "    \"\"\"\n",
    "    Compute ROUGE scores on a batch of articles.\n",
    "\n",
    "    This is a convenience function wrapping Hugging Face `rouge_score`,\n",
    "    which expects sentences to be separated by newlines.\n",
    "\n",
    "    :param generated: Summaries (list of strings) produced by the model\n",
    "    :param reference: Ground-truth summaries (list of strings) for comparison\n",
    "    \"\"\"\n",
    "    generated_with_newlines = [\"\\n\".join(sent_tokenize(s.strip())) for s in generated]\n",
    "    reference_with_newlines = [\"\\n\".join(sent_tokenize(s.strip())) for s in reference]\n",
    "    return rouge_score.compute(\n",
    "        predictions=generated_with_newlines,\n",
    "        references=reference_with_newlines,\n",
    "        use_stemmer=True,\n",
    "    )"
   ]
  },
  {
   "cell_type": "code",
   "execution_count": 14,
   "metadata": {},
   "outputs": [
    {
     "data": {
      "text/plain": [
       "{'rouge1': 0.3099475501450091,\n",
       " 'rouge2': 0.1063625707267443,\n",
       " 'rougeL': 0.22168703371543252,\n",
       " 'rougeLsum': 0.2818316064759516}"
      ]
     },
     "execution_count": 14,
     "metadata": {},
     "output_type": "execute_result"
    }
   ],
   "source": [
    "compute_rouge_score(t5_small_summaries, reference_summaries)"
   ]
  },
  {
   "cell_type": "code",
   "execution_count": 15,
   "metadata": {},
   "outputs": [
    {
     "data": {
      "text/plain": [
       "{'rouge1': 1.0, 'rouge2': 1.0, 'rougeL': 1.0, 'rougeLsum': 1.0}"
      ]
     },
     "execution_count": 15,
     "metadata": {},
     "output_type": "execute_result"
    }
   ],
   "source": [
    "compute_rouge_score(reference_summaries, reference_summaries)"
   ]
  },
  {
   "cell_type": "code",
   "execution_count": 16,
   "metadata": {},
   "outputs": [
    {
     "data": {
      "text/plain": [
       "{'rouge1': 0.0, 'rouge2': 0.0, 'rougeL': 0.0, 'rougeLsum': 0.0}"
      ]
     },
     "execution_count": 16,
     "metadata": {},
     "output_type": "execute_result"
    }
   ],
   "source": [
    "compute_rouge_score(\n",
    "    generated=[\"\" for _ in range(len(reference_summaries))],\n",
    "    reference=reference_summaries,\n",
    ")"
   ]
  },
  {
   "cell_type": "code",
   "execution_count": 17,
   "metadata": {},
   "outputs": [
    {
     "data": {
      "text/plain": [
       "{'rouge1': 0.6666666666666666,\n",
       " 'rouge2': 0.4000000000000001,\n",
       " 'rougeL': 0.6666666666666666,\n",
       " 'rougeLsum': 0.6666666666666666}"
      ]
     },
     "execution_count": 17,
     "metadata": {},
     "output_type": "execute_result"
    }
   ],
   "source": [
    "rouge_score.compute(\n",
    "    predictions=[\"Large language models beat world record\"],\n",
    "    references=[\"Large language models beating world records\"],\n",
    "    use_stemmer=False,\n",
    ")"
   ]
  },
  {
   "cell_type": "code",
   "execution_count": 18,
   "metadata": {},
   "outputs": [
    {
     "data": {
      "text/plain": [
       "{'rouge1': 1.0, 'rouge2': 1.0, 'rougeL': 1.0, 'rougeLsum': 1.0}"
      ]
     },
     "execution_count": 18,
     "metadata": {},
     "output_type": "execute_result"
    }
   ],
   "source": [
    "rouge_score.compute(\n",
    "    predictions=[\"Large language models beat world record\"],\n",
    "    references=[\"Large language models beating world records\"],\n",
    "    use_stemmer=True,\n",
    ")"
   ]
  },
  {
   "cell_type": "code",
   "execution_count": 19,
   "metadata": {},
   "outputs": [
    {
     "data": {
      "text/plain": [
       "{'rouge1': 0.2857142857142857,\n",
       " 'rouge2': 0.0,\n",
       " 'rougeL': 0.2857142857142857,\n",
       " 'rougeLsum': 0.2857142857142857}"
      ]
     },
     "execution_count": 19,
     "metadata": {},
     "output_type": "execute_result"
    }
   ],
   "source": [
    "rouge_score.compute(\n",
    "    predictions=[\"Large language models beat world record\"],\n",
    "    references=[\"Large\"],\n",
    "    use_stemmer=True,\n",
    ")"
   ]
  },
  {
   "cell_type": "code",
   "execution_count": 20,
   "metadata": {},
   "outputs": [
    {
     "data": {
      "text/plain": [
       "{'rouge1': 0.2857142857142857,\n",
       " 'rouge2': 0.0,\n",
       " 'rougeL': 0.2857142857142857,\n",
       " 'rougeLsum': 0.2857142857142857}"
      ]
     },
     "execution_count": 20,
     "metadata": {},
     "output_type": "execute_result"
    }
   ],
   "source": [
    "rouge_score.compute(\n",
    "    predictions=[\"Large\"],\n",
    "    references=[\"Large language models beat world record\"],\n",
    "    use_stemmer=True,\n",
    ")"
   ]
  },
  {
   "cell_type": "code",
   "execution_count": 21,
   "metadata": {},
   "outputs": [
    {
     "data": {
      "text/plain": [
       "{'rouge1': 0.5, 'rouge2': 0.33333333333333337, 'rougeL': 0.5, 'rougeLsum': 0.5}"
      ]
     },
     "execution_count": 21,
     "metadata": {},
     "output_type": "execute_result"
    }
   ],
   "source": [
    "rouge_score.compute(\n",
    "    predictions=[\"Large language\"],\n",
    "    references=[\"Large language models beat world record\"],\n",
    "    use_stemmer=True,\n",
    ")"
   ]
  },
  {
   "cell_type": "code",
   "execution_count": 22,
   "metadata": {},
   "outputs": [
    {
     "data": {
      "text/plain": [
       "{'rouge1': 1.0,\n",
       " 'rouge2': 0.6,\n",
       " 'rougeL': 0.6666666666666666,\n",
       " 'rougeLsum': 0.6666666666666666}"
      ]
     },
     "execution_count": 22,
     "metadata": {},
     "output_type": "execute_result"
    }
   ],
   "source": [
    "rouge_score.compute(\n",
    "    predictions=[\"Models beat large language world record\"],\n",
    "    references=[\"Large language models beat world record\"],\n",
    "    use_stemmer=True,\n",
    ")"
   ]
  },
  {
   "cell_type": "code",
   "execution_count": 29,
   "metadata": {},
   "outputs": [
    {
     "name": "stderr",
     "output_type": "stream",
     "text": [
      "Some weights of RobertaModel were not initialized from the model checkpoint at roberta-large and are newly initialized: ['roberta.pooler.dense.weight', 'roberta.pooler.dense.bias']\n",
      "You should probably TRAIN this model on a down-stream task to be able to use it for predictions and inference.\n"
     ]
    }
   ],
   "source": [
    "from evaluate import load\n",
    "bertscore = load(\"bertscore\")\n",
    "predictions=[\"Large language models beat world record\"]\n",
    "references=[\"Large language models beating world records\"]\n",
    "results = bertscore.compute(predictions=predictions, references=references, lang=\"en\")\n"
   ]
  },
  {
   "cell_type": "code",
   "execution_count": 30,
   "metadata": {},
   "outputs": [
    {
     "data": {
      "text/plain": [
       "{'precision': [0.9795935750007629],\n",
       " 'recall': [0.9795935750007629],\n",
       " 'f1': [0.9795935750007629],\n",
       " 'hashcode': 'roberta-large_L17_no-idf_version=0.3.12(hug_trans=4.36.2)'}"
      ]
     },
     "execution_count": 30,
     "metadata": {},
     "output_type": "execute_result"
    }
   ],
   "source": [
    "results"
   ]
  }
 ],
 "metadata": {
  "kernelspec": {
   "display_name": "Python 3",
   "language": "python",
   "name": "python3"
  },
  "language_info": {
   "codemirror_mode": {
    "name": "ipython",
    "version": 3
   },
   "file_extension": ".py",
   "mimetype": "text/x-python",
   "name": "python",
   "nbconvert_exporter": "python",
   "pygments_lexer": "ipython3",
   "version": "3.11.7"
  }
 },
 "nbformat": 4,
 "nbformat_minor": 2
}
