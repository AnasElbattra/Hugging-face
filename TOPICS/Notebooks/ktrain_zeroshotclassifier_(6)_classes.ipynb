{
  "nbformat": 4,
  "nbformat_minor": 0,
  "metadata": {
    "colab": {
      "provenance": [],
      "gpuType": "T4"
    },
    "kernelspec": {
      "name": "python3",
      "display_name": "Python 3"
    },
    "language_info": {
      "name": "python"
    },
    "accelerator": "GPU"
  },
  "cells": [
    {
      "cell_type": "code",
      "source": [
        "!pip install ktrain"
      ],
      "metadata": {
        "colab": {
          "base_uri": "https://localhost:8080/"
        },
        "id": "FRujM-neWdwr",
        "outputId": "a095fc5f-cb64-4048-92f0-6840bc3cd6d0"
      },
      "execution_count": 1,
      "outputs": [
        {
          "output_type": "stream",
          "name": "stdout",
          "text": [
            "Requirement already satisfied: ktrain in /usr/local/lib/python3.10/dist-packages (0.38.0)\n",
            "Requirement already satisfied: scikit-learn in /usr/local/lib/python3.10/dist-packages (from ktrain) (1.2.2)\n",
            "Requirement already satisfied: matplotlib>=3.0.0 in /usr/local/lib/python3.10/dist-packages (from ktrain) (3.7.1)\n",
            "Requirement already satisfied: pandas>=1.0.1 in /usr/local/lib/python3.10/dist-packages (from ktrain) (1.5.3)\n",
            "Requirement already satisfied: fastprogress>=0.1.21 in /usr/local/lib/python3.10/dist-packages (from ktrain) (1.0.3)\n",
            "Requirement already satisfied: requests in /usr/local/lib/python3.10/dist-packages (from ktrain) (2.31.0)\n",
            "Requirement already satisfied: joblib in /usr/local/lib/python3.10/dist-packages (from ktrain) (1.3.2)\n",
            "Requirement already satisfied: packaging in /usr/local/lib/python3.10/dist-packages (from ktrain) (23.2)\n",
            "Requirement already satisfied: langdetect in /usr/local/lib/python3.10/dist-packages (from ktrain) (1.0.9)\n",
            "Requirement already satisfied: jieba in /usr/local/lib/python3.10/dist-packages (from ktrain) (0.42.1)\n",
            "Requirement already satisfied: cchardet in /usr/local/lib/python3.10/dist-packages (from ktrain) (2.1.7)\n",
            "Requirement already satisfied: chardet in /usr/local/lib/python3.10/dist-packages (from ktrain) (5.2.0)\n",
            "Requirement already satisfied: syntok>1.3.3 in /usr/local/lib/python3.10/dist-packages (from ktrain) (1.4.4)\n",
            "Requirement already satisfied: tika in /usr/local/lib/python3.10/dist-packages (from ktrain) (2.6.0)\n",
            "Requirement already satisfied: transformers>=4.17.0 in /usr/local/lib/python3.10/dist-packages (from ktrain) (4.34.1)\n",
            "Requirement already satisfied: sentencepiece in /usr/local/lib/python3.10/dist-packages (from ktrain) (0.1.99)\n",
            "Requirement already satisfied: keras-bert>=0.86.0 in /usr/local/lib/python3.10/dist-packages (from ktrain) (0.89.0)\n",
            "Requirement already satisfied: whoosh in /usr/local/lib/python3.10/dist-packages (from ktrain) (2.7.4)\n",
            "Requirement already satisfied: numpy in /usr/local/lib/python3.10/dist-packages (from keras-bert>=0.86.0->ktrain) (1.23.5)\n",
            "Requirement already satisfied: keras-transformer==0.40.0 in /usr/local/lib/python3.10/dist-packages (from keras-bert>=0.86.0->ktrain) (0.40.0)\n",
            "Requirement already satisfied: keras-pos-embd==0.13.0 in /usr/local/lib/python3.10/dist-packages (from keras-transformer==0.40.0->keras-bert>=0.86.0->ktrain) (0.13.0)\n",
            "Requirement already satisfied: keras-multi-head==0.29.0 in /usr/local/lib/python3.10/dist-packages (from keras-transformer==0.40.0->keras-bert>=0.86.0->ktrain) (0.29.0)\n",
            "Requirement already satisfied: keras-layer-normalization==0.16.0 in /usr/local/lib/python3.10/dist-packages (from keras-transformer==0.40.0->keras-bert>=0.86.0->ktrain) (0.16.0)\n",
            "Requirement already satisfied: keras-position-wise-feed-forward==0.8.0 in /usr/local/lib/python3.10/dist-packages (from keras-transformer==0.40.0->keras-bert>=0.86.0->ktrain) (0.8.0)\n",
            "Requirement already satisfied: keras-embed-sim==0.10.0 in /usr/local/lib/python3.10/dist-packages (from keras-transformer==0.40.0->keras-bert>=0.86.0->ktrain) (0.10.0)\n",
            "Requirement already satisfied: keras-self-attention==0.51.0 in /usr/local/lib/python3.10/dist-packages (from keras-multi-head==0.29.0->keras-transformer==0.40.0->keras-bert>=0.86.0->ktrain) (0.51.0)\n",
            "Requirement already satisfied: contourpy>=1.0.1 in /usr/local/lib/python3.10/dist-packages (from matplotlib>=3.0.0->ktrain) (1.1.1)\n",
            "Requirement already satisfied: cycler>=0.10 in /usr/local/lib/python3.10/dist-packages (from matplotlib>=3.0.0->ktrain) (0.12.1)\n",
            "Requirement already satisfied: fonttools>=4.22.0 in /usr/local/lib/python3.10/dist-packages (from matplotlib>=3.0.0->ktrain) (4.43.1)\n",
            "Requirement already satisfied: kiwisolver>=1.0.1 in /usr/local/lib/python3.10/dist-packages (from matplotlib>=3.0.0->ktrain) (1.4.5)\n",
            "Requirement already satisfied: pillow>=6.2.0 in /usr/local/lib/python3.10/dist-packages (from matplotlib>=3.0.0->ktrain) (9.4.0)\n",
            "Requirement already satisfied: pyparsing>=2.3.1 in /usr/local/lib/python3.10/dist-packages (from matplotlib>=3.0.0->ktrain) (3.1.1)\n",
            "Requirement already satisfied: python-dateutil>=2.7 in /usr/local/lib/python3.10/dist-packages (from matplotlib>=3.0.0->ktrain) (2.8.2)\n",
            "Requirement already satisfied: pytz>=2020.1 in /usr/local/lib/python3.10/dist-packages (from pandas>=1.0.1->ktrain) (2023.3.post1)\n",
            "Requirement already satisfied: regex>2016 in /usr/local/lib/python3.10/dist-packages (from syntok>1.3.3->ktrain) (2023.6.3)\n",
            "Requirement already satisfied: filelock in /usr/local/lib/python3.10/dist-packages (from transformers>=4.17.0->ktrain) (3.12.4)\n",
            "Requirement already satisfied: huggingface-hub<1.0,>=0.16.4 in /usr/local/lib/python3.10/dist-packages (from transformers>=4.17.0->ktrain) (0.17.3)\n",
            "Requirement already satisfied: pyyaml>=5.1 in /usr/local/lib/python3.10/dist-packages (from transformers>=4.17.0->ktrain) (6.0.1)\n",
            "Requirement already satisfied: tokenizers<0.15,>=0.14 in /usr/local/lib/python3.10/dist-packages (from transformers>=4.17.0->ktrain) (0.14.1)\n",
            "Requirement already satisfied: safetensors>=0.3.1 in /usr/local/lib/python3.10/dist-packages (from transformers>=4.17.0->ktrain) (0.4.0)\n",
            "Requirement already satisfied: tqdm>=4.27 in /usr/local/lib/python3.10/dist-packages (from transformers>=4.17.0->ktrain) (4.66.1)\n",
            "Requirement already satisfied: six in /usr/local/lib/python3.10/dist-packages (from langdetect->ktrain) (1.16.0)\n",
            "Requirement already satisfied: charset-normalizer<4,>=2 in /usr/local/lib/python3.10/dist-packages (from requests->ktrain) (3.3.1)\n",
            "Requirement already satisfied: idna<4,>=2.5 in /usr/local/lib/python3.10/dist-packages (from requests->ktrain) (3.4)\n",
            "Requirement already satisfied: urllib3<3,>=1.21.1 in /usr/local/lib/python3.10/dist-packages (from requests->ktrain) (2.0.7)\n",
            "Requirement already satisfied: certifi>=2017.4.17 in /usr/local/lib/python3.10/dist-packages (from requests->ktrain) (2023.7.22)\n",
            "Requirement already satisfied: scipy>=1.3.2 in /usr/local/lib/python3.10/dist-packages (from scikit-learn->ktrain) (1.11.3)\n",
            "Requirement already satisfied: threadpoolctl>=2.0.0 in /usr/local/lib/python3.10/dist-packages (from scikit-learn->ktrain) (3.2.0)\n",
            "Requirement already satisfied: setuptools in /usr/local/lib/python3.10/dist-packages (from tika->ktrain) (67.7.2)\n",
            "Requirement already satisfied: fsspec in /usr/local/lib/python3.10/dist-packages (from huggingface-hub<1.0,>=0.16.4->transformers>=4.17.0->ktrain) (2023.6.0)\n",
            "Requirement already satisfied: typing-extensions>=3.7.4.3 in /usr/local/lib/python3.10/dist-packages (from huggingface-hub<1.0,>=0.16.4->transformers>=4.17.0->ktrain) (4.5.0)\n"
          ]
        }
      ]
    },
    {
      "cell_type": "code",
      "source": [
        "%reload_ext autoreload\n",
        "%autoreload 2\n",
        "%matplotlib inline\n",
        "import os\n",
        "os.environ[\"CUDA_DEVICE_ORDER\"]=\"PCI_BUS_ID\";\n",
        "os.environ[\"CUDA_VISIBLE_DEVICES\"]=\"0\""
      ],
      "metadata": {
        "id": "qzUm7TG_IHiD"
      },
      "execution_count": 2,
      "outputs": []
    },
    {
      "cell_type": "code",
      "source": [
        "import pandas as pd\n",
        "import numpy as np\n",
        "from sklearn.model_selection import train_test_split\n",
        "from ktrain.text.zsl import ZeroShotClassifier\n",
        "from sklearn.metrics import classification_report\n",
        "from sklearn.metrics import accuracy_score"
      ],
      "metadata": {
        "id": "xYT7ZHcbIHkc"
      },
      "execution_count": 49,
      "outputs": []
    },
    {
      "cell_type": "markdown",
      "source": [
        "# Fing the first category from the prpbability"
      ],
      "metadata": {
        "id": "O2GjeWS9TfR8"
      }
    },
    {
      "cell_type": "code",
      "source": [
        "def find_max_categories_for_lists(lists_of_category_scores):\n",
        "    max_categories = []\n",
        "    for category_scores in lists_of_category_scores:\n",
        "        max_category = max(category_scores, key=lambda x: x[1])[0]\n",
        "        max_categories.append(max_category)\n",
        "    return max_categories"
      ],
      "metadata": {
        "id": "Xt8LD-RdTeqX"
      },
      "execution_count": 4,
      "outputs": []
    },
    {
      "cell_type": "markdown",
      "source": [
        "# Find the maximum first 2 categories fro mthe probability"
      ],
      "metadata": {
        "id": "FH1D28aFYk0K"
      }
    },
    {
      "cell_type": "code",
      "source": [
        "def find_max_2_categories_for_lists(lists_of_category_scores):\n",
        "    max_categories = []\n",
        "    for category_scores in lists_of_category_scores:\n",
        "        # Sort the categories based on their values in descending order\n",
        "        sorted_categories = sorted(category_scores, key=lambda x: x[1], reverse=True)\n",
        "        # Select the top two categories\n",
        "        top_categories = [category[0] for category in sorted_categories[:2]]\n",
        "        max_categories.append(top_categories)\n",
        "    return max_categories"
      ],
      "metadata": {
        "id": "GM4x56nWXz2k"
      },
      "execution_count": 5,
      "outputs": []
    },
    {
      "cell_type": "markdown",
      "source": [
        "## check for the best category from the first 2 categories depending on the label of this data\n",
        "if any of the 2 values are equal to the true label then return it\n",
        "\n",
        "\n",
        "if none of them are equal to the true label then return the first value with the highest probability"
      ],
      "metadata": {
        "id": "xb1zthh0Ys1i"
      }
    },
    {
      "cell_type": "code",
      "source": [
        "def return_best_category_from_2_categories(list1, list2):\n",
        "  result = []\n",
        "  for item1, item2 in zip(list1, list2):\n",
        "      found = False\n",
        "      for value in item2:\n",
        "          if value in item1:\n",
        "              result.append(value)\n",
        "              found = True\n",
        "              break\n",
        "      if not found:\n",
        "          result.append(item2[0])\n",
        "  return result\n"
      ],
      "metadata": {
        "id": "PFSdSWbZ14i3"
      },
      "execution_count": 6,
      "outputs": []
    },
    {
      "cell_type": "code",
      "source": [
        "def compute_classification_report(y_true, y_pred):\n",
        "\n",
        "    report = classification_report(y_true, y_pred)\n",
        "    print(report)\n",
        "    accuracy = accuracy_score(y_true, y_pred)\n",
        "    return accuracy"
      ],
      "metadata": {
        "id": "hcrQnyZCIH6W"
      },
      "execution_count": 7,
      "outputs": []
    },
    {
      "cell_type": "code",
      "source": [
        "def find_max_value(category_scores):\n",
        "    max_value = max(category_scores, key=lambda x: x[1])[1]\n",
        "    return max_value"
      ],
      "metadata": {
        "id": "9CrwhvePRWzU"
      },
      "execution_count": 8,
      "outputs": []
    },
    {
      "cell_type": "code",
      "source": [
        "df = pd.read_csv(\"https://github.com/AnasElbattra/News-Understanding-NLP/raw/main/TOPICS/DATA/MN-DS-news-classification.csv\")\n",
        "df = df.rename(columns={'category_level_1': 'category_1', 'category_level_2': 'category_2'})\n",
        "df"
      ],
      "metadata": {
        "colab": {
          "base_uri": "https://localhost:8080/",
          "height": 1000
        },
        "id": "YxJIVjz00wp4",
        "outputId": "bb129e3b-a5e6-4bf7-d769-8b3971063134"
      },
      "execution_count": 27,
      "outputs": [
        {
          "output_type": "execute_result",
          "data": {
            "text/plain": [
              "       data_id                                                 id        date  \\\n",
              "0         1809  abcnews--2019-10-31--Virginia mom charged with...  2019-10-31   \n",
              "1         1980  abcnews--2019-11-07--2 escaped murder suspects...  2019-11-07   \n",
              "2         1995  abcnews--2019-11-07--Family turns in escaped b...  2019-11-07   \n",
              "3         2740  abcnews--2019-12-02--Mother charged with murde...  2019-12-02   \n",
              "4         7038  ageofautism--2019-04-12--Physician Father and ...  2019-04-12   \n",
              "...        ...                                                ...         ...   \n",
              "10912   907640  therussophileorg--2019-12-15--Iran to build ov...  2019-12-15   \n",
              "10913   892720  therussophileorg--2019-10-12--Ukraine has no m...  2019-10-12   \n",
              "10914   870499  therussophileorg--2019-07-06--Irans contributi...  2019-07-06   \n",
              "10915   887334  therussophileorg--2019-09-25--Iraqi president ...  2019-09-25   \n",
              "10916   885988  therussophileorg--2019-09-20--Russia expects t...  2019-09-20   \n",
              "\n",
              "                 source                                              title  \\\n",
              "0               abcnews  Virginia mom charged with murder in 2-year-old...   \n",
              "1               abcnews  2 escaped murder suspects arrested at US-Mexic...   \n",
              "2               abcnews  Family turns in escaped boy, 13, suspected in ...   \n",
              "3               abcnews  Mother charged with murder in deaths of 2 youn...   \n",
              "4           ageofautism  Physician, Father and Caretaker of 29 Year Old...   \n",
              "...                 ...                                                ...   \n",
              "10912  therussophileorg  Iran to build over 30,000 housing units in Syr...   \n",
              "10913  therussophileorg  Ukraine has no money for reconstruction of Don...   \n",
              "10914  therussophileorg  Iran’s contribution is needed to rebuild Iraq ...   \n",
              "10915  therussophileorg  Iraqi president demands international help for...   \n",
              "10916  therussophileorg  Russia expects to cooperate with China on Syri...   \n",
              "\n",
              "                                                 content            author  \\\n",
              "0      The Virginia woman whose 2-year-old son was fo...               NaN   \n",
              "1      Authorities are trying to determine if anyone ...               NaN   \n",
              "2      A 13-year-old suspect in a double homicide who...               NaN   \n",
              "3      The mother of two young children found hanging...               NaN   \n",
              "4      \"One family member said Derek “can be violent ...     Age of Autism   \n",
              "...                                                  ...               ...   \n",
              "10912  This post was originally published on this sit...         News Desk   \n",
              "10913  This post was originally published on this sit...  Michael Sullivan   \n",
              "10914  This\\n\\n[post](http://www.presstv.ir/Detail/20...  Michael Sullivan   \n",
              "10915  This\\n\\n[post](http://www.presstv.ir/Detail/20...  Michael Sullivan   \n",
              "10916  This\\n\\n[post](https://tass.com/politics/10791...  Michael Sullivan   \n",
              "\n",
              "                                                     url  \\\n",
              "0      https://abcnews.go.com/US/wireStory/virginia-m...   \n",
              "1      https://abcnews.go.com/US/wireStory/escaped-mu...   \n",
              "2      https://abcnews.go.com/US/wireStory/family-tur...   \n",
              "3      https://abcnews.go.com/US/wireStory/mother-cha...   \n",
              "4      http://feedproxy.google.com/~r/ageofautism/~3/...   \n",
              "...                                                  ...   \n",
              "10912  https://www.therussophile.org/iran-to-build-ov...   \n",
              "10913  https://www.therussophile.org/ukraine-has-no-m...   \n",
              "10914  https://www.therussophile.org/irans-contributi...   \n",
              "10915  https://www.therussophile.org/iraqi-president-...   \n",
              "10916  https://www.therussophile.org/russia-expects-t...   \n",
              "\n",
              "                             published  published_utc  collection_utc  \\\n",
              "0      Thu, 31 Oct 2019 16:49:56 -0400     1572554996      1572559512   \n",
              "1      Thu, 07 Nov 2019 00:13:12 -0500     1573103592      1573131986   \n",
              "2      Thu, 07 Nov 2019 07:39:54 -0500     1573130394      1573131982   \n",
              "3      Mon, 02 Dec 2019 11:30:59 -0500     1575304259      1575308811   \n",
              "4            2019-04-12 09:00:00+00:00     1555074000      1567543083   \n",
              "...                                ...            ...             ...   \n",
              "10912  Sun, 15 Dec 2019 10:42:50 +0000     1576424570      1576413702   \n",
              "10913  Sat, 12 Oct 2019 20:56:01 +0000     1570928161      1570922006   \n",
              "10914        2019-07-06 17:51:38+00:00     1562449898      1567536625   \n",
              "10915        2019-09-25 16:58:01+00:00     1569445081      1570222223   \n",
              "10916        2019-09-20 13:56:47+00:00     1569002207      1570222711   \n",
              "\n",
              "                    category_1               category_2  \n",
              "0       crime, law and justice                    crime  \n",
              "1       crime, law and justice                    crime  \n",
              "2       crime, law and justice                    crime  \n",
              "3       crime, law and justice                    crime  \n",
              "4       crime, law and justice                    crime  \n",
              "...                        ...                      ...  \n",
              "10912  conflict, war and peace  post-war reconstruction  \n",
              "10913  conflict, war and peace  post-war reconstruction  \n",
              "10914  conflict, war and peace  post-war reconstruction  \n",
              "10915  conflict, war and peace  post-war reconstruction  \n",
              "10916  conflict, war and peace  post-war reconstruction  \n",
              "\n",
              "[10917 rows x 13 columns]"
            ],
            "text/html": [
              "\n",
              "  <div id=\"df-3bb9944f-3870-4393-bc83-6905a7206736\" class=\"colab-df-container\">\n",
              "    <div>\n",
              "<style scoped>\n",
              "    .dataframe tbody tr th:only-of-type {\n",
              "        vertical-align: middle;\n",
              "    }\n",
              "\n",
              "    .dataframe tbody tr th {\n",
              "        vertical-align: top;\n",
              "    }\n",
              "\n",
              "    .dataframe thead th {\n",
              "        text-align: right;\n",
              "    }\n",
              "</style>\n",
              "<table border=\"1\" class=\"dataframe\">\n",
              "  <thead>\n",
              "    <tr style=\"text-align: right;\">\n",
              "      <th></th>\n",
              "      <th>data_id</th>\n",
              "      <th>id</th>\n",
              "      <th>date</th>\n",
              "      <th>source</th>\n",
              "      <th>title</th>\n",
              "      <th>content</th>\n",
              "      <th>author</th>\n",
              "      <th>url</th>\n",
              "      <th>published</th>\n",
              "      <th>published_utc</th>\n",
              "      <th>collection_utc</th>\n",
              "      <th>category_1</th>\n",
              "      <th>category_2</th>\n",
              "    </tr>\n",
              "  </thead>\n",
              "  <tbody>\n",
              "    <tr>\n",
              "      <th>0</th>\n",
              "      <td>1809</td>\n",
              "      <td>abcnews--2019-10-31--Virginia mom charged with...</td>\n",
              "      <td>2019-10-31</td>\n",
              "      <td>abcnews</td>\n",
              "      <td>Virginia mom charged with murder in 2-year-old...</td>\n",
              "      <td>The Virginia woman whose 2-year-old son was fo...</td>\n",
              "      <td>NaN</td>\n",
              "      <td>https://abcnews.go.com/US/wireStory/virginia-m...</td>\n",
              "      <td>Thu, 31 Oct 2019 16:49:56 -0400</td>\n",
              "      <td>1572554996</td>\n",
              "      <td>1572559512</td>\n",
              "      <td>crime, law and justice</td>\n",
              "      <td>crime</td>\n",
              "    </tr>\n",
              "    <tr>\n",
              "      <th>1</th>\n",
              "      <td>1980</td>\n",
              "      <td>abcnews--2019-11-07--2 escaped murder suspects...</td>\n",
              "      <td>2019-11-07</td>\n",
              "      <td>abcnews</td>\n",
              "      <td>2 escaped murder suspects arrested at US-Mexic...</td>\n",
              "      <td>Authorities are trying to determine if anyone ...</td>\n",
              "      <td>NaN</td>\n",
              "      <td>https://abcnews.go.com/US/wireStory/escaped-mu...</td>\n",
              "      <td>Thu, 07 Nov 2019 00:13:12 -0500</td>\n",
              "      <td>1573103592</td>\n",
              "      <td>1573131986</td>\n",
              "      <td>crime, law and justice</td>\n",
              "      <td>crime</td>\n",
              "    </tr>\n",
              "    <tr>\n",
              "      <th>2</th>\n",
              "      <td>1995</td>\n",
              "      <td>abcnews--2019-11-07--Family turns in escaped b...</td>\n",
              "      <td>2019-11-07</td>\n",
              "      <td>abcnews</td>\n",
              "      <td>Family turns in escaped boy, 13, suspected in ...</td>\n",
              "      <td>A 13-year-old suspect in a double homicide who...</td>\n",
              "      <td>NaN</td>\n",
              "      <td>https://abcnews.go.com/US/wireStory/family-tur...</td>\n",
              "      <td>Thu, 07 Nov 2019 07:39:54 -0500</td>\n",
              "      <td>1573130394</td>\n",
              "      <td>1573131982</td>\n",
              "      <td>crime, law and justice</td>\n",
              "      <td>crime</td>\n",
              "    </tr>\n",
              "    <tr>\n",
              "      <th>3</th>\n",
              "      <td>2740</td>\n",
              "      <td>abcnews--2019-12-02--Mother charged with murde...</td>\n",
              "      <td>2019-12-02</td>\n",
              "      <td>abcnews</td>\n",
              "      <td>Mother charged with murder in deaths of 2 youn...</td>\n",
              "      <td>The mother of two young children found hanging...</td>\n",
              "      <td>NaN</td>\n",
              "      <td>https://abcnews.go.com/US/wireStory/mother-cha...</td>\n",
              "      <td>Mon, 02 Dec 2019 11:30:59 -0500</td>\n",
              "      <td>1575304259</td>\n",
              "      <td>1575308811</td>\n",
              "      <td>crime, law and justice</td>\n",
              "      <td>crime</td>\n",
              "    </tr>\n",
              "    <tr>\n",
              "      <th>4</th>\n",
              "      <td>7038</td>\n",
              "      <td>ageofautism--2019-04-12--Physician Father and ...</td>\n",
              "      <td>2019-04-12</td>\n",
              "      <td>ageofautism</td>\n",
              "      <td>Physician, Father and Caretaker of 29 Year Old...</td>\n",
              "      <td>\"One family member said Derek “can be violent ...</td>\n",
              "      <td>Age of Autism</td>\n",
              "      <td>http://feedproxy.google.com/~r/ageofautism/~3/...</td>\n",
              "      <td>2019-04-12 09:00:00+00:00</td>\n",
              "      <td>1555074000</td>\n",
              "      <td>1567543083</td>\n",
              "      <td>crime, law and justice</td>\n",
              "      <td>crime</td>\n",
              "    </tr>\n",
              "    <tr>\n",
              "      <th>...</th>\n",
              "      <td>...</td>\n",
              "      <td>...</td>\n",
              "      <td>...</td>\n",
              "      <td>...</td>\n",
              "      <td>...</td>\n",
              "      <td>...</td>\n",
              "      <td>...</td>\n",
              "      <td>...</td>\n",
              "      <td>...</td>\n",
              "      <td>...</td>\n",
              "      <td>...</td>\n",
              "      <td>...</td>\n",
              "      <td>...</td>\n",
              "    </tr>\n",
              "    <tr>\n",
              "      <th>10912</th>\n",
              "      <td>907640</td>\n",
              "      <td>therussophileorg--2019-12-15--Iran to build ov...</td>\n",
              "      <td>2019-12-15</td>\n",
              "      <td>therussophileorg</td>\n",
              "      <td>Iran to build over 30,000 housing units in Syr...</td>\n",
              "      <td>This post was originally published on this sit...</td>\n",
              "      <td>News Desk</td>\n",
              "      <td>https://www.therussophile.org/iran-to-build-ov...</td>\n",
              "      <td>Sun, 15 Dec 2019 10:42:50 +0000</td>\n",
              "      <td>1576424570</td>\n",
              "      <td>1576413702</td>\n",
              "      <td>conflict, war and peace</td>\n",
              "      <td>post-war reconstruction</td>\n",
              "    </tr>\n",
              "    <tr>\n",
              "      <th>10913</th>\n",
              "      <td>892720</td>\n",
              "      <td>therussophileorg--2019-10-12--Ukraine has no m...</td>\n",
              "      <td>2019-10-12</td>\n",
              "      <td>therussophileorg</td>\n",
              "      <td>Ukraine has no money for reconstruction of Don...</td>\n",
              "      <td>This post was originally published on this sit...</td>\n",
              "      <td>Michael Sullivan</td>\n",
              "      <td>https://www.therussophile.org/ukraine-has-no-m...</td>\n",
              "      <td>Sat, 12 Oct 2019 20:56:01 +0000</td>\n",
              "      <td>1570928161</td>\n",
              "      <td>1570922006</td>\n",
              "      <td>conflict, war and peace</td>\n",
              "      <td>post-war reconstruction</td>\n",
              "    </tr>\n",
              "    <tr>\n",
              "      <th>10914</th>\n",
              "      <td>870499</td>\n",
              "      <td>therussophileorg--2019-07-06--Irans contributi...</td>\n",
              "      <td>2019-07-06</td>\n",
              "      <td>therussophileorg</td>\n",
              "      <td>Iran’s contribution is needed to rebuild Iraq ...</td>\n",
              "      <td>This\\n\\n[post](http://www.presstv.ir/Detail/20...</td>\n",
              "      <td>Michael Sullivan</td>\n",
              "      <td>https://www.therussophile.org/irans-contributi...</td>\n",
              "      <td>2019-07-06 17:51:38+00:00</td>\n",
              "      <td>1562449898</td>\n",
              "      <td>1567536625</td>\n",
              "      <td>conflict, war and peace</td>\n",
              "      <td>post-war reconstruction</td>\n",
              "    </tr>\n",
              "    <tr>\n",
              "      <th>10915</th>\n",
              "      <td>887334</td>\n",
              "      <td>therussophileorg--2019-09-25--Iraqi president ...</td>\n",
              "      <td>2019-09-25</td>\n",
              "      <td>therussophileorg</td>\n",
              "      <td>Iraqi president demands international help for...</td>\n",
              "      <td>This\\n\\n[post](http://www.presstv.ir/Detail/20...</td>\n",
              "      <td>Michael Sullivan</td>\n",
              "      <td>https://www.therussophile.org/iraqi-president-...</td>\n",
              "      <td>2019-09-25 16:58:01+00:00</td>\n",
              "      <td>1569445081</td>\n",
              "      <td>1570222223</td>\n",
              "      <td>conflict, war and peace</td>\n",
              "      <td>post-war reconstruction</td>\n",
              "    </tr>\n",
              "    <tr>\n",
              "      <th>10916</th>\n",
              "      <td>885988</td>\n",
              "      <td>therussophileorg--2019-09-20--Russia expects t...</td>\n",
              "      <td>2019-09-20</td>\n",
              "      <td>therussophileorg</td>\n",
              "      <td>Russia expects to cooperate with China on Syri...</td>\n",
              "      <td>This\\n\\n[post](https://tass.com/politics/10791...</td>\n",
              "      <td>Michael Sullivan</td>\n",
              "      <td>https://www.therussophile.org/russia-expects-t...</td>\n",
              "      <td>2019-09-20 13:56:47+00:00</td>\n",
              "      <td>1569002207</td>\n",
              "      <td>1570222711</td>\n",
              "      <td>conflict, war and peace</td>\n",
              "      <td>post-war reconstruction</td>\n",
              "    </tr>\n",
              "  </tbody>\n",
              "</table>\n",
              "<p>10917 rows × 13 columns</p>\n",
              "</div>\n",
              "    <div class=\"colab-df-buttons\">\n",
              "\n",
              "  <div class=\"colab-df-container\">\n",
              "    <button class=\"colab-df-convert\" onclick=\"convertToInteractive('df-3bb9944f-3870-4393-bc83-6905a7206736')\"\n",
              "            title=\"Convert this dataframe to an interactive table.\"\n",
              "            style=\"display:none;\">\n",
              "\n",
              "  <svg xmlns=\"http://www.w3.org/2000/svg\" height=\"24px\" viewBox=\"0 -960 960 960\">\n",
              "    <path d=\"M120-120v-720h720v720H120Zm60-500h600v-160H180v160Zm220 220h160v-160H400v160Zm0 220h160v-160H400v160ZM180-400h160v-160H180v160Zm440 0h160v-160H620v160ZM180-180h160v-160H180v160Zm440 0h160v-160H620v160Z\"/>\n",
              "  </svg>\n",
              "    </button>\n",
              "\n",
              "  <style>\n",
              "    .colab-df-container {\n",
              "      display:flex;\n",
              "      gap: 12px;\n",
              "    }\n",
              "\n",
              "    .colab-df-convert {\n",
              "      background-color: #E8F0FE;\n",
              "      border: none;\n",
              "      border-radius: 50%;\n",
              "      cursor: pointer;\n",
              "      display: none;\n",
              "      fill: #1967D2;\n",
              "      height: 32px;\n",
              "      padding: 0 0 0 0;\n",
              "      width: 32px;\n",
              "    }\n",
              "\n",
              "    .colab-df-convert:hover {\n",
              "      background-color: #E2EBFA;\n",
              "      box-shadow: 0px 1px 2px rgba(60, 64, 67, 0.3), 0px 1px 3px 1px rgba(60, 64, 67, 0.15);\n",
              "      fill: #174EA6;\n",
              "    }\n",
              "\n",
              "    .colab-df-buttons div {\n",
              "      margin-bottom: 4px;\n",
              "    }\n",
              "\n",
              "    [theme=dark] .colab-df-convert {\n",
              "      background-color: #3B4455;\n",
              "      fill: #D2E3FC;\n",
              "    }\n",
              "\n",
              "    [theme=dark] .colab-df-convert:hover {\n",
              "      background-color: #434B5C;\n",
              "      box-shadow: 0px 1px 3px 1px rgba(0, 0, 0, 0.15);\n",
              "      filter: drop-shadow(0px 1px 2px rgba(0, 0, 0, 0.3));\n",
              "      fill: #FFFFFF;\n",
              "    }\n",
              "  </style>\n",
              "\n",
              "    <script>\n",
              "      const buttonEl =\n",
              "        document.querySelector('#df-3bb9944f-3870-4393-bc83-6905a7206736 button.colab-df-convert');\n",
              "      buttonEl.style.display =\n",
              "        google.colab.kernel.accessAllowed ? 'block' : 'none';\n",
              "\n",
              "      async function convertToInteractive(key) {\n",
              "        const element = document.querySelector('#df-3bb9944f-3870-4393-bc83-6905a7206736');\n",
              "        const dataTable =\n",
              "          await google.colab.kernel.invokeFunction('convertToInteractive',\n",
              "                                                    [key], {});\n",
              "        if (!dataTable) return;\n",
              "\n",
              "        const docLinkHtml = 'Like what you see? Visit the ' +\n",
              "          '<a target=\"_blank\" href=https://colab.research.google.com/notebooks/data_table.ipynb>data table notebook</a>'\n",
              "          + ' to learn more about interactive tables.';\n",
              "        element.innerHTML = '';\n",
              "        dataTable['output_type'] = 'display_data';\n",
              "        await google.colab.output.renderOutput(dataTable, element);\n",
              "        const docLink = document.createElement('div');\n",
              "        docLink.innerHTML = docLinkHtml;\n",
              "        element.appendChild(docLink);\n",
              "      }\n",
              "    </script>\n",
              "  </div>\n",
              "\n",
              "\n",
              "<div id=\"df-7c2aefe7-3099-4850-be00-304dcab64af1\">\n",
              "  <button class=\"colab-df-quickchart\" onclick=\"quickchart('df-7c2aefe7-3099-4850-be00-304dcab64af1')\"\n",
              "            title=\"Suggest charts.\"\n",
              "            style=\"display:none;\">\n",
              "\n",
              "<svg xmlns=\"http://www.w3.org/2000/svg\" height=\"24px\"viewBox=\"0 0 24 24\"\n",
              "     width=\"24px\">\n",
              "    <g>\n",
              "        <path d=\"M19 3H5c-1.1 0-2 .9-2 2v14c0 1.1.9 2 2 2h14c1.1 0 2-.9 2-2V5c0-1.1-.9-2-2-2zM9 17H7v-7h2v7zm4 0h-2V7h2v10zm4 0h-2v-4h2v4z\"/>\n",
              "    </g>\n",
              "</svg>\n",
              "  </button>\n",
              "\n",
              "<style>\n",
              "  .colab-df-quickchart {\n",
              "      --bg-color: #E8F0FE;\n",
              "      --fill-color: #1967D2;\n",
              "      --hover-bg-color: #E2EBFA;\n",
              "      --hover-fill-color: #174EA6;\n",
              "      --disabled-fill-color: #AAA;\n",
              "      --disabled-bg-color: #DDD;\n",
              "  }\n",
              "\n",
              "  [theme=dark] .colab-df-quickchart {\n",
              "      --bg-color: #3B4455;\n",
              "      --fill-color: #D2E3FC;\n",
              "      --hover-bg-color: #434B5C;\n",
              "      --hover-fill-color: #FFFFFF;\n",
              "      --disabled-bg-color: #3B4455;\n",
              "      --disabled-fill-color: #666;\n",
              "  }\n",
              "\n",
              "  .colab-df-quickchart {\n",
              "    background-color: var(--bg-color);\n",
              "    border: none;\n",
              "    border-radius: 50%;\n",
              "    cursor: pointer;\n",
              "    display: none;\n",
              "    fill: var(--fill-color);\n",
              "    height: 32px;\n",
              "    padding: 0;\n",
              "    width: 32px;\n",
              "  }\n",
              "\n",
              "  .colab-df-quickchart:hover {\n",
              "    background-color: var(--hover-bg-color);\n",
              "    box-shadow: 0 1px 2px rgba(60, 64, 67, 0.3), 0 1px 3px 1px rgba(60, 64, 67, 0.15);\n",
              "    fill: var(--button-hover-fill-color);\n",
              "  }\n",
              "\n",
              "  .colab-df-quickchart-complete:disabled,\n",
              "  .colab-df-quickchart-complete:disabled:hover {\n",
              "    background-color: var(--disabled-bg-color);\n",
              "    fill: var(--disabled-fill-color);\n",
              "    box-shadow: none;\n",
              "  }\n",
              "\n",
              "  .colab-df-spinner {\n",
              "    border: 2px solid var(--fill-color);\n",
              "    border-color: transparent;\n",
              "    border-bottom-color: var(--fill-color);\n",
              "    animation:\n",
              "      spin 1s steps(1) infinite;\n",
              "  }\n",
              "\n",
              "  @keyframes spin {\n",
              "    0% {\n",
              "      border-color: transparent;\n",
              "      border-bottom-color: var(--fill-color);\n",
              "      border-left-color: var(--fill-color);\n",
              "    }\n",
              "    20% {\n",
              "      border-color: transparent;\n",
              "      border-left-color: var(--fill-color);\n",
              "      border-top-color: var(--fill-color);\n",
              "    }\n",
              "    30% {\n",
              "      border-color: transparent;\n",
              "      border-left-color: var(--fill-color);\n",
              "      border-top-color: var(--fill-color);\n",
              "      border-right-color: var(--fill-color);\n",
              "    }\n",
              "    40% {\n",
              "      border-color: transparent;\n",
              "      border-right-color: var(--fill-color);\n",
              "      border-top-color: var(--fill-color);\n",
              "    }\n",
              "    60% {\n",
              "      border-color: transparent;\n",
              "      border-right-color: var(--fill-color);\n",
              "    }\n",
              "    80% {\n",
              "      border-color: transparent;\n",
              "      border-right-color: var(--fill-color);\n",
              "      border-bottom-color: var(--fill-color);\n",
              "    }\n",
              "    90% {\n",
              "      border-color: transparent;\n",
              "      border-bottom-color: var(--fill-color);\n",
              "    }\n",
              "  }\n",
              "</style>\n",
              "\n",
              "  <script>\n",
              "    async function quickchart(key) {\n",
              "      const quickchartButtonEl =\n",
              "        document.querySelector('#' + key + ' button');\n",
              "      quickchartButtonEl.disabled = true;  // To prevent multiple clicks.\n",
              "      quickchartButtonEl.classList.add('colab-df-spinner');\n",
              "      try {\n",
              "        const charts = await google.colab.kernel.invokeFunction(\n",
              "            'suggestCharts', [key], {});\n",
              "      } catch (error) {\n",
              "        console.error('Error during call to suggestCharts:', error);\n",
              "      }\n",
              "      quickchartButtonEl.classList.remove('colab-df-spinner');\n",
              "      quickchartButtonEl.classList.add('colab-df-quickchart-complete');\n",
              "    }\n",
              "    (() => {\n",
              "      let quickchartButtonEl =\n",
              "        document.querySelector('#df-7c2aefe7-3099-4850-be00-304dcab64af1 button');\n",
              "      quickchartButtonEl.style.display =\n",
              "        google.colab.kernel.accessAllowed ? 'block' : 'none';\n",
              "    })();\n",
              "  </script>\n",
              "</div>\n",
              "    </div>\n",
              "  </div>\n"
            ]
          },
          "metadata": {},
          "execution_count": 27
        }
      ]
    },
    {
      "cell_type": "code",
      "source": [
        "df.content[0]"
      ],
      "metadata": {
        "colab": {
          "base_uri": "https://localhost:8080/",
          "height": 87
        },
        "id": "OuexS7zwKcBV",
        "outputId": "a075c8e5-b297-40b8-d3d5-fd57775d058f"
      },
      "execution_count": 60,
      "outputs": [
        {
          "output_type": "execute_result",
          "data": {
            "text/plain": [
              "\"The Virginia woman whose 2-year-old son was found in a trash incinerator has been charged with murder in his death.\\n\\nHampton Commonwealth's Attorney Anton Bell told a news conference on Thursday that a warrant had been issued for 34-year-old Julia Leanna Tomlin, who also will be charged with unlawfully disposing of Noah Tomlin's body.\\n\\nBell said skull fractures found on the toddler's body indicates a level of force so severe it was as if the child had fallen several stories from a building.\\n\\nJulia Tomlin reported her son missing in June, and searchers sifted through a landfill and steam plant over 10 days before the body was found on July 3. Tomlin is already jailed and charged with three counts of felony child neglect prior to reporting Noah missing.\""
            ],
            "application/vnd.google.colaboratory.intrinsic+json": {
              "type": "string"
            }
          },
          "metadata": {},
          "execution_count": 60
        }
      ]
    },
    {
      "cell_type": "code",
      "source": [
        "X = df.content\n",
        "Y = df.category_1"
      ],
      "metadata": {
        "id": "YdaZbi2003vC"
      },
      "execution_count": 50,
      "outputs": []
    },
    {
      "cell_type": "code",
      "source": [
        "X_train, X_test, y_train, y_test = train_test_split(X,Y , shuffle=True, test_size = 100, random_state = 42 , stratify=Y)"
      ],
      "metadata": {
        "id": "Om4kO8JW0302"
      },
      "execution_count": 64,
      "outputs": []
    },
    {
      "cell_type": "code",
      "source": [
        "X_test.shape"
      ],
      "metadata": {
        "colab": {
          "base_uri": "https://localhost:8080/"
        },
        "id": "FDQe-BxvHdM1",
        "outputId": "a7726def-0e79-479d-978d-b54e164bd22d"
      },
      "execution_count": 65,
      "outputs": [
        {
          "output_type": "execute_result",
          "data": {
            "text/plain": [
              "(100,)"
            ]
          },
          "metadata": {},
          "execution_count": 65
        }
      ]
    },
    {
      "cell_type": "code",
      "source": [
        "zsl = ZeroShotClassifier()\n",
        "labels=['arts, culture, entertainment and media',\n",
        "       'conflict, war and peace', 'crime, law and justice',\n",
        "       'disaster, accident and emergency incident',\n",
        "       'economy, business and finance', 'education', 'environment',\n",
        "       'health', 'human interest', 'labour', 'lifestyle and leisure',\n",
        "       'politics', 'religion and belief', 'science and technology',\n",
        "       'society', 'sport', 'weather']"
      ],
      "metadata": {
        "id": "2gj7U7DOIHm5"
      },
      "execution_count": 52,
      "outputs": []
    },
    {
      "cell_type": "code",
      "source": [
        "doc = \"\"\"The Virginia woman whose 2-year-old son was found in a trash incinerator has been charged with murder in his death.\n",
        "\n",
        "Hampton Commonwealth's Attorney Anton Bell told a news conference on Thursday that a warrant had been issued for 34-year-old Julia Leanna Tomlin, who also will be charged with unlawfully disposing of Noah Tomlin's body.\n",
        "\n",
        "Bell said skull fractures found on the toddler's body indicates a level of force so severe it was as if the child had fallen several stories from a building.\n",
        "\n",
        "Julia Tomlin reported her son missing in June, and searchers sifted through a landfill and steam plant over 10 days before the body was found on July 3. Tomlin is already jailed and charged with three counts of felony child neglect prior to reporting Noah missing.\"\"\"\n",
        "# trn = train[\"Excerpt\"].iloc[:100].values\n",
        "# y_trn = train[\"Category\"].iloc[:100].values\n",
        "# tst = test[\"Excerpt\"].values\n",
        "# y_tst = test[\"Category\"].values"
      ],
      "metadata": {
        "id": "3Gq1AcptX57p"
      },
      "execution_count": 61,
      "outputs": []
    },
    {
      "cell_type": "code",
      "source": [
        "%%time\n",
        "doc_prb = zsl.predict(X_test.values, labels=labels, include_labels=True , batch_size = 16)"
      ],
      "metadata": {
        "id": "L7Tvw-JpIHpa"
      },
      "execution_count": null,
      "outputs": []
    },
    {
      "cell_type": "code",
      "source": [
        "doc_prb"
      ],
      "metadata": {
        "colab": {
          "base_uri": "https://localhost:8080/"
        },
        "id": "2aV6KeQ_Km10",
        "outputId": "1fb539ee-d777-4663-8b61-e4606af11ac2"
      },
      "execution_count": 63,
      "outputs": [
        {
          "output_type": "execute_result",
          "data": {
            "text/plain": [
              "[('arts, culture, entertainment and media', 0.15724362432956696),\n",
              " ('conflict, war and peace', 0.03940753638744354),\n",
              " ('crime, law and justice', 0.8896970748901367),\n",
              " ('disaster, accident and emergency incident', 0.7422193884849548),\n",
              " ('economy, business and finance', 0.090092733502388),\n",
              " ('education', 0.00984184443950653),\n",
              " ('environment', 0.1493915319442749),\n",
              " ('health', 0.14030632376670837),\n",
              " ('human interest', 0.4270774722099304),\n",
              " ('labour', 0.0837382823228836),\n",
              " ('lifestyle and leisure', 0.019998442381620407),\n",
              " ('politics', 0.05654836818575859),\n",
              " ('religion and belief', 0.03391776233911514),\n",
              " ('science and technology', 0.1140076220035553),\n",
              " ('society', 0.4139717221260071),\n",
              " ('sport', 0.05076543986797333),\n",
              " ('weather', 0.07070475071668625)]"
            ]
          },
          "metadata": {},
          "execution_count": 63
        }
      ]
    },
    {
      "cell_type": "code",
      "source": [
        "df2_pred = find_max_categories_for_lists(doc_prb)\n",
        "# y_trn_pred = find_max_categories_for_lists(y_trn_prb)\n",
        "# y_tst_pred = find_max_categories_for_lists(y_tst_prb)"
      ],
      "metadata": {
        "id": "pQBEo5HGRmku"
      },
      "execution_count": 42,
      "outputs": []
    },
    {
      "cell_type": "code",
      "source": [
        "compute_classification_report(y_test , df2_pred)"
      ],
      "metadata": {
        "colab": {
          "base_uri": "https://localhost:8080/"
        },
        "id": "wDIMNvccuFV3",
        "outputId": "3a8c1222-4d0c-4aba-e9cb-e984aced4036"
      },
      "execution_count": 43,
      "outputs": [
        {
          "output_type": "stream",
          "name": "stdout",
          "text": [
            "                                           precision    recall  f1-score   support\n",
            "\n",
            "   arts, culture, entertainment and media       1.00      0.38      0.55        21\n",
            "                  conflict, war and peace       0.00      0.00      0.00         0\n",
            "                   crime, law and justice       0.94      0.78      0.85        40\n",
            "disaster, accident and emergency incident       0.60      0.60      0.60        10\n",
            "            economy, business and finance       1.00      0.38      0.55        29\n",
            "                              environment       0.00      0.00      0.00         0\n",
            "                                   health       0.00      0.00      0.00         0\n",
            "                           human interest       0.00      0.00      0.00         0\n",
            "                                   labour       0.00      0.00      0.00         0\n",
            "                                 politics       0.00      0.00      0.00         0\n",
            "                                  society       0.00      0.00      0.00         0\n",
            "                                  weather       0.00      0.00      0.00         0\n",
            "\n",
            "                                 accuracy                           0.56       100\n",
            "                                macro avg       0.29      0.18      0.21       100\n",
            "                             weighted avg       0.94      0.56      0.68       100\n",
            "\n"
          ]
        },
        {
          "output_type": "stream",
          "name": "stderr",
          "text": [
            "/usr/local/lib/python3.10/dist-packages/sklearn/metrics/_classification.py:1344: UndefinedMetricWarning: Recall and F-score are ill-defined and being set to 0.0 in labels with no true samples. Use `zero_division` parameter to control this behavior.\n",
            "  _warn_prf(average, modifier, msg_start, len(result))\n",
            "/usr/local/lib/python3.10/dist-packages/sklearn/metrics/_classification.py:1344: UndefinedMetricWarning: Recall and F-score are ill-defined and being set to 0.0 in labels with no true samples. Use `zero_division` parameter to control this behavior.\n",
            "  _warn_prf(average, modifier, msg_start, len(result))\n",
            "/usr/local/lib/python3.10/dist-packages/sklearn/metrics/_classification.py:1344: UndefinedMetricWarning: Recall and F-score are ill-defined and being set to 0.0 in labels with no true samples. Use `zero_division` parameter to control this behavior.\n",
            "  _warn_prf(average, modifier, msg_start, len(result))\n"
          ]
        },
        {
          "output_type": "execute_result",
          "data": {
            "text/plain": [
              "0.56"
            ]
          },
          "metadata": {},
          "execution_count": 43
        }
      ]
    },
    {
      "cell_type": "code",
      "source": [
        "compute_classification_report(y_trn , y_trn_pred)"
      ],
      "metadata": {
        "colab": {
          "base_uri": "https://localhost:8080/"
        },
        "id": "Hs720m4JR687",
        "outputId": "590dc92a-67e6-4f49-dcbc-75a20efe464e"
      },
      "execution_count": 20,
      "outputs": [
        {
          "output_type": "stream",
          "name": "stdout",
          "text": [
            "               precision    recall  f1-score   support\n",
            "\n",
            "     business       0.76      0.87      0.81        30\n",
            "entertainment       1.00      0.67      0.80         9\n",
            "       health       0.62      0.71      0.67         7\n",
            "     politics       0.91      0.81      0.86        26\n",
            "       sports       1.00      0.86      0.93        22\n",
            "         tech       0.50      0.83      0.62         6\n",
            "\n",
            "     accuracy                           0.82       100\n",
            "    macro avg       0.80      0.79      0.78       100\n",
            " weighted avg       0.85      0.82      0.83       100\n",
            "\n"
          ]
        },
        {
          "output_type": "execute_result",
          "data": {
            "text/plain": [
              "0.82"
            ]
          },
          "metadata": {},
          "execution_count": 20
        }
      ]
    },
    {
      "cell_type": "code",
      "source": [
        "compute_classification_report(y_tst , y_tst_pred)"
      ],
      "metadata": {
        "colab": {
          "base_uri": "https://localhost:8080/"
        },
        "id": "REPR8Vc8R7nQ",
        "outputId": "e1fe768c-542f-4fda-e156-671231aa901a"
      },
      "execution_count": 21,
      "outputs": [
        {
          "output_type": "stream",
          "name": "stdout",
          "text": [
            "               precision    recall  f1-score   support\n",
            "\n",
            "     business       0.77      0.83      0.80       224\n",
            "entertainment       0.95      0.81      0.87        67\n",
            "       health       0.86      0.82      0.84        97\n",
            "     politics       0.89      0.89      0.89       190\n",
            "       sports       0.98      0.84      0.91       199\n",
            "         tech       0.46      0.67      0.54        51\n",
            "\n",
            "     accuracy                           0.84       828\n",
            "    macro avg       0.82      0.81      0.81       828\n",
            " weighted avg       0.85      0.84      0.84       828\n",
            "\n"
          ]
        },
        {
          "output_type": "execute_result",
          "data": {
            "text/plain": [
              "0.8357487922705314"
            ]
          },
          "metadata": {},
          "execution_count": 21
        }
      ]
    },
    {
      "cell_type": "markdown",
      "source": [
        "# After getting the 2 maximum probability categories i check if **the first or the second** category is the same as true label and get the classification report"
      ],
      "metadata": {
        "id": "H-IRWq68EBcO"
      }
    },
    {
      "cell_type": "code",
      "source": [
        "df2_pred = find_max_2_categories_for_lists(df2_prb)\n",
        "y_trn_pred = find_max_2_categories_for_lists(y_trn_prb)\n",
        "y_tst_pred = find_max_2_categories_for_lists(y_tst_prb)"
      ],
      "metadata": {
        "id": "HrzZLp-bVIlW"
      },
      "execution_count": 22,
      "outputs": []
    },
    {
      "cell_type": "code",
      "source": [
        "df2_pred = return_best_category_from_2_categories(val , df2_pred)\n",
        "y_trn_pred = return_best_category_from_2_categories(y_trn , y_trn_pred)\n",
        "y_tst_pred = return_best_category_from_2_categories(y_tst , y_tst_pred)"
      ],
      "metadata": {
        "id": "KjkqteG9X_ma"
      },
      "execution_count": 23,
      "outputs": []
    },
    {
      "cell_type": "code",
      "source": [
        "compute_classification_report(val , df2_pred)"
      ],
      "metadata": {
        "colab": {
          "base_uri": "https://localhost:8080/"
        },
        "outputId": "181fb771-af00-48cc-e7cb-928bb85cda1b",
        "id": "mTG8Q-9yVIle"
      },
      "execution_count": 24,
      "outputs": [
        {
          "output_type": "stream",
          "name": "stdout",
          "text": [
            "              precision    recall  f1-score   support\n",
            "\n",
            "    Business       0.97      0.87      0.92        77\n",
            "    Sci/Tech       0.86      0.78      0.82        23\n",
            "      Sports       0.00      0.00      0.00         0\n",
            "       World       0.00      0.00      0.00         0\n",
            "\n",
            "    accuracy                           0.85       100\n",
            "   macro avg       0.46      0.41      0.43       100\n",
            "weighted avg       0.94      0.85      0.89       100\n",
            "\n"
          ]
        },
        {
          "output_type": "stream",
          "name": "stderr",
          "text": [
            "/usr/local/lib/python3.10/dist-packages/sklearn/metrics/_classification.py:1344: UndefinedMetricWarning: Recall and F-score are ill-defined and being set to 0.0 in labels with no true samples. Use `zero_division` parameter to control this behavior.\n",
            "  _warn_prf(average, modifier, msg_start, len(result))\n",
            "/usr/local/lib/python3.10/dist-packages/sklearn/metrics/_classification.py:1344: UndefinedMetricWarning: Recall and F-score are ill-defined and being set to 0.0 in labels with no true samples. Use `zero_division` parameter to control this behavior.\n",
            "  _warn_prf(average, modifier, msg_start, len(result))\n",
            "/usr/local/lib/python3.10/dist-packages/sklearn/metrics/_classification.py:1344: UndefinedMetricWarning: Recall and F-score are ill-defined and being set to 0.0 in labels with no true samples. Use `zero_division` parameter to control this behavior.\n",
            "  _warn_prf(average, modifier, msg_start, len(result))\n"
          ]
        },
        {
          "output_type": "execute_result",
          "data": {
            "text/plain": [
              "0.85"
            ]
          },
          "metadata": {},
          "execution_count": 24
        }
      ]
    },
    {
      "cell_type": "code",
      "source": [
        "compute_classification_report(y_trn , y_trn_pred)"
      ],
      "metadata": {
        "colab": {
          "base_uri": "https://localhost:8080/"
        },
        "outputId": "b9bbccca-8c73-4cdd-ecce-27c4eff88de0",
        "id": "kTI-AdiXVIle"
      },
      "execution_count": 25,
      "outputs": [
        {
          "output_type": "stream",
          "name": "stdout",
          "text": [
            "               precision    recall  f1-score   support\n",
            "\n",
            "     business       0.88      0.97      0.92        30\n",
            "entertainment       1.00      0.78      0.88         9\n",
            "       health       0.83      0.71      0.77         7\n",
            "     politics       0.93      0.96      0.94        26\n",
            "       sports       1.00      0.95      0.98        22\n",
            "         tech       1.00      1.00      1.00         6\n",
            "\n",
            "     accuracy                           0.93       100\n",
            "    macro avg       0.94      0.90      0.91       100\n",
            " weighted avg       0.93      0.93      0.93       100\n",
            "\n"
          ]
        },
        {
          "output_type": "execute_result",
          "data": {
            "text/plain": [
              "0.93"
            ]
          },
          "metadata": {},
          "execution_count": 25
        }
      ]
    },
    {
      "cell_type": "code",
      "source": [
        "compute_classification_report(y_tst , y_tst_pred)"
      ],
      "metadata": {
        "colab": {
          "base_uri": "https://localhost:8080/"
        },
        "outputId": "fcc6f2df-9c76-4169-e08c-79de768b16b5",
        "id": "aJXj71d8VIle"
      },
      "execution_count": 26,
      "outputs": [
        {
          "output_type": "stream",
          "name": "stdout",
          "text": [
            "               precision    recall  f1-score   support\n",
            "\n",
            "     business       0.94      0.99      0.97       224\n",
            "entertainment       0.98      0.93      0.95        67\n",
            "       health       0.97      0.89      0.92        97\n",
            "     politics       0.98      0.97      0.98       190\n",
            "       sports       0.99      0.98      0.99       199\n",
            "         tech       0.89      0.96      0.92        51\n",
            "\n",
            "     accuracy                           0.96       828\n",
            "    macro avg       0.96      0.95      0.96       828\n",
            " weighted avg       0.97      0.96      0.96       828\n",
            "\n"
          ]
        },
        {
          "output_type": "execute_result",
          "data": {
            "text/plain": [
              "0.964975845410628"
            ]
          },
          "metadata": {},
          "execution_count": 26
        }
      ]
    }
  ]
}