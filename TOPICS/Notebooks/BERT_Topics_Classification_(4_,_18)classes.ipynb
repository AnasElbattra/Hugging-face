{
  "nbformat": 4,
  "nbformat_minor": 0,
  "metadata": {
    "colab": {
      "provenance": [],
      "toc_visible": true,
      "gpuType": "T4"
    },
    "kernelspec": {
      "name": "python3",
      "display_name": "Python 3"
    },
    "language_info": {
      "name": "python"
    },
    "accelerator": "GPU"
  },
  "cells": [
    {
      "cell_type": "code",
      "source": [
        "# !pip install --upgrade pip\n",
        "# !pip install --upgrade setuptools\n"
      ],
      "metadata": {
        "id": "uHsXpa3OnfRp"
      },
      "execution_count": 24,
      "outputs": []
    },
    {
      "cell_type": "code",
      "source": [
        "# !apt-get install -y python3-dev\n",
        "# !pip install scikit-learn\n"
      ],
      "metadata": {
        "id": "sf2Rn-aYn0sG"
      },
      "execution_count": 25,
      "outputs": []
    },
    {
      "cell_type": "code",
      "source": [
        "# !pip3 install pyproject.toml-based\n",
        "!pip3 install ktrain"
      ],
      "metadata": {
        "colab": {
          "base_uri": "https://localhost:8080/"
        },
        "id": "QRG-TFHSlKKG",
        "outputId": "a8df4b64-4ff8-49bb-b918-1a7ddbbbaf1c"
      },
      "execution_count": 1,
      "outputs": [
        {
          "output_type": "stream",
          "name": "stdout",
          "text": [
            "Collecting ktrain\n",
            "  Downloading ktrain-0.38.0.tar.gz (25.3 MB)\n",
            "\u001b[2K     \u001b[90m━━━━━━━━━━━━━━━━━━━━━━━━━━━━━━━━━━━━━━━━\u001b[0m \u001b[32m25.3/25.3 MB\u001b[0m \u001b[31m19.4 MB/s\u001b[0m eta \u001b[36m0:00:00\u001b[0m\n",
            "\u001b[?25h  Preparing metadata (setup.py) ... \u001b[?25l\u001b[?25hdone\n",
            "Requirement already satisfied: scikit-learn in /usr/local/lib/python3.10/dist-packages (from ktrain) (1.2.2)\n",
            "Requirement already satisfied: matplotlib>=3.0.0 in /usr/local/lib/python3.10/dist-packages (from ktrain) (3.7.1)\n",
            "Requirement already satisfied: pandas>=1.0.1 in /usr/local/lib/python3.10/dist-packages (from ktrain) (1.5.3)\n",
            "Requirement already satisfied: fastprogress>=0.1.21 in /usr/local/lib/python3.10/dist-packages (from ktrain) (1.0.3)\n",
            "Requirement already satisfied: requests in /usr/local/lib/python3.10/dist-packages (from ktrain) (2.31.0)\n",
            "Requirement already satisfied: joblib in /usr/local/lib/python3.10/dist-packages (from ktrain) (1.3.2)\n",
            "Requirement already satisfied: packaging in /usr/local/lib/python3.10/dist-packages (from ktrain) (23.2)\n",
            "Collecting langdetect (from ktrain)\n",
            "  Downloading langdetect-1.0.9.tar.gz (981 kB)\n",
            "\u001b[2K     \u001b[90m━━━━━━━━━━━━━━━━━━━━━━━━━━━━━━━━━━━━━━━━\u001b[0m \u001b[32m981.5/981.5 kB\u001b[0m \u001b[31m29.8 MB/s\u001b[0m eta \u001b[36m0:00:00\u001b[0m\n",
            "\u001b[?25h  Preparing metadata (setup.py) ... \u001b[?25l\u001b[?25hdone\n",
            "Requirement already satisfied: jieba in /usr/local/lib/python3.10/dist-packages (from ktrain) (0.42.1)\n",
            "Collecting cchardet (from ktrain)\n",
            "  Downloading cchardet-2.1.7.tar.gz (653 kB)\n",
            "\u001b[2K     \u001b[90m━━━━━━━━━━━━━━━━━━━━━━━━━━━━━━━━━━━━━━━━\u001b[0m \u001b[32m653.6/653.6 kB\u001b[0m \u001b[31m53.1 MB/s\u001b[0m eta \u001b[36m0:00:00\u001b[0m\n",
            "\u001b[?25h  Preparing metadata (setup.py) ... \u001b[?25l\u001b[?25hdone\n",
            "Requirement already satisfied: chardet in /usr/local/lib/python3.10/dist-packages (from ktrain) (5.2.0)\n",
            "Collecting syntok>1.3.3 (from ktrain)\n",
            "  Downloading syntok-1.4.4-py3-none-any.whl (24 kB)\n",
            "Collecting tika (from ktrain)\n",
            "  Downloading tika-2.6.0.tar.gz (27 kB)\n",
            "  Preparing metadata (setup.py) ... \u001b[?25l\u001b[?25hdone\n",
            "Collecting transformers>=4.17.0 (from ktrain)\n",
            "  Downloading transformers-4.34.1-py3-none-any.whl (7.7 MB)\n",
            "\u001b[2K     \u001b[90m━━━━━━━━━━━━━━━━━━━━━━━━━━━━━━━━━━━━━━━━\u001b[0m \u001b[32m7.7/7.7 MB\u001b[0m \u001b[31m72.6 MB/s\u001b[0m eta \u001b[36m0:00:00\u001b[0m\n",
            "\u001b[?25hCollecting sentencepiece (from ktrain)\n",
            "  Downloading sentencepiece-0.1.99-cp310-cp310-manylinux_2_17_x86_64.manylinux2014_x86_64.whl (1.3 MB)\n",
            "\u001b[2K     \u001b[90m━━━━━━━━━━━━━━━━━━━━━━━━━━━━━━━━━━━━━━━━\u001b[0m \u001b[32m1.3/1.3 MB\u001b[0m \u001b[31m55.8 MB/s\u001b[0m eta \u001b[36m0:00:00\u001b[0m\n",
            "\u001b[?25hCollecting keras_bert>=0.86.0 (from ktrain)\n",
            "  Downloading keras-bert-0.89.0.tar.gz (25 kB)\n",
            "  Preparing metadata (setup.py) ... \u001b[?25l\u001b[?25hdone\n",
            "Collecting whoosh (from ktrain)\n",
            "  Downloading Whoosh-2.7.4-py2.py3-none-any.whl (468 kB)\n",
            "\u001b[2K     \u001b[90m━━━━━━━━━━━━━━━━━━━━━━━━━━━━━━━━━━━━━━━━\u001b[0m \u001b[32m468.8/468.8 kB\u001b[0m \u001b[31m50.6 MB/s\u001b[0m eta \u001b[36m0:00:00\u001b[0m\n",
            "\u001b[?25hRequirement already satisfied: numpy in /usr/local/lib/python3.10/dist-packages (from keras_bert>=0.86.0->ktrain) (1.23.5)\n",
            "Collecting keras-transformer==0.40.0 (from keras_bert>=0.86.0->ktrain)\n",
            "  Downloading keras-transformer-0.40.0.tar.gz (9.7 kB)\n",
            "  Preparing metadata (setup.py) ... \u001b[?25l\u001b[?25hdone\n",
            "Collecting keras-pos-embd==0.13.0 (from keras-transformer==0.40.0->keras_bert>=0.86.0->ktrain)\n",
            "  Downloading keras-pos-embd-0.13.0.tar.gz (5.6 kB)\n",
            "  Preparing metadata (setup.py) ... \u001b[?25l\u001b[?25hdone\n",
            "Collecting keras-multi-head==0.29.0 (from keras-transformer==0.40.0->keras_bert>=0.86.0->ktrain)\n",
            "  Downloading keras-multi-head-0.29.0.tar.gz (13 kB)\n",
            "  Preparing metadata (setup.py) ... \u001b[?25l\u001b[?25hdone\n",
            "Collecting keras-layer-normalization==0.16.0 (from keras-transformer==0.40.0->keras_bert>=0.86.0->ktrain)\n",
            "  Downloading keras-layer-normalization-0.16.0.tar.gz (3.9 kB)\n",
            "  Preparing metadata (setup.py) ... \u001b[?25l\u001b[?25hdone\n",
            "Collecting keras-position-wise-feed-forward==0.8.0 (from keras-transformer==0.40.0->keras_bert>=0.86.0->ktrain)\n",
            "  Downloading keras-position-wise-feed-forward-0.8.0.tar.gz (4.1 kB)\n",
            "  Preparing metadata (setup.py) ... \u001b[?25l\u001b[?25hdone\n",
            "Collecting keras-embed-sim==0.10.0 (from keras-transformer==0.40.0->keras_bert>=0.86.0->ktrain)\n",
            "  Downloading keras-embed-sim-0.10.0.tar.gz (3.6 kB)\n",
            "  Preparing metadata (setup.py) ... \u001b[?25l\u001b[?25hdone\n",
            "Collecting keras-self-attention==0.51.0 (from keras-multi-head==0.29.0->keras-transformer==0.40.0->keras_bert>=0.86.0->ktrain)\n",
            "  Downloading keras-self-attention-0.51.0.tar.gz (11 kB)\n",
            "  Preparing metadata (setup.py) ... \u001b[?25l\u001b[?25hdone\n",
            "Requirement already satisfied: contourpy>=1.0.1 in /usr/local/lib/python3.10/dist-packages (from matplotlib>=3.0.0->ktrain) (1.1.1)\n",
            "Requirement already satisfied: cycler>=0.10 in /usr/local/lib/python3.10/dist-packages (from matplotlib>=3.0.0->ktrain) (0.12.1)\n",
            "Requirement already satisfied: fonttools>=4.22.0 in /usr/local/lib/python3.10/dist-packages (from matplotlib>=3.0.0->ktrain) (4.43.1)\n",
            "Requirement already satisfied: kiwisolver>=1.0.1 in /usr/local/lib/python3.10/dist-packages (from matplotlib>=3.0.0->ktrain) (1.4.5)\n",
            "Requirement already satisfied: pillow>=6.2.0 in /usr/local/lib/python3.10/dist-packages (from matplotlib>=3.0.0->ktrain) (9.4.0)\n",
            "Requirement already satisfied: pyparsing>=2.3.1 in /usr/local/lib/python3.10/dist-packages (from matplotlib>=3.0.0->ktrain) (3.1.1)\n",
            "Requirement already satisfied: python-dateutil>=2.7 in /usr/local/lib/python3.10/dist-packages (from matplotlib>=3.0.0->ktrain) (2.8.2)\n",
            "Requirement already satisfied: pytz>=2020.1 in /usr/local/lib/python3.10/dist-packages (from pandas>=1.0.1->ktrain) (2023.3.post1)\n",
            "Requirement already satisfied: regex>2016 in /usr/local/lib/python3.10/dist-packages (from syntok>1.3.3->ktrain) (2023.6.3)\n",
            "Requirement already satisfied: filelock in /usr/local/lib/python3.10/dist-packages (from transformers>=4.17.0->ktrain) (3.12.4)\n",
            "Collecting huggingface-hub<1.0,>=0.16.4 (from transformers>=4.17.0->ktrain)\n",
            "  Downloading huggingface_hub-0.18.0-py3-none-any.whl (301 kB)\n",
            "\u001b[2K     \u001b[90m━━━━━━━━━━━━━━━━━━━━━━━━━━━━━━━━━━━━━━━━\u001b[0m \u001b[32m302.0/302.0 kB\u001b[0m \u001b[31m35.7 MB/s\u001b[0m eta \u001b[36m0:00:00\u001b[0m\n",
            "\u001b[?25hRequirement already satisfied: pyyaml>=5.1 in /usr/local/lib/python3.10/dist-packages (from transformers>=4.17.0->ktrain) (6.0.1)\n",
            "Collecting tokenizers<0.15,>=0.14 (from transformers>=4.17.0->ktrain)\n",
            "  Downloading tokenizers-0.14.1-cp310-cp310-manylinux_2_17_x86_64.manylinux2014_x86_64.whl (3.8 MB)\n",
            "\u001b[2K     \u001b[90m━━━━━━━━━━━━━━━━━━━━━━━━━━━━━━━━━━━━━━━━\u001b[0m \u001b[32m3.8/3.8 MB\u001b[0m \u001b[31m106.2 MB/s\u001b[0m eta \u001b[36m0:00:00\u001b[0m\n",
            "\u001b[?25hCollecting safetensors>=0.3.1 (from transformers>=4.17.0->ktrain)\n",
            "  Downloading safetensors-0.4.0-cp310-cp310-manylinux_2_17_x86_64.manylinux2014_x86_64.whl (1.3 MB)\n",
            "\u001b[2K     \u001b[90m━━━━━━━━━━━━━━━━━━━━━━━━━━━━━━━━━━━━━━━━\u001b[0m \u001b[32m1.3/1.3 MB\u001b[0m \u001b[31m88.2 MB/s\u001b[0m eta \u001b[36m0:00:00\u001b[0m\n",
            "\u001b[?25hRequirement already satisfied: tqdm>=4.27 in /usr/local/lib/python3.10/dist-packages (from transformers>=4.17.0->ktrain) (4.66.1)\n",
            "Requirement already satisfied: six in /usr/local/lib/python3.10/dist-packages (from langdetect->ktrain) (1.16.0)\n",
            "Requirement already satisfied: charset-normalizer<4,>=2 in /usr/local/lib/python3.10/dist-packages (from requests->ktrain) (3.3.1)\n",
            "Requirement already satisfied: idna<4,>=2.5 in /usr/local/lib/python3.10/dist-packages (from requests->ktrain) (3.4)\n",
            "Requirement already satisfied: urllib3<3,>=1.21.1 in /usr/local/lib/python3.10/dist-packages (from requests->ktrain) (2.0.7)\n",
            "Requirement already satisfied: certifi>=2017.4.17 in /usr/local/lib/python3.10/dist-packages (from requests->ktrain) (2023.7.22)\n",
            "Requirement already satisfied: scipy>=1.3.2 in /usr/local/lib/python3.10/dist-packages (from scikit-learn->ktrain) (1.11.3)\n",
            "Requirement already satisfied: threadpoolctl>=2.0.0 in /usr/local/lib/python3.10/dist-packages (from scikit-learn->ktrain) (3.2.0)\n",
            "Requirement already satisfied: setuptools in /usr/local/lib/python3.10/dist-packages (from tika->ktrain) (67.7.2)\n",
            "Requirement already satisfied: fsspec>=2023.5.0 in /usr/local/lib/python3.10/dist-packages (from huggingface-hub<1.0,>=0.16.4->transformers>=4.17.0->ktrain) (2023.6.0)\n",
            "Requirement already satisfied: typing-extensions>=3.7.4.3 in /usr/local/lib/python3.10/dist-packages (from huggingface-hub<1.0,>=0.16.4->transformers>=4.17.0->ktrain) (4.5.0)\n",
            "Collecting huggingface-hub<1.0,>=0.16.4 (from transformers>=4.17.0->ktrain)\n",
            "  Downloading huggingface_hub-0.17.3-py3-none-any.whl (295 kB)\n",
            "\u001b[2K     \u001b[90m━━━━━━━━━━━━━━━━━━━━━━━━━━━━━━━━━━━━━━━━\u001b[0m \u001b[32m295.0/295.0 kB\u001b[0m \u001b[31m33.8 MB/s\u001b[0m eta \u001b[36m0:00:00\u001b[0m\n",
            "\u001b[?25hBuilding wheels for collected packages: ktrain, keras_bert, keras-transformer, keras-embed-sim, keras-layer-normalization, keras-multi-head, keras-pos-embd, keras-position-wise-feed-forward, keras-self-attention, cchardet, langdetect, tika\n",
            "  Building wheel for ktrain (setup.py) ... \u001b[?25l\u001b[?25hdone\n",
            "  Created wheel for ktrain: filename=ktrain-0.38.0-py3-none-any.whl size=25319962 sha256=b11e948308cdc74a15c9798f1636537cecd0b88b086cb330a4f2e776ad3b4b7c\n",
            "  Stored in directory: /root/.cache/pip/wheels/10/76/6b/5799f396ca78a8c38c7c6439a192ca88538a97cfb970946da5\n",
            "  Building wheel for keras_bert (setup.py) ... \u001b[?25l\u001b[?25hdone\n",
            "  Created wheel for keras_bert: filename=keras_bert-0.89.0-py3-none-any.whl size=33499 sha256=94fff7b16ae5ddabaf3872e9775707e05d89262059cb83f39d79355903c32ba1\n",
            "  Stored in directory: /root/.cache/pip/wheels/89/0c/04/646b6fdf6375911b42c8d540a8a3fda8d5d77634e5dcbe7b26\n",
            "  Building wheel for keras-transformer (setup.py) ... \u001b[?25l\u001b[?25hdone\n",
            "  Created wheel for keras-transformer: filename=keras_transformer-0.40.0-py3-none-any.whl size=12285 sha256=da4900548512874b4052ad2f1942ed984aefbdc0668e1b7d7ad8d8be40936f2e\n",
            "  Stored in directory: /root/.cache/pip/wheels/f2/cb/22/75a0ad376129177f7c95c0d91331a18f5368fd657f4035ba7c\n",
            "  Building wheel for keras-embed-sim (setup.py) ... \u001b[?25l\u001b[?25hdone\n",
            "  Created wheel for keras-embed-sim: filename=keras_embed_sim-0.10.0-py3-none-any.whl size=3945 sha256=5170f05a57f5415de29a8a60a1626e15db1ac1297d718974b8a366fbb8e6493e\n",
            "  Stored in directory: /root/.cache/pip/wheels/82/32/c7/fd35d0d1b840a6c7cbd4343f808d10d0f7b87d271a4dbe796f\n",
            "  Building wheel for keras-layer-normalization (setup.py) ... \u001b[?25l\u001b[?25hdone\n",
            "  Created wheel for keras-layer-normalization: filename=keras_layer_normalization-0.16.0-py3-none-any.whl size=4654 sha256=48a42f163de6d364151aeb3fb4422a5c340b00d8afad5e36c4eb257a43b8c037\n",
            "  Stored in directory: /root/.cache/pip/wheels/ed/3a/4b/21db23c0cc56c4b219616e181f258eb7c57d36cc5d056fae9a\n",
            "  Building wheel for keras-multi-head (setup.py) ... \u001b[?25l\u001b[?25hdone\n",
            "  Created wheel for keras-multi-head: filename=keras_multi_head-0.29.0-py3-none-any.whl size=14977 sha256=f07ce5f7724033be2417e0570870ecd43ceae845ea9d869206a08c9ba533b90b\n",
            "  Stored in directory: /root/.cache/pip/wheels/cb/23/4b/06d7ae21714f70fcc25b48f972cc8e5e7f4b6b764a038b509d\n",
            "  Building wheel for keras-pos-embd (setup.py) ... \u001b[?25l\u001b[?25hdone\n",
            "  Created wheel for keras-pos-embd: filename=keras_pos_embd-0.13.0-py3-none-any.whl size=6945 sha256=3a288b1bf3cf9872ad14bc9432035f0f60fc0ed9953bf0d4d036b12385dc6b1a\n",
            "  Stored in directory: /root/.cache/pip/wheels/78/07/1b/b1ca47b6ac338554b75c8f52c54e6a2bfbe1b07d79579979a4\n",
            "  Building wheel for keras-position-wise-feed-forward (setup.py) ... \u001b[?25l\u001b[?25hdone\n",
            "  Created wheel for keras-position-wise-feed-forward: filename=keras_position_wise_feed_forward-0.8.0-py3-none-any.whl size=4969 sha256=096a8e3eefccc514bf5aa70b3e84eee6dcffb0d0b3f7eb47c72e1428deebfa68\n",
            "  Stored in directory: /root/.cache/pip/wheels/c1/6a/04/d1706a53b23b2cb5f9a0a76269bf87925daa1bca09eac01b21\n",
            "  Building wheel for keras-self-attention (setup.py) ... \u001b[?25l\u001b[?25hdone\n",
            "  Created wheel for keras-self-attention: filename=keras_self_attention-0.51.0-py3-none-any.whl size=18895 sha256=0f7904ed35c4aaf4d4c4680b48b3a36869859473959981c2cfeab170971263ad\n",
            "  Stored in directory: /root/.cache/pip/wheels/b8/f7/24/607b483144fb9c47b4ba2c5fba6b68e54aeee2d5bf6c05302e\n",
            "  Building wheel for cchardet (setup.py) ... \u001b[?25l\u001b[?25hdone\n",
            "  Created wheel for cchardet: filename=cchardet-2.1.7-cp310-cp310-linux_x86_64.whl size=289202 sha256=93cbd788e3a7831436881676113b50e757f83a58b999f55ccdbbfc72c608d79d\n",
            "  Stored in directory: /root/.cache/pip/wheels/ee/e0/ab/e01326f15c59438d080b1496dbab8091e952ec72f35e3c437e\n",
            "  Building wheel for langdetect (setup.py) ... \u001b[?25l\u001b[?25hdone\n",
            "  Created wheel for langdetect: filename=langdetect-1.0.9-py3-none-any.whl size=993224 sha256=f1e7494cf4e40080a3787b51a20f02702713d76e37ae9c4c545ce9688cd8cc65\n",
            "  Stored in directory: /root/.cache/pip/wheels/95/03/7d/59ea870c70ce4e5a370638b5462a7711ab78fba2f655d05106\n",
            "  Building wheel for tika (setup.py) ... \u001b[?25l\u001b[?25hdone\n",
            "  Created wheel for tika: filename=tika-2.6.0-py3-none-any.whl size=32621 sha256=418895024ba53239a0243cf0a5e70d14b1201baae7b38539c932f96beeb4dd5e\n",
            "  Stored in directory: /root/.cache/pip/wheels/5f/71/c7/b757709531121b1700cffda5b6b0d4aad095fb507ec84316d0\n",
            "Successfully built ktrain keras_bert keras-transformer keras-embed-sim keras-layer-normalization keras-multi-head keras-pos-embd keras-position-wise-feed-forward keras-self-attention cchardet langdetect tika\n",
            "Installing collected packages: whoosh, sentencepiece, cchardet, syntok, safetensors, langdetect, keras-self-attention, keras-position-wise-feed-forward, keras-pos-embd, keras-layer-normalization, keras-embed-sim, tika, keras-multi-head, huggingface-hub, tokenizers, keras-transformer, transformers, keras_bert, ktrain\n",
            "Successfully installed cchardet-2.1.7 huggingface-hub-0.17.3 keras-embed-sim-0.10.0 keras-layer-normalization-0.16.0 keras-multi-head-0.29.0 keras-pos-embd-0.13.0 keras-position-wise-feed-forward-0.8.0 keras-self-attention-0.51.0 keras-transformer-0.40.0 keras_bert-0.89.0 ktrain-0.38.0 langdetect-1.0.9 safetensors-0.4.0 sentencepiece-0.1.99 syntok-1.4.4 tika-2.6.0 tokenizers-0.14.1 transformers-4.34.1 whoosh-2.7.4\n"
          ]
        }
      ]
    },
    {
      "cell_type": "code",
      "source": [
        "import pandas as pd\n",
        "import ktrain\n",
        "from ktrain import text\n",
        "from sklearn.model_selection import train_test_split"
      ],
      "metadata": {
        "id": "vwdrJLlZlB1h"
      },
      "execution_count": 1,
      "outputs": []
    },
    {
      "cell_type": "code",
      "execution_count": 15,
      "metadata": {
        "id": "O9jWN62LbRI-"
      },
      "outputs": [],
      "source": [
        "df = pd.read_csv(\"https://github.com/AnasElbattra/News-Understanding-NLP/raw/main/TOPICS/DATA/MN-DS-news-classification.csv\")\n",
        "df = df.rename(columns={'category_level_1': 'category_1', 'category_level_2': 'category_2'})"
      ]
    },
    {
      "cell_type": "code",
      "source": [
        "df"
      ],
      "metadata": {
        "colab": {
          "base_uri": "https://localhost:8080/",
          "height": 1000
        },
        "id": "Lw0n5R_dosvg",
        "outputId": "3cfef97a-855b-4a0f-e897-14bcc44cd2cf"
      },
      "execution_count": 16,
      "outputs": [
        {
          "output_type": "execute_result",
          "data": {
            "text/plain": [
              "       data_id                                                 id        date  \\\n",
              "0         1809  abcnews--2019-10-31--Virginia mom charged with...  2019-10-31   \n",
              "1         1980  abcnews--2019-11-07--2 escaped murder suspects...  2019-11-07   \n",
              "2         1995  abcnews--2019-11-07--Family turns in escaped b...  2019-11-07   \n",
              "3         2740  abcnews--2019-12-02--Mother charged with murde...  2019-12-02   \n",
              "4         7038  ageofautism--2019-04-12--Physician Father and ...  2019-04-12   \n",
              "...        ...                                                ...         ...   \n",
              "10912   907640  therussophileorg--2019-12-15--Iran to build ov...  2019-12-15   \n",
              "10913   892720  therussophileorg--2019-10-12--Ukraine has no m...  2019-10-12   \n",
              "10914   870499  therussophileorg--2019-07-06--Irans contributi...  2019-07-06   \n",
              "10915   887334  therussophileorg--2019-09-25--Iraqi president ...  2019-09-25   \n",
              "10916   885988  therussophileorg--2019-09-20--Russia expects t...  2019-09-20   \n",
              "\n",
              "                 source                                              title  \\\n",
              "0               abcnews  Virginia mom charged with murder in 2-year-old...   \n",
              "1               abcnews  2 escaped murder suspects arrested at US-Mexic...   \n",
              "2               abcnews  Family turns in escaped boy, 13, suspected in ...   \n",
              "3               abcnews  Mother charged with murder in deaths of 2 youn...   \n",
              "4           ageofautism  Physician, Father and Caretaker of 29 Year Old...   \n",
              "...                 ...                                                ...   \n",
              "10912  therussophileorg  Iran to build over 30,000 housing units in Syr...   \n",
              "10913  therussophileorg  Ukraine has no money for reconstruction of Don...   \n",
              "10914  therussophileorg  Iran’s contribution is needed to rebuild Iraq ...   \n",
              "10915  therussophileorg  Iraqi president demands international help for...   \n",
              "10916  therussophileorg  Russia expects to cooperate with China on Syri...   \n",
              "\n",
              "                                                 content            author  \\\n",
              "0      The Virginia woman whose 2-year-old son was fo...               NaN   \n",
              "1      Authorities are trying to determine if anyone ...               NaN   \n",
              "2      A 13-year-old suspect in a double homicide who...               NaN   \n",
              "3      The mother of two young children found hanging...               NaN   \n",
              "4      \"One family member said Derek “can be violent ...     Age of Autism   \n",
              "...                                                  ...               ...   \n",
              "10912  This post was originally published on this sit...         News Desk   \n",
              "10913  This post was originally published on this sit...  Michael Sullivan   \n",
              "10914  This\\n\\n[post](http://www.presstv.ir/Detail/20...  Michael Sullivan   \n",
              "10915  This\\n\\n[post](http://www.presstv.ir/Detail/20...  Michael Sullivan   \n",
              "10916  This\\n\\n[post](https://tass.com/politics/10791...  Michael Sullivan   \n",
              "\n",
              "                                                     url  \\\n",
              "0      https://abcnews.go.com/US/wireStory/virginia-m...   \n",
              "1      https://abcnews.go.com/US/wireStory/escaped-mu...   \n",
              "2      https://abcnews.go.com/US/wireStory/family-tur...   \n",
              "3      https://abcnews.go.com/US/wireStory/mother-cha...   \n",
              "4      http://feedproxy.google.com/~r/ageofautism/~3/...   \n",
              "...                                                  ...   \n",
              "10912  https://www.therussophile.org/iran-to-build-ov...   \n",
              "10913  https://www.therussophile.org/ukraine-has-no-m...   \n",
              "10914  https://www.therussophile.org/irans-contributi...   \n",
              "10915  https://www.therussophile.org/iraqi-president-...   \n",
              "10916  https://www.therussophile.org/russia-expects-t...   \n",
              "\n",
              "                             published  published_utc  collection_utc  \\\n",
              "0      Thu, 31 Oct 2019 16:49:56 -0400     1572554996      1572559512   \n",
              "1      Thu, 07 Nov 2019 00:13:12 -0500     1573103592      1573131986   \n",
              "2      Thu, 07 Nov 2019 07:39:54 -0500     1573130394      1573131982   \n",
              "3      Mon, 02 Dec 2019 11:30:59 -0500     1575304259      1575308811   \n",
              "4            2019-04-12 09:00:00+00:00     1555074000      1567543083   \n",
              "...                                ...            ...             ...   \n",
              "10912  Sun, 15 Dec 2019 10:42:50 +0000     1576424570      1576413702   \n",
              "10913  Sat, 12 Oct 2019 20:56:01 +0000     1570928161      1570922006   \n",
              "10914        2019-07-06 17:51:38+00:00     1562449898      1567536625   \n",
              "10915        2019-09-25 16:58:01+00:00     1569445081      1570222223   \n",
              "10916        2019-09-20 13:56:47+00:00     1569002207      1570222711   \n",
              "\n",
              "                    category_1               category_2  \n",
              "0       crime, law and justice                    crime  \n",
              "1       crime, law and justice                    crime  \n",
              "2       crime, law and justice                    crime  \n",
              "3       crime, law and justice                    crime  \n",
              "4       crime, law and justice                    crime  \n",
              "...                        ...                      ...  \n",
              "10912  conflict, war and peace  post-war reconstruction  \n",
              "10913  conflict, war and peace  post-war reconstruction  \n",
              "10914  conflict, war and peace  post-war reconstruction  \n",
              "10915  conflict, war and peace  post-war reconstruction  \n",
              "10916  conflict, war and peace  post-war reconstruction  \n",
              "\n",
              "[10917 rows x 13 columns]"
            ],
            "text/html": [
              "\n",
              "  <div id=\"df-311c81c0-6b47-49df-a5e0-6425cddc7cb6\" class=\"colab-df-container\">\n",
              "    <div>\n",
              "<style scoped>\n",
              "    .dataframe tbody tr th:only-of-type {\n",
              "        vertical-align: middle;\n",
              "    }\n",
              "\n",
              "    .dataframe tbody tr th {\n",
              "        vertical-align: top;\n",
              "    }\n",
              "\n",
              "    .dataframe thead th {\n",
              "        text-align: right;\n",
              "    }\n",
              "</style>\n",
              "<table border=\"1\" class=\"dataframe\">\n",
              "  <thead>\n",
              "    <tr style=\"text-align: right;\">\n",
              "      <th></th>\n",
              "      <th>data_id</th>\n",
              "      <th>id</th>\n",
              "      <th>date</th>\n",
              "      <th>source</th>\n",
              "      <th>title</th>\n",
              "      <th>content</th>\n",
              "      <th>author</th>\n",
              "      <th>url</th>\n",
              "      <th>published</th>\n",
              "      <th>published_utc</th>\n",
              "      <th>collection_utc</th>\n",
              "      <th>category_1</th>\n",
              "      <th>category_2</th>\n",
              "    </tr>\n",
              "  </thead>\n",
              "  <tbody>\n",
              "    <tr>\n",
              "      <th>0</th>\n",
              "      <td>1809</td>\n",
              "      <td>abcnews--2019-10-31--Virginia mom charged with...</td>\n",
              "      <td>2019-10-31</td>\n",
              "      <td>abcnews</td>\n",
              "      <td>Virginia mom charged with murder in 2-year-old...</td>\n",
              "      <td>The Virginia woman whose 2-year-old son was fo...</td>\n",
              "      <td>NaN</td>\n",
              "      <td>https://abcnews.go.com/US/wireStory/virginia-m...</td>\n",
              "      <td>Thu, 31 Oct 2019 16:49:56 -0400</td>\n",
              "      <td>1572554996</td>\n",
              "      <td>1572559512</td>\n",
              "      <td>crime, law and justice</td>\n",
              "      <td>crime</td>\n",
              "    </tr>\n",
              "    <tr>\n",
              "      <th>1</th>\n",
              "      <td>1980</td>\n",
              "      <td>abcnews--2019-11-07--2 escaped murder suspects...</td>\n",
              "      <td>2019-11-07</td>\n",
              "      <td>abcnews</td>\n",
              "      <td>2 escaped murder suspects arrested at US-Mexic...</td>\n",
              "      <td>Authorities are trying to determine if anyone ...</td>\n",
              "      <td>NaN</td>\n",
              "      <td>https://abcnews.go.com/US/wireStory/escaped-mu...</td>\n",
              "      <td>Thu, 07 Nov 2019 00:13:12 -0500</td>\n",
              "      <td>1573103592</td>\n",
              "      <td>1573131986</td>\n",
              "      <td>crime, law and justice</td>\n",
              "      <td>crime</td>\n",
              "    </tr>\n",
              "    <tr>\n",
              "      <th>2</th>\n",
              "      <td>1995</td>\n",
              "      <td>abcnews--2019-11-07--Family turns in escaped b...</td>\n",
              "      <td>2019-11-07</td>\n",
              "      <td>abcnews</td>\n",
              "      <td>Family turns in escaped boy, 13, suspected in ...</td>\n",
              "      <td>A 13-year-old suspect in a double homicide who...</td>\n",
              "      <td>NaN</td>\n",
              "      <td>https://abcnews.go.com/US/wireStory/family-tur...</td>\n",
              "      <td>Thu, 07 Nov 2019 07:39:54 -0500</td>\n",
              "      <td>1573130394</td>\n",
              "      <td>1573131982</td>\n",
              "      <td>crime, law and justice</td>\n",
              "      <td>crime</td>\n",
              "    </tr>\n",
              "    <tr>\n",
              "      <th>3</th>\n",
              "      <td>2740</td>\n",
              "      <td>abcnews--2019-12-02--Mother charged with murde...</td>\n",
              "      <td>2019-12-02</td>\n",
              "      <td>abcnews</td>\n",
              "      <td>Mother charged with murder in deaths of 2 youn...</td>\n",
              "      <td>The mother of two young children found hanging...</td>\n",
              "      <td>NaN</td>\n",
              "      <td>https://abcnews.go.com/US/wireStory/mother-cha...</td>\n",
              "      <td>Mon, 02 Dec 2019 11:30:59 -0500</td>\n",
              "      <td>1575304259</td>\n",
              "      <td>1575308811</td>\n",
              "      <td>crime, law and justice</td>\n",
              "      <td>crime</td>\n",
              "    </tr>\n",
              "    <tr>\n",
              "      <th>4</th>\n",
              "      <td>7038</td>\n",
              "      <td>ageofautism--2019-04-12--Physician Father and ...</td>\n",
              "      <td>2019-04-12</td>\n",
              "      <td>ageofautism</td>\n",
              "      <td>Physician, Father and Caretaker of 29 Year Old...</td>\n",
              "      <td>\"One family member said Derek “can be violent ...</td>\n",
              "      <td>Age of Autism</td>\n",
              "      <td>http://feedproxy.google.com/~r/ageofautism/~3/...</td>\n",
              "      <td>2019-04-12 09:00:00+00:00</td>\n",
              "      <td>1555074000</td>\n",
              "      <td>1567543083</td>\n",
              "      <td>crime, law and justice</td>\n",
              "      <td>crime</td>\n",
              "    </tr>\n",
              "    <tr>\n",
              "      <th>...</th>\n",
              "      <td>...</td>\n",
              "      <td>...</td>\n",
              "      <td>...</td>\n",
              "      <td>...</td>\n",
              "      <td>...</td>\n",
              "      <td>...</td>\n",
              "      <td>...</td>\n",
              "      <td>...</td>\n",
              "      <td>...</td>\n",
              "      <td>...</td>\n",
              "      <td>...</td>\n",
              "      <td>...</td>\n",
              "      <td>...</td>\n",
              "    </tr>\n",
              "    <tr>\n",
              "      <th>10912</th>\n",
              "      <td>907640</td>\n",
              "      <td>therussophileorg--2019-12-15--Iran to build ov...</td>\n",
              "      <td>2019-12-15</td>\n",
              "      <td>therussophileorg</td>\n",
              "      <td>Iran to build over 30,000 housing units in Syr...</td>\n",
              "      <td>This post was originally published on this sit...</td>\n",
              "      <td>News Desk</td>\n",
              "      <td>https://www.therussophile.org/iran-to-build-ov...</td>\n",
              "      <td>Sun, 15 Dec 2019 10:42:50 +0000</td>\n",
              "      <td>1576424570</td>\n",
              "      <td>1576413702</td>\n",
              "      <td>conflict, war and peace</td>\n",
              "      <td>post-war reconstruction</td>\n",
              "    </tr>\n",
              "    <tr>\n",
              "      <th>10913</th>\n",
              "      <td>892720</td>\n",
              "      <td>therussophileorg--2019-10-12--Ukraine has no m...</td>\n",
              "      <td>2019-10-12</td>\n",
              "      <td>therussophileorg</td>\n",
              "      <td>Ukraine has no money for reconstruction of Don...</td>\n",
              "      <td>This post was originally published on this sit...</td>\n",
              "      <td>Michael Sullivan</td>\n",
              "      <td>https://www.therussophile.org/ukraine-has-no-m...</td>\n",
              "      <td>Sat, 12 Oct 2019 20:56:01 +0000</td>\n",
              "      <td>1570928161</td>\n",
              "      <td>1570922006</td>\n",
              "      <td>conflict, war and peace</td>\n",
              "      <td>post-war reconstruction</td>\n",
              "    </tr>\n",
              "    <tr>\n",
              "      <th>10914</th>\n",
              "      <td>870499</td>\n",
              "      <td>therussophileorg--2019-07-06--Irans contributi...</td>\n",
              "      <td>2019-07-06</td>\n",
              "      <td>therussophileorg</td>\n",
              "      <td>Iran’s contribution is needed to rebuild Iraq ...</td>\n",
              "      <td>This\\n\\n[post](http://www.presstv.ir/Detail/20...</td>\n",
              "      <td>Michael Sullivan</td>\n",
              "      <td>https://www.therussophile.org/irans-contributi...</td>\n",
              "      <td>2019-07-06 17:51:38+00:00</td>\n",
              "      <td>1562449898</td>\n",
              "      <td>1567536625</td>\n",
              "      <td>conflict, war and peace</td>\n",
              "      <td>post-war reconstruction</td>\n",
              "    </tr>\n",
              "    <tr>\n",
              "      <th>10915</th>\n",
              "      <td>887334</td>\n",
              "      <td>therussophileorg--2019-09-25--Iraqi president ...</td>\n",
              "      <td>2019-09-25</td>\n",
              "      <td>therussophileorg</td>\n",
              "      <td>Iraqi president demands international help for...</td>\n",
              "      <td>This\\n\\n[post](http://www.presstv.ir/Detail/20...</td>\n",
              "      <td>Michael Sullivan</td>\n",
              "      <td>https://www.therussophile.org/iraqi-president-...</td>\n",
              "      <td>2019-09-25 16:58:01+00:00</td>\n",
              "      <td>1569445081</td>\n",
              "      <td>1570222223</td>\n",
              "      <td>conflict, war and peace</td>\n",
              "      <td>post-war reconstruction</td>\n",
              "    </tr>\n",
              "    <tr>\n",
              "      <th>10916</th>\n",
              "      <td>885988</td>\n",
              "      <td>therussophileorg--2019-09-20--Russia expects t...</td>\n",
              "      <td>2019-09-20</td>\n",
              "      <td>therussophileorg</td>\n",
              "      <td>Russia expects to cooperate with China on Syri...</td>\n",
              "      <td>This\\n\\n[post](https://tass.com/politics/10791...</td>\n",
              "      <td>Michael Sullivan</td>\n",
              "      <td>https://www.therussophile.org/russia-expects-t...</td>\n",
              "      <td>2019-09-20 13:56:47+00:00</td>\n",
              "      <td>1569002207</td>\n",
              "      <td>1570222711</td>\n",
              "      <td>conflict, war and peace</td>\n",
              "      <td>post-war reconstruction</td>\n",
              "    </tr>\n",
              "  </tbody>\n",
              "</table>\n",
              "<p>10917 rows × 13 columns</p>\n",
              "</div>\n",
              "    <div class=\"colab-df-buttons\">\n",
              "\n",
              "  <div class=\"colab-df-container\">\n",
              "    <button class=\"colab-df-convert\" onclick=\"convertToInteractive('df-311c81c0-6b47-49df-a5e0-6425cddc7cb6')\"\n",
              "            title=\"Convert this dataframe to an interactive table.\"\n",
              "            style=\"display:none;\">\n",
              "\n",
              "  <svg xmlns=\"http://www.w3.org/2000/svg\" height=\"24px\" viewBox=\"0 -960 960 960\">\n",
              "    <path d=\"M120-120v-720h720v720H120Zm60-500h600v-160H180v160Zm220 220h160v-160H400v160Zm0 220h160v-160H400v160ZM180-400h160v-160H180v160Zm440 0h160v-160H620v160ZM180-180h160v-160H180v160Zm440 0h160v-160H620v160Z\"/>\n",
              "  </svg>\n",
              "    </button>\n",
              "\n",
              "  <style>\n",
              "    .colab-df-container {\n",
              "      display:flex;\n",
              "      gap: 12px;\n",
              "    }\n",
              "\n",
              "    .colab-df-convert {\n",
              "      background-color: #E8F0FE;\n",
              "      border: none;\n",
              "      border-radius: 50%;\n",
              "      cursor: pointer;\n",
              "      display: none;\n",
              "      fill: #1967D2;\n",
              "      height: 32px;\n",
              "      padding: 0 0 0 0;\n",
              "      width: 32px;\n",
              "    }\n",
              "\n",
              "    .colab-df-convert:hover {\n",
              "      background-color: #E2EBFA;\n",
              "      box-shadow: 0px 1px 2px rgba(60, 64, 67, 0.3), 0px 1px 3px 1px rgba(60, 64, 67, 0.15);\n",
              "      fill: #174EA6;\n",
              "    }\n",
              "\n",
              "    .colab-df-buttons div {\n",
              "      margin-bottom: 4px;\n",
              "    }\n",
              "\n",
              "    [theme=dark] .colab-df-convert {\n",
              "      background-color: #3B4455;\n",
              "      fill: #D2E3FC;\n",
              "    }\n",
              "\n",
              "    [theme=dark] .colab-df-convert:hover {\n",
              "      background-color: #434B5C;\n",
              "      box-shadow: 0px 1px 3px 1px rgba(0, 0, 0, 0.15);\n",
              "      filter: drop-shadow(0px 1px 2px rgba(0, 0, 0, 0.3));\n",
              "      fill: #FFFFFF;\n",
              "    }\n",
              "  </style>\n",
              "\n",
              "    <script>\n",
              "      const buttonEl =\n",
              "        document.querySelector('#df-311c81c0-6b47-49df-a5e0-6425cddc7cb6 button.colab-df-convert');\n",
              "      buttonEl.style.display =\n",
              "        google.colab.kernel.accessAllowed ? 'block' : 'none';\n",
              "\n",
              "      async function convertToInteractive(key) {\n",
              "        const element = document.querySelector('#df-311c81c0-6b47-49df-a5e0-6425cddc7cb6');\n",
              "        const dataTable =\n",
              "          await google.colab.kernel.invokeFunction('convertToInteractive',\n",
              "                                                    [key], {});\n",
              "        if (!dataTable) return;\n",
              "\n",
              "        const docLinkHtml = 'Like what you see? Visit the ' +\n",
              "          '<a target=\"_blank\" href=https://colab.research.google.com/notebooks/data_table.ipynb>data table notebook</a>'\n",
              "          + ' to learn more about interactive tables.';\n",
              "        element.innerHTML = '';\n",
              "        dataTable['output_type'] = 'display_data';\n",
              "        await google.colab.output.renderOutput(dataTable, element);\n",
              "        const docLink = document.createElement('div');\n",
              "        docLink.innerHTML = docLinkHtml;\n",
              "        element.appendChild(docLink);\n",
              "      }\n",
              "    </script>\n",
              "  </div>\n",
              "\n",
              "\n",
              "<div id=\"df-0e041498-04c3-43c0-b515-8def1333cb34\">\n",
              "  <button class=\"colab-df-quickchart\" onclick=\"quickchart('df-0e041498-04c3-43c0-b515-8def1333cb34')\"\n",
              "            title=\"Suggest charts.\"\n",
              "            style=\"display:none;\">\n",
              "\n",
              "<svg xmlns=\"http://www.w3.org/2000/svg\" height=\"24px\"viewBox=\"0 0 24 24\"\n",
              "     width=\"24px\">\n",
              "    <g>\n",
              "        <path d=\"M19 3H5c-1.1 0-2 .9-2 2v14c0 1.1.9 2 2 2h14c1.1 0 2-.9 2-2V5c0-1.1-.9-2-2-2zM9 17H7v-7h2v7zm4 0h-2V7h2v10zm4 0h-2v-4h2v4z\"/>\n",
              "    </g>\n",
              "</svg>\n",
              "  </button>\n",
              "\n",
              "<style>\n",
              "  .colab-df-quickchart {\n",
              "      --bg-color: #E8F0FE;\n",
              "      --fill-color: #1967D2;\n",
              "      --hover-bg-color: #E2EBFA;\n",
              "      --hover-fill-color: #174EA6;\n",
              "      --disabled-fill-color: #AAA;\n",
              "      --disabled-bg-color: #DDD;\n",
              "  }\n",
              "\n",
              "  [theme=dark] .colab-df-quickchart {\n",
              "      --bg-color: #3B4455;\n",
              "      --fill-color: #D2E3FC;\n",
              "      --hover-bg-color: #434B5C;\n",
              "      --hover-fill-color: #FFFFFF;\n",
              "      --disabled-bg-color: #3B4455;\n",
              "      --disabled-fill-color: #666;\n",
              "  }\n",
              "\n",
              "  .colab-df-quickchart {\n",
              "    background-color: var(--bg-color);\n",
              "    border: none;\n",
              "    border-radius: 50%;\n",
              "    cursor: pointer;\n",
              "    display: none;\n",
              "    fill: var(--fill-color);\n",
              "    height: 32px;\n",
              "    padding: 0;\n",
              "    width: 32px;\n",
              "  }\n",
              "\n",
              "  .colab-df-quickchart:hover {\n",
              "    background-color: var(--hover-bg-color);\n",
              "    box-shadow: 0 1px 2px rgba(60, 64, 67, 0.3), 0 1px 3px 1px rgba(60, 64, 67, 0.15);\n",
              "    fill: var(--button-hover-fill-color);\n",
              "  }\n",
              "\n",
              "  .colab-df-quickchart-complete:disabled,\n",
              "  .colab-df-quickchart-complete:disabled:hover {\n",
              "    background-color: var(--disabled-bg-color);\n",
              "    fill: var(--disabled-fill-color);\n",
              "    box-shadow: none;\n",
              "  }\n",
              "\n",
              "  .colab-df-spinner {\n",
              "    border: 2px solid var(--fill-color);\n",
              "    border-color: transparent;\n",
              "    border-bottom-color: var(--fill-color);\n",
              "    animation:\n",
              "      spin 1s steps(1) infinite;\n",
              "  }\n",
              "\n",
              "  @keyframes spin {\n",
              "    0% {\n",
              "      border-color: transparent;\n",
              "      border-bottom-color: var(--fill-color);\n",
              "      border-left-color: var(--fill-color);\n",
              "    }\n",
              "    20% {\n",
              "      border-color: transparent;\n",
              "      border-left-color: var(--fill-color);\n",
              "      border-top-color: var(--fill-color);\n",
              "    }\n",
              "    30% {\n",
              "      border-color: transparent;\n",
              "      border-left-color: var(--fill-color);\n",
              "      border-top-color: var(--fill-color);\n",
              "      border-right-color: var(--fill-color);\n",
              "    }\n",
              "    40% {\n",
              "      border-color: transparent;\n",
              "      border-right-color: var(--fill-color);\n",
              "      border-top-color: var(--fill-color);\n",
              "    }\n",
              "    60% {\n",
              "      border-color: transparent;\n",
              "      border-right-color: var(--fill-color);\n",
              "    }\n",
              "    80% {\n",
              "      border-color: transparent;\n",
              "      border-right-color: var(--fill-color);\n",
              "      border-bottom-color: var(--fill-color);\n",
              "    }\n",
              "    90% {\n",
              "      border-color: transparent;\n",
              "      border-bottom-color: var(--fill-color);\n",
              "    }\n",
              "  }\n",
              "</style>\n",
              "\n",
              "  <script>\n",
              "    async function quickchart(key) {\n",
              "      const quickchartButtonEl =\n",
              "        document.querySelector('#' + key + ' button');\n",
              "      quickchartButtonEl.disabled = true;  // To prevent multiple clicks.\n",
              "      quickchartButtonEl.classList.add('colab-df-spinner');\n",
              "      try {\n",
              "        const charts = await google.colab.kernel.invokeFunction(\n",
              "            'suggestCharts', [key], {});\n",
              "      } catch (error) {\n",
              "        console.error('Error during call to suggestCharts:', error);\n",
              "      }\n",
              "      quickchartButtonEl.classList.remove('colab-df-spinner');\n",
              "      quickchartButtonEl.classList.add('colab-df-quickchart-complete');\n",
              "    }\n",
              "    (() => {\n",
              "      let quickchartButtonEl =\n",
              "        document.querySelector('#df-0e041498-04c3-43c0-b515-8def1333cb34 button');\n",
              "      quickchartButtonEl.style.display =\n",
              "        google.colab.kernel.accessAllowed ? 'block' : 'none';\n",
              "    })();\n",
              "  </script>\n",
              "</div>\n",
              "    </div>\n",
              "  </div>\n"
            ]
          },
          "metadata": {},
          "execution_count": 16
        }
      ]
    },
    {
      "cell_type": "code",
      "source": [
        "df[\"category_1\"].value_counts()"
      ],
      "metadata": {
        "colab": {
          "base_uri": "https://localhost:8080/"
        },
        "id": "ANUaS8Fio7qL",
        "outputId": "f6a1ca92-ee1c-4b01-e5e8-64eef3a5b323"
      },
      "execution_count": 17,
      "outputs": [
        {
          "output_type": "execute_result",
          "data": {
            "text/plain": [
              "society                                      1100\n",
              "sport                                         907\n",
              "politics                                      900\n",
              "conflict, war and peace                       800\n",
              "religion and belief                           800\n",
              "science and technology                        800\n",
              "labour                                        703\n",
              "health                                        700\n",
              "education                                     607\n",
              "environment                                   600\n",
              "human interest                                600\n",
              "crime, law and justice                        500\n",
              "disaster, accident and emergency incident     500\n",
              "weather                                       400\n",
              "economy, business and finance                 400\n",
              "arts, culture, entertainment and media        300\n",
              "lifestyle and leisure                         300\n",
              "Name: category_1, dtype: int64"
            ]
          },
          "metadata": {},
          "execution_count": 17
        }
      ]
    },
    {
      "cell_type": "code",
      "source": [
        "X = df.content\n",
        "Y = df.category_1"
      ],
      "metadata": {
        "id": "KSd6K9UsaWLI"
      },
      "execution_count": 18,
      "outputs": []
    },
    {
      "cell_type": "code",
      "source": [
        "# x_train, x_val, y_train, y_val = train_test_split(df['content'], df['category_1'], shuffle=True, test_size = 0.2, random_state = 12342 , stratify=df['category_1'])\n",
        "# x_train, x_val, y_train, y_val = train_test_split(df['content'], df['category_1'], shuffle=True, test_size = 0.2, random_state = 12342 , stratify=df['category_1'])\n",
        "X_train, X_temp, y_train, y_temp = train_test_split(X,Y , shuffle=True, test_size = 0.2, random_state = 12342 , stratify=Y)\n",
        "\n",
        "# Then, split the temporary set into a validation set and a test set (50% for each)\n",
        "X_val, X_test, y_val, y_test = train_test_split(X_temp, y_temp, shuffle=True, test_size = 0.2, random_state = 12342 , stratify=y_temp)\n"
      ],
      "metadata": {
        "id": "X-H5na3Sod9-"
      },
      "execution_count": 19,
      "outputs": []
    },
    {
      "cell_type": "code",
      "source": [
        "print(X_train.shape)\n",
        "print(y_train.shape)\n",
        "print(X_val.shape)\n",
        "print(y_val.shape)\n",
        "print(X_test.shape)\n",
        "print(y_test.shape)"
      ],
      "metadata": {
        "colab": {
          "base_uri": "https://localhost:8080/"
        },
        "id": "8eiVWK-oap7T",
        "outputId": "bfbdb1a3-7e5c-46c7-8865-44b525edd1be"
      },
      "execution_count": 20,
      "outputs": [
        {
          "output_type": "stream",
          "name": "stdout",
          "text": [
            "(8733,)\n",
            "(8733,)\n",
            "(1747,)\n",
            "(1747,)\n",
            "(437,)\n",
            "(437,)\n"
          ]
        }
      ]
    },
    {
      "cell_type": "code",
      "source": [
        "x_train = X_train.values\n",
        "x_val = X_val.values\n",
        "y_train = y_train.values\n",
        "y_val = y_val.values\n",
        "x_test = X_test.values\n",
        "y_test = y_test.values"
      ],
      "metadata": {
        "id": "FgZ5gXsMqpI_"
      },
      "execution_count": 21,
      "outputs": []
    },
    {
      "cell_type": "code",
      "source": [
        "(x_train_bert,  y_train_bert), (x_val_bert, y_val_bert), preproc = text.texts_from_array(x_train=x_train, y_train=y_train,\n",
        "                                                                                         x_test = x_val, y_test=y_val,\n",
        "                                                                                          class_names= [\"0\", \"1\",\"2\", \"3\",\"4\", \"5\",\"6\", \"7\",\"8\", \"9\",\"10\", \"11\",\"12\", \"13\",\"14\", \"15\",\"16\"],\n",
        "                                                                                          preprocess_mode='bert',\n",
        "                                                                                          lang = 'en',\n",
        "                                                                                          maxlen=65,\n",
        "                                                                                          max_features=35000)"
      ],
      "metadata": {
        "colab": {
          "base_uri": "https://localhost:8080/",
          "height": 191
        },
        "id": "RAYCz1xoo05G",
        "outputId": "d0ae3924-e05e-4819-b851-d35d3cdd9084"
      },
      "execution_count": 22,
      "outputs": [
        {
          "output_type": "stream",
          "name": "stdout",
          "text": [
            "preprocessing train...\n",
            "language: en\n"
          ]
        },
        {
          "output_type": "display_data",
          "data": {
            "text/plain": [
              "<IPython.core.display.HTML object>"
            ],
            "text/html": [
              "\n",
              "<style>\n",
              "    /* Turns off some styling */\n",
              "    progress {\n",
              "        /* gets rid of default border in Firefox and Opera. */\n",
              "        border: none;\n",
              "        /* Needs to be in here for Safari polyfill so background images work as expected. */\n",
              "        background-size: auto;\n",
              "    }\n",
              "    progress:not([value]), progress:not([value])::-webkit-progress-bar {\n",
              "        background: repeating-linear-gradient(45deg, #7e7e7e, #7e7e7e 10px, #5c5c5c 10px, #5c5c5c 20px);\n",
              "    }\n",
              "    .progress-bar-interrupted, .progress-bar-interrupted::-webkit-progress-bar {\n",
              "        background: #F44336;\n",
              "    }\n",
              "</style>\n"
            ]
          },
          "metadata": {}
        },
        {
          "output_type": "display_data",
          "data": {
            "text/plain": [
              "<IPython.core.display.HTML object>"
            ],
            "text/html": [
              "done."
            ]
          },
          "metadata": {}
        },
        {
          "output_type": "stream",
          "name": "stdout",
          "text": [
            "Is Multi-Label? False\n",
            "preprocessing test...\n",
            "language: en\n"
          ]
        },
        {
          "output_type": "stream",
          "name": "stderr",
          "text": [
            "/usr/local/lib/python3.10/dist-packages/ktrain/utils.py:744: UserWarning: class_names argument was ignored, as they were extracted from string labels in dataset\n",
            "  warnings.warn(\n"
          ]
        },
        {
          "output_type": "display_data",
          "data": {
            "text/plain": [
              "<IPython.core.display.HTML object>"
            ],
            "text/html": [
              "\n",
              "<style>\n",
              "    /* Turns off some styling */\n",
              "    progress {\n",
              "        /* gets rid of default border in Firefox and Opera. */\n",
              "        border: none;\n",
              "        /* Needs to be in here for Safari polyfill so background images work as expected. */\n",
              "        background-size: auto;\n",
              "    }\n",
              "    progress:not([value]), progress:not([value])::-webkit-progress-bar {\n",
              "        background: repeating-linear-gradient(45deg, #7e7e7e, #7e7e7e 10px, #5c5c5c 10px, #5c5c5c 20px);\n",
              "    }\n",
              "    .progress-bar-interrupted, .progress-bar-interrupted::-webkit-progress-bar {\n",
              "        background: #F44336;\n",
              "    }\n",
              "</style>\n"
            ]
          },
          "metadata": {}
        },
        {
          "output_type": "display_data",
          "data": {
            "text/plain": [
              "<IPython.core.display.HTML object>"
            ],
            "text/html": [
              "done."
            ]
          },
          "metadata": {}
        },
        {
          "output_type": "stream",
          "name": "stdout",
          "text": [
            "task: text classification\n"
          ]
        }
      ]
    },
    {
      "cell_type": "code",
      "source": [
        "model = text.text_classifier('bert', train_data=(x_train_bert, y_train_bert), preproc=preproc)\n",
        "learner = ktrain.get_learner(model, train_data=(x_train_bert, y_train_bert), val_data=(x_val_bert, y_val_bert), batch_size=16)"
      ],
      "metadata": {
        "colab": {
          "base_uri": "https://localhost:8080/"
        },
        "id": "WMrTS3JIo092",
        "outputId": "d45e873f-6279-4fba-8bf4-78a4b2750690"
      },
      "execution_count": 23,
      "outputs": [
        {
          "output_type": "stream",
          "name": "stdout",
          "text": [
            "Is Multi-Label? False\n",
            "maxlen is 65\n"
          ]
        },
        {
          "output_type": "stream",
          "name": "stderr",
          "text": [
            "/usr/local/lib/python3.10/dist-packages/keras/src/initializers/initializers.py:120: UserWarning: The initializer GlorotNormal is unseeded and being called multiple times, which will return identical values each time (even if the initializer is unseeded). Please update your code to provide a seed to the initializer, or avoid using the same initializer instance more than once.\n",
            "  warnings.warn(\n"
          ]
        },
        {
          "output_type": "stream",
          "name": "stdout",
          "text": [
            "done.\n"
          ]
        }
      ]
    },
    {
      "cell_type": "code",
      "source": [
        "learner.lr_find()             # briefly simulate training to find good learning rate\n",
        ""
      ],
      "metadata": {
        "colab": {
          "base_uri": "https://localhost:8080/"
        },
        "id": "D7AgDYzio1Bb",
        "outputId": "3bcfd6aa-1026-4635-88e2-0af011318fcb"
      },
      "execution_count": 12,
      "outputs": [
        {
          "metadata": {
            "tags": null
          },
          "name": "stdout",
          "output_type": "stream",
          "text": [
            "simulating training for different learning rates... this may take a few moments...\n"
          ]
        },
        {
          "metadata": {
            "tags": null
          },
          "name": "stderr",
          "output_type": "stream",
          "text": [
            "/usr/local/lib/python3.10/dist-packages/keras/src/engine/training.py:3079: UserWarning: You are saving your model as an HDF5 file via `model.save()`. This file format is considered legacy. We recommend using instead the native Keras format, e.g. `model.save('my_model.keras')`.\n",
            "  saving_api.save_model(\n"
          ]
        },
        {
          "output_type": "stream",
          "name": "stdout",
          "text": [
            "Epoch 1/1024\n",
            "546/546 [==============================] - 162s 250ms/step - loss: 2.7326 - accuracy: 0.1896\n",
            "Epoch 2/1024\n",
            "546/546 [==============================] - 141s 258ms/step - loss: 2.2443 - accuracy: 0.3718\n",
            "Epoch 3/1024\n",
            "546/546 [==============================] - 27s 50ms/step - loss: 7.4015 - accuracy: 0.0666\n",
            "\n",
            "\n",
            "done.\n",
            "Please invoke the Learner.lr_plot() method to visually inspect the loss plot to help identify the maximal learning rate associated with falling loss.\n"
          ]
        }
      ]
    },
    {
      "cell_type": "code",
      "source": [
        "learner.lr_plot()"
      ],
      "metadata": {
        "colab": {
          "base_uri": "https://localhost:8080/",
          "height": 454
        },
        "id": "yZbfOrhmo1EG",
        "outputId": "48964597-747c-4830-bfd7-6dcab8958710"
      },
      "execution_count": 13,
      "outputs": [
        {
          "output_type": "display_data",
          "data": {
            "text/plain": [
              "<Figure size 640x480 with 1 Axes>"
            ],
            "image/png": "[encoded data removed]"
          },
          "metadata": {}
        }
      ]
    },
    {
      "cell_type": "code",
      "source": [
        "learner.autofit(1e-4)"
      ],
      "metadata": {
        "colab": {
          "base_uri": "https://localhost:8080/"
        },
        "id": "ySwlrk2do1Gg",
        "outputId": "c622b946-bf29-44e4-bf79-3caec5e974d2"
      },
      "execution_count": 14,
      "outputs": [
        {
          "output_type": "stream",
          "name": "stdout",
          "text": [
            "early_stopping automatically enabled at patience=5\n",
            "reduce_on_plateau automatically enabled at patience=2\n",
            "\n",
            "\n",
            "begin training using triangular learning rate policy with max lr of 0.0001...\n",
            "Epoch 1/1024\n",
            "546/546 [==============================] - 184s 293ms/step - loss: 1.3800 - accuracy: 0.5934 - val_loss: 0.9618 - val_accuracy: 0.7270\n",
            "Epoch 2/1024\n",
            "546/546 [==============================] - 151s 277ms/step - loss: 0.7349 - accuracy: 0.7827 - val_loss: 0.9209 - val_accuracy: 0.7310\n",
            "Epoch 3/1024\n",
            "546/546 [==============================] - 152s 279ms/step - loss: 0.4952 - accuracy: 0.8603 - val_loss: 0.9688 - val_accuracy: 0.7453\n",
            "Epoch 4/1024\n",
            "546/546 [==============================] - ETA: 0s - loss: 0.3503 - accuracy: 0.8999\n",
            "Epoch 00004: Reducing Max LR on Plateau: new max lr will be 5e-05 (if not early_stopping).\n",
            "546/546 [==============================] - 152s 279ms/step - loss: 0.3503 - accuracy: 0.8999 - val_loss: 1.0960 - val_accuracy: 0.7218\n",
            "Epoch 5/1024\n",
            "546/546 [==============================] - 153s 280ms/step - loss: 0.1772 - accuracy: 0.9518 - val_loss: 1.1982 - val_accuracy: 0.7293\n",
            "Epoch 6/1024\n",
            "546/546 [==============================] - ETA: 0s - loss: 0.1182 - accuracy: 0.9667\n",
            "Epoch 00006: Reducing Max LR on Plateau: new max lr will be 2.5e-05 (if not early_stopping).\n",
            "546/546 [==============================] - 152s 279ms/step - loss: 0.1182 - accuracy: 0.9667 - val_loss: 1.2410 - val_accuracy: 0.7418\n",
            "Epoch 7/1024\n",
            "546/546 [==============================] - ETA: 0s - loss: 0.0699 - accuracy: 0.9793Restoring model weights from the end of the best epoch: 2.\n",
            "546/546 [==============================] - 152s 279ms/step - loss: 0.0699 - accuracy: 0.9793 - val_loss: 1.3005 - val_accuracy: 0.7396\n",
            "Epoch 7: early stopping\n",
            "Weights from best epoch have been loaded into model.\n"
          ]
        },
        {
          "output_type": "execute_result",
          "data": {
            "text/plain": [
              "<keras.src.callbacks.History at 0x78ae2a153ca0>"
            ]
          },
          "metadata": {},
          "execution_count": 14
        }
      ]
    },
    {
      "cell_type": "code",
      "source": [
        "learner.validate(val_data=(x_val_bert, y_val_bert), class_names=[\"society\", \"sport\", \"politics\" , \"conflict, war and peace\" , \"religion and belief\" , \"science and technology\" , \"labour\" ,\n",
        "                                                                                                        \"health\", \"education\", \"environment\", \"human interest\" , \"crime, law and justice\" , \"disaster, accident and emergency incident\" ,\n",
        "                                                                                                        \"weather\" , \"economy, business and finance\" , \"arts, culture, entertainment and media\" , \"lifestyle and leisure\"])"
      ],
      "metadata": {
        "colab": {
          "base_uri": "https://localhost:8080/"
        },
        "id": "ePasA0p1p3RP",
        "outputId": "ca9a0895-3666-4628-a248-e0246c4aea5b"
      },
      "execution_count": 15,
      "outputs": [
        {
          "output_type": "stream",
          "name": "stdout",
          "text": [
            "55/55 [==============================] - 13s 146ms/step\n",
            "                                           precision    recall  f1-score   support\n",
            "\n",
            "                                  society       0.58      0.54      0.56        48\n",
            "                                    sport       0.81      0.81      0.81       128\n",
            "                                 politics       0.76      0.71      0.74        80\n",
            "                  conflict, war and peace       0.63      0.66      0.65        80\n",
            "                      religion and belief       0.68      0.69      0.68        64\n",
            "                   science and technology       0.74      0.67      0.70        97\n",
            "                                   labour       0.86      0.82      0.84        96\n",
            "                                   health       0.78      0.88      0.83       112\n",
            "                                education       0.72      0.71      0.72        96\n",
            "                              environment       0.80      0.84      0.82       113\n",
            "                           human interest       0.78      0.81      0.80        48\n",
            "                   crime, law and justice       0.55      0.62      0.58       144\n",
            "disaster, accident and emergency incident       0.70      0.73      0.71       128\n",
            "                                  weather       0.67      0.62      0.64       128\n",
            "            economy, business and finance       0.69      0.65      0.67       176\n",
            "   arts, culture, entertainment and media       0.85      0.88      0.87       145\n",
            "                    lifestyle and leisure       0.87      0.70      0.78        64\n",
            "\n",
            "                                 accuracy                           0.73      1747\n",
            "                                macro avg       0.73      0.73      0.73      1747\n",
            "                             weighted avg       0.73      0.73      0.73      1747\n",
            "\n"
          ]
        },
        {
          "output_type": "execute_result",
          "data": {
            "text/plain": [
              "array([[ 26,   0,   2,   0,   0,   1,   1,   0,   3,   1,   0,   4,   1,\n",
              "          2,   6,   1,   0],\n",
              "       [  0, 104,   0,   0,   1,   0,   2,   2,   0,   1,   0,  12,   5,\n",
              "          0,   1,   0,   0],\n",
              "       [  0,   1,  57,   1,   1,   0,   0,   1,   0,   0,   0,   9,   2,\n",
              "          5,   3,   0,   0],\n",
              "       [  0,   1,   3,  53,   1,   0,   4,   1,   1,   0,   0,   4,   2,\n",
              "          0,   3,   0,   7],\n",
              "       [  0,   2,   1,   2,  44,   0,   1,   0,   0,   5,   0,   8,   0,\n",
              "          1,   0,   0,   0],\n",
              "       [  1,   1,   2,   1,   0,  65,   0,   0,   1,   3,   0,   1,   9,\n",
              "          2,   9,   2,   0],\n",
              "       [  0,   1,   0,   2,   2,   0,  79,   0,   5,   0,   0,   0,   1,\n",
              "          4,   2,   0,   0],\n",
              "       [  1,   0,   1,   1,   0,   1,   0,  99,   1,   2,   0,   3,   1,\n",
              "          1,   1,   0,   0],\n",
              "       [  0,   1,   0,   0,   3,   1,   2,   2,  68,   0,   1,   0,   2,\n",
              "          6,   5,   5,   0],\n",
              "       [  1,   0,   0,   0,   3,   3,   0,   1,   0,  95,   1,   3,   0,\n",
              "          1,   5,   0,   0],\n",
              "       [  1,   0,   0,   0,   0,   0,   1,   0,   1,   0,  39,   0,   1,\n",
              "          1,   1,   3,   0],\n",
              "       [  4,  10,   4,   3,   4,   0,   2,   4,   2,   4,   0,  89,   4,\n",
              "          6,   4,   4,   0],\n",
              "       [  4,   4,   2,   2,   1,   5,   0,   1,   1,   0,   0,  12,  93,\n",
              "          0,   3,   0,   0],\n",
              "       [  2,   4,   1,   1,   5,   5,   0,  12,   2,   3,   0,   6,   0,\n",
              "         79,   7,   1,   0],\n",
              "       [  4,   0,   2,   1,   0,   7,   0,   4,   6,   5,   1,  10,  10,\n",
              "          7, 114,   5,   0],\n",
              "       [  1,   0,   0,   0,   0,   0,   0,   0,   3,   0,   8,   0,   2,\n",
              "          3,   0, 128,   0],\n",
              "       [  0,   0,   0,  17,   0,   0,   0,   0,   0,   0,   0,   0,   0,\n",
              "          0,   1,   1,  45]])"
            ]
          },
          "metadata": {},
          "execution_count": 15
        }
      ]
    },
    {
      "cell_type": "code",
      "source": [],
      "metadata": {
        "id": "7bFlwRSFjWrY"
      },
      "execution_count": 19,
      "outputs": []
    },
    {
      "cell_type": "code",
      "source": [
        "# getting predictor variable\n",
        "predictor = ktrain.get_predictor(learner.model, preproc)"
      ],
      "metadata": {
        "id": "B8xUk-cOp3T2"
      },
      "execution_count": 16,
      "outputs": []
    },
    {
      "cell_type": "code",
      "source": [
        "learner.print_layers()"
      ],
      "metadata": {
        "colab": {
          "base_uri": "https://localhost:8080/"
        },
        "id": "C-ZQHt2sp3WY",
        "outputId": "dcb050e2-e183-4504-ae0c-7f22ba3cd7f8"
      },
      "execution_count": 17,
      "outputs": [
        {
          "output_type": "stream",
          "name": "stdout",
          "text": [
            "0 (trainable=True) : <keras.src.engine.input_layer.InputLayer object at 0x78aec1944190>\n",
            "1 (trainable=True) : <keras.src.engine.input_layer.InputLayer object at 0x78aec1945300>\n",
            "2 (trainable=True) : <keras_bert.layers.embedding.TokenEmbedding object at 0x78aec1945780>\n",
            "3 (trainable=True) : <keras.src.layers.core.embedding.Embedding object at 0x78aec19444f0>\n",
            "4 (trainable=True) : <keras.src.layers.merging.add.Add object at 0x78aec1945b40>\n",
            "5 (trainable=True) : <keras_pos_embd.pos_embd.PositionEmbedding object at 0x78aec19443a0>\n",
            "6 (trainable=True) : <keras.src.layers.regularization.dropout.Dropout object at 0x78aec1944d00>\n",
            "7 (trainable=True) : <keras_layer_normalization.layer_normalization.LayerNormalization object at 0x78aec1946b30>\n",
            "8 (trainable=True) : <keras_multi_head.multi_head_attention.MultiHeadAttention object at 0x78aec1944490>\n",
            "9 (trainable=True) : <keras.src.layers.regularization.dropout.Dropout object at 0x78aec1945630>\n",
            "10 (trainable=True) : <keras.src.layers.merging.add.Add object at 0x78aec1947340>\n",
            "11 (trainable=True) : <keras_layer_normalization.layer_normalization.LayerNormalization object at 0x78aec1946e30>\n",
            "12 (trainable=True) : <keras_position_wise_feed_forward.feed_forward.FeedForward object at 0x78aec1946e00>\n",
            "13 (trainable=True) : <keras.src.layers.regularization.dropout.Dropout object at 0x78aec1944e50>\n",
            "14 (trainable=True) : <keras.src.layers.merging.add.Add object at 0x78aec1947700>\n",
            "15 (trainable=True) : <keras_layer_normalization.layer_normalization.LayerNormalization object at 0x78aec19445e0>\n",
            "16 (trainable=True) : <keras_multi_head.multi_head_attention.MultiHeadAttention object at 0x78aec1944f40>\n",
            "17 (trainable=True) : <keras.src.layers.regularization.dropout.Dropout object at 0x78aec1946ec0>\n",
            "18 (trainable=True) : <keras.src.layers.merging.add.Add object at 0x78aec18c5ab0>\n",
            "19 (trainable=True) : <keras_layer_normalization.layer_normalization.LayerNormalization object at 0x78aec18c5d50>\n",
            "20 (trainable=True) : <keras_position_wise_feed_forward.feed_forward.FeedForward object at 0x78aec18c6830>\n",
            "21 (trainable=True) : <keras.src.layers.regularization.dropout.Dropout object at 0x78aec18c6b90>\n",
            "22 (trainable=True) : <keras.src.layers.merging.add.Add object at 0x78aec18c6b60>\n",
            "23 (trainable=True) : <keras_layer_normalization.layer_normalization.LayerNormalization object at 0x78aec18c44c0>\n",
            "24 (trainable=True) : <keras_multi_head.multi_head_attention.MultiHeadAttention object at 0x78aec18c6aa0>\n",
            "25 (trainable=True) : <keras.src.layers.regularization.dropout.Dropout object at 0x78aec18c6560>\n",
            "26 (trainable=True) : <keras.src.layers.merging.add.Add object at 0x78aec18c4be0>\n",
            "27 (trainable=True) : <keras_layer_normalization.layer_normalization.LayerNormalization object at 0x78aec18c64d0>\n",
            "28 (trainable=True) : <keras_position_wise_feed_forward.feed_forward.FeedForward object at 0x78aec18c4c70>\n",
            "29 (trainable=True) : <keras.src.layers.regularization.dropout.Dropout object at 0x78aec18c6440>\n",
            "30 (trainable=True) : <keras.src.layers.merging.add.Add object at 0x78aec18c71c0>\n",
            "31 (trainable=True) : <keras_layer_normalization.layer_normalization.LayerNormalization object at 0x78aec18c7370>\n",
            "32 (trainable=True) : <keras_multi_head.multi_head_attention.MultiHeadAttention object at 0x78aec18c7910>\n",
            "33 (trainable=True) : <keras.src.layers.regularization.dropout.Dropout object at 0x78aec18c7e50>\n",
            "34 (trainable=True) : <keras.src.layers.merging.add.Add object at 0x78aec18faf50>\n",
            "35 (trainable=True) : <keras_layer_normalization.layer_normalization.LayerNormalization object at 0x78aec19445b0>\n",
            "36 (trainable=True) : <keras_position_wise_feed_forward.feed_forward.FeedForward object at 0x78aec18fbdc0>\n",
            "37 (trainable=True) : <keras.src.layers.regularization.dropout.Dropout object at 0x78aec18fb730>\n",
            "38 (trainable=True) : <keras.src.layers.merging.add.Add object at 0x78aec18fba00>\n",
            "39 (trainable=True) : <keras_layer_normalization.layer_normalization.LayerNormalization object at 0x78aec18faa40>\n",
            "40 (trainable=True) : <keras_multi_head.multi_head_attention.MultiHeadAttention object at 0x78aec18f9540>\n",
            "41 (trainable=True) : <keras.src.layers.regularization.dropout.Dropout object at 0x78aec18fa890>\n",
            "42 (trainable=True) : <keras.src.layers.merging.add.Add object at 0x78aec18f9360>\n",
            "43 (trainable=True) : <keras_layer_normalization.layer_normalization.LayerNormalization object at 0x78aec18fa740>\n",
            "44 (trainable=True) : <keras_position_wise_feed_forward.feed_forward.FeedForward object at 0x78aec18f9ea0>\n",
            "45 (trainable=True) : <keras.src.layers.regularization.dropout.Dropout object at 0x78aec18f85e0>\n",
            "46 (trainable=True) : <keras.src.layers.merging.add.Add object at 0x78aec18f8400>\n",
            "47 (trainable=True) : <keras_layer_normalization.layer_normalization.LayerNormalization object at 0x78aec18f80a0>\n",
            "48 (trainable=True) : <keras_multi_head.multi_head_attention.MultiHeadAttention object at 0x78aec19ebd30>\n",
            "49 (trainable=True) : <keras.src.layers.regularization.dropout.Dropout object at 0x78aec19eb820>\n",
            "50 (trainable=True) : <keras.src.layers.merging.add.Add object at 0x78aec19eb760>\n",
            "51 (trainable=True) : <keras_layer_normalization.layer_normalization.LayerNormalization object at 0x78aec19eb550>\n",
            "52 (trainable=True) : <keras_position_wise_feed_forward.feed_forward.FeedForward object at 0x78aec19eaa40>\n",
            "53 (trainable=True) : <keras.src.layers.regularization.dropout.Dropout object at 0x78aec19453f0>\n",
            "54 (trainable=True) : <keras.src.layers.merging.add.Add object at 0x78ae2b12dff0>\n",
            "55 (trainable=True) : <keras_layer_normalization.layer_normalization.LayerNormalization object at 0x78ae2b12ffa0>\n",
            "56 (trainable=True) : <keras_multi_head.multi_head_attention.MultiHeadAttention object at 0x78ae2b12fb20>\n",
            "57 (trainable=True) : <keras.src.layers.regularization.dropout.Dropout object at 0x78ae2b12f700>\n",
            "58 (trainable=True) : <keras.src.layers.merging.add.Add object at 0x78ae2b12f3d0>\n",
            "59 (trainable=True) : <keras_layer_normalization.layer_normalization.LayerNormalization object at 0x78ae2b12f310>\n",
            "60 (trainable=True) : <keras_position_wise_feed_forward.feed_forward.FeedForward object at 0x78ae2b12ee90>\n",
            "61 (trainable=True) : <keras.src.layers.regularization.dropout.Dropout object at 0x78ae2b12ead0>\n",
            "62 (trainable=True) : <keras.src.layers.merging.add.Add object at 0x78ae2b12e7a0>\n",
            "63 (trainable=True) : <keras_layer_normalization.layer_normalization.LayerNormalization object at 0x78ae2b12e6e0>\n",
            "64 (trainable=True) : <keras_multi_head.multi_head_attention.MultiHeadAttention object at 0x78ae2b12e260>\n",
            "65 (trainable=True) : <keras.src.layers.regularization.dropout.Dropout object at 0x78ae2b12c220>\n",
            "66 (trainable=True) : <keras.src.layers.merging.add.Add object at 0x78ae2b12c550>\n",
            "67 (trainable=True) : <keras_layer_normalization.layer_normalization.LayerNormalization object at 0x78ae2b12c610>\n",
            "68 (trainable=True) : <keras_position_wise_feed_forward.feed_forward.FeedForward object at 0x78ae2b176170>\n",
            "69 (trainable=True) : <keras.src.layers.regularization.dropout.Dropout object at 0x78ae2b1759f0>\n",
            "70 (trainable=True) : <keras.src.layers.merging.add.Add object at 0x78ae2b175390>\n",
            "71 (trainable=True) : <keras_layer_normalization.layer_normalization.LayerNormalization object at 0x78ae2b175210>\n",
            "72 (trainable=True) : <keras_multi_head.multi_head_attention.MultiHeadAttention object at 0x78ae2b174910>\n",
            "73 (trainable=True) : <keras.src.layers.regularization.dropout.Dropout object at 0x78ae2b1740d0>\n",
            "74 (trainable=True) : <keras.src.layers.merging.add.Add object at 0x78ae2b1762c0>\n",
            "75 (trainable=True) : <keras_layer_normalization.layer_normalization.LayerNormalization object at 0x78ae2b176140>\n",
            "76 (trainable=True) : <keras_position_wise_feed_forward.feed_forward.FeedForward object at 0x78ae2b175840>\n",
            "77 (trainable=True) : <keras.src.layers.regularization.dropout.Dropout object at 0x78ae2b1750c0>\n",
            "78 (trainable=True) : <keras.src.layers.merging.add.Add object at 0x78ae2b174a60>\n",
            "79 (trainable=True) : <keras_layer_normalization.layer_normalization.LayerNormalization object at 0x78ae2b1748e0>\n",
            "80 (trainable=True) : <keras_multi_head.multi_head_attention.MultiHeadAttention object at 0x78ae2b1768c0>\n",
            "81 (trainable=True) : <keras.src.layers.regularization.dropout.Dropout object at 0x78ae2b176ce0>\n",
            "82 (trainable=True) : <keras.src.layers.merging.add.Add object at 0x78ae2b177010>\n",
            "83 (trainable=True) : <keras_layer_normalization.layer_normalization.LayerNormalization object at 0x78ae2b1770d0>\n",
            "84 (trainable=True) : <keras_position_wise_feed_forward.feed_forward.FeedForward object at 0x78ae2b177550>\n",
            "85 (trainable=True) : <keras.src.layers.regularization.dropout.Dropout object at 0x78ae2b177910>\n",
            "86 (trainable=True) : <keras.src.layers.merging.add.Add object at 0x78ae2b177c40>\n",
            "87 (trainable=True) : <keras_layer_normalization.layer_normalization.LayerNormalization object at 0x78ae2b177d00>\n",
            "88 (trainable=True) : <keras_multi_head.multi_head_attention.MultiHeadAttention object at 0x78aec1944e80>\n",
            "89 (trainable=True) : <keras.src.layers.regularization.dropout.Dropout object at 0x78ae2b17c5e0>\n",
            "90 (trainable=True) : <keras.src.layers.merging.add.Add object at 0x78ae2b17c910>\n",
            "91 (trainable=True) : <keras_layer_normalization.layer_normalization.LayerNormalization object at 0x78ae2b17c9d0>\n",
            "92 (trainable=True) : <keras_position_wise_feed_forward.feed_forward.FeedForward object at 0x78ae2b17ce50>\n",
            "93 (trainable=True) : <keras.src.layers.regularization.dropout.Dropout object at 0x78ae2b17d210>\n",
            "94 (trainable=True) : <keras.src.layers.merging.add.Add object at 0x78ae2b17d540>\n",
            "95 (trainable=True) : <keras_layer_normalization.layer_normalization.LayerNormalization object at 0x78ae2b17d600>\n",
            "96 (trainable=True) : <keras_multi_head.multi_head_attention.MultiHeadAttention object at 0x78ae2b17da80>\n",
            "97 (trainable=True) : <keras.src.layers.regularization.dropout.Dropout object at 0x78ae2b17dea0>\n",
            "98 (trainable=True) : <keras.src.layers.merging.add.Add object at 0x78ae2b17e1d0>\n",
            "99 (trainable=True) : <keras_layer_normalization.layer_normalization.LayerNormalization object at 0x78ae2b17e290>\n",
            "100 (trainable=True) : <keras_position_wise_feed_forward.feed_forward.FeedForward object at 0x78ae2b17e710>\n",
            "101 (trainable=True) : <keras.src.layers.regularization.dropout.Dropout object at 0x78ae2b17ead0>\n",
            "102 (trainable=True) : <keras.src.layers.merging.add.Add object at 0x78ae2b17ee00>\n",
            "103 (trainable=True) : <keras_layer_normalization.layer_normalization.LayerNormalization object at 0x78ae2b17eec0>\n",
            "104 (trainable=True) : <keras_bert.layers.extract.Extract object at 0x78ae2b17f3d0>\n",
            "105 (trainable=True) : <keras.src.layers.core.dense.Dense object at 0x78ae2b17f490>\n",
            "106 (trainable=True) : <keras.src.layers.core.dense.Dense object at 0x78ae2b17f6a0>\n"
          ]
        }
      ]
    },
    {
      "cell_type": "code",
      "source": [],
      "metadata": {
        "id": "blzyJu_JbQyA"
      },
      "execution_count": null,
      "outputs": []
    },
    {
      "cell_type": "code",
      "source": [
        "y_pred = predictor.predict(x_test.tolist())\n"
      ],
      "metadata": {
        "id": "OpK7Sw8bp3Yy"
      },
      "execution_count": 18,
      "outputs": []
    },
    {
      "cell_type": "code",
      "source": [
        "from sklearn.metrics import classification_report\n",
        "from sklearn.metrics import accuracy_score\n",
        "\n",
        "def compute_classification_report(true_labels_column, predicted_labels_column):\n",
        "    # y_true = sampled_df[true_labels_column]\n",
        "    # y_pred = sampled_df[predicted_labels_column]\n",
        "    report = classification_report(true_labels_column, predicted_labels_column)\n",
        "    # print(predicted_labels_column)\n",
        "    print(report)\n",
        "    accuracy = accuracy_score(true_labels_column, predicted_labels_column)\n",
        "    return accuracy"
      ],
      "metadata": {
        "id": "w2piDZITp3bP"
      },
      "execution_count": 19,
      "outputs": []
    },
    {
      "cell_type": "code",
      "source": [
        "compute_classification_report(y_test , y_pred)"
      ],
      "metadata": {
        "colab": {
          "base_uri": "https://localhost:8080/"
        },
        "id": "uLg_3ZFyp3f2",
        "outputId": "caf2e373-1c4d-427b-c68d-b308ee1d322b"
      },
      "execution_count": 23,
      "outputs": [
        {
          "output_type": "stream",
          "name": "stdout",
          "text": [
            "['health', 'human interest', 'economy, business and finance', 'crime, law and justice', 'education', 'labour', 'education', 'education', 'economy, business and finance', 'human interest', 'arts, culture, entertainment and media', 'sport', 'education', 'science and technology', 'conflict, war and peace', 'sport', 'labour', 'science and technology', 'economy, business and finance', 'environment', 'crime, law and justice', 'crime, law and justice', 'politics', 'religion and belief', 'religion and belief', 'society', 'labour', 'politics', 'society', 'education', 'environment', 'health', 'society', 'religion and belief', 'arts, culture, entertainment and media', 'health', 'religion and belief', 'sport', 'crime, law and justice', 'sport', 'health', 'crime, law and justice', 'health', 'society', 'society', 'politics', 'politics', 'conflict, war and peace', 'society', 'politics', 'labour', 'health', 'disaster, accident and emergency incident', 'religion and belief', 'labour', 'lifestyle and leisure', 'politics', 'environment', 'politics', 'human interest', 'economy, business and finance', 'politics', 'education', 'weather', 'human interest', 'politics', 'science and technology', 'religion and belief', 'crime, law and justice', 'human interest', 'science and technology', 'weather', 'weather', 'economy, business and finance', 'sport', 'health', 'politics', 'environment', 'health', 'economy, business and finance', 'human interest', 'religion and belief', 'environment', 'society', 'religion and belief', 'society', 'sport', 'human interest', 'human interest', 'disaster, accident and emergency incident', 'crime, law and justice', 'politics', 'labour', 'religion and belief', 'crime, law and justice', 'labour', 'science and technology', 'sport', 'politics', 'conflict, war and peace', 'sport', 'economy, business and finance', 'sport', 'economy, business and finance', 'religion and belief', 'labour', 'disaster, accident and emergency incident', 'religion and belief', 'disaster, accident and emergency incident', 'education', 'disaster, accident and emergency incident', 'society', 'economy, business and finance', 'human interest', 'sport', 'sport', 'sport', 'education', 'human interest', 'society', 'sport', 'crime, law and justice', 'health', 'religion and belief', 'science and technology', 'science and technology', 'society', 'arts, culture, entertainment and media', 'education', 'environment', 'science and technology', 'society', 'environment', 'health', 'science and technology', 'crime, law and justice', 'politics', 'politics', 'science and technology', 'disaster, accident and emergency incident', 'religion and belief', 'human interest', 'science and technology', 'health', 'society', 'disaster, accident and emergency incident', 'labour', 'weather', 'crime, law and justice', 'sport', 'society', 'politics', 'sport', 'politics', 'environment', 'society', 'conflict, war and peace', 'arts, culture, entertainment and media', 'religion and belief', 'disaster, accident and emergency incident', 'politics', 'disaster, accident and emergency incident', 'environment', 'arts, culture, entertainment and media', 'religion and belief', 'religion and belief', 'conflict, war and peace', 'conflict, war and peace', 'conflict, war and peace', 'politics', 'labour', 'economy, business and finance', 'labour', 'weather', 'sport', 'crime, law and justice', 'disaster, accident and emergency incident', 'religion and belief', 'society', 'crime, law and justice', 'society', 'health', 'society', 'politics', 'religion and belief', 'society', 'environment', 'sport', 'society', 'religion and belief', 'politics', 'conflict, war and peace', 'arts, culture, entertainment and media', 'disaster, accident and emergency incident', 'labour', 'labour', 'conflict, war and peace', 'human interest', 'conflict, war and peace', 'disaster, accident and emergency incident', 'politics', 'weather', 'economy, business and finance', 'conflict, war and peace', 'crime, law and justice', 'sport', 'arts, culture, entertainment and media', 'economy, business and finance', 'environment', 'religion and belief', 'religion and belief', 'sport', 'education', 'weather', 'sport', 'crime, law and justice', 'human interest', 'weather', 'health', 'health', 'environment', 'sport', 'environment', 'conflict, war and peace', 'education', 'human interest', 'health', 'politics', 'religion and belief', 'disaster, accident and emergency incident', 'environment', 'conflict, war and peace', 'sport', 'conflict, war and peace', 'environment', 'religion and belief', 'lifestyle and leisure', 'labour', 'sport', 'politics', 'crime, law and justice', 'human interest', 'science and technology', 'sport', 'health', 'society', 'human interest', 'religion and belief', 'conflict, war and peace', 'society', 'disaster, accident and emergency incident', 'politics', 'education', 'politics', 'religion and belief', 'lifestyle and leisure', 'religion and belief', 'environment', 'education', 'society', 'health', 'health', 'science and technology', 'environment', 'society', 'politics', 'science and technology', 'disaster, accident and emergency incident', 'religion and belief', 'health', 'human interest', 'lifestyle and leisure', 'religion and belief', 'sport', 'society', 'weather', 'religion and belief', 'politics', 'health', 'sport', 'labour', 'health', 'education', 'society', 'society', 'human interest', 'human interest', 'environment', 'science and technology', 'labour', 'sport', 'crime, law and justice', 'sport', 'conflict, war and peace', 'conflict, war and peace', 'science and technology', 'conflict, war and peace', 'society', 'conflict, war and peace', 'sport', 'religion and belief', 'economy, business and finance', 'education', 'crime, law and justice', 'politics', 'science and technology', 'labour', 'sport', 'human interest', 'conflict, war and peace', 'society', 'sport', 'environment', 'disaster, accident and emergency incident', 'health', 'religion and belief', 'conflict, war and peace', 'human interest', 'health', 'science and technology', 'health', 'politics', 'arts, culture, entertainment and media', 'lifestyle and leisure', 'economy, business and finance', 'health', 'conflict, war and peace', 'health', 'environment', 'politics', 'education', 'politics', 'society', 'environment', 'education', 'environment', 'human interest', 'labour', 'labour', 'weather', 'environment', 'sport', 'crime, law and justice', 'society', 'health', 'sport', 'human interest', 'health', 'politics', 'conflict, war and peace', 'science and technology', 'politics', 'politics', 'arts, culture, entertainment and media', 'sport', 'health', 'crime, law and justice', 'education', 'science and technology', 'weather', 'society', 'economy, business and finance', 'economy, business and finance', 'arts, culture, entertainment and media', 'conflict, war and peace', 'lifestyle and leisure', 'politics', 'sport', 'crime, law and justice', 'labour', 'human interest', 'human interest', 'crime, law and justice', 'labour', 'sport', 'science and technology', 'society', 'labour', 'politics', 'religion and belief', 'disaster, accident and emergency incident', 'disaster, accident and emergency incident', 'education', 'society', 'sport', 'labour', 'human interest', 'society', 'sport', 'society', 'conflict, war and peace', 'conflict, war and peace', 'economy, business and finance', 'economy, business and finance', 'politics', 'religion and belief', 'labour', 'labour', 'education', 'disaster, accident and emergency incident', 'disaster, accident and emergency incident', 'weather', 'environment', 'conflict, war and peace', 'society', 'lifestyle and leisure', 'environment', 'sport', 'sport', 'health', 'conflict, war and peace', 'weather', 'human interest', 'education', 'education', 'crime, law and justice', 'politics', 'society', 'sport', 'labour', 'conflict, war and peace', 'health', 'human interest', 'society', 'society', 'disaster, accident and emergency incident', 'politics', 'arts, culture, entertainment and media', 'health', 'weather', 'health', 'health', 'society', 'politics', 'religion and belief', 'labour', 'sport']\n",
            "                                           precision    recall  f1-score   support\n",
            "\n",
            "   arts, culture, entertainment and media       0.73      0.67      0.70        12\n",
            "                  conflict, war and peace       0.86      0.78      0.82        32\n",
            "                   crime, law and justice       0.61      0.70      0.65        20\n",
            "disaster, accident and emergency incident       0.71      0.75      0.73        20\n",
            "            economy, business and finance       0.89      1.00      0.94        16\n",
            "                                education       0.82      0.75      0.78        24\n",
            "                              environment       0.84      0.88      0.86        24\n",
            "                                   health       0.71      0.86      0.77        28\n",
            "                           human interest       0.61      0.71      0.65        24\n",
            "                                   labour       0.85      0.82      0.84        28\n",
            "                    lifestyle and leisure       1.00      0.58      0.74        12\n",
            "                                 politics       0.60      0.67      0.63        36\n",
            "                      religion and belief       0.59      0.62      0.61        32\n",
            "                   science and technology       0.71      0.47      0.57        32\n",
            "                                  society       0.68      0.64      0.66        44\n",
            "                                    sport       0.86      0.97      0.91        37\n",
            "                                  weather       0.93      0.81      0.87        16\n",
            "\n",
            "                                 accuracy                           0.74       437\n",
            "                                macro avg       0.76      0.75      0.75       437\n",
            "                             weighted avg       0.75      0.74      0.74       437\n",
            "\n"
          ]
        },
        {
          "output_type": "execute_result",
          "data": {
            "text/plain": [
              "0.7414187643020596"
            ]
          },
          "metadata": {},
          "execution_count": 23
        }
      ]
    },
    {
      "cell_type": "markdown",
      "source": [
        "**-----------------------------------------------**"
      ],
      "metadata": {
        "id": "p7PAj9SzMwhQ"
      }
    },
    {
      "cell_type": "code",
      "source": [
        "df2 = pd.read_csv(\"https://github.com/mhjabreel/CharCnn_Keras/raw/master/data/ag_news_csv/train.csv\")\n",
        "df2.columns = [\"label\" , \"title\" , \"content\"]\n",
        "df2['label'] = df2['label'].map({1: \"world\", 2: \"sports\", 3: \"business\", 4: \"sci/tech\"})\n"
      ],
      "metadata": {
        "id": "TNbVOgmvMIrK"
      },
      "execution_count": 2,
      "outputs": []
    },
    {
      "cell_type": "code",
      "source": [
        "df2"
      ],
      "metadata": {
        "colab": {
          "base_uri": "https://localhost:8080/",
          "height": 424
        },
        "id": "Gk5W1DhAMp2I",
        "outputId": "f158358f-f650-4d44-ddf7-9d0c0536e465"
      },
      "execution_count": 3,
      "outputs": [
        {
          "output_type": "execute_result",
          "data": {
            "text/plain": [
              "           label                                              title  \\\n",
              "0       business  Carlyle Looks Toward Commercial Aerospace (Reu...   \n",
              "1       business    Oil and Economy Cloud Stocks' Outlook (Reuters)   \n",
              "2       business  Iraq Halts Oil Exports from Main Southern Pipe...   \n",
              "3       business  Oil prices soar to all-time record, posing new...   \n",
              "4       business        Stocks End Up, But Near Year Lows (Reuters)   \n",
              "...          ...                                                ...   \n",
              "119994     world  Pakistan's Musharraf Says Won't Quit as Army C...   \n",
              "119995    sports                  Renteria signing a top-shelf deal   \n",
              "119996    sports                    Saban not going to Dolphins yet   \n",
              "119997    sports                                  Today's NFL games   \n",
              "119998    sports                       Nets get Carter from Raptors   \n",
              "\n",
              "                                                  content  \n",
              "0       Reuters - Private investment firm Carlyle Grou...  \n",
              "1       Reuters - Soaring crude prices plus worries\\ab...  \n",
              "2       Reuters - Authorities have halted oil export\\f...  \n",
              "3       AFP - Tearaway world oil prices, toppling reco...  \n",
              "4       Reuters - Stocks ended slightly higher on Frid...  \n",
              "...                                                   ...  \n",
              "119994   KARACHI (Reuters) - Pakistani President Perve...  \n",
              "119995  Red Sox general manager Theo Epstein acknowled...  \n",
              "119996  The Miami Dolphins will put their courtship of...  \n",
              "119997  PITTSBURGH at NY GIANTS Time: 1:30 p.m. Line: ...  \n",
              "119998  INDIANAPOLIS -- All-Star Vince Carter was trad...  \n",
              "\n",
              "[119999 rows x 3 columns]"
            ],
            "text/html": [
              "\n",
              "  <div id=\"df-64b2240e-5c3b-429c-9829-e22f54cd3af2\" class=\"colab-df-container\">\n",
              "    <div>\n",
              "<style scoped>\n",
              "    .dataframe tbody tr th:only-of-type {\n",
              "        vertical-align: middle;\n",
              "    }\n",
              "\n",
              "    .dataframe tbody tr th {\n",
              "        vertical-align: top;\n",
              "    }\n",
              "\n",
              "    .dataframe thead th {\n",
              "        text-align: right;\n",
              "    }\n",
              "</style>\n",
              "<table border=\"1\" class=\"dataframe\">\n",
              "  <thead>\n",
              "    <tr style=\"text-align: right;\">\n",
              "      <th></th>\n",
              "      <th>label</th>\n",
              "      <th>title</th>\n",
              "      <th>content</th>\n",
              "    </tr>\n",
              "  </thead>\n",
              "  <tbody>\n",
              "    <tr>\n",
              "      <th>0</th>\n",
              "      <td>business</td>\n",
              "      <td>Carlyle Looks Toward Commercial Aerospace (Reu...</td>\n",
              "      <td>Reuters - Private investment firm Carlyle Grou...</td>\n",
              "    </tr>\n",
              "    <tr>\n",
              "      <th>1</th>\n",
              "      <td>business</td>\n",
              "      <td>Oil and Economy Cloud Stocks' Outlook (Reuters)</td>\n",
              "      <td>Reuters - Soaring crude prices plus worries\\ab...</td>\n",
              "    </tr>\n",
              "    <tr>\n",
              "      <th>2</th>\n",
              "      <td>business</td>\n",
              "      <td>Iraq Halts Oil Exports from Main Southern Pipe...</td>\n",
              "      <td>Reuters - Authorities have halted oil export\\f...</td>\n",
              "    </tr>\n",
              "    <tr>\n",
              "      <th>3</th>\n",
              "      <td>business</td>\n",
              "      <td>Oil prices soar to all-time record, posing new...</td>\n",
              "      <td>AFP - Tearaway world oil prices, toppling reco...</td>\n",
              "    </tr>\n",
              "    <tr>\n",
              "      <th>4</th>\n",
              "      <td>business</td>\n",
              "      <td>Stocks End Up, But Near Year Lows (Reuters)</td>\n",
              "      <td>Reuters - Stocks ended slightly higher on Frid...</td>\n",
              "    </tr>\n",
              "    <tr>\n",
              "      <th>...</th>\n",
              "      <td>...</td>\n",
              "      <td>...</td>\n",
              "      <td>...</td>\n",
              "    </tr>\n",
              "    <tr>\n",
              "      <th>119994</th>\n",
              "      <td>world</td>\n",
              "      <td>Pakistan's Musharraf Says Won't Quit as Army C...</td>\n",
              "      <td>KARACHI (Reuters) - Pakistani President Perve...</td>\n",
              "    </tr>\n",
              "    <tr>\n",
              "      <th>119995</th>\n",
              "      <td>sports</td>\n",
              "      <td>Renteria signing a top-shelf deal</td>\n",
              "      <td>Red Sox general manager Theo Epstein acknowled...</td>\n",
              "    </tr>\n",
              "    <tr>\n",
              "      <th>119996</th>\n",
              "      <td>sports</td>\n",
              "      <td>Saban not going to Dolphins yet</td>\n",
              "      <td>The Miami Dolphins will put their courtship of...</td>\n",
              "    </tr>\n",
              "    <tr>\n",
              "      <th>119997</th>\n",
              "      <td>sports</td>\n",
              "      <td>Today's NFL games</td>\n",
              "      <td>PITTSBURGH at NY GIANTS Time: 1:30 p.m. Line: ...</td>\n",
              "    </tr>\n",
              "    <tr>\n",
              "      <th>119998</th>\n",
              "      <td>sports</td>\n",
              "      <td>Nets get Carter from Raptors</td>\n",
              "      <td>INDIANAPOLIS -- All-Star Vince Carter was trad...</td>\n",
              "    </tr>\n",
              "  </tbody>\n",
              "</table>\n",
              "<p>119999 rows × 3 columns</p>\n",
              "</div>\n",
              "    <div class=\"colab-df-buttons\">\n",
              "\n",
              "  <div class=\"colab-df-container\">\n",
              "    <button class=\"colab-df-convert\" onclick=\"convertToInteractive('df-64b2240e-5c3b-429c-9829-e22f54cd3af2')\"\n",
              "            title=\"Convert this dataframe to an interactive table.\"\n",
              "            style=\"display:none;\">\n",
              "\n",
              "  <svg xmlns=\"http://www.w3.org/2000/svg\" height=\"24px\" viewBox=\"0 -960 960 960\">\n",
              "    <path d=\"M120-120v-720h720v720H120Zm60-500h600v-160H180v160Zm220 220h160v-160H400v160Zm0 220h160v-160H400v160ZM180-400h160v-160H180v160Zm440 0h160v-160H620v160ZM180-180h160v-160H180v160Zm440 0h160v-160H620v160Z\"/>\n",
              "  </svg>\n",
              "    </button>\n",
              "\n",
              "  <style>\n",
              "    .colab-df-container {\n",
              "      display:flex;\n",
              "      gap: 12px;\n",
              "    }\n",
              "\n",
              "    .colab-df-convert {\n",
              "      background-color: #E8F0FE;\n",
              "      border: none;\n",
              "      border-radius: 50%;\n",
              "      cursor: pointer;\n",
              "      display: none;\n",
              "      fill: #1967D2;\n",
              "      height: 32px;\n",
              "      padding: 0 0 0 0;\n",
              "      width: 32px;\n",
              "    }\n",
              "\n",
              "    .colab-df-convert:hover {\n",
              "      background-color: #E2EBFA;\n",
              "      box-shadow: 0px 1px 2px rgba(60, 64, 67, 0.3), 0px 1px 3px 1px rgba(60, 64, 67, 0.15);\n",
              "      fill: #174EA6;\n",
              "    }\n",
              "\n",
              "    .colab-df-buttons div {\n",
              "      margin-bottom: 4px;\n",
              "    }\n",
              "\n",
              "    [theme=dark] .colab-df-convert {\n",
              "      background-color: #3B4455;\n",
              "      fill: #D2E3FC;\n",
              "    }\n",
              "\n",
              "    [theme=dark] .colab-df-convert:hover {\n",
              "      background-color: #434B5C;\n",
              "      box-shadow: 0px 1px 3px 1px rgba(0, 0, 0, 0.15);\n",
              "      filter: drop-shadow(0px 1px 2px rgba(0, 0, 0, 0.3));\n",
              "      fill: #FFFFFF;\n",
              "    }\n",
              "  </style>\n",
              "\n",
              "    <script>\n",
              "      const buttonEl =\n",
              "        document.querySelector('#df-64b2240e-5c3b-429c-9829-e22f54cd3af2 button.colab-df-convert');\n",
              "      buttonEl.style.display =\n",
              "        google.colab.kernel.accessAllowed ? 'block' : 'none';\n",
              "\n",
              "      async function convertToInteractive(key) {\n",
              "        const element = document.querySelector('#df-64b2240e-5c3b-429c-9829-e22f54cd3af2');\n",
              "        const dataTable =\n",
              "          await google.colab.kernel.invokeFunction('convertToInteractive',\n",
              "                                                    [key], {});\n",
              "        if (!dataTable) return;\n",
              "\n",
              "        const docLinkHtml = 'Like what you see? Visit the ' +\n",
              "          '<a target=\"_blank\" href=https://colab.research.google.com/notebooks/data_table.ipynb>data table notebook</a>'\n",
              "          + ' to learn more about interactive tables.';\n",
              "        element.innerHTML = '';\n",
              "        dataTable['output_type'] = 'display_data';\n",
              "        await google.colab.output.renderOutput(dataTable, element);\n",
              "        const docLink = document.createElement('div');\n",
              "        docLink.innerHTML = docLinkHtml;\n",
              "        element.appendChild(docLink);\n",
              "      }\n",
              "    </script>\n",
              "  </div>\n",
              "\n",
              "\n",
              "<div id=\"df-83f38ae1-7910-451f-8448-5f31463aec66\">\n",
              "  <button class=\"colab-df-quickchart\" onclick=\"quickchart('df-83f38ae1-7910-451f-8448-5f31463aec66')\"\n",
              "            title=\"Suggest charts.\"\n",
              "            style=\"display:none;\">\n",
              "\n",
              "<svg xmlns=\"http://www.w3.org/2000/svg\" height=\"24px\"viewBox=\"0 0 24 24\"\n",
              "     width=\"24px\">\n",
              "    <g>\n",
              "        <path d=\"M19 3H5c-1.1 0-2 .9-2 2v14c0 1.1.9 2 2 2h14c1.1 0 2-.9 2-2V5c0-1.1-.9-2-2-2zM9 17H7v-7h2v7zm4 0h-2V7h2v10zm4 0h-2v-4h2v4z\"/>\n",
              "    </g>\n",
              "</svg>\n",
              "  </button>\n",
              "\n",
              "<style>\n",
              "  .colab-df-quickchart {\n",
              "      --bg-color: #E8F0FE;\n",
              "      --fill-color: #1967D2;\n",
              "      --hover-bg-color: #E2EBFA;\n",
              "      --hover-fill-color: #174EA6;\n",
              "      --disabled-fill-color: #AAA;\n",
              "      --disabled-bg-color: #DDD;\n",
              "  }\n",
              "\n",
              "  [theme=dark] .colab-df-quickchart {\n",
              "      --bg-color: #3B4455;\n",
              "      --fill-color: #D2E3FC;\n",
              "      --hover-bg-color: #434B5C;\n",
              "      --hover-fill-color: #FFFFFF;\n",
              "      --disabled-bg-color: #3B4455;\n",
              "      --disabled-fill-color: #666;\n",
              "  }\n",
              "\n",
              "  .colab-df-quickchart {\n",
              "    background-color: var(--bg-color);\n",
              "    border: none;\n",
              "    border-radius: 50%;\n",
              "    cursor: pointer;\n",
              "    display: none;\n",
              "    fill: var(--fill-color);\n",
              "    height: 32px;\n",
              "    padding: 0;\n",
              "    width: 32px;\n",
              "  }\n",
              "\n",
              "  .colab-df-quickchart:hover {\n",
              "    background-color: var(--hover-bg-color);\n",
              "    box-shadow: 0 1px 2px rgba(60, 64, 67, 0.3), 0 1px 3px 1px rgba(60, 64, 67, 0.15);\n",
              "    fill: var(--button-hover-fill-color);\n",
              "  }\n",
              "\n",
              "  .colab-df-quickchart-complete:disabled,\n",
              "  .colab-df-quickchart-complete:disabled:hover {\n",
              "    background-color: var(--disabled-bg-color);\n",
              "    fill: var(--disabled-fill-color);\n",
              "    box-shadow: none;\n",
              "  }\n",
              "\n",
              "  .colab-df-spinner {\n",
              "    border: 2px solid var(--fill-color);\n",
              "    border-color: transparent;\n",
              "    border-bottom-color: var(--fill-color);\n",
              "    animation:\n",
              "      spin 1s steps(1) infinite;\n",
              "  }\n",
              "\n",
              "  @keyframes spin {\n",
              "    0% {\n",
              "      border-color: transparent;\n",
              "      border-bottom-color: var(--fill-color);\n",
              "      border-left-color: var(--fill-color);\n",
              "    }\n",
              "    20% {\n",
              "      border-color: transparent;\n",
              "      border-left-color: var(--fill-color);\n",
              "      border-top-color: var(--fill-color);\n",
              "    }\n",
              "    30% {\n",
              "      border-color: transparent;\n",
              "      border-left-color: var(--fill-color);\n",
              "      border-top-color: var(--fill-color);\n",
              "      border-right-color: var(--fill-color);\n",
              "    }\n",
              "    40% {\n",
              "      border-color: transparent;\n",
              "      border-right-color: var(--fill-color);\n",
              "      border-top-color: var(--fill-color);\n",
              "    }\n",
              "    60% {\n",
              "      border-color: transparent;\n",
              "      border-right-color: var(--fill-color);\n",
              "    }\n",
              "    80% {\n",
              "      border-color: transparent;\n",
              "      border-right-color: var(--fill-color);\n",
              "      border-bottom-color: var(--fill-color);\n",
              "    }\n",
              "    90% {\n",
              "      border-color: transparent;\n",
              "      border-bottom-color: var(--fill-color);\n",
              "    }\n",
              "  }\n",
              "</style>\n",
              "\n",
              "  <script>\n",
              "    async function quickchart(key) {\n",
              "      const quickchartButtonEl =\n",
              "        document.querySelector('#' + key + ' button');\n",
              "      quickchartButtonEl.disabled = true;  // To prevent multiple clicks.\n",
              "      quickchartButtonEl.classList.add('colab-df-spinner');\n",
              "      try {\n",
              "        const charts = await google.colab.kernel.invokeFunction(\n",
              "            'suggestCharts', [key], {});\n",
              "      } catch (error) {\n",
              "        console.error('Error during call to suggestCharts:', error);\n",
              "      }\n",
              "      quickchartButtonEl.classList.remove('colab-df-spinner');\n",
              "      quickchartButtonEl.classList.add('colab-df-quickchart-complete');\n",
              "    }\n",
              "    (() => {\n",
              "      let quickchartButtonEl =\n",
              "        document.querySelector('#df-83f38ae1-7910-451f-8448-5f31463aec66 button');\n",
              "      quickchartButtonEl.style.display =\n",
              "        google.colab.kernel.accessAllowed ? 'block' : 'none';\n",
              "    })();\n",
              "  </script>\n",
              "</div>\n",
              "    </div>\n",
              "  </div>\n"
            ]
          },
          "metadata": {},
          "execution_count": 3
        }
      ]
    },
    {
      "cell_type": "code",
      "source": [
        "df2.label.value_counts()"
      ],
      "metadata": {
        "colab": {
          "base_uri": "https://localhost:8080/"
        },
        "id": "gVTA2PyWOSKa",
        "outputId": "466dc86e-2708-4f20-fc48-01a89dde7afb"
      },
      "execution_count": 4,
      "outputs": [
        {
          "output_type": "execute_result",
          "data": {
            "text/plain": [
              "sci/tech    30000\n",
              "sports      30000\n",
              "world       30000\n",
              "business    29999\n",
              "Name: label, dtype: int64"
            ]
          },
          "metadata": {},
          "execution_count": 4
        }
      ]
    },
    {
      "cell_type": "code",
      "source": [
        "X = df2.content\n",
        "Y = df2.label"
      ],
      "metadata": {
        "id": "IRAoCX5bM0WQ"
      },
      "execution_count": 5,
      "outputs": []
    },
    {
      "cell_type": "code",
      "source": [
        "# x_train, x_val, y_train, y_val = train_test_split(df['content'], df['category_1'], shuffle=True, test_size = 0.2, random_state = 12342 , stratify=df['category_1'])\n",
        "# x_train, x_val, y_train, y_val = train_test_split(df['content'], df['category_1'], shuffle=True, test_size = 0.2, random_state = 12342 , stratify=df['category_1'])\n",
        "X_train, X_temp, y_train, y_temp = train_test_split(X,Y , shuffle=True, test_size = 0.9, random_state = 12342 , stratify=Y)\n",
        "\n",
        "# Then, split the temporary set into a validation set and a test set (50% for each)\n",
        "X_val, X_test, y_val, y_test = train_test_split(X_temp, y_temp, shuffle=True, test_size = 0.9, random_state = 12342 , stratify=y_temp)\n"
      ],
      "metadata": {
        "id": "R2u-flmUM0WQ"
      },
      "execution_count": 6,
      "outputs": []
    },
    {
      "cell_type": "code",
      "source": [
        "print(X_train.shape)\n",
        "print(y_train.shape)\n",
        "print(X_val.shape)\n",
        "print(y_val.shape)\n",
        "print(X_test.shape)\n",
        "print(y_test.shape)"
      ],
      "metadata": {
        "colab": {
          "base_uri": "https://localhost:8080/"
        },
        "outputId": "5e636e7d-94bf-4704-d2f9-3cd0283a9d97",
        "id": "du7si6jAM0WR"
      },
      "execution_count": 7,
      "outputs": [
        {
          "output_type": "stream",
          "name": "stdout",
          "text": [
            "(11999,)\n",
            "(11999,)\n",
            "(10800,)\n",
            "(10800,)\n",
            "(97200,)\n",
            "(97200,)\n"
          ]
        }
      ]
    },
    {
      "cell_type": "code",
      "source": [
        "x_train = X_train.values\n",
        "x_val = X_val.values\n",
        "y_train = y_train.values\n",
        "y_val = y_val.values\n",
        "x_test = X_test.values\n",
        "y_test = y_test.values"
      ],
      "metadata": {
        "id": "8OtyB6GWM0WR"
      },
      "execution_count": 8,
      "outputs": []
    },
    {
      "cell_type": "code",
      "source": [
        "(x_train_bert,  y_train_bert), (x_val_bert, y_val_bert), preproc = text.texts_from_array(x_train=x_train, y_train=y_train,\n",
        "                                                                                         x_test = x_val, y_test=y_val,\n",
        "                                                                                          class_names= [\"0\", \"1\" ,\"2\" , \"3\"],\n",
        "                                                                                          preprocess_mode='bert',\n",
        "                                                                                          lang = 'en',\n",
        "                                                                                          maxlen=65,\n",
        "                                                                                          max_features=36000)"
      ],
      "metadata": {
        "colab": {
          "base_uri": "https://localhost:8080/",
          "height": 191
        },
        "outputId": "3b492749-85f3-4294-bb75-ca811bbd6502",
        "id": "0XnchT_oNKm_"
      },
      "execution_count": 9,
      "outputs": [
        {
          "output_type": "stream",
          "name": "stdout",
          "text": [
            "preprocessing train...\n",
            "language: en\n"
          ]
        },
        {
          "output_type": "display_data",
          "data": {
            "text/plain": [
              "<IPython.core.display.HTML object>"
            ],
            "text/html": [
              "\n",
              "<style>\n",
              "    /* Turns off some styling */\n",
              "    progress {\n",
              "        /* gets rid of default border in Firefox and Opera. */\n",
              "        border: none;\n",
              "        /* Needs to be in here for Safari polyfill so background images work as expected. */\n",
              "        background-size: auto;\n",
              "    }\n",
              "    progress:not([value]), progress:not([value])::-webkit-progress-bar {\n",
              "        background: repeating-linear-gradient(45deg, #7e7e7e, #7e7e7e 10px, #5c5c5c 10px, #5c5c5c 20px);\n",
              "    }\n",
              "    .progress-bar-interrupted, .progress-bar-interrupted::-webkit-progress-bar {\n",
              "        background: #F44336;\n",
              "    }\n",
              "</style>\n"
            ]
          },
          "metadata": {}
        },
        {
          "output_type": "display_data",
          "data": {
            "text/plain": [
              "<IPython.core.display.HTML object>"
            ],
            "text/html": [
              "done."
            ]
          },
          "metadata": {}
        },
        {
          "output_type": "stream",
          "name": "stdout",
          "text": [
            "Is Multi-Label? False\n",
            "preprocessing test...\n",
            "language: en\n"
          ]
        },
        {
          "output_type": "stream",
          "name": "stderr",
          "text": [
            "/usr/local/lib/python3.10/dist-packages/ktrain/utils.py:744: UserWarning: class_names argument was ignored, as they were extracted from string labels in dataset\n",
            "  warnings.warn(\n"
          ]
        },
        {
          "output_type": "display_data",
          "data": {
            "text/plain": [
              "<IPython.core.display.HTML object>"
            ],
            "text/html": [
              "\n",
              "<style>\n",
              "    /* Turns off some styling */\n",
              "    progress {\n",
              "        /* gets rid of default border in Firefox and Opera. */\n",
              "        border: none;\n",
              "        /* Needs to be in here for Safari polyfill so background images work as expected. */\n",
              "        background-size: auto;\n",
              "    }\n",
              "    progress:not([value]), progress:not([value])::-webkit-progress-bar {\n",
              "        background: repeating-linear-gradient(45deg, #7e7e7e, #7e7e7e 10px, #5c5c5c 10px, #5c5c5c 20px);\n",
              "    }\n",
              "    .progress-bar-interrupted, .progress-bar-interrupted::-webkit-progress-bar {\n",
              "        background: #F44336;\n",
              "    }\n",
              "</style>\n"
            ]
          },
          "metadata": {}
        },
        {
          "output_type": "display_data",
          "data": {
            "text/plain": [
              "<IPython.core.display.HTML object>"
            ],
            "text/html": [
              "done."
            ]
          },
          "metadata": {}
        },
        {
          "output_type": "stream",
          "name": "stdout",
          "text": [
            "task: text classification\n"
          ]
        }
      ]
    },
    {
      "cell_type": "code",
      "source": [
        "model = text.text_classifier('bert', train_data=(x_train_bert, y_train_bert), preproc=preproc)\n",
        "learner = ktrain.get_learner(model, train_data=(x_train_bert, y_train_bert), val_data=(x_val_bert, y_val_bert), batch_size=16)"
      ],
      "metadata": {
        "colab": {
          "base_uri": "https://localhost:8080/"
        },
        "outputId": "6b7ee951-3719-4740-a1d3-a0f433b95a28",
        "id": "QzrgaA8PNKnA"
      },
      "execution_count": 10,
      "outputs": [
        {
          "output_type": "stream",
          "name": "stdout",
          "text": [
            "Is Multi-Label? False\n",
            "maxlen is 65\n"
          ]
        },
        {
          "output_type": "stream",
          "name": "stderr",
          "text": [
            "/usr/local/lib/python3.10/dist-packages/keras/src/initializers/initializers.py:120: UserWarning: The initializer GlorotNormal is unseeded and being called multiple times, which will return identical values each time (even if the initializer is unseeded). Please update your code to provide a seed to the initializer, or avoid using the same initializer instance more than once.\n",
            "  warnings.warn(\n"
          ]
        },
        {
          "output_type": "stream",
          "name": "stdout",
          "text": [
            "done.\n"
          ]
        }
      ]
    },
    {
      "cell_type": "code",
      "source": [
        "learner.lr_find()             # briefly simulate training to find good learning rate\n"
      ],
      "metadata": {
        "colab": {
          "base_uri": "https://localhost:8080/"
        },
        "outputId": "f40d54c5-d9d3-43f9-889f-49c83e0887de",
        "id": "xULbUHNWNKnB"
      },
      "execution_count": 11,
      "outputs": [
        {
          "output_type": "stream",
          "name": "stdout",
          "text": [
            "simulating training for different learning rates... this may take a few moments...\n"
          ]
        },
        {
          "output_type": "stream",
          "name": "stderr",
          "text": [
            "/usr/local/lib/python3.10/dist-packages/keras/src/engine/training.py:3079: UserWarning: You are saving your model as an HDF5 file via `model.save()`. This file format is considered legacy. We recommend using instead the native Keras format, e.g. `model.save('my_model.keras')`.\n",
            "  saving_api.save_model(\n"
          ]
        },
        {
          "output_type": "stream",
          "name": "stdout",
          "text": [
            "Epoch 1/1024\n",
            "750/750 [==============================] - 205s 242ms/step - loss: 0.8025 - accuracy: 0.6763\n",
            "Epoch 2/1024\n",
            "750/750 [==============================] - 144s 192ms/step - loss: 3.1593 - accuracy: 0.3345\n",
            "\n",
            "\n",
            "done.\n",
            "Please invoke the Learner.lr_plot() method to visually inspect the loss plot to help identify the maximal learning rate associated with falling loss.\n"
          ]
        }
      ]
    },
    {
      "cell_type": "code",
      "source": [
        "learner.lr_plot()"
      ],
      "metadata": {
        "colab": {
          "base_uri": "https://localhost:8080/",
          "height": 454
        },
        "outputId": "7b1749ca-4dda-4d5e-eb2c-7b3cdcaa69ce",
        "id": "_fo3DFSFNKnB"
      },
      "execution_count": 12,
      "outputs": [
        {
          "output_type": "display_data",
          "data": {
            "text/plain": [
              "<Figure size 640x480 with 1 Axes>"
            ],
            "image/png": "[encoded data removed]"
          },
          "metadata": {}
        }
      ]
    },
    {
      "cell_type": "code",
      "source": [
        "learner.autofit(1e-5)"
      ],
      "metadata": {
        "colab": {
          "base_uri": "https://localhost:8080/"
        },
        "outputId": "98f1125e-b7c5-421c-a722-ba2fdfccece1",
        "id": "rqggJqiYNKnB"
      },
      "execution_count": 13,
      "outputs": [
        {
          "output_type": "stream",
          "name": "stdout",
          "text": [
            "early_stopping automatically enabled at patience=5\n",
            "reduce_on_plateau automatically enabled at patience=2\n",
            "\n",
            "\n",
            "begin training using triangular learning rate policy with max lr of 1e-05...\n",
            "Epoch 1/1024\n",
            "750/750 [==============================] - 298s 371ms/step - loss: 0.4855 - accuracy: 0.8289 - val_loss: 0.2576 - val_accuracy: 0.9117\n",
            "Epoch 2/1024\n",
            "750/750 [==============================] - 244s 325ms/step - loss: 0.2300 - accuracy: 0.9220 - val_loss: 0.2419 - val_accuracy: 0.9183\n",
            "Epoch 3/1024\n",
            "750/750 [==============================] - 272s 363ms/step - loss: 0.1704 - accuracy: 0.9424 - val_loss: 0.2401 - val_accuracy: 0.9195\n",
            "Epoch 4/1024\n",
            "750/750 [==============================] - 244s 325ms/step - loss: 0.1253 - accuracy: 0.9592 - val_loss: 0.2543 - val_accuracy: 0.9204\n",
            "Epoch 5/1024\n",
            "750/750 [==============================] - ETA: 0s - loss: 0.0875 - accuracy: 0.9717\n",
            "Epoch 00005: Reducing Max LR on Plateau: new max lr will be 5e-06 (if not early_stopping).\n",
            "750/750 [==============================] - 243s 324ms/step - loss: 0.0875 - accuracy: 0.9717 - val_loss: 0.2808 - val_accuracy: 0.9189\n",
            "Epoch 6/1024\n",
            "750/750 [==============================] - 242s 323ms/step - loss: 0.0480 - accuracy: 0.9870 - val_loss: 0.3059 - val_accuracy: 0.9177\n",
            "Epoch 7/1024\n",
            "750/750 [==============================] - ETA: 0s - loss: 0.0362 - accuracy: 0.9896\n",
            "Epoch 00007: Reducing Max LR on Plateau: new max lr will be 2.5e-06 (if not early_stopping).\n",
            "750/750 [==============================] - 243s 324ms/step - loss: 0.0362 - accuracy: 0.9896 - val_loss: 0.3308 - val_accuracy: 0.9165\n",
            "Epoch 8/1024\n",
            "750/750 [==============================] - ETA: 0s - loss: 0.0221 - accuracy: 0.9946Restoring model weights from the end of the best epoch: 3.\n",
            "750/750 [==============================] - 243s 325ms/step - loss: 0.0221 - accuracy: 0.9946 - val_loss: 0.3440 - val_accuracy: 0.9154\n",
            "Epoch 8: early stopping\n",
            "Weights from best epoch have been loaded into model.\n"
          ]
        },
        {
          "output_type": "execute_result",
          "data": {
            "text/plain": [
              "<keras.src.callbacks.History at 0x7c68b0ec3dc0>"
            ]
          },
          "metadata": {},
          "execution_count": 13
        }
      ]
    },
    {
      "cell_type": "code",
      "source": [
        "learner.validate(val_data=(x_val_bert, y_val_bert), class_names=[\"world\", \"sport\", \"business\" , \"sci/tech\"])"
      ],
      "metadata": {
        "colab": {
          "base_uri": "https://localhost:8080/"
        },
        "outputId": "5a13da0d-30bb-4aad-d560-416d0b9cce59",
        "id": "wTeg6UMdNKnC"
      },
      "execution_count": 14,
      "outputs": [
        {
          "output_type": "stream",
          "name": "stdout",
          "text": [
            "338/338 [==============================] - 57s 155ms/step\n",
            "              precision    recall  f1-score   support\n",
            "\n",
            "       world       0.91      0.86      0.89      2700\n",
            "       sport       0.87      0.92      0.89      2700\n",
            "    business       0.97      0.98      0.98      2700\n",
            "    sci/tech       0.93      0.92      0.92      2700\n",
            "\n",
            "    accuracy                           0.92     10800\n",
            "   macro avg       0.92      0.92      0.92     10800\n",
            "weighted avg       0.92      0.92      0.92     10800\n",
            "\n"
          ]
        },
        {
          "output_type": "execute_result",
          "data": {
            "text/plain": [
              "array([[2327,  273,   16,   84],\n",
              "       [ 128, 2476,    9,   87],\n",
              "       [  14,   16, 2645,   25],\n",
              "       [  87,   82,   48, 2483]])"
            ]
          },
          "metadata": {},
          "execution_count": 14
        }
      ]
    },
    {
      "cell_type": "code",
      "source": [
        "# getting predictor variable\n",
        "predictor = ktrain.get_predictor(learner.model, preproc)"
      ],
      "metadata": {
        "id": "ziOvHsTa-ziT"
      },
      "execution_count": 16,
      "outputs": []
    },
    {
      "cell_type": "code",
      "source": [
        "learner.print_layers()"
      ],
      "metadata": {
        "colab": {
          "base_uri": "https://localhost:8080/"
        },
        "id": "RDKtdoIp-tmR",
        "outputId": "641f459e-e762-42f9-b831-c09a4af158e9"
      },
      "execution_count": 17,
      "outputs": [
        {
          "output_type": "stream",
          "name": "stdout",
          "text": [
            "0 (trainable=True) : <keras.src.engine.input_layer.InputLayer object at 0x7c68b57a94b0>\n",
            "1 (trainable=True) : <keras.src.engine.input_layer.InputLayer object at 0x7c68b57aac80>\n",
            "2 (trainable=True) : <keras_bert.layers.embedding.TokenEmbedding object at 0x7c68b57abc70>\n",
            "3 (trainable=True) : <keras.src.layers.core.embedding.Embedding object at 0x7c68b57abd30>\n",
            "4 (trainable=True) : <keras.src.layers.merging.add.Add object at 0x7c68b57ab2e0>\n",
            "5 (trainable=True) : <keras_pos_embd.pos_embd.PositionEmbedding object at 0x7c68b57aa620>\n",
            "6 (trainable=True) : <keras.src.layers.regularization.dropout.Dropout object at 0x7c68b57ab220>\n",
            "7 (trainable=True) : <keras_layer_normalization.layer_normalization.LayerNormalization object at 0x7c68b57a9330>\n",
            "8 (trainable=True) : <keras_multi_head.multi_head_attention.MultiHeadAttention object at 0x7c68b57a8e50>\n",
            "9 (trainable=True) : <keras.src.layers.regularization.dropout.Dropout object at 0x7c68b57abc10>\n",
            "10 (trainable=True) : <keras.src.layers.merging.add.Add object at 0x7c68b5644f70>\n",
            "11 (trainable=True) : <keras_layer_normalization.layer_normalization.LayerNormalization object at 0x7c68b57ab370>\n",
            "12 (trainable=True) : <keras_position_wise_feed_forward.feed_forward.FeedForward object at 0x7c68b56440a0>\n",
            "13 (trainable=True) : <keras.src.layers.regularization.dropout.Dropout object at 0x7c68b5644460>\n",
            "14 (trainable=True) : <keras.src.layers.merging.add.Add object at 0x7c68b56462c0>\n",
            "15 (trainable=True) : <keras_layer_normalization.layer_normalization.LayerNormalization object at 0x7c68b5644940>\n",
            "16 (trainable=True) : <keras_multi_head.multi_head_attention.MultiHeadAttention object at 0x7c68b5647790>\n",
            "17 (trainable=True) : <keras.src.layers.regularization.dropout.Dropout object at 0x7c68b56456f0>\n",
            "18 (trainable=True) : <keras.src.layers.merging.add.Add object at 0x7c68b5646800>\n",
            "19 (trainable=True) : <keras_layer_normalization.layer_normalization.LayerNormalization object at 0x7c68b5645c30>\n",
            "20 (trainable=True) : <keras_position_wise_feed_forward.feed_forward.FeedForward object at 0x7c68b5644310>\n",
            "21 (trainable=True) : <keras.src.layers.regularization.dropout.Dropout object at 0x7c68b56447f0>\n",
            "22 (trainable=True) : <keras.src.layers.merging.add.Add object at 0x7c68b5645de0>\n",
            "23 (trainable=True) : <keras_layer_normalization.layer_normalization.LayerNormalization object at 0x7c68b5644c70>\n",
            "24 (trainable=True) : <keras_multi_head.multi_head_attention.MultiHeadAttention object at 0x7c68b56470d0>\n",
            "25 (trainable=True) : <keras.src.layers.regularization.dropout.Dropout object at 0x7c68b5645ba0>\n",
            "26 (trainable=True) : <keras.src.layers.merging.add.Add object at 0x7c68b5646f80>\n",
            "27 (trainable=True) : <keras_layer_normalization.layer_normalization.LayerNormalization object at 0x7c68b5646b60>\n",
            "28 (trainable=True) : <keras_position_wise_feed_forward.feed_forward.FeedForward object at 0x7c68b5647940>\n",
            "29 (trainable=True) : <keras.src.layers.regularization.dropout.Dropout object at 0x7c68b5644fa0>\n",
            "30 (trainable=True) : <keras.src.layers.merging.add.Add object at 0x7c68b56242e0>\n",
            "31 (trainable=True) : <keras_layer_normalization.layer_normalization.LayerNormalization object at 0x7c68b57aa260>\n",
            "32 (trainable=True) : <keras_multi_head.multi_head_attention.MultiHeadAttention object at 0x7c68b5624a30>\n",
            "33 (trainable=True) : <keras.src.layers.regularization.dropout.Dropout object at 0x7c68b5626260>\n",
            "34 (trainable=True) : <keras.src.layers.merging.add.Add object at 0x7c68b5626230>\n",
            "35 (trainable=True) : <keras_layer_normalization.layer_normalization.LayerNormalization object at 0x7c68b5624bb0>\n",
            "36 (trainable=True) : <keras_position_wise_feed_forward.feed_forward.FeedForward object at 0x7c68b5624df0>\n",
            "37 (trainable=True) : <keras.src.layers.regularization.dropout.Dropout object at 0x7c68b5627f10>\n",
            "38 (trainable=True) : <keras.src.layers.merging.add.Add object at 0x7c68b5625480>\n",
            "39 (trainable=True) : <keras_layer_normalization.layer_normalization.LayerNormalization object at 0x7c68b5625720>\n",
            "40 (trainable=True) : <keras_multi_head.multi_head_attention.MultiHeadAttention object at 0x7c68b5627a90>\n",
            "41 (trainable=True) : <keras.src.layers.regularization.dropout.Dropout object at 0x7c68b5626cb0>\n",
            "42 (trainable=True) : <keras.src.layers.merging.add.Add object at 0x7c68b5627010>\n",
            "43 (trainable=True) : <keras_layer_normalization.layer_normalization.LayerNormalization object at 0x7c68b56270d0>\n",
            "44 (trainable=True) : <keras_position_wise_feed_forward.feed_forward.FeedForward object at 0x7c68b5627700>\n",
            "45 (trainable=True) : <keras.src.layers.regularization.dropout.Dropout object at 0x7c68b5627c40>\n",
            "46 (trainable=True) : <keras.src.layers.merging.add.Add object at 0x7c68b5627fd0>\n",
            "47 (trainable=True) : <keras_layer_normalization.layer_normalization.LayerNormalization object at 0x7c68b57abf10>\n",
            "48 (trainable=True) : <keras_multi_head.multi_head_attention.MultiHeadAttention object at 0x7c695c363700>\n",
            "49 (trainable=True) : <keras.src.layers.regularization.dropout.Dropout object at 0x7c68b5777fa0>\n",
            "50 (trainable=True) : <keras.src.layers.merging.add.Add object at 0x7c694828e6b0>\n",
            "51 (trainable=True) : <keras_layer_normalization.layer_normalization.LayerNormalization object at 0x7c68c85fbfa0>\n",
            "52 (trainable=True) : <keras_position_wise_feed_forward.feed_forward.FeedForward object at 0x7c68b58dca60>\n",
            "53 (trainable=True) : <keras.src.layers.regularization.dropout.Dropout object at 0x7c6948285d20>\n",
            "54 (trainable=True) : <keras.src.layers.merging.add.Add object at 0x7c68b5662230>\n",
            "55 (trainable=True) : <keras_layer_normalization.layer_normalization.LayerNormalization object at 0x7c68b5663fa0>\n",
            "56 (trainable=True) : <keras_multi_head.multi_head_attention.MultiHeadAttention object at 0x7c68b5663b20>\n",
            "57 (trainable=True) : <keras.src.layers.regularization.dropout.Dropout object at 0x7c68b5663700>\n",
            "58 (trainable=True) : <keras.src.layers.merging.add.Add object at 0x7c68b56633d0>\n",
            "59 (trainable=True) : <keras_layer_normalization.layer_normalization.LayerNormalization object at 0x7c68b5663310>\n",
            "60 (trainable=True) : <keras_position_wise_feed_forward.feed_forward.FeedForward object at 0x7c68b5662e90>\n",
            "61 (trainable=True) : <keras.src.layers.regularization.dropout.Dropout object at 0x7c68b5662ad0>\n",
            "62 (trainable=True) : <keras.src.layers.merging.add.Add object at 0x7c68b56627a0>\n",
            "63 (trainable=True) : <keras_layer_normalization.layer_normalization.LayerNormalization object at 0x7c68b56626e0>\n",
            "64 (trainable=True) : <keras_multi_head.multi_head_attention.MultiHeadAttention object at 0x7c68b5660070>\n",
            "65 (trainable=True) : <keras.src.layers.regularization.dropout.Dropout object at 0x7c68b5660460>\n",
            "66 (trainable=True) : <keras.src.layers.merging.add.Add object at 0x7c68b56d8100>\n",
            "67 (trainable=True) : <keras_layer_normalization.layer_normalization.LayerNormalization object at 0x7c68b5660580>\n",
            "68 (trainable=True) : <keras_position_wise_feed_forward.feed_forward.FeedForward object at 0x7c68b56d8640>\n",
            "69 (trainable=True) : <keras.src.layers.regularization.dropout.Dropout object at 0x7c68b56d8a00>\n",
            "70 (trainable=True) : <keras.src.layers.merging.add.Add object at 0x7c68b56d8d30>\n",
            "71 (trainable=True) : <keras_layer_normalization.layer_normalization.LayerNormalization object at 0x7c68b56d8df0>\n",
            "72 (trainable=True) : <keras_multi_head.multi_head_attention.MultiHeadAttention object at 0x7c68b56d9270>\n",
            "73 (trainable=True) : <keras.src.layers.regularization.dropout.Dropout object at 0x7c68b56d9690>\n",
            "74 (trainable=True) : <keras.src.layers.merging.add.Add object at 0x7c68b56d99c0>\n",
            "75 (trainable=True) : <keras_layer_normalization.layer_normalization.LayerNormalization object at 0x7c68b56d9a80>\n",
            "76 (trainable=True) : <keras_position_wise_feed_forward.feed_forward.FeedForward object at 0x7c68b56d9f00>\n",
            "77 (trainable=True) : <keras.src.layers.regularization.dropout.Dropout object at 0x7c68b56da2c0>\n",
            "78 (trainable=True) : <keras.src.layers.merging.add.Add object at 0x7c68b56da5f0>\n",
            "79 (trainable=True) : <keras_layer_normalization.layer_normalization.LayerNormalization object at 0x7c68b56da6b0>\n",
            "80 (trainable=True) : <keras_multi_head.multi_head_attention.MultiHeadAttention object at 0x7c68b56dab30>\n",
            "81 (trainable=True) : <keras.src.layers.regularization.dropout.Dropout object at 0x7c68b56daf50>\n",
            "82 (trainable=True) : <keras.src.layers.merging.add.Add object at 0x7c68b56db280>\n",
            "83 (trainable=True) : <keras_layer_normalization.layer_normalization.LayerNormalization object at 0x7c68b56db340>\n",
            "84 (trainable=True) : <keras_position_wise_feed_forward.feed_forward.FeedForward object at 0x7c68b56db7c0>\n",
            "85 (trainable=True) : <keras.src.layers.regularization.dropout.Dropout object at 0x7c68b56dbb80>\n",
            "86 (trainable=True) : <keras.src.layers.merging.add.Add object at 0x7c68b56dbeb0>\n",
            "87 (trainable=True) : <keras_layer_normalization.layer_normalization.LayerNormalization object at 0x7c68b56dbf70>\n",
            "88 (trainable=True) : <keras_multi_head.multi_head_attention.MultiHeadAttention object at 0x7c68b56ec430>\n",
            "89 (trainable=True) : <keras.src.layers.regularization.dropout.Dropout object at 0x7c68b56ec850>\n",
            "90 (trainable=True) : <keras.src.layers.merging.add.Add object at 0x7c68b56ecb80>\n",
            "91 (trainable=True) : <keras_layer_normalization.layer_normalization.LayerNormalization object at 0x7c68b56ecc40>\n",
            "92 (trainable=True) : <keras_position_wise_feed_forward.feed_forward.FeedForward object at 0x7c68b56ed0c0>\n",
            "93 (trainable=True) : <keras.src.layers.regularization.dropout.Dropout object at 0x7c68b56ed480>\n",
            "94 (trainable=True) : <keras.src.layers.merging.add.Add object at 0x7c68b56ed7b0>\n",
            "95 (trainable=True) : <keras_layer_normalization.layer_normalization.LayerNormalization object at 0x7c68b56ed870>\n",
            "96 (trainable=True) : <keras_multi_head.multi_head_attention.MultiHeadAttention object at 0x7c68b56edcf0>\n",
            "97 (trainable=True) : <keras.src.layers.regularization.dropout.Dropout object at 0x7c68b56ee110>\n",
            "98 (trainable=True) : <keras.src.layers.merging.add.Add object at 0x7c68b56ee440>\n",
            "99 (trainable=True) : <keras_layer_normalization.layer_normalization.LayerNormalization object at 0x7c68b56ee500>\n",
            "100 (trainable=True) : <keras_position_wise_feed_forward.feed_forward.FeedForward object at 0x7c68b56ee980>\n",
            "101 (trainable=True) : <keras.src.layers.regularization.dropout.Dropout object at 0x7c68b56eed40>\n",
            "102 (trainable=True) : <keras.src.layers.merging.add.Add object at 0x7c68b56ef070>\n",
            "103 (trainable=True) : <keras_layer_normalization.layer_normalization.LayerNormalization object at 0x7c68b56ef130>\n",
            "104 (trainable=True) : <keras_bert.layers.extract.Extract object at 0x7c68b56ef640>\n",
            "105 (trainable=True) : <keras.src.layers.core.dense.Dense object at 0x7c68b56ef700>\n",
            "106 (trainable=True) : <keras.src.layers.core.dense.Dense object at 0x7c68b56ef910>\n"
          ]
        }
      ]
    },
    {
      "cell_type": "code",
      "source": [
        "y_pred = predictor.predict(x_test.tolist())\n"
      ],
      "metadata": {
        "id": "8lpoUME3hPY7"
      },
      "execution_count": 18,
      "outputs": []
    },
    {
      "cell_type": "code",
      "source": [
        "compute_classification_report(y_test , y_pred)"
      ],
      "metadata": {
        "colab": {
          "base_uri": "https://localhost:8080/"
        },
        "id": "1bG5KkRRHVH5",
        "outputId": "d6d07af4-590c-4b64-8c16-1b9e5668bb0e"
      },
      "execution_count": 20,
      "outputs": [
        {
          "output_type": "stream",
          "name": "stdout",
          "text": [
            "              precision    recall  f1-score   support\n",
            "\n",
            "    business       0.91      0.86      0.88     24300\n",
            "    sci/tech       0.87      0.92      0.89     24300\n",
            "      sports       0.97      0.98      0.97     24300\n",
            "       world       0.93      0.92      0.92     24300\n",
            "\n",
            "    accuracy                           0.92     97200\n",
            "   macro avg       0.92      0.92      0.92     97200\n",
            "weighted avg       0.92      0.92      0.92     97200\n",
            "\n"
          ]
        },
        {
          "output_type": "execute_result",
          "data": {
            "text/plain": [
              "0.9183333333333333"
            ]
          },
          "metadata": {},
          "execution_count": 20
        }
      ]
    },
    {
      "cell_type": "code",
      "source": [],
      "metadata": {
        "id": "9ANHU7HOZpdJ"
      },
      "execution_count": null,
      "outputs": []
    }
  ]
}