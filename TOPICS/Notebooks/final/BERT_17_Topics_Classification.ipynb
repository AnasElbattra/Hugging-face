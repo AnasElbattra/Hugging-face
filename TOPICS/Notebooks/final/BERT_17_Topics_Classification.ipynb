{
  "nbformat": 4,
  "nbformat_minor": 0,
  "metadata": {
    "colab": {
      "provenance": [],
      "gpuType": "A100",
      "machine_shape": "hm",
      "toc_visible": true
    },
    "kernelspec": {
      "name": "python3",
      "display_name": "Python 3"
    },
    "language_info": {
      "name": "python"
    },
    "accelerator": "GPU"
  },
  "cells": [
    {
      "cell_type": "markdown",
      "source": [
        "## Install the needed libraries"
      ],
      "metadata": {
        "id": "ZnPdqchVFA1h"
      }
    },
    {
      "cell_type": "code",
      "source": [
        "# !pip install --upgrade pip\n",
        "# !pip install --upgrade setuptools\n",
        "# !apt-get install -y python3-dev\n",
        "# !pip install scikit-learn\n",
        "# !pip3 install pyproject.toml-based"
      ],
      "metadata": {
        "id": "uHsXpa3OnfRp"
      },
      "execution_count": null,
      "outputs": []
    },
    {
      "cell_type": "code",
      "source": [
        "!pip3 install ktrain"
      ],
      "metadata": {
        "colab": {
          "base_uri": "https://localhost:8080/"
        },
        "id": "QRG-TFHSlKKG",
        "outputId": "3c2c82b5-6191-4df9-b728-87fbefe8a84f"
      },
      "execution_count": 1,
      "outputs": [
        {
          "output_type": "stream",
          "name": "stdout",
          "text": [
            "Collecting ktrain\n",
            "  Downloading ktrain-0.39.0.tar.gz (25.3 MB)\n",
            "\u001b[2K     \u001b[90m━━━━━━━━━━━━━━━━━━━━━━━━━━━━━━━━━━━━━━━━\u001b[0m \u001b[32m25.3/25.3 MB\u001b[0m \u001b[31m55.4 MB/s\u001b[0m eta \u001b[36m0:00:00\u001b[0m\n",
            "\u001b[?25h  Preparing metadata (setup.py) ... \u001b[?25l\u001b[?25hdone\n",
            "Requirement already satisfied: scikit-learn in /usr/local/lib/python3.10/dist-packages (from ktrain) (1.2.2)\n",
            "Requirement already satisfied: matplotlib>=3.0.0 in /usr/local/lib/python3.10/dist-packages (from ktrain) (3.7.1)\n",
            "Requirement already satisfied: pandas>=1.0.1 in /usr/local/lib/python3.10/dist-packages (from ktrain) (1.5.3)\n",
            "Requirement already satisfied: fastprogress>=0.1.21 in /usr/local/lib/python3.10/dist-packages (from ktrain) (1.0.3)\n",
            "Requirement already satisfied: requests in /usr/local/lib/python3.10/dist-packages (from ktrain) (2.31.0)\n",
            "Requirement already satisfied: joblib in /usr/local/lib/python3.10/dist-packages (from ktrain) (1.3.2)\n",
            "Requirement already satisfied: packaging in /usr/local/lib/python3.10/dist-packages (from ktrain) (23.2)\n",
            "Collecting langdetect (from ktrain)\n",
            "  Downloading langdetect-1.0.9.tar.gz (981 kB)\n",
            "\u001b[2K     \u001b[90m━━━━━━━━━━━━━━━━━━━━━━━━━━━━━━━━━━━━━━━━\u001b[0m \u001b[32m981.5/981.5 kB\u001b[0m \u001b[31m56.7 MB/s\u001b[0m eta \u001b[36m0:00:00\u001b[0m\n",
            "\u001b[?25h  Preparing metadata (setup.py) ... \u001b[?25l\u001b[?25hdone\n",
            "Requirement already satisfied: jieba in /usr/local/lib/python3.10/dist-packages (from ktrain) (0.42.1)\n",
            "Requirement already satisfied: charset-normalizer in /usr/local/lib/python3.10/dist-packages (from ktrain) (3.3.2)\n",
            "Requirement already satisfied: chardet in /usr/local/lib/python3.10/dist-packages (from ktrain) (5.2.0)\n",
            "Collecting syntok>1.3.3 (from ktrain)\n",
            "  Downloading syntok-1.4.4-py3-none-any.whl (24 kB)\n",
            "Collecting tika (from ktrain)\n",
            "  Downloading tika-2.6.0.tar.gz (27 kB)\n",
            "  Preparing metadata (setup.py) ... \u001b[?25l\u001b[?25hdone\n",
            "Requirement already satisfied: transformers>=4.17.0 in /usr/local/lib/python3.10/dist-packages (from ktrain) (4.35.2)\n",
            "Collecting sentencepiece (from ktrain)\n",
            "  Downloading sentencepiece-0.1.99-cp310-cp310-manylinux_2_17_x86_64.manylinux2014_x86_64.whl (1.3 MB)\n",
            "\u001b[2K     \u001b[90m━━━━━━━━━━━━━━━━━━━━━━━━━━━━━━━━━━━━━━━━\u001b[0m \u001b[32m1.3/1.3 MB\u001b[0m \u001b[31m63.6 MB/s\u001b[0m eta \u001b[36m0:00:00\u001b[0m\n",
            "\u001b[?25hCollecting keras_bert>=0.86.0 (from ktrain)\n",
            "  Downloading keras-bert-0.89.0.tar.gz (25 kB)\n",
            "  Preparing metadata (setup.py) ... \u001b[?25l\u001b[?25hdone\n",
            "Collecting whoosh (from ktrain)\n",
            "  Downloading Whoosh-2.7.4-py2.py3-none-any.whl (468 kB)\n",
            "\u001b[2K     \u001b[90m━━━━━━━━━━━━━━━━━━━━━━━━━━━━━━━━━━━━━━━━\u001b[0m \u001b[32m468.8/468.8 kB\u001b[0m \u001b[31m39.1 MB/s\u001b[0m eta \u001b[36m0:00:00\u001b[0m\n",
            "\u001b[?25hRequirement already satisfied: numpy in /usr/local/lib/python3.10/dist-packages (from keras_bert>=0.86.0->ktrain) (1.23.5)\n",
            "Collecting keras-transformer==0.40.0 (from keras_bert>=0.86.0->ktrain)\n",
            "  Downloading keras-transformer-0.40.0.tar.gz (9.7 kB)\n",
            "  Preparing metadata (setup.py) ... \u001b[?25l\u001b[?25hdone\n",
            "Collecting keras-pos-embd==0.13.0 (from keras-transformer==0.40.0->keras_bert>=0.86.0->ktrain)\n",
            "  Downloading keras-pos-embd-0.13.0.tar.gz (5.6 kB)\n",
            "  Preparing metadata (setup.py) ... \u001b[?25l\u001b[?25hdone\n",
            "Collecting keras-multi-head==0.29.0 (from keras-transformer==0.40.0->keras_bert>=0.86.0->ktrain)\n",
            "  Downloading keras-multi-head-0.29.0.tar.gz (13 kB)\n",
            "  Preparing metadata (setup.py) ... \u001b[?25l\u001b[?25hdone\n",
            "Collecting keras-layer-normalization==0.16.0 (from keras-transformer==0.40.0->keras_bert>=0.86.0->ktrain)\n",
            "  Downloading keras-layer-normalization-0.16.0.tar.gz (3.9 kB)\n",
            "  Preparing metadata (setup.py) ... \u001b[?25l\u001b[?25hdone\n",
            "Collecting keras-position-wise-feed-forward==0.8.0 (from keras-transformer==0.40.0->keras_bert>=0.86.0->ktrain)\n",
            "  Downloading keras-position-wise-feed-forward-0.8.0.tar.gz (4.1 kB)\n",
            "  Preparing metadata (setup.py) ... \u001b[?25l\u001b[?25hdone\n",
            "Collecting keras-embed-sim==0.10.0 (from keras-transformer==0.40.0->keras_bert>=0.86.0->ktrain)\n",
            "  Downloading keras-embed-sim-0.10.0.tar.gz (3.6 kB)\n",
            "  Preparing metadata (setup.py) ... \u001b[?25l\u001b[?25hdone\n",
            "Collecting keras-self-attention==0.51.0 (from keras-multi-head==0.29.0->keras-transformer==0.40.0->keras_bert>=0.86.0->ktrain)\n",
            "  Downloading keras-self-attention-0.51.0.tar.gz (11 kB)\n",
            "  Preparing metadata (setup.py) ... \u001b[?25l\u001b[?25hdone\n",
            "Requirement already satisfied: contourpy>=1.0.1 in /usr/local/lib/python3.10/dist-packages (from matplotlib>=3.0.0->ktrain) (1.2.0)\n",
            "Requirement already satisfied: cycler>=0.10 in /usr/local/lib/python3.10/dist-packages (from matplotlib>=3.0.0->ktrain) (0.12.1)\n",
            "Requirement already satisfied: fonttools>=4.22.0 in /usr/local/lib/python3.10/dist-packages (from matplotlib>=3.0.0->ktrain) (4.46.0)\n",
            "Requirement already satisfied: kiwisolver>=1.0.1 in /usr/local/lib/python3.10/dist-packages (from matplotlib>=3.0.0->ktrain) (1.4.5)\n",
            "Requirement already satisfied: pillow>=6.2.0 in /usr/local/lib/python3.10/dist-packages (from matplotlib>=3.0.0->ktrain) (9.4.0)\n",
            "Requirement already satisfied: pyparsing>=2.3.1 in /usr/local/lib/python3.10/dist-packages (from matplotlib>=3.0.0->ktrain) (3.1.1)\n",
            "Requirement already satisfied: python-dateutil>=2.7 in /usr/local/lib/python3.10/dist-packages (from matplotlib>=3.0.0->ktrain) (2.8.2)\n",
            "Requirement already satisfied: pytz>=2020.1 in /usr/local/lib/python3.10/dist-packages (from pandas>=1.0.1->ktrain) (2023.3.post1)\n",
            "Requirement already satisfied: regex>2016 in /usr/local/lib/python3.10/dist-packages (from syntok>1.3.3->ktrain) (2023.6.3)\n",
            "Requirement already satisfied: filelock in /usr/local/lib/python3.10/dist-packages (from transformers>=4.17.0->ktrain) (3.13.1)\n",
            "Requirement already satisfied: huggingface-hub<1.0,>=0.16.4 in /usr/local/lib/python3.10/dist-packages (from transformers>=4.17.0->ktrain) (0.19.4)\n",
            "Requirement already satisfied: pyyaml>=5.1 in /usr/local/lib/python3.10/dist-packages (from transformers>=4.17.0->ktrain) (6.0.1)\n",
            "Requirement already satisfied: tokenizers<0.19,>=0.14 in /usr/local/lib/python3.10/dist-packages (from transformers>=4.17.0->ktrain) (0.15.0)\n",
            "Requirement already satisfied: safetensors>=0.3.1 in /usr/local/lib/python3.10/dist-packages (from transformers>=4.17.0->ktrain) (0.4.1)\n",
            "Requirement already satisfied: tqdm>=4.27 in /usr/local/lib/python3.10/dist-packages (from transformers>=4.17.0->ktrain) (4.66.1)\n",
            "Requirement already satisfied: six in /usr/local/lib/python3.10/dist-packages (from langdetect->ktrain) (1.16.0)\n",
            "Requirement already satisfied: idna<4,>=2.5 in /usr/local/lib/python3.10/dist-packages (from requests->ktrain) (3.6)\n",
            "Requirement already satisfied: urllib3<3,>=1.21.1 in /usr/local/lib/python3.10/dist-packages (from requests->ktrain) (2.0.7)\n",
            "Requirement already satisfied: certifi>=2017.4.17 in /usr/local/lib/python3.10/dist-packages (from requests->ktrain) (2023.11.17)\n",
            "Requirement already satisfied: scipy>=1.3.2 in /usr/local/lib/python3.10/dist-packages (from scikit-learn->ktrain) (1.11.4)\n",
            "Requirement already satisfied: threadpoolctl>=2.0.0 in /usr/local/lib/python3.10/dist-packages (from scikit-learn->ktrain) (3.2.0)\n",
            "Requirement already satisfied: setuptools in /usr/local/lib/python3.10/dist-packages (from tika->ktrain) (67.7.2)\n",
            "Requirement already satisfied: fsspec>=2023.5.0 in /usr/local/lib/python3.10/dist-packages (from huggingface-hub<1.0,>=0.16.4->transformers>=4.17.0->ktrain) (2023.6.0)\n",
            "Requirement already satisfied: typing-extensions>=3.7.4.3 in /usr/local/lib/python3.10/dist-packages (from huggingface-hub<1.0,>=0.16.4->transformers>=4.17.0->ktrain) (4.5.0)\n",
            "Building wheels for collected packages: ktrain, keras_bert, keras-transformer, keras-embed-sim, keras-layer-normalization, keras-multi-head, keras-pos-embd, keras-position-wise-feed-forward, keras-self-attention, langdetect, tika\n",
            "  Building wheel for ktrain (setup.py) ... \u001b[?25l\u001b[?25hdone\n",
            "  Created wheel for ktrain: filename=ktrain-0.39.0-py3-none-any.whl size=25319737 sha256=08501693479cbdb6d88c9678ba828a37248ecd3612609a21054a21804ffde28d\n",
            "  Stored in directory: /root/.cache/pip/wheels/98/fd/0a/ef6252223f3d2c49b06d18e71c74caa43bbf4c64a8c183a46e\n",
            "  Building wheel for keras_bert (setup.py) ... \u001b[?25l\u001b[?25hdone\n",
            "  Created wheel for keras_bert: filename=keras_bert-0.89.0-py3-none-any.whl size=33499 sha256=bc2f6e30e91a1f3077200598bd4a0662e522da416ac6128ef2aaf663e0a1c896\n",
            "  Stored in directory: /root/.cache/pip/wheels/89/0c/04/646b6fdf6375911b42c8d540a8a3fda8d5d77634e5dcbe7b26\n",
            "  Building wheel for keras-transformer (setup.py) ... \u001b[?25l\u001b[?25hdone\n",
            "  Created wheel for keras-transformer: filename=keras_transformer-0.40.0-py3-none-any.whl size=12286 sha256=79e9dd4d62d4c423ddb602eda578d0d7486deb3736b65f886312151051ad9a42\n",
            "  Stored in directory: /root/.cache/pip/wheels/f2/cb/22/75a0ad376129177f7c95c0d91331a18f5368fd657f4035ba7c\n",
            "  Building wheel for keras-embed-sim (setup.py) ... \u001b[?25l\u001b[?25hdone\n",
            "  Created wheel for keras-embed-sim: filename=keras_embed_sim-0.10.0-py3-none-any.whl size=3943 sha256=1cda6e9ca81af7a37bcb825223c30c35e0e9270c3764162cd7fd74a4c41957cb\n",
            "  Stored in directory: /root/.cache/pip/wheels/82/32/c7/fd35d0d1b840a6c7cbd4343f808d10d0f7b87d271a4dbe796f\n",
            "  Building wheel for keras-layer-normalization (setup.py) ... \u001b[?25l\u001b[?25hdone\n",
            "  Created wheel for keras-layer-normalization: filename=keras_layer_normalization-0.16.0-py3-none-any.whl size=4653 sha256=453330173046cee427471114710fe42ccdb2b8086fe5f4e2ef388690a3753ed6\n",
            "  Stored in directory: /root/.cache/pip/wheels/ed/3a/4b/21db23c0cc56c4b219616e181f258eb7c57d36cc5d056fae9a\n",
            "  Building wheel for keras-multi-head (setup.py) ... \u001b[?25l\u001b[?25hdone\n",
            "  Created wheel for keras-multi-head: filename=keras_multi_head-0.29.0-py3-none-any.whl size=14975 sha256=9bfd3c803e83ea22fd3eafc9431ebf7057f7eab9a4b25a15e17cf757f2f1f7ea\n",
            "  Stored in directory: /root/.cache/pip/wheels/cb/23/4b/06d7ae21714f70fcc25b48f972cc8e5e7f4b6b764a038b509d\n",
            "  Building wheel for keras-pos-embd (setup.py) ... \u001b[?25l\u001b[?25hdone\n",
            "  Created wheel for keras-pos-embd: filename=keras_pos_embd-0.13.0-py3-none-any.whl size=6946 sha256=2c7b6759dc00fbc8e2ee40bddfec8ba287f087e2da76500fbc07f4c47ea40e5b\n",
            "  Stored in directory: /root/.cache/pip/wheels/78/07/1b/b1ca47b6ac338554b75c8f52c54e6a2bfbe1b07d79579979a4\n",
            "  Building wheel for keras-position-wise-feed-forward (setup.py) ... \u001b[?25l\u001b[?25hdone\n",
            "  Created wheel for keras-position-wise-feed-forward: filename=keras_position_wise_feed_forward-0.8.0-py3-none-any.whl size=4968 sha256=a5b5fcc83ae08c9d2cd67a0b434a457d03853be92e01055d680fe6b49366473f\n",
            "  Stored in directory: /root/.cache/pip/wheels/c1/6a/04/d1706a53b23b2cb5f9a0a76269bf87925daa1bca09eac01b21\n",
            "  Building wheel for keras-self-attention (setup.py) ... \u001b[?25l\u001b[?25hdone\n",
            "  Created wheel for keras-self-attention: filename=keras_self_attention-0.51.0-py3-none-any.whl size=18895 sha256=ada529244d8874b76fb97f064f26f4ad9b65afccde471f59f043e610b0ec1ff2\n",
            "  Stored in directory: /root/.cache/pip/wheels/b8/f7/24/607b483144fb9c47b4ba2c5fba6b68e54aeee2d5bf6c05302e\n",
            "  Building wheel for langdetect (setup.py) ... \u001b[?25l\u001b[?25hdone\n",
            "  Created wheel for langdetect: filename=langdetect-1.0.9-py3-none-any.whl size=993225 sha256=06778fefdc23e5301381d5ae6753f47072b3c74c8e118d265ac480a8b0b8c759\n",
            "  Stored in directory: /root/.cache/pip/wheels/95/03/7d/59ea870c70ce4e5a370638b5462a7711ab78fba2f655d05106\n",
            "  Building wheel for tika (setup.py) ... \u001b[?25l\u001b[?25hdone\n",
            "  Created wheel for tika: filename=tika-2.6.0-py3-none-any.whl size=32622 sha256=548555f017957e5b8a4dab6707afdaa38633e79c16614f560df6c3a7f1fdb96a\n",
            "  Stored in directory: /root/.cache/pip/wheels/5f/71/c7/b757709531121b1700cffda5b6b0d4aad095fb507ec84316d0\n",
            "Successfully built ktrain keras_bert keras-transformer keras-embed-sim keras-layer-normalization keras-multi-head keras-pos-embd keras-position-wise-feed-forward keras-self-attention langdetect tika\n",
            "Installing collected packages: whoosh, sentencepiece, syntok, langdetect, keras-self-attention, keras-position-wise-feed-forward, keras-pos-embd, keras-layer-normalization, keras-embed-sim, tika, keras-multi-head, keras-transformer, keras_bert, ktrain\n",
            "Successfully installed keras-embed-sim-0.10.0 keras-layer-normalization-0.16.0 keras-multi-head-0.29.0 keras-pos-embd-0.13.0 keras-position-wise-feed-forward-0.8.0 keras-self-attention-0.51.0 keras-transformer-0.40.0 keras_bert-0.89.0 ktrain-0.39.0 langdetect-1.0.9 sentencepiece-0.1.99 syntok-1.4.4 tika-2.6.0 whoosh-2.7.4\n"
          ]
        }
      ]
    },
    {
      "cell_type": "markdown",
      "source": [
        "### Import the needed libraries"
      ],
      "metadata": {
        "id": "1tw00OcWFHTb"
      }
    },
    {
      "cell_type": "code",
      "source": [
        "import pandas as pd\n",
        "import numpy as np\n",
        "import matplotlib.pyplot as plt\n",
        "import ktrain\n",
        "from ktrain import text\n",
        "from sklearn.model_selection import train_test_split\n",
        "from sklearn.metrics import classification_report, accuracy_score, precision_score, recall_score, f1_score"
      ],
      "metadata": {
        "id": "vwdrJLlZlB1h"
      },
      "execution_count": 2,
      "outputs": []
    },
    {
      "cell_type": "code",
      "source": [
        "from google.colab import drive\n",
        "drive.mount('/content/drive')"
      ],
      "metadata": {
        "colab": {
          "base_uri": "https://localhost:8080/"
        },
        "id": "Ky0A_Sq4m0g6",
        "outputId": "7bec8460-56c1-44e6-dfae-de4f01e27b5e"
      },
      "execution_count": 23,
      "outputs": [
        {
          "output_type": "stream",
          "name": "stdout",
          "text": [
            "Mounted at /content/drive\n"
          ]
        }
      ]
    },
    {
      "cell_type": "markdown",
      "source": [
        "## Function to compute the metrics"
      ],
      "metadata": {
        "id": "fqdL-HuIFQio"
      }
    },
    {
      "cell_type": "code",
      "source": [
        "def compute_classification_report(true_labels_column, predicted_labels_column):\n",
        "    report = classification_report(true_labels_column, predicted_labels_column)\n",
        "    accuracy = accuracy_score(true_labels_column, predicted_labels_column)\n",
        "    precision = precision_score(true_labels_column, predicted_labels_column, average='macro')\n",
        "    recall = recall_score(true_labels_column, predicted_labels_column, average='macro')\n",
        "    f1 = f1_score(true_labels_column, predicted_labels_column, average='macro')\n",
        "\n",
        "    print(\"Classification Report:\")\n",
        "    print(report)\n",
        "    print(\"Accuracy:\", accuracy)\n",
        "    print(\"Precision:\", precision)\n",
        "    print(\"Recall:\", recall)\n",
        "    print(\"F1 Score:\", f1)\n",
        "\n",
        "    return accuracy, precision, recall, f1"
      ],
      "metadata": {
        "id": "wWJypfe__S9w"
      },
      "execution_count": 3,
      "outputs": []
    },
    {
      "cell_type": "markdown",
      "source": [
        "# Function to plot the metrics"
      ],
      "metadata": {
        "id": "ejR5wuAgrgyA"
      }
    },
    {
      "cell_type": "code",
      "source": [
        "def plot_metrics(labels, accuracy_values):\n",
        "\n",
        "    accuracy_values_scaled = [value * 100 for value in accuracy_values]\n",
        "\n",
        "    # Create a counter plot\n",
        "    fig, ax = plt.subplots()\n",
        "    bar_width = 0.2  # Smaller width\n",
        "    index = np.arange(len(labels))\n",
        "\n",
        "    bars = ax.bar(index, accuracy_values_scaled, bar_width)\n",
        "\n",
        "    # Add values on top of the bars\n",
        "    for bar, value in zip(bars, accuracy_values):\n",
        "        ax.text(bar.get_x() + bar.get_width() / 2, bar.get_height() + 0.01,\n",
        "                f'{value:.2f}%', ha='center', va='bottom')\n",
        "\n",
        "    ax.set_xlabel('Datasets')\n",
        "    ax.set_ylabel('Accuracy (%)')\n",
        "    ax.set_title('BERT Accuracy Comparison')\n",
        "    ax.set_xticks(index)\n",
        "    ax.set_xticklabels(labels)\n",
        "    ax.legend()\n",
        "\n",
        "    plt.show()"
      ],
      "metadata": {
        "id": "dbiM7loXrhli"
      },
      "execution_count": null,
      "outputs": []
    },
    {
      "cell_type": "markdown",
      "source": [
        "# BERT for 17 topics"
      ],
      "metadata": {
        "id": "982Nk7ZxFjeB"
      }
    },
    {
      "cell_type": "markdown",
      "source": [
        "## Read data"
      ],
      "metadata": {
        "id": "V_DMa3_PFVp4"
      }
    },
    {
      "cell_type": "code",
      "execution_count": 4,
      "metadata": {
        "id": "O9jWN62LbRI-"
      },
      "outputs": [],
      "source": [
        "df = pd.read_csv(\"https://github.com/AnasElbattra/News-Understanding-NLP/raw/main/TOPICS/DATA/MN-DS-news-classification.csv\")\n",
        "df = df.rename(columns={'category_level_1': 'category_1', 'category_level_2': 'category_2'})"
      ]
    },
    {
      "cell_type": "code",
      "source": [
        "df"
      ],
      "metadata": {
        "colab": {
          "base_uri": "https://localhost:8080/",
          "height": 1000
        },
        "id": "Lw0n5R_dosvg",
        "outputId": "9d326c18-2005-4077-d94f-8ed87bf726ed"
      },
      "execution_count": 5,
      "outputs": [
        {
          "output_type": "execute_result",
          "data": {
            "text/plain": [
              "       data_id                                                 id        date  \\\n",
              "0         1809  abcnews--2019-10-31--Virginia mom charged with...  2019-10-31   \n",
              "1         1980  abcnews--2019-11-07--2 escaped murder suspects...  2019-11-07   \n",
              "2         1995  abcnews--2019-11-07--Family turns in escaped b...  2019-11-07   \n",
              "3         2740  abcnews--2019-12-02--Mother charged with murde...  2019-12-02   \n",
              "4         7038  ageofautism--2019-04-12--Physician Father and ...  2019-04-12   \n",
              "...        ...                                                ...         ...   \n",
              "10912   907640  therussophileorg--2019-12-15--Iran to build ov...  2019-12-15   \n",
              "10913   892720  therussophileorg--2019-10-12--Ukraine has no m...  2019-10-12   \n",
              "10914   870499  therussophileorg--2019-07-06--Irans contributi...  2019-07-06   \n",
              "10915   887334  therussophileorg--2019-09-25--Iraqi president ...  2019-09-25   \n",
              "10916   885988  therussophileorg--2019-09-20--Russia expects t...  2019-09-20   \n",
              "\n",
              "                 source                                              title  \\\n",
              "0               abcnews  Virginia mom charged with murder in 2-year-old...   \n",
              "1               abcnews  2 escaped murder suspects arrested at US-Mexic...   \n",
              "2               abcnews  Family turns in escaped boy, 13, suspected in ...   \n",
              "3               abcnews  Mother charged with murder in deaths of 2 youn...   \n",
              "4           ageofautism  Physician, Father and Caretaker of 29 Year Old...   \n",
              "...                 ...                                                ...   \n",
              "10912  therussophileorg  Iran to build over 30,000 housing units in Syr...   \n",
              "10913  therussophileorg  Ukraine has no money for reconstruction of Don...   \n",
              "10914  therussophileorg  Iran’s contribution is needed to rebuild Iraq ...   \n",
              "10915  therussophileorg  Iraqi president demands international help for...   \n",
              "10916  therussophileorg  Russia expects to cooperate with China on Syri...   \n",
              "\n",
              "                                                 content            author  \\\n",
              "0      The Virginia woman whose 2-year-old son was fo...               NaN   \n",
              "1      Authorities are trying to determine if anyone ...               NaN   \n",
              "2      A 13-year-old suspect in a double homicide who...               NaN   \n",
              "3      The mother of two young children found hanging...               NaN   \n",
              "4      \"One family member said Derek “can be violent ...     Age of Autism   \n",
              "...                                                  ...               ...   \n",
              "10912  This post was originally published on this sit...         News Desk   \n",
              "10913  This post was originally published on this sit...  Michael Sullivan   \n",
              "10914  This\\n\\n[post](http://www.presstv.ir/Detail/20...  Michael Sullivan   \n",
              "10915  This\\n\\n[post](http://www.presstv.ir/Detail/20...  Michael Sullivan   \n",
              "10916  This\\n\\n[post](https://tass.com/politics/10791...  Michael Sullivan   \n",
              "\n",
              "                                                     url  \\\n",
              "0      https://abcnews.go.com/US/wireStory/virginia-m...   \n",
              "1      https://abcnews.go.com/US/wireStory/escaped-mu...   \n",
              "2      https://abcnews.go.com/US/wireStory/family-tur...   \n",
              "3      https://abcnews.go.com/US/wireStory/mother-cha...   \n",
              "4      http://feedproxy.google.com/~r/ageofautism/~3/...   \n",
              "...                                                  ...   \n",
              "10912  https://www.therussophile.org/iran-to-build-ov...   \n",
              "10913  https://www.therussophile.org/ukraine-has-no-m...   \n",
              "10914  https://www.therussophile.org/irans-contributi...   \n",
              "10915  https://www.therussophile.org/iraqi-president-...   \n",
              "10916  https://www.therussophile.org/russia-expects-t...   \n",
              "\n",
              "                             published  published_utc  collection_utc  \\\n",
              "0      Thu, 31 Oct 2019 16:49:56 -0400     1572554996      1572559512   \n",
              "1      Thu, 07 Nov 2019 00:13:12 -0500     1573103592      1573131986   \n",
              "2      Thu, 07 Nov 2019 07:39:54 -0500     1573130394      1573131982   \n",
              "3      Mon, 02 Dec 2019 11:30:59 -0500     1575304259      1575308811   \n",
              "4            2019-04-12 09:00:00+00:00     1555074000      1567543083   \n",
              "...                                ...            ...             ...   \n",
              "10912  Sun, 15 Dec 2019 10:42:50 +0000     1576424570      1576413702   \n",
              "10913  Sat, 12 Oct 2019 20:56:01 +0000     1570928161      1570922006   \n",
              "10914        2019-07-06 17:51:38+00:00     1562449898      1567536625   \n",
              "10915        2019-09-25 16:58:01+00:00     1569445081      1570222223   \n",
              "10916        2019-09-20 13:56:47+00:00     1569002207      1570222711   \n",
              "\n",
              "                    category_1               category_2  \n",
              "0       crime, law and justice                    crime  \n",
              "1       crime, law and justice                    crime  \n",
              "2       crime, law and justice                    crime  \n",
              "3       crime, law and justice                    crime  \n",
              "4       crime, law and justice                    crime  \n",
              "...                        ...                      ...  \n",
              "10912  conflict, war and peace  post-war reconstruction  \n",
              "10913  conflict, war and peace  post-war reconstruction  \n",
              "10914  conflict, war and peace  post-war reconstruction  \n",
              "10915  conflict, war and peace  post-war reconstruction  \n",
              "10916  conflict, war and peace  post-war reconstruction  \n",
              "\n",
              "[10917 rows x 13 columns]"
            ],
            "text/html": [
              "\n",
              "  <div id=\"df-988f818f-b504-47e5-b49a-5f888d792495\" class=\"colab-df-container\">\n",
              "    <div>\n",
              "<style scoped>\n",
              "    .dataframe tbody tr th:only-of-type {\n",
              "        vertical-align: middle;\n",
              "    }\n",
              "\n",
              "    .dataframe tbody tr th {\n",
              "        vertical-align: top;\n",
              "    }\n",
              "\n",
              "    .dataframe thead th {\n",
              "        text-align: right;\n",
              "    }\n",
              "</style>\n",
              "<table border=\"1\" class=\"dataframe\">\n",
              "  <thead>\n",
              "    <tr style=\"text-align: right;\">\n",
              "      <th></th>\n",
              "      <th>data_id</th>\n",
              "      <th>id</th>\n",
              "      <th>date</th>\n",
              "      <th>source</th>\n",
              "      <th>title</th>\n",
              "      <th>content</th>\n",
              "      <th>author</th>\n",
              "      <th>url</th>\n",
              "      <th>published</th>\n",
              "      <th>published_utc</th>\n",
              "      <th>collection_utc</th>\n",
              "      <th>category_1</th>\n",
              "      <th>category_2</th>\n",
              "    </tr>\n",
              "  </thead>\n",
              "  <tbody>\n",
              "    <tr>\n",
              "      <th>0</th>\n",
              "      <td>1809</td>\n",
              "      <td>abcnews--2019-10-31--Virginia mom charged with...</td>\n",
              "      <td>2019-10-31</td>\n",
              "      <td>abcnews</td>\n",
              "      <td>Virginia mom charged with murder in 2-year-old...</td>\n",
              "      <td>The Virginia woman whose 2-year-old son was fo...</td>\n",
              "      <td>NaN</td>\n",
              "      <td>https://abcnews.go.com/US/wireStory/virginia-m...</td>\n",
              "      <td>Thu, 31 Oct 2019 16:49:56 -0400</td>\n",
              "      <td>1572554996</td>\n",
              "      <td>1572559512</td>\n",
              "      <td>crime, law and justice</td>\n",
              "      <td>crime</td>\n",
              "    </tr>\n",
              "    <tr>\n",
              "      <th>1</th>\n",
              "      <td>1980</td>\n",
              "      <td>abcnews--2019-11-07--2 escaped murder suspects...</td>\n",
              "      <td>2019-11-07</td>\n",
              "      <td>abcnews</td>\n",
              "      <td>2 escaped murder suspects arrested at US-Mexic...</td>\n",
              "      <td>Authorities are trying to determine if anyone ...</td>\n",
              "      <td>NaN</td>\n",
              "      <td>https://abcnews.go.com/US/wireStory/escaped-mu...</td>\n",
              "      <td>Thu, 07 Nov 2019 00:13:12 -0500</td>\n",
              "      <td>1573103592</td>\n",
              "      <td>1573131986</td>\n",
              "      <td>crime, law and justice</td>\n",
              "      <td>crime</td>\n",
              "    </tr>\n",
              "    <tr>\n",
              "      <th>2</th>\n",
              "      <td>1995</td>\n",
              "      <td>abcnews--2019-11-07--Family turns in escaped b...</td>\n",
              "      <td>2019-11-07</td>\n",
              "      <td>abcnews</td>\n",
              "      <td>Family turns in escaped boy, 13, suspected in ...</td>\n",
              "      <td>A 13-year-old suspect in a double homicide who...</td>\n",
              "      <td>NaN</td>\n",
              "      <td>https://abcnews.go.com/US/wireStory/family-tur...</td>\n",
              "      <td>Thu, 07 Nov 2019 07:39:54 -0500</td>\n",
              "      <td>1573130394</td>\n",
              "      <td>1573131982</td>\n",
              "      <td>crime, law and justice</td>\n",
              "      <td>crime</td>\n",
              "    </tr>\n",
              "    <tr>\n",
              "      <th>3</th>\n",
              "      <td>2740</td>\n",
              "      <td>abcnews--2019-12-02--Mother charged with murde...</td>\n",
              "      <td>2019-12-02</td>\n",
              "      <td>abcnews</td>\n",
              "      <td>Mother charged with murder in deaths of 2 youn...</td>\n",
              "      <td>The mother of two young children found hanging...</td>\n",
              "      <td>NaN</td>\n",
              "      <td>https://abcnews.go.com/US/wireStory/mother-cha...</td>\n",
              "      <td>Mon, 02 Dec 2019 11:30:59 -0500</td>\n",
              "      <td>1575304259</td>\n",
              "      <td>1575308811</td>\n",
              "      <td>crime, law and justice</td>\n",
              "      <td>crime</td>\n",
              "    </tr>\n",
              "    <tr>\n",
              "      <th>4</th>\n",
              "      <td>7038</td>\n",
              "      <td>ageofautism--2019-04-12--Physician Father and ...</td>\n",
              "      <td>2019-04-12</td>\n",
              "      <td>ageofautism</td>\n",
              "      <td>Physician, Father and Caretaker of 29 Year Old...</td>\n",
              "      <td>\"One family member said Derek “can be violent ...</td>\n",
              "      <td>Age of Autism</td>\n",
              "      <td>http://feedproxy.google.com/~r/ageofautism/~3/...</td>\n",
              "      <td>2019-04-12 09:00:00+00:00</td>\n",
              "      <td>1555074000</td>\n",
              "      <td>1567543083</td>\n",
              "      <td>crime, law and justice</td>\n",
              "      <td>crime</td>\n",
              "    </tr>\n",
              "    <tr>\n",
              "      <th>...</th>\n",
              "      <td>...</td>\n",
              "      <td>...</td>\n",
              "      <td>...</td>\n",
              "      <td>...</td>\n",
              "      <td>...</td>\n",
              "      <td>...</td>\n",
              "      <td>...</td>\n",
              "      <td>...</td>\n",
              "      <td>...</td>\n",
              "      <td>...</td>\n",
              "      <td>...</td>\n",
              "      <td>...</td>\n",
              "      <td>...</td>\n",
              "    </tr>\n",
              "    <tr>\n",
              "      <th>10912</th>\n",
              "      <td>907640</td>\n",
              "      <td>therussophileorg--2019-12-15--Iran to build ov...</td>\n",
              "      <td>2019-12-15</td>\n",
              "      <td>therussophileorg</td>\n",
              "      <td>Iran to build over 30,000 housing units in Syr...</td>\n",
              "      <td>This post was originally published on this sit...</td>\n",
              "      <td>News Desk</td>\n",
              "      <td>https://www.therussophile.org/iran-to-build-ov...</td>\n",
              "      <td>Sun, 15 Dec 2019 10:42:50 +0000</td>\n",
              "      <td>1576424570</td>\n",
              "      <td>1576413702</td>\n",
              "      <td>conflict, war and peace</td>\n",
              "      <td>post-war reconstruction</td>\n",
              "    </tr>\n",
              "    <tr>\n",
              "      <th>10913</th>\n",
              "      <td>892720</td>\n",
              "      <td>therussophileorg--2019-10-12--Ukraine has no m...</td>\n",
              "      <td>2019-10-12</td>\n",
              "      <td>therussophileorg</td>\n",
              "      <td>Ukraine has no money for reconstruction of Don...</td>\n",
              "      <td>This post was originally published on this sit...</td>\n",
              "      <td>Michael Sullivan</td>\n",
              "      <td>https://www.therussophile.org/ukraine-has-no-m...</td>\n",
              "      <td>Sat, 12 Oct 2019 20:56:01 +0000</td>\n",
              "      <td>1570928161</td>\n",
              "      <td>1570922006</td>\n",
              "      <td>conflict, war and peace</td>\n",
              "      <td>post-war reconstruction</td>\n",
              "    </tr>\n",
              "    <tr>\n",
              "      <th>10914</th>\n",
              "      <td>870499</td>\n",
              "      <td>therussophileorg--2019-07-06--Irans contributi...</td>\n",
              "      <td>2019-07-06</td>\n",
              "      <td>therussophileorg</td>\n",
              "      <td>Iran’s contribution is needed to rebuild Iraq ...</td>\n",
              "      <td>This\\n\\n[post](http://www.presstv.ir/Detail/20...</td>\n",
              "      <td>Michael Sullivan</td>\n",
              "      <td>https://www.therussophile.org/irans-contributi...</td>\n",
              "      <td>2019-07-06 17:51:38+00:00</td>\n",
              "      <td>1562449898</td>\n",
              "      <td>1567536625</td>\n",
              "      <td>conflict, war and peace</td>\n",
              "      <td>post-war reconstruction</td>\n",
              "    </tr>\n",
              "    <tr>\n",
              "      <th>10915</th>\n",
              "      <td>887334</td>\n",
              "      <td>therussophileorg--2019-09-25--Iraqi president ...</td>\n",
              "      <td>2019-09-25</td>\n",
              "      <td>therussophileorg</td>\n",
              "      <td>Iraqi president demands international help for...</td>\n",
              "      <td>This\\n\\n[post](http://www.presstv.ir/Detail/20...</td>\n",
              "      <td>Michael Sullivan</td>\n",
              "      <td>https://www.therussophile.org/iraqi-president-...</td>\n",
              "      <td>2019-09-25 16:58:01+00:00</td>\n",
              "      <td>1569445081</td>\n",
              "      <td>1570222223</td>\n",
              "      <td>conflict, war and peace</td>\n",
              "      <td>post-war reconstruction</td>\n",
              "    </tr>\n",
              "    <tr>\n",
              "      <th>10916</th>\n",
              "      <td>885988</td>\n",
              "      <td>therussophileorg--2019-09-20--Russia expects t...</td>\n",
              "      <td>2019-09-20</td>\n",
              "      <td>therussophileorg</td>\n",
              "      <td>Russia expects to cooperate with China on Syri...</td>\n",
              "      <td>This\\n\\n[post](https://tass.com/politics/10791...</td>\n",
              "      <td>Michael Sullivan</td>\n",
              "      <td>https://www.therussophile.org/russia-expects-t...</td>\n",
              "      <td>2019-09-20 13:56:47+00:00</td>\n",
              "      <td>1569002207</td>\n",
              "      <td>1570222711</td>\n",
              "      <td>conflict, war and peace</td>\n",
              "      <td>post-war reconstruction</td>\n",
              "    </tr>\n",
              "  </tbody>\n",
              "</table>\n",
              "<p>10917 rows × 13 columns</p>\n",
              "</div>\n",
              "    <div class=\"colab-df-buttons\">\n",
              "\n",
              "  <div class=\"colab-df-container\">\n",
              "    <button class=\"colab-df-convert\" onclick=\"convertToInteractive('df-988f818f-b504-47e5-b49a-5f888d792495')\"\n",
              "            title=\"Convert this dataframe to an interactive table.\"\n",
              "            style=\"display:none;\">\n",
              "\n",
              "  <svg xmlns=\"http://www.w3.org/2000/svg\" height=\"24px\" viewBox=\"0 -960 960 960\">\n",
              "    <path d=\"M120-120v-720h720v720H120Zm60-500h600v-160H180v160Zm220 220h160v-160H400v160Zm0 220h160v-160H400v160ZM180-400h160v-160H180v160Zm440 0h160v-160H620v160ZM180-180h160v-160H180v160Zm440 0h160v-160H620v160Z\"/>\n",
              "  </svg>\n",
              "    </button>\n",
              "\n",
              "  <style>\n",
              "    .colab-df-container {\n",
              "      display:flex;\n",
              "      gap: 12px;\n",
              "    }\n",
              "\n",
              "    .colab-df-convert {\n",
              "      background-color: #E8F0FE;\n",
              "      border: none;\n",
              "      border-radius: 50%;\n",
              "      cursor: pointer;\n",
              "      display: none;\n",
              "      fill: #1967D2;\n",
              "      height: 32px;\n",
              "      padding: 0 0 0 0;\n",
              "      width: 32px;\n",
              "    }\n",
              "\n",
              "    .colab-df-convert:hover {\n",
              "      background-color: #E2EBFA;\n",
              "      box-shadow: 0px 1px 2px rgba(60, 64, 67, 0.3), 0px 1px 3px 1px rgba(60, 64, 67, 0.15);\n",
              "      fill: #174EA6;\n",
              "    }\n",
              "\n",
              "    .colab-df-buttons div {\n",
              "      margin-bottom: 4px;\n",
              "    }\n",
              "\n",
              "    [theme=dark] .colab-df-convert {\n",
              "      background-color: #3B4455;\n",
              "      fill: #D2E3FC;\n",
              "    }\n",
              "\n",
              "    [theme=dark] .colab-df-convert:hover {\n",
              "      background-color: #434B5C;\n",
              "      box-shadow: 0px 1px 3px 1px rgba(0, 0, 0, 0.15);\n",
              "      filter: drop-shadow(0px 1px 2px rgba(0, 0, 0, 0.3));\n",
              "      fill: #FFFFFF;\n",
              "    }\n",
              "  </style>\n",
              "\n",
              "    <script>\n",
              "      const buttonEl =\n",
              "        document.querySelector('#df-988f818f-b504-47e5-b49a-5f888d792495 button.colab-df-convert');\n",
              "      buttonEl.style.display =\n",
              "        google.colab.kernel.accessAllowed ? 'block' : 'none';\n",
              "\n",
              "      async function convertToInteractive(key) {\n",
              "        const element = document.querySelector('#df-988f818f-b504-47e5-b49a-5f888d792495');\n",
              "        const dataTable =\n",
              "          await google.colab.kernel.invokeFunction('convertToInteractive',\n",
              "                                                    [key], {});\n",
              "        if (!dataTable) return;\n",
              "\n",
              "        const docLinkHtml = 'Like what you see? Visit the ' +\n",
              "          '<a target=\"_blank\" href=https://colab.research.google.com/notebooks/data_table.ipynb>data table notebook</a>'\n",
              "          + ' to learn more about interactive tables.';\n",
              "        element.innerHTML = '';\n",
              "        dataTable['output_type'] = 'display_data';\n",
              "        await google.colab.output.renderOutput(dataTable, element);\n",
              "        const docLink = document.createElement('div');\n",
              "        docLink.innerHTML = docLinkHtml;\n",
              "        element.appendChild(docLink);\n",
              "      }\n",
              "    </script>\n",
              "  </div>\n",
              "\n",
              "\n",
              "<div id=\"df-53478710-96e5-495f-aaf8-e5c9e3627a30\">\n",
              "  <button class=\"colab-df-quickchart\" onclick=\"quickchart('df-53478710-96e5-495f-aaf8-e5c9e3627a30')\"\n",
              "            title=\"Suggest charts\"\n",
              "            style=\"display:none;\">\n",
              "\n",
              "<svg xmlns=\"http://www.w3.org/2000/svg\" height=\"24px\"viewBox=\"0 0 24 24\"\n",
              "     width=\"24px\">\n",
              "    <g>\n",
              "        <path d=\"M19 3H5c-1.1 0-2 .9-2 2v14c0 1.1.9 2 2 2h14c1.1 0 2-.9 2-2V5c0-1.1-.9-2-2-2zM9 17H7v-7h2v7zm4 0h-2V7h2v10zm4 0h-2v-4h2v4z\"/>\n",
              "    </g>\n",
              "</svg>\n",
              "  </button>\n",
              "\n",
              "<style>\n",
              "  .colab-df-quickchart {\n",
              "      --bg-color: #E8F0FE;\n",
              "      --fill-color: #1967D2;\n",
              "      --hover-bg-color: #E2EBFA;\n",
              "      --hover-fill-color: #174EA6;\n",
              "      --disabled-fill-color: #AAA;\n",
              "      --disabled-bg-color: #DDD;\n",
              "  }\n",
              "\n",
              "  [theme=dark] .colab-df-quickchart {\n",
              "      --bg-color: #3B4455;\n",
              "      --fill-color: #D2E3FC;\n",
              "      --hover-bg-color: #434B5C;\n",
              "      --hover-fill-color: #FFFFFF;\n",
              "      --disabled-bg-color: #3B4455;\n",
              "      --disabled-fill-color: #666;\n",
              "  }\n",
              "\n",
              "  .colab-df-quickchart {\n",
              "    background-color: var(--bg-color);\n",
              "    border: none;\n",
              "    border-radius: 50%;\n",
              "    cursor: pointer;\n",
              "    display: none;\n",
              "    fill: var(--fill-color);\n",
              "    height: 32px;\n",
              "    padding: 0;\n",
              "    width: 32px;\n",
              "  }\n",
              "\n",
              "  .colab-df-quickchart:hover {\n",
              "    background-color: var(--hover-bg-color);\n",
              "    box-shadow: 0 1px 2px rgba(60, 64, 67, 0.3), 0 1px 3px 1px rgba(60, 64, 67, 0.15);\n",
              "    fill: var(--button-hover-fill-color);\n",
              "  }\n",
              "\n",
              "  .colab-df-quickchart-complete:disabled,\n",
              "  .colab-df-quickchart-complete:disabled:hover {\n",
              "    background-color: var(--disabled-bg-color);\n",
              "    fill: var(--disabled-fill-color);\n",
              "    box-shadow: none;\n",
              "  }\n",
              "\n",
              "  .colab-df-spinner {\n",
              "    border: 2px solid var(--fill-color);\n",
              "    border-color: transparent;\n",
              "    border-bottom-color: var(--fill-color);\n",
              "    animation:\n",
              "      spin 1s steps(1) infinite;\n",
              "  }\n",
              "\n",
              "  @keyframes spin {\n",
              "    0% {\n",
              "      border-color: transparent;\n",
              "      border-bottom-color: var(--fill-color);\n",
              "      border-left-color: var(--fill-color);\n",
              "    }\n",
              "    20% {\n",
              "      border-color: transparent;\n",
              "      border-left-color: var(--fill-color);\n",
              "      border-top-color: var(--fill-color);\n",
              "    }\n",
              "    30% {\n",
              "      border-color: transparent;\n",
              "      border-left-color: var(--fill-color);\n",
              "      border-top-color: var(--fill-color);\n",
              "      border-right-color: var(--fill-color);\n",
              "    }\n",
              "    40% {\n",
              "      border-color: transparent;\n",
              "      border-right-color: var(--fill-color);\n",
              "      border-top-color: var(--fill-color);\n",
              "    }\n",
              "    60% {\n",
              "      border-color: transparent;\n",
              "      border-right-color: var(--fill-color);\n",
              "    }\n",
              "    80% {\n",
              "      border-color: transparent;\n",
              "      border-right-color: var(--fill-color);\n",
              "      border-bottom-color: var(--fill-color);\n",
              "    }\n",
              "    90% {\n",
              "      border-color: transparent;\n",
              "      border-bottom-color: var(--fill-color);\n",
              "    }\n",
              "  }\n",
              "</style>\n",
              "\n",
              "  <script>\n",
              "    async function quickchart(key) {\n",
              "      const quickchartButtonEl =\n",
              "        document.querySelector('#' + key + ' button');\n",
              "      quickchartButtonEl.disabled = true;  // To prevent multiple clicks.\n",
              "      quickchartButtonEl.classList.add('colab-df-spinner');\n",
              "      try {\n",
              "        const charts = await google.colab.kernel.invokeFunction(\n",
              "            'suggestCharts', [key], {});\n",
              "      } catch (error) {\n",
              "        console.error('Error during call to suggestCharts:', error);\n",
              "      }\n",
              "      quickchartButtonEl.classList.remove('colab-df-spinner');\n",
              "      quickchartButtonEl.classList.add('colab-df-quickchart-complete');\n",
              "    }\n",
              "    (() => {\n",
              "      let quickchartButtonEl =\n",
              "        document.querySelector('#df-53478710-96e5-495f-aaf8-e5c9e3627a30 button');\n",
              "      quickchartButtonEl.style.display =\n",
              "        google.colab.kernel.accessAllowed ? 'block' : 'none';\n",
              "    })();\n",
              "  </script>\n",
              "</div>\n",
              "\n",
              "  <div id=\"id_9a3653f1-cb07-4661-884b-c74986a55019\">\n",
              "    <style>\n",
              "      .colab-df-generate {\n",
              "        background-color: #E8F0FE;\n",
              "        border: none;\n",
              "        border-radius: 50%;\n",
              "        cursor: pointer;\n",
              "        display: none;\n",
              "        fill: #1967D2;\n",
              "        height: 32px;\n",
              "        padding: 0 0 0 0;\n",
              "        width: 32px;\n",
              "      }\n",
              "\n",
              "      .colab-df-generate:hover {\n",
              "        background-color: #E2EBFA;\n",
              "        box-shadow: 0px 1px 2px rgba(60, 64, 67, 0.3), 0px 1px 3px 1px rgba(60, 64, 67, 0.15);\n",
              "        fill: #174EA6;\n",
              "      }\n",
              "\n",
              "      [theme=dark] .colab-df-generate {\n",
              "        background-color: #3B4455;\n",
              "        fill: #D2E3FC;\n",
              "      }\n",
              "\n",
              "      [theme=dark] .colab-df-generate:hover {\n",
              "        background-color: #434B5C;\n",
              "        box-shadow: 0px 1px 3px 1px rgba(0, 0, 0, 0.15);\n",
              "        filter: drop-shadow(0px 1px 2px rgba(0, 0, 0, 0.3));\n",
              "        fill: #FFFFFF;\n",
              "      }\n",
              "    </style>\n",
              "    <button class=\"colab-df-generate\" onclick=\"generateWithVariable('df')\"\n",
              "            title=\"Generate code using this dataframe.\"\n",
              "            style=\"display:none;\">\n",
              "\n",
              "  <svg xmlns=\"http://www.w3.org/2000/svg\" height=\"24px\"viewBox=\"0 0 24 24\"\n",
              "       width=\"24px\">\n",
              "    <path d=\"M7,19H8.4L18.45,9,17,7.55,7,17.6ZM5,21V16.75L18.45,3.32a2,2,0,0,1,2.83,0l1.4,1.43a1.91,1.91,0,0,1,.58,1.4,1.91,1.91,0,0,1-.58,1.4L9.25,21ZM18.45,9,17,7.55Zm-12,3A5.31,5.31,0,0,0,4.9,8.1,5.31,5.31,0,0,0,1,6.5,5.31,5.31,0,0,0,4.9,4.9,5.31,5.31,0,0,0,6.5,1,5.31,5.31,0,0,0,8.1,4.9,5.31,5.31,0,0,0,12,6.5,5.46,5.46,0,0,0,6.5,12Z\"/>\n",
              "  </svg>\n",
              "    </button>\n",
              "    <script>\n",
              "      (() => {\n",
              "      const buttonEl =\n",
              "        document.querySelector('#id_9a3653f1-cb07-4661-884b-c74986a55019 button.colab-df-generate');\n",
              "      buttonEl.style.display =\n",
              "        google.colab.kernel.accessAllowed ? 'block' : 'none';\n",
              "\n",
              "      buttonEl.onclick = () => {\n",
              "        google.colab.notebook.generateWithVariable('df');\n",
              "      }\n",
              "      })();\n",
              "    </script>\n",
              "  </div>\n",
              "\n",
              "    </div>\n",
              "  </div>\n"
            ]
          },
          "metadata": {},
          "execution_count": 5
        }
      ]
    },
    {
      "cell_type": "code",
      "source": [
        "df[\"category_1\"].value_counts()"
      ],
      "metadata": {
        "colab": {
          "base_uri": "https://localhost:8080/"
        },
        "id": "ANUaS8Fio7qL",
        "outputId": "83df6dc6-2985-4bad-d4b5-c9c489da6985"
      },
      "execution_count": 6,
      "outputs": [
        {
          "output_type": "execute_result",
          "data": {
            "text/plain": [
              "society                                      1100\n",
              "sport                                         907\n",
              "politics                                      900\n",
              "conflict, war and peace                       800\n",
              "religion and belief                           800\n",
              "science and technology                        800\n",
              "labour                                        703\n",
              "health                                        700\n",
              "education                                     607\n",
              "environment                                   600\n",
              "human interest                                600\n",
              "crime, law and justice                        500\n",
              "disaster, accident and emergency incident     500\n",
              "weather                                       400\n",
              "economy, business and finance                 400\n",
              "arts, culture, entertainment and media        300\n",
              "lifestyle and leisure                         300\n",
              "Name: category_1, dtype: int64"
            ]
          },
          "metadata": {},
          "execution_count": 6
        }
      ]
    },
    {
      "cell_type": "code",
      "source": [
        "X = df.content\n",
        "Y = df.category_1"
      ],
      "metadata": {
        "id": "KSd6K9UsaWLI"
      },
      "execution_count": 7,
      "outputs": []
    },
    {
      "cell_type": "markdown",
      "source": [
        "## split the data"
      ],
      "metadata": {
        "id": "z_nwPpXyFdnB"
      }
    },
    {
      "cell_type": "code",
      "source": [
        "X_train, X_temp, y_train, y_temp = train_test_split(X,Y , shuffle=True, test_size = 0.5, random_state = 12342 , stratify=Y)\n",
        "\n",
        "\n",
        "X_val, X_test, y_val, y_test = train_test_split(X_temp, y_temp, shuffle=True, test_size = 0.5, random_state = 12342 , stratify=y_temp)\n"
      ],
      "metadata": {
        "id": "X-H5na3Sod9-"
      },
      "execution_count": 8,
      "outputs": []
    },
    {
      "cell_type": "code",
      "source": [
        "print(X_train.shape)\n",
        "print(y_train.shape)\n",
        "print(X_val.shape)\n",
        "print(y_val.shape)\n",
        "print(X_test.shape)\n",
        "print(y_test.shape)"
      ],
      "metadata": {
        "colab": {
          "base_uri": "https://localhost:8080/"
        },
        "id": "8eiVWK-oap7T",
        "outputId": "48c155b3-32e4-4389-f8a8-089dcc0ed4ab"
      },
      "execution_count": 9,
      "outputs": [
        {
          "output_type": "stream",
          "name": "stdout",
          "text": [
            "(5458,)\n",
            "(5458,)\n",
            "(2729,)\n",
            "(2729,)\n",
            "(2730,)\n",
            "(2730,)\n"
          ]
        }
      ]
    },
    {
      "cell_type": "code",
      "source": [
        "x_train = X_train.values\n",
        "x_val = X_val.values\n",
        "y_train = y_train.values\n",
        "y_val = y_val.values\n",
        "x_test = X_test.values\n",
        "y_test = y_test.values"
      ],
      "metadata": {
        "id": "FgZ5gXsMqpI_"
      },
      "execution_count": 10,
      "outputs": []
    },
    {
      "cell_type": "markdown",
      "source": [
        "## Text preprocessing"
      ],
      "metadata": {
        "id": "EVR-ExiwG5KX"
      }
    },
    {
      "cell_type": "code",
      "source": [
        "(x_train_bert,  y_train_bert), (x_val_bert, y_val_bert), preproc = text.texts_from_array(x_train=x_train, y_train=y_train,\n",
        "                                                                                         x_test = x_val, y_test=y_val,\n",
        "                                                                                          preprocess_mode='bert',\n",
        "                                                                                          lang = 'en',\n",
        "                                                                                          maxlen=512,\n",
        "                                                                                          max_features=35000)"
      ],
      "metadata": {
        "colab": {
          "base_uri": "https://localhost:8080/",
          "height": 295
        },
        "id": "RAYCz1xoo05G",
        "outputId": "f29afd36-dc8f-45b1-9d35-aff9a3cd1899"
      },
      "execution_count": 11,
      "outputs": [
        {
          "output_type": "stream",
          "name": "stdout",
          "text": [
            "downloading pretrained BERT model (uncased_L-12_H-768_A-12.zip)...\n",
            "[██████████████████████████████████████████████████]\n",
            "extracting pretrained BERT model...\n",
            "done.\n",
            "\n",
            "cleanup downloaded zip...\n",
            "done.\n",
            "\n",
            "preprocessing train...\n",
            "language: en\n"
          ]
        },
        {
          "output_type": "display_data",
          "data": {
            "text/plain": [
              "<IPython.core.display.HTML object>"
            ],
            "text/html": [
              "\n",
              "<style>\n",
              "    /* Turns off some styling */\n",
              "    progress {\n",
              "        /* gets rid of default border in Firefox and Opera. */\n",
              "        border: none;\n",
              "        /* Needs to be in here for Safari polyfill so background images work as expected. */\n",
              "        background-size: auto;\n",
              "    }\n",
              "    progress:not([value]), progress:not([value])::-webkit-progress-bar {\n",
              "        background: repeating-linear-gradient(45deg, #7e7e7e, #7e7e7e 10px, #5c5c5c 10px, #5c5c5c 20px);\n",
              "    }\n",
              "    .progress-bar-interrupted, .progress-bar-interrupted::-webkit-progress-bar {\n",
              "        background: #F44336;\n",
              "    }\n",
              "</style>\n"
            ]
          },
          "metadata": {}
        },
        {
          "output_type": "display_data",
          "data": {
            "text/plain": [
              "<IPython.core.display.HTML object>"
            ],
            "text/html": [
              "done."
            ]
          },
          "metadata": {}
        },
        {
          "output_type": "stream",
          "name": "stdout",
          "text": [
            "Is Multi-Label? False\n",
            "preprocessing test...\n",
            "language: en\n"
          ]
        },
        {
          "output_type": "display_data",
          "data": {
            "text/plain": [
              "<IPython.core.display.HTML object>"
            ],
            "text/html": [
              "\n",
              "<style>\n",
              "    /* Turns off some styling */\n",
              "    progress {\n",
              "        /* gets rid of default border in Firefox and Opera. */\n",
              "        border: none;\n",
              "        /* Needs to be in here for Safari polyfill so background images work as expected. */\n",
              "        background-size: auto;\n",
              "    }\n",
              "    progress:not([value]), progress:not([value])::-webkit-progress-bar {\n",
              "        background: repeating-linear-gradient(45deg, #7e7e7e, #7e7e7e 10px, #5c5c5c 10px, #5c5c5c 20px);\n",
              "    }\n",
              "    .progress-bar-interrupted, .progress-bar-interrupted::-webkit-progress-bar {\n",
              "        background: #F44336;\n",
              "    }\n",
              "</style>\n"
            ]
          },
          "metadata": {}
        },
        {
          "output_type": "display_data",
          "data": {
            "text/plain": [
              "<IPython.core.display.HTML object>"
            ],
            "text/html": [
              "done."
            ]
          },
          "metadata": {}
        },
        {
          "output_type": "stream",
          "name": "stdout",
          "text": [
            "task: text classification\n"
          ]
        }
      ]
    },
    {
      "cell_type": "markdown",
      "source": [
        "## Download the model"
      ],
      "metadata": {
        "id": "IYzHBjISG7Qw"
      }
    },
    {
      "cell_type": "code",
      "source": [
        "model = text.text_classifier('bert', train_data=(x_train_bert, y_train_bert), preproc=preproc)\n",
        "learner_1 = ktrain.get_learner(model, train_data=(x_train_bert, y_train_bert), val_data=(x_val_bert, y_val_bert), batch_size=6)\n",
        "learner_2 = ktrain.get_learner(model, train_data=(x_train_bert, y_train_bert), val_data=(x_val_bert, y_val_bert), batch_size=6)\n"
      ],
      "metadata": {
        "colab": {
          "base_uri": "https://localhost:8080/"
        },
        "id": "WMrTS3JIo092",
        "outputId": "7f9fde84-88cb-475b-b180-becbc518673b"
      },
      "execution_count": 12,
      "outputs": [
        {
          "output_type": "stream",
          "name": "stdout",
          "text": [
            "Is Multi-Label? False\n",
            "maxlen is 512\n"
          ]
        },
        {
          "output_type": "stream",
          "name": "stderr",
          "text": [
            "/usr/local/lib/python3.10/dist-packages/keras/src/initializers/initializers.py:120: UserWarning: The initializer GlorotNormal is unseeded and being called multiple times, which will return identical values each time (even if the initializer is unseeded). Please update your code to provide a seed to the initializer, or avoid using the same initializer instance more than once.\n",
            "  warnings.warn(\n"
          ]
        },
        {
          "output_type": "stream",
          "name": "stdout",
          "text": [
            "done.\n"
          ]
        }
      ]
    },
    {
      "cell_type": "markdown",
      "source": [
        "## Using the cyclical learning rate policy"
      ],
      "metadata": {
        "id": "tTyLwBibFocX"
      }
    },
    {
      "cell_type": "code",
      "source": [
        "learner_1.lr_find(show_plot=True, max_epochs=4, suggest= True)"
      ],
      "metadata": {
        "colab": {
          "base_uri": "https://localhost:8080/",
          "height": 769
        },
        "id": "C1OD0IHr-o2q",
        "outputId": "24c5bcc1-00ba-4dc9-be0b-a3c158ffcc62"
      },
      "execution_count": 13,
      "outputs": [
        {
          "output_type": "stream",
          "name": "stdout",
          "text": [
            "simulating training for different learning rates... this may take a few moments...\n"
          ]
        },
        {
          "output_type": "stream",
          "name": "stderr",
          "text": [
            "/usr/local/lib/python3.10/dist-packages/keras/src/engine/training.py:3103: UserWarning: You are saving your model as an HDF5 file via `model.save()`. This file format is considered legacy. We recommend using instead the native Keras format, e.g. `model.save('my_model.keras')`.\n",
            "  saving_api.save_model(\n"
          ]
        },
        {
          "output_type": "stream",
          "name": "stdout",
          "text": [
            "Epoch 1/4\n",
            "910/910 [==============================] - 193s 187ms/step - loss: 2.7805 - accuracy: 0.1420\n",
            "Epoch 2/4\n",
            "910/910 [==============================] - 170s 187ms/step - loss: 1.8559 - accuracy: 0.4502\n",
            "Epoch 3/4\n",
            "910/910 [==============================] - 143s 158ms/step - loss: 9.1827 - accuracy: 0.0684\n",
            "\n",
            "\n",
            "done.\n",
            "Visually inspect loss plot and select learning rate associated with falling loss\n",
            "Three possible suggestions for LR from plot:\n",
            "\tLongest valley (red): 3.42E-06\n",
            "\tMin numerical gradient (purple): 8.55E-06\n",
            "\tMin loss divided by 10 (omitted from plot): 1.18E-05\n"
          ]
        },
        {
          "output_type": "display_data",
          "data": {
            "text/plain": [
              "<Figure size 640x480 with 1 Axes>"
            ],
            "image/png": "[encoded data removed]"
          },
          "metadata": {}
        }
      ]
    },
    {
      "cell_type": "code",
      "source": [
        "# For using the cyclical learning\n",
        "learner_1.fit_onecycle(8.55E-06, 4)"
      ],
      "metadata": {
        "colab": {
          "base_uri": "https://localhost:8080/"
        },
        "id": "V-9V6QNM-o8_",
        "outputId": "617afa31-2845-4959-a4a1-2b4fe9de1ecc"
      },
      "execution_count": 14,
      "outputs": [
        {
          "output_type": "stream",
          "name": "stdout",
          "text": [
            "\n",
            "\n",
            "begin training using onecycle policy with max lr of 8.55e-06...\n",
            "Epoch 1/4\n",
            "910/910 [==============================] - 221s 222ms/step - loss: 2.4008 - accuracy: 0.2765 - val_loss: 1.5354 - val_accuracy: 0.5988\n",
            "Epoch 2/4\n",
            "910/910 [==============================] - 198s 218ms/step - loss: 1.1713 - accuracy: 0.6724 - val_loss: 0.9665 - val_accuracy: 0.7171\n",
            "Epoch 3/4\n",
            "910/910 [==============================] - 198s 218ms/step - loss: 0.7546 - accuracy: 0.7818 - val_loss: 0.8333 - val_accuracy: 0.7457\n",
            "Epoch 4/4\n",
            "910/910 [==============================] - 198s 218ms/step - loss: 0.5112 - accuracy: 0.8591 - val_loss: 0.8158 - val_accuracy: 0.7585\n"
          ]
        },
        {
          "output_type": "execute_result",
          "data": {
            "text/plain": [
              "<keras.src.callbacks.History at 0x7a20d6736e30>"
            ]
          },
          "metadata": {},
          "execution_count": 14
        }
      ]
    },
    {
      "cell_type": "code",
      "source": [
        "learner_1.validate(val_data=(x_val_bert, y_val_bert), class_names=[\"society\", \"sport\", \"politics\" , \"conflict, war and peace\" , \"religion and belief\" , \"science and technology\" , \"labour\" ,\n",
        "                                                                                                        \"health\", \"education\", \"environment\", \"human interest\" , \"crime, law and justice\" , \"disaster, accident and emergency incident\" ,\n",
        "                                                                                                        \"weather\" , \"economy, business and finance\" , \"arts, culture, entertainment and media\" , \"lifestyle and leisure\"])"
      ],
      "metadata": {
        "colab": {
          "base_uri": "https://localhost:8080/"
        },
        "id": "eXQ6gpNZ-pBh",
        "outputId": "8e82541a-028e-43f9-dc35-9c4595ea2c0c"
      },
      "execution_count": 15,
      "outputs": [
        {
          "output_type": "stream",
          "name": "stdout",
          "text": [
            "86/86 [==============================] - 28s 280ms/step\n",
            "                                           precision    recall  f1-score   support\n",
            "\n",
            "                                  society       0.64      0.55      0.59        75\n",
            "                                    sport       0.78      0.82      0.80       200\n",
            "                                 politics       0.77      0.74      0.76       125\n",
            "                  conflict, war and peace       0.67      0.62      0.64       125\n",
            "                      religion and belief       0.78      0.69      0.73       100\n",
            "                   science and technology       0.79      0.76      0.78       151\n",
            "                                   labour       0.84      0.79      0.82       150\n",
            "                                   health       0.71      0.84      0.77       175\n",
            "                                education       0.66      0.71      0.68       150\n",
            "                              environment       0.84      0.85      0.84       176\n",
            "                           human interest       0.82      0.75      0.78        75\n",
            "                   crime, law and justice       0.63      0.61      0.62       225\n",
            "disaster, accident and emergency incident       0.77      0.86      0.81       200\n",
            "                                  weather       0.72      0.57      0.64       200\n",
            "            economy, business and finance       0.74      0.71      0.72       275\n",
            "   arts, culture, entertainment and media       0.87      0.97      0.92       227\n",
            "                    lifestyle and leisure       0.82      0.94      0.88       100\n",
            "\n",
            "                                 accuracy                           0.76      2729\n",
            "                                macro avg       0.76      0.75      0.75      2729\n",
            "                             weighted avg       0.76      0.76      0.76      2729\n",
            "\n"
          ]
        },
        {
          "output_type": "execute_result",
          "data": {
            "text/plain": [
              "array([[ 41,   0,   2,   0,   2,   1,   1,   0,   7,   0,   0,   2,   4,\n",
              "          2,   8,   5,   0],\n",
              "       [  4, 165,   2,   3,   4,   1,   0,   0,   0,   1,   0,   8,   9,\n",
              "          0,   2,   0,   1],\n",
              "       [  0,   3,  93,   3,   2,   0,   0,   4,   0,   2,   0,  10,   6,\n",
              "          0,   2,   0,   0],\n",
              "       [  1,   4,   2,  77,   2,   1,   3,   2,   4,   1,   0,   6,   1,\n",
              "          0,   4,   0,  17],\n",
              "       [  0,   3,   1,   0,  69,   0,   2,   0,   0,   7,   0,  12,   1,\n",
              "          2,   3,   0,   0],\n",
              "       [  1,   0,   1,   5,   0, 115,   0,   1,   2,   4,   0,   4,   8,\n",
              "          4,   5,   1,   0],\n",
              "       [  0,   0,   0,   6,   1,   1, 119,   0,   8,   0,   0,   2,   1,\n",
              "          9,   0,   1,   2],\n",
              "       [  0,   0,   2,   2,   0,   1,   0, 147,   5,   1,   0,   3,   2,\n",
              "          4,   5,   3,   0],\n",
              "       [  2,   1,   0,   1,   0,   3,   2,   2, 107,   0,   2,   5,   1,\n",
              "          7,  10,   7,   0],\n",
              "       [  2,   0,   2,   1,   0,   2,   0,   5,   0, 149,   1,   4,   0,\n",
              "          2,   6,   2,   0],\n",
              "       [  0,   0,   0,   0,   0,   0,   1,   0,   9,   0,  56,   0,   0,\n",
              "          2,   0,   7,   0],\n",
              "       [  5,  25,   7,   9,   5,   2,   4,   5,   4,   4,   0, 137,   8,\n",
              "          3,   5,   2,   0],\n",
              "       [  1,   4,   1,   1,   2,   2,   0,   3,   3,   0,   0,   3, 173,\n",
              "          1,   5,   1,   0],\n",
              "       [  6,   1,   1,   2,   1,   8,   9,  29,   6,   3,   1,   6,   2,\n",
              "        114,  10,   1,   0],\n",
              "       [  1,   6,   7,   1,   0,   8,   1,   8,   6,   5,   6,  14,   8,\n",
              "          7, 194,   3,   0],\n",
              "       [  0,   0,   0,   0,   0,   0,   0,   0,   2,   0,   2,   0,   1,\n",
              "          0,   2, 220,   0],\n",
              "       [  0,   0,   0,   4,   0,   0,   0,   0,   0,   0,   0,   0,   0,\n",
              "          1,   1,   0,  94]])"
            ]
          },
          "metadata": {},
          "execution_count": 15
        }
      ]
    },
    {
      "cell_type": "markdown",
      "source": [
        "## Using the triangular learning rate policy"
      ],
      "metadata": {
        "id": "SqfpenHuFuDQ"
      }
    },
    {
      "cell_type": "code",
      "source": [
        "learner_2.lr_find(show_plot=True, max_epochs=4, suggest= True)"
      ],
      "metadata": {
        "colab": {
          "base_uri": "https://localhost:8080/",
          "height": 806
        },
        "id": "D7AgDYzio1Bb",
        "outputId": "7e5a5a16-0e18-44c1-9394-32de8c256fe0"
      },
      "execution_count": 16,
      "outputs": [
        {
          "output_type": "stream",
          "name": "stdout",
          "text": [
            "simulating training for different learning rates... this may take a few moments...\n"
          ]
        },
        {
          "output_type": "stream",
          "name": "stderr",
          "text": [
            "/usr/local/lib/python3.10/dist-packages/keras/src/engine/training.py:3103: UserWarning: You are saving your model as an HDF5 file via `model.save()`. This file format is considered legacy. We recommend using instead the native Keras format, e.g. `model.save('my_model.keras')`.\n",
            "  saving_api.save_model(\n"
          ]
        },
        {
          "output_type": "stream",
          "name": "stdout",
          "text": [
            "Epoch 1/4\n",
            "910/910 [==============================] - 170s 187ms/step - loss: 2.7171 - accuracy: 0.1653\n",
            "Epoch 2/4\n",
            "910/910 [==============================] - 170s 187ms/step - loss: 1.8140 - accuracy: 0.4745\n",
            "Epoch 3/4\n",
            "910/910 [==============================] - 142s 156ms/step - loss: 8.6795 - accuracy: 0.0785\n"
          ]
        },
        {
          "output_type": "stream",
          "name": "stderr",
          "text": [
            "/usr/local/lib/python3.10/dist-packages/keras/src/initializers/initializers.py:120: UserWarning: The initializer GlorotNormal is unseeded and being called multiple times, which will return identical values each time (even if the initializer is unseeded). Please update your code to provide a seed to the initializer, or avoid using the same initializer instance more than once.\n",
            "  warnings.warn(\n"
          ]
        },
        {
          "output_type": "stream",
          "name": "stdout",
          "text": [
            "\n",
            "\n",
            "done.\n",
            "Visually inspect loss plot and select learning rate associated with falling loss\n",
            "Three possible suggestions for LR from plot:\n",
            "\tLongest valley (red): 4.04E-06\n",
            "\tMin numerical gradient (purple): 8.55E-06\n",
            "\tMin loss divided by 10 (omitted from plot): 9.36E-06\n"
          ]
        },
        {
          "output_type": "display_data",
          "data": {
            "text/plain": [
              "<Figure size 640x480 with 1 Axes>"
            ],
            "image/png": "[encoded data removed]"
          },
          "metadata": {}
        }
      ]
    },
    {
      "cell_type": "code",
      "source": [
        "# For using the triangular learning\n",
        "learner_2.autofit(8.55E-06)"
      ],
      "metadata": {
        "colab": {
          "base_uri": "https://localhost:8080/"
        },
        "id": "ySwlrk2do1Gg",
        "outputId": "d4a58408-2ad0-4bc4-a1c8-2fba0d1a1640"
      },
      "execution_count": 17,
      "outputs": [
        {
          "output_type": "stream",
          "name": "stdout",
          "text": [
            "early_stopping automatically enabled at patience=5\n",
            "reduce_on_plateau automatically enabled at patience=2\n",
            "\n",
            "\n",
            "begin training using triangular learning rate policy with max lr of 8.55e-06...\n",
            "Epoch 1/1024\n",
            "910/910 [==============================] - 214s 223ms/step - loss: 1.8571 - accuracy: 0.4474 - val_loss: 1.1039 - val_accuracy: 0.6761\n",
            "Epoch 2/1024\n",
            "910/910 [==============================] - 198s 218ms/step - loss: 0.9379 - accuracy: 0.7268 - val_loss: 0.9170 - val_accuracy: 0.7237\n",
            "Epoch 3/1024\n",
            "910/910 [==============================] - 198s 218ms/step - loss: 0.7008 - accuracy: 0.7952 - val_loss: 0.8378 - val_accuracy: 0.7475\n",
            "Epoch 4/1024\n",
            "910/910 [==============================] - 198s 218ms/step - loss: 0.5260 - accuracy: 0.8514 - val_loss: 0.8206 - val_accuracy: 0.7523\n",
            "Epoch 5/1024\n",
            "910/910 [==============================] - 198s 218ms/step - loss: 0.4016 - accuracy: 0.8848 - val_loss: 0.8253 - val_accuracy: 0.7615\n",
            "Epoch 6/1024\n",
            "910/910 [==============================] - ETA: 0s - loss: 0.2941 - accuracy: 0.9225\n",
            "Epoch 00006: Reducing Max LR on Plateau: new max lr will be 4.275e-06 (if not early_stopping).\n",
            "910/910 [==============================] - 198s 218ms/step - loss: 0.2941 - accuracy: 0.9225 - val_loss: 0.8533 - val_accuracy: 0.7615\n",
            "Epoch 7/1024\n",
            "910/910 [==============================] - 198s 218ms/step - loss: 0.1896 - accuracy: 0.9529 - val_loss: 0.8668 - val_accuracy: 0.7589\n",
            "Epoch 8/1024\n",
            "910/910 [==============================] - ETA: 0s - loss: 0.1564 - accuracy: 0.9608\n",
            "Epoch 00008: Reducing Max LR on Plateau: new max lr will be 2.1375e-06 (if not early_stopping).\n",
            "910/910 [==============================] - 198s 218ms/step - loss: 0.1564 - accuracy: 0.9608 - val_loss: 0.9174 - val_accuracy: 0.7567\n",
            "Epoch 9/1024\n",
            "910/910 [==============================] - ETA: 0s - loss: 0.1163 - accuracy: 0.9729Restoring model weights from the end of the best epoch: 4.\n",
            "910/910 [==============================] - 198s 218ms/step - loss: 0.1163 - accuracy: 0.9729 - val_loss: 0.9290 - val_accuracy: 0.7622\n",
            "Epoch 9: early stopping\n",
            "Weights from best epoch have been loaded into model.\n"
          ]
        },
        {
          "output_type": "execute_result",
          "data": {
            "text/plain": [
              "<keras.src.callbacks.History at 0x7a20d6245930>"
            ]
          },
          "metadata": {},
          "execution_count": 17
        }
      ]
    },
    {
      "cell_type": "code",
      "source": [
        "learner_2.validate(val_data=(x_val_bert, y_val_bert), class_names=[\"society\", \"sport\", \"politics\" , \"conflict, war and peace\" , \"religion and belief\" , \"science and technology\" , \"labour\" ,\n",
        "                                                                                                        \"health\", \"education\", \"environment\", \"human interest\" , \"crime, law and justice\" , \"disaster, accident and emergency incident\" ,\n",
        "                                                                                                        \"weather\" , \"economy, business and finance\" , \"arts, culture, entertainment and media\" , \"lifestyle and leisure\"])"
      ],
      "metadata": {
        "colab": {
          "base_uri": "https://localhost:8080/"
        },
        "id": "ePasA0p1p3RP",
        "outputId": "54397488-a646-4386-9502-742c4dd77271"
      },
      "execution_count": 18,
      "outputs": [
        {
          "output_type": "stream",
          "name": "stdout",
          "text": [
            "86/86 [==============================] - 28s 280ms/step\n",
            "                                           precision    recall  f1-score   support\n",
            "\n",
            "                                  society       0.69      0.51      0.58        75\n",
            "                                    sport       0.76      0.88      0.81       200\n",
            "                                 politics       0.77      0.74      0.76       125\n",
            "                  conflict, war and peace       0.69      0.61      0.65       125\n",
            "                      religion and belief       0.79      0.72      0.75       100\n",
            "                   science and technology       0.78      0.76      0.77       151\n",
            "                                   labour       0.84      0.77      0.80       150\n",
            "                                   health       0.72      0.83      0.77       175\n",
            "                                education       0.65      0.59      0.62       150\n",
            "                              environment       0.84      0.83      0.84       176\n",
            "                           human interest       0.86      0.80      0.83        75\n",
            "                   crime, law and justice       0.64      0.60      0.62       225\n",
            "disaster, accident and emergency incident       0.79      0.85      0.82       200\n",
            "                                  weather       0.71      0.56      0.63       200\n",
            "            economy, business and finance       0.65      0.76      0.70       275\n",
            "   arts, culture, entertainment and media       0.88      0.91      0.90       227\n",
            "                    lifestyle and leisure       0.81      0.92      0.86       100\n",
            "\n",
            "                                 accuracy                           0.75      2729\n",
            "                                macro avg       0.76      0.74      0.75      2729\n",
            "                             weighted avg       0.75      0.75      0.75      2729\n",
            "\n"
          ]
        },
        {
          "output_type": "execute_result",
          "data": {
            "text/plain": [
              "array([[ 38,   0,   1,   0,   1,   1,   0,   0,   3,   0,   0,   5,   5,\n",
              "          3,  13,   5,   0],\n",
              "       [  1, 176,   2,   2,   4,   0,   0,   0,   0,   1,   0,   8,   4,\n",
              "          0,   2,   0,   0],\n",
              "       [  0,   5,  93,   1,   2,   1,   0,   2,   0,   2,   1,  12,   5,\n",
              "          0,   1,   0,   0],\n",
              "       [  1,   4,   2,  76,   1,   1,   4,   2,   3,   1,   0,   5,   1,\n",
              "          1,   5,   0,  18],\n",
              "       [  0,   3,   0,   1,  72,   0,   2,   0,   0,   5,   0,   8,   1,\n",
              "          3,   5,   0,   0],\n",
              "       [  1,   1,   1,   4,   0, 115,   0,   1,   2,   5,   0,   4,   7,\n",
              "          4,   5,   1,   0],\n",
              "       [  0,   0,   0,   7,   2,   1, 115,   0,  10,   1,   0,   1,   0,\n",
              "         10,   0,   1,   2],\n",
              "       [  0,   0,   2,   1,   0,   2,   0, 145,   5,   1,   0,   4,   2,\n",
              "          3,   9,   1,   0],\n",
              "       [  2,   5,   0,   1,   1,   4,   3,   3,  89,   0,   2,   4,   1,\n",
              "          6,  21,   7,   1],\n",
              "       [  2,   0,   3,   0,   2,   2,   0,   2,   0, 146,   0,   4,   1,\n",
              "          2,  11,   1,   0],\n",
              "       [  0,   0,   0,   0,   0,   0,   0,   0,   7,   0,  60,   0,   0,\n",
              "          2,   1,   5,   0],\n",
              "       [  2,  26,   7,   9,   4,   1,   3,   7,   3,   4,   0, 136,   8,\n",
              "          2,  11,   2,   0],\n",
              "       [  2,   7,   0,   1,   0,   3,   0,   1,   2,   0,   0,   7, 170,\n",
              "          1,   5,   1,   0],\n",
              "       [  2,   1,   1,   1,   2,   8,   9,  31,   7,   2,   0,   6,   2,\n",
              "        113,  14,   1,   0],\n",
              "       [  2,   4,   9,   0,   0,   7,   1,   7,   4,   4,   3,   9,   7,\n",
              "          6, 210,   2,   0],\n",
              "       [  2,   0,   0,   0,   0,   1,   0,   0,   2,   1,   4,   0,   1,\n",
              "          2,   7, 207,   0],\n",
              "       [  0,   0,   0,   6,   0,   0,   0,   0,   0,   0,   0,   0,   0,\n",
              "          1,   1,   0,  92]])"
            ]
          },
          "metadata": {},
          "execution_count": 18
        }
      ]
    },
    {
      "cell_type": "code",
      "source": [
        "# getting predictor variable\n",
        "predictor_1 = ktrain.get_predictor(learner_1.model, preproc)\n",
        "predictor_2 = ktrain.get_predictor(learner_2.model, preproc)\n"
      ],
      "metadata": {
        "id": "B8xUk-cOp3T2"
      },
      "execution_count": 19,
      "outputs": []
    },
    {
      "cell_type": "code",
      "source": [
        "y_pred_1 = predictor_1.predict(x_test.tolist())\n",
        "y_pred_2 = predictor_2.predict(x_test.tolist())"
      ],
      "metadata": {
        "id": "OpK7Sw8bp3Yy"
      },
      "execution_count": 20,
      "outputs": []
    },
    {
      "cell_type": "markdown",
      "source": [
        "## Compute the metrics for testing set"
      ],
      "metadata": {
        "id": "hV2dPbDrF0Bx"
      }
    },
    {
      "cell_type": "code",
      "source": [
        "accuracy_17_1, precision_17_1, recall_17_1, f1_17_1 = compute_classification_report(y_test , y_pred_1)"
      ],
      "metadata": {
        "colab": {
          "base_uri": "https://localhost:8080/"
        },
        "id": "uLg_3ZFyp3f2",
        "outputId": "a6c566a2-64da-4021-f90c-c9ca2da19f1a"
      },
      "execution_count": 21,
      "outputs": [
        {
          "output_type": "stream",
          "name": "stdout",
          "text": [
            "Classification Report:\n",
            "                                           precision    recall  f1-score   support\n",
            "\n",
            "   arts, culture, entertainment and media       0.54      0.52      0.53        75\n",
            "                  conflict, war and peace       0.73      0.81      0.76       200\n",
            "                   crime, law and justice       0.85      0.74      0.79       125\n",
            "disaster, accident and emergency incident       0.77      0.69      0.73       125\n",
            "            economy, business and finance       0.79      0.67      0.72       100\n",
            "                                education       0.80      0.72      0.76       152\n",
            "                              environment       0.81      0.84      0.83       150\n",
            "                                   health       0.74      0.85      0.79       175\n",
            "                           human interest       0.68      0.69      0.68       150\n",
            "                                   labour       0.82      0.88      0.85       176\n",
            "                    lifestyle and leisure       0.82      0.73      0.77        75\n",
            "                                 politics       0.66      0.61      0.63       225\n",
            "                      religion and belief       0.70      0.81      0.75       200\n",
            "                   science and technology       0.73      0.64      0.68       200\n",
            "                                  society       0.69      0.67      0.68       275\n",
            "                                    sport       0.88      0.96      0.92       227\n",
            "                                  weather       0.90      0.97      0.93       100\n",
            "\n",
            "                                 accuracy                           0.76      2730\n",
            "                                macro avg       0.76      0.75      0.75      2730\n",
            "                             weighted avg       0.76      0.76      0.75      2730\n",
            "\n",
            "Accuracy: 0.7567765567765568\n",
            "Precision: 0.7602060391581988\n",
            "Recall: 0.7516493950881508\n",
            "F1 Score: 0.7539622491053318\n"
          ]
        }
      ]
    },
    {
      "cell_type": "code",
      "source": [
        "accuracy_17_2, precision_17_2, recall_17_2, f1_17_2 = compute_classification_report(y_test , y_pred_2)"
      ],
      "metadata": {
        "colab": {
          "base_uri": "https://localhost:8080/"
        },
        "id": "ljs_FmXH_zpH",
        "outputId": "bc1df2db-33c5-4f69-ea82-c5f7b08ff56d"
      },
      "execution_count": 22,
      "outputs": [
        {
          "output_type": "stream",
          "name": "stdout",
          "text": [
            "Classification Report:\n",
            "                                           precision    recall  f1-score   support\n",
            "\n",
            "   arts, culture, entertainment and media       0.60      0.52      0.56        75\n",
            "                  conflict, war and peace       0.71      0.85      0.77       200\n",
            "                   crime, law and justice       0.83      0.76      0.79       125\n",
            "disaster, accident and emergency incident       0.82      0.68      0.74       125\n",
            "            economy, business and finance       0.80      0.65      0.72       100\n",
            "                                education       0.76      0.73      0.74       152\n",
            "                              environment       0.81      0.84      0.83       150\n",
            "                                   health       0.76      0.83      0.79       175\n",
            "                           human interest       0.71      0.59      0.64       150\n",
            "                                   labour       0.82      0.86      0.84       176\n",
            "                    lifestyle and leisure       0.83      0.77      0.80        75\n",
            "                                 politics       0.67      0.62      0.64       225\n",
            "                      religion and belief       0.72      0.77      0.74       200\n",
            "                   science and technology       0.75      0.61      0.68       200\n",
            "                                  society       0.63      0.75      0.69       275\n",
            "                                    sport       0.92      0.95      0.94       227\n",
            "                                  weather       0.92      0.97      0.94       100\n",
            "\n",
            "                                 accuracy                           0.76      2730\n",
            "                                macro avg       0.77      0.75      0.76      2730\n",
            "                             weighted avg       0.76      0.76      0.76      2730\n",
            "\n",
            "Accuracy: 0.7582417582417582\n",
            "Precision: 0.7678997779382142\n",
            "Recall: 0.7505598735781085\n",
            "F1 Score: 0.7563323921437445\n"
          ]
        }
      ]
    },
    {
      "cell_type": "markdown",
      "source": [
        "## Save the models"
      ],
      "metadata": {
        "id": "oHLZuAweF6e3"
      }
    },
    {
      "cell_type": "code",
      "source": [
        "predictor_1.save('/content/drive/MyDrive/Topics/BERT/bert_17_topics_1_75.67')\n",
        "predictor_2.save('/content/drive/MyDrive/Topics/BERT/bert_17_topics_2_74.82')\n"
      ],
      "metadata": {
        "colab": {
          "base_uri": "https://localhost:8080/"
        },
        "id": "Jfu4nQAqD--b",
        "outputId": "95f651e3-45ae-4a50-e491-d88bdc68d876"
      },
      "execution_count": 24,
      "outputs": [
        {
          "output_type": "stream",
          "name": "stderr",
          "text": [
            "/usr/local/lib/python3.10/dist-packages/keras/src/engine/training.py:3103: UserWarning: You are saving your model as an HDF5 file via `model.save()`. This file format is considered legacy. We recommend using instead the native Keras format, e.g. `model.save('my_model.keras')`.\n",
            "  saving_api.save_model(\n"
          ]
        }
      ]
    }
  ]
}