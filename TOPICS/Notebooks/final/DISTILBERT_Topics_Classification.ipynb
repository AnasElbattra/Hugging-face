{
  "nbformat": 4,
  "nbformat_minor": 0,
  "metadata": {
    "colab": {
      "provenance": [],
      "gpuType": "A100",
      "machine_shape": "hm",
      "toc_visible": true
    },
    "kernelspec": {
      "name": "python3",
      "display_name": "Python 3"
    },
    "language_info": {
      "name": "python"
    },
    "accelerator": "GPU"
  },
  "cells": [
    {
      "cell_type": "markdown",
      "source": [
        "# Install the needed libraries"
      ],
      "metadata": {
        "id": "NySF9XUHUOuK"
      }
    },
    {
      "cell_type": "code",
      "source": [
        "!pip install https://github.com/amaiya/eli5-tf/archive/refs/heads/master.zip"
      ],
      "metadata": {
        "colab": {
          "base_uri": "https://localhost:8080/"
        },
        "id": "hXgEnaMjtM-N",
        "outputId": "2de7cd95-f616-435d-a0e5-73a550ccc9e6"
      },
      "execution_count": 1,
      "outputs": [
        {
          "output_type": "stream",
          "name": "stdout",
          "text": [
            "Collecting https://github.com/amaiya/eli5-tf/archive/refs/heads/master.zip\n",
            "  Downloading https://github.com/amaiya/eli5-tf/archive/refs/heads/master.zip\n",
            "\u001b[2K     \u001b[32m\\\u001b[0m \u001b[32m6.9 MB\u001b[0m \u001b[31m18.2 MB/s\u001b[0m \u001b[33m0:00:00\u001b[0m\n",
            "\u001b[?25h  Preparing metadata (setup.py) ... \u001b[?25l\u001b[?25hdone\n",
            "Requirement already satisfied: attrs>17.1.0 in /usr/local/lib/python3.10/dist-packages (from eli5==0.13.0) (23.1.0)\n",
            "Requirement already satisfied: jinja2>=3.0.0 in /usr/local/lib/python3.10/dist-packages (from eli5==0.13.0) (3.1.2)\n",
            "Requirement already satisfied: numpy>=1.9.0 in /usr/local/lib/python3.10/dist-packages (from eli5==0.13.0) (1.23.5)\n",
            "Requirement already satisfied: scipy in /usr/local/lib/python3.10/dist-packages (from eli5==0.13.0) (1.11.4)\n",
            "Requirement already satisfied: six in /usr/local/lib/python3.10/dist-packages (from eli5==0.13.0) (1.16.0)\n",
            "Requirement already satisfied: scikit-learn>=0.20 in /usr/local/lib/python3.10/dist-packages (from eli5==0.13.0) (1.2.2)\n",
            "Requirement already satisfied: graphviz in /usr/local/lib/python3.10/dist-packages (from eli5==0.13.0) (0.20.1)\n",
            "Requirement already satisfied: tabulate>=0.7.7 in /usr/local/lib/python3.10/dist-packages (from eli5==0.13.0) (0.9.0)\n",
            "Requirement already satisfied: MarkupSafe>=2.0 in /usr/local/lib/python3.10/dist-packages (from jinja2>=3.0.0->eli5==0.13.0) (2.1.3)\n",
            "Requirement already satisfied: joblib>=1.1.1 in /usr/local/lib/python3.10/dist-packages (from scikit-learn>=0.20->eli5==0.13.0) (1.3.2)\n",
            "Requirement already satisfied: threadpoolctl>=2.0.0 in /usr/local/lib/python3.10/dist-packages (from scikit-learn>=0.20->eli5==0.13.0) (3.2.0)\n",
            "Building wheels for collected packages: eli5\n",
            "  Building wheel for eli5 (setup.py) ... \u001b[?25l\u001b[?25hdone\n",
            "  Created wheel for eli5: filename=eli5-0.13.0-py2.py3-none-any.whl size=108157 sha256=40d8ccc860e91fa104e95dc54bf4e6b51be65c10be3db1e5b3529357ea544a0c\n",
            "  Stored in directory: /tmp/pip-ephem-wheel-cache-z4yavdrl/wheels/0b/14/54/23c07f7254b733dc3daac99ba1fda60e30f1b2991b3b8ee0bf\n",
            "Successfully built eli5\n",
            "Installing collected packages: eli5\n",
            "Successfully installed eli5-0.13.0\n"
          ]
        }
      ]
    },
    {
      "cell_type": "code",
      "execution_count": 2,
      "metadata": {
        "colab": {
          "base_uri": "https://localhost:8080/"
        },
        "id": "7p249pQUICL8",
        "outputId": "db47167d-2ed9-4a81-ce47-b09e80812841"
      },
      "outputs": [
        {
          "output_type": "stream",
          "name": "stdout",
          "text": [
            "Collecting ktrain\n",
            "  Downloading ktrain-0.39.0.tar.gz (25.3 MB)\n",
            "\u001b[2K     \u001b[90m━━━━━━━━━━━━━━━━━━━━━━━━━━━━━━━━━━━━━━━━\u001b[0m \u001b[32m25.3/25.3 MB\u001b[0m \u001b[31m47.1 MB/s\u001b[0m eta \u001b[36m0:00:00\u001b[0m\n",
            "\u001b[?25h  Preparing metadata (setup.py) ... \u001b[?25l\u001b[?25hdone\n",
            "Requirement already satisfied: scikit-learn in /usr/local/lib/python3.10/dist-packages (from ktrain) (1.2.2)\n",
            "Requirement already satisfied: matplotlib>=3.0.0 in /usr/local/lib/python3.10/dist-packages (from ktrain) (3.7.1)\n",
            "Requirement already satisfied: pandas>=1.0.1 in /usr/local/lib/python3.10/dist-packages (from ktrain) (1.5.3)\n",
            "Requirement already satisfied: fastprogress>=0.1.21 in /usr/local/lib/python3.10/dist-packages (from ktrain) (1.0.3)\n",
            "Requirement already satisfied: requests in /usr/local/lib/python3.10/dist-packages (from ktrain) (2.31.0)\n",
            "Requirement already satisfied: joblib in /usr/local/lib/python3.10/dist-packages (from ktrain) (1.3.2)\n",
            "Requirement already satisfied: packaging in /usr/local/lib/python3.10/dist-packages (from ktrain) (23.2)\n",
            "Collecting langdetect (from ktrain)\n",
            "  Downloading langdetect-1.0.9.tar.gz (981 kB)\n",
            "\u001b[2K     \u001b[90m━━━━━━━━━━━━━━━━━━━━━━━━━━━━━━━━━━━━━━━━\u001b[0m \u001b[32m981.5/981.5 kB\u001b[0m \u001b[31m70.5 MB/s\u001b[0m eta \u001b[36m0:00:00\u001b[0m\n",
            "\u001b[?25h  Preparing metadata (setup.py) ... \u001b[?25l\u001b[?25hdone\n",
            "Requirement already satisfied: jieba in /usr/local/lib/python3.10/dist-packages (from ktrain) (0.42.1)\n",
            "Requirement already satisfied: charset-normalizer in /usr/local/lib/python3.10/dist-packages (from ktrain) (3.3.2)\n",
            "Requirement already satisfied: chardet in /usr/local/lib/python3.10/dist-packages (from ktrain) (5.2.0)\n",
            "Collecting syntok>1.3.3 (from ktrain)\n",
            "  Downloading syntok-1.4.4-py3-none-any.whl (24 kB)\n",
            "Collecting tika (from ktrain)\n",
            "  Downloading tika-2.6.0.tar.gz (27 kB)\n",
            "  Preparing metadata (setup.py) ... \u001b[?25l\u001b[?25hdone\n",
            "Requirement already satisfied: transformers>=4.17.0 in /usr/local/lib/python3.10/dist-packages (from ktrain) (4.35.2)\n",
            "Collecting sentencepiece (from ktrain)\n",
            "  Downloading sentencepiece-0.1.99-cp310-cp310-manylinux_2_17_x86_64.manylinux2014_x86_64.whl (1.3 MB)\n",
            "\u001b[2K     \u001b[90m━━━━━━━━━━━━━━━━━━━━━━━━━━━━━━━━━━━━━━━━\u001b[0m \u001b[32m1.3/1.3 MB\u001b[0m \u001b[31m83.0 MB/s\u001b[0m eta \u001b[36m0:00:00\u001b[0m\n",
            "\u001b[?25hCollecting keras_bert>=0.86.0 (from ktrain)\n",
            "  Downloading keras-bert-0.89.0.tar.gz (25 kB)\n",
            "  Preparing metadata (setup.py) ... \u001b[?25l\u001b[?25hdone\n",
            "Collecting whoosh (from ktrain)\n",
            "  Downloading Whoosh-2.7.4-py2.py3-none-any.whl (468 kB)\n",
            "\u001b[2K     \u001b[90m━━━━━━━━━━━━━━━━━━━━━━━━━━━━━━━━━━━━━━━━\u001b[0m \u001b[32m468.8/468.8 kB\u001b[0m \u001b[31m54.9 MB/s\u001b[0m eta \u001b[36m0:00:00\u001b[0m\n",
            "\u001b[?25hRequirement already satisfied: numpy in /usr/local/lib/python3.10/dist-packages (from keras_bert>=0.86.0->ktrain) (1.23.5)\n",
            "Collecting keras-transformer==0.40.0 (from keras_bert>=0.86.0->ktrain)\n",
            "  Downloading keras-transformer-0.40.0.tar.gz (9.7 kB)\n",
            "  Preparing metadata (setup.py) ... \u001b[?25l\u001b[?25hdone\n",
            "Collecting keras-pos-embd==0.13.0 (from keras-transformer==0.40.0->keras_bert>=0.86.0->ktrain)\n",
            "  Downloading keras-pos-embd-0.13.0.tar.gz (5.6 kB)\n",
            "  Preparing metadata (setup.py) ... \u001b[?25l\u001b[?25hdone\n",
            "Collecting keras-multi-head==0.29.0 (from keras-transformer==0.40.0->keras_bert>=0.86.0->ktrain)\n",
            "  Downloading keras-multi-head-0.29.0.tar.gz (13 kB)\n",
            "  Preparing metadata (setup.py) ... \u001b[?25l\u001b[?25hdone\n",
            "Collecting keras-layer-normalization==0.16.0 (from keras-transformer==0.40.0->keras_bert>=0.86.0->ktrain)\n",
            "  Downloading keras-layer-normalization-0.16.0.tar.gz (3.9 kB)\n",
            "  Preparing metadata (setup.py) ... \u001b[?25l\u001b[?25hdone\n",
            "Collecting keras-position-wise-feed-forward==0.8.0 (from keras-transformer==0.40.0->keras_bert>=0.86.0->ktrain)\n",
            "  Downloading keras-position-wise-feed-forward-0.8.0.tar.gz (4.1 kB)\n",
            "  Preparing metadata (setup.py) ... \u001b[?25l\u001b[?25hdone\n",
            "Collecting keras-embed-sim==0.10.0 (from keras-transformer==0.40.0->keras_bert>=0.86.0->ktrain)\n",
            "  Downloading keras-embed-sim-0.10.0.tar.gz (3.6 kB)\n",
            "  Preparing metadata (setup.py) ... \u001b[?25l\u001b[?25hdone\n",
            "Collecting keras-self-attention==0.51.0 (from keras-multi-head==0.29.0->keras-transformer==0.40.0->keras_bert>=0.86.0->ktrain)\n",
            "  Downloading keras-self-attention-0.51.0.tar.gz (11 kB)\n",
            "  Preparing metadata (setup.py) ... \u001b[?25l\u001b[?25hdone\n",
            "Requirement already satisfied: contourpy>=1.0.1 in /usr/local/lib/python3.10/dist-packages (from matplotlib>=3.0.0->ktrain) (1.2.0)\n",
            "Requirement already satisfied: cycler>=0.10 in /usr/local/lib/python3.10/dist-packages (from matplotlib>=3.0.0->ktrain) (0.12.1)\n",
            "Requirement already satisfied: fonttools>=4.22.0 in /usr/local/lib/python3.10/dist-packages (from matplotlib>=3.0.0->ktrain) (4.46.0)\n",
            "Requirement already satisfied: kiwisolver>=1.0.1 in /usr/local/lib/python3.10/dist-packages (from matplotlib>=3.0.0->ktrain) (1.4.5)\n",
            "Requirement already satisfied: pillow>=6.2.0 in /usr/local/lib/python3.10/dist-packages (from matplotlib>=3.0.0->ktrain) (9.4.0)\n",
            "Requirement already satisfied: pyparsing>=2.3.1 in /usr/local/lib/python3.10/dist-packages (from matplotlib>=3.0.0->ktrain) (3.1.1)\n",
            "Requirement already satisfied: python-dateutil>=2.7 in /usr/local/lib/python3.10/dist-packages (from matplotlib>=3.0.0->ktrain) (2.8.2)\n",
            "Requirement already satisfied: pytz>=2020.1 in /usr/local/lib/python3.10/dist-packages (from pandas>=1.0.1->ktrain) (2023.3.post1)\n",
            "Requirement already satisfied: regex>2016 in /usr/local/lib/python3.10/dist-packages (from syntok>1.3.3->ktrain) (2023.6.3)\n",
            "Requirement already satisfied: filelock in /usr/local/lib/python3.10/dist-packages (from transformers>=4.17.0->ktrain) (3.13.1)\n",
            "Requirement already satisfied: huggingface-hub<1.0,>=0.16.4 in /usr/local/lib/python3.10/dist-packages (from transformers>=4.17.0->ktrain) (0.19.4)\n",
            "Requirement already satisfied: pyyaml>=5.1 in /usr/local/lib/python3.10/dist-packages (from transformers>=4.17.0->ktrain) (6.0.1)\n",
            "Requirement already satisfied: tokenizers<0.19,>=0.14 in /usr/local/lib/python3.10/dist-packages (from transformers>=4.17.0->ktrain) (0.15.0)\n",
            "Requirement already satisfied: safetensors>=0.3.1 in /usr/local/lib/python3.10/dist-packages (from transformers>=4.17.0->ktrain) (0.4.1)\n",
            "Requirement already satisfied: tqdm>=4.27 in /usr/local/lib/python3.10/dist-packages (from transformers>=4.17.0->ktrain) (4.66.1)\n",
            "Requirement already satisfied: six in /usr/local/lib/python3.10/dist-packages (from langdetect->ktrain) (1.16.0)\n",
            "Requirement already satisfied: idna<4,>=2.5 in /usr/local/lib/python3.10/dist-packages (from requests->ktrain) (3.6)\n",
            "Requirement already satisfied: urllib3<3,>=1.21.1 in /usr/local/lib/python3.10/dist-packages (from requests->ktrain) (2.0.7)\n",
            "Requirement already satisfied: certifi>=2017.4.17 in /usr/local/lib/python3.10/dist-packages (from requests->ktrain) (2023.11.17)\n",
            "Requirement already satisfied: scipy>=1.3.2 in /usr/local/lib/python3.10/dist-packages (from scikit-learn->ktrain) (1.11.4)\n",
            "Requirement already satisfied: threadpoolctl>=2.0.0 in /usr/local/lib/python3.10/dist-packages (from scikit-learn->ktrain) (3.2.0)\n",
            "Requirement already satisfied: setuptools in /usr/local/lib/python3.10/dist-packages (from tika->ktrain) (67.7.2)\n",
            "Requirement already satisfied: fsspec>=2023.5.0 in /usr/local/lib/python3.10/dist-packages (from huggingface-hub<1.0,>=0.16.4->transformers>=4.17.0->ktrain) (2023.6.0)\n",
            "Requirement already satisfied: typing-extensions>=3.7.4.3 in /usr/local/lib/python3.10/dist-packages (from huggingface-hub<1.0,>=0.16.4->transformers>=4.17.0->ktrain) (4.5.0)\n",
            "Building wheels for collected packages: ktrain, keras_bert, keras-transformer, keras-embed-sim, keras-layer-normalization, keras-multi-head, keras-pos-embd, keras-position-wise-feed-forward, keras-self-attention, langdetect, tika\n",
            "  Building wheel for ktrain (setup.py) ... \u001b[?25l\u001b[?25hdone\n",
            "  Created wheel for ktrain: filename=ktrain-0.39.0-py3-none-any.whl size=25319737 sha256=0ee4f21277a482af4a38adf25831db76854c076fbaf6c5fc8387e43e8ff2ed1e\n",
            "  Stored in directory: /root/.cache/pip/wheels/98/fd/0a/ef6252223f3d2c49b06d18e71c74caa43bbf4c64a8c183a46e\n",
            "  Building wheel for keras_bert (setup.py) ... \u001b[?25l\u001b[?25hdone\n",
            "  Created wheel for keras_bert: filename=keras_bert-0.89.0-py3-none-any.whl size=33499 sha256=bf1262df1b71031c376895fae2845ecb511f0f097e469b720874697e7c26a726\n",
            "  Stored in directory: /root/.cache/pip/wheels/89/0c/04/646b6fdf6375911b42c8d540a8a3fda8d5d77634e5dcbe7b26\n",
            "  Building wheel for keras-transformer (setup.py) ... \u001b[?25l\u001b[?25hdone\n",
            "  Created wheel for keras-transformer: filename=keras_transformer-0.40.0-py3-none-any.whl size=12286 sha256=3b218da5b16467394743e8ec50b2f79d625df18a125599d74ac88e99ec2c48a3\n",
            "  Stored in directory: /root/.cache/pip/wheels/f2/cb/22/75a0ad376129177f7c95c0d91331a18f5368fd657f4035ba7c\n",
            "  Building wheel for keras-embed-sim (setup.py) ... \u001b[?25l\u001b[?25hdone\n",
            "  Created wheel for keras-embed-sim: filename=keras_embed_sim-0.10.0-py3-none-any.whl size=3943 sha256=037f1f82828c62f2df91797d1099c01b3480e77045e701fec9304600333a1b05\n",
            "  Stored in directory: /root/.cache/pip/wheels/82/32/c7/fd35d0d1b840a6c7cbd4343f808d10d0f7b87d271a4dbe796f\n",
            "  Building wheel for keras-layer-normalization (setup.py) ... \u001b[?25l\u001b[?25hdone\n",
            "  Created wheel for keras-layer-normalization: filename=keras_layer_normalization-0.16.0-py3-none-any.whl size=4653 sha256=816c4e02a32721bb178ba08b7bb70b8d64beae0c7305dff569267e15ac7c9799\n",
            "  Stored in directory: /root/.cache/pip/wheels/ed/3a/4b/21db23c0cc56c4b219616e181f258eb7c57d36cc5d056fae9a\n",
            "  Building wheel for keras-multi-head (setup.py) ... \u001b[?25l\u001b[?25hdone\n",
            "  Created wheel for keras-multi-head: filename=keras_multi_head-0.29.0-py3-none-any.whl size=14975 sha256=8c6a9d393286b52473be826451e665bf73c5b4764ec812654f0cf7cb312818d2\n",
            "  Stored in directory: /root/.cache/pip/wheels/cb/23/4b/06d7ae21714f70fcc25b48f972cc8e5e7f4b6b764a038b509d\n",
            "  Building wheel for keras-pos-embd (setup.py) ... \u001b[?25l\u001b[?25hdone\n",
            "  Created wheel for keras-pos-embd: filename=keras_pos_embd-0.13.0-py3-none-any.whl size=6946 sha256=b849c3086e60f2638fffc6b32e42f6be47dc1729e7ea6999941b938eb648c35a\n",
            "  Stored in directory: /root/.cache/pip/wheels/78/07/1b/b1ca47b6ac338554b75c8f52c54e6a2bfbe1b07d79579979a4\n",
            "  Building wheel for keras-position-wise-feed-forward (setup.py) ... \u001b[?25l\u001b[?25hdone\n",
            "  Created wheel for keras-position-wise-feed-forward: filename=keras_position_wise_feed_forward-0.8.0-py3-none-any.whl size=4968 sha256=9ec2fcdbb8347df1eb8e9e7109bcb0deecc668f399a81a92ba8f22f21a59ff81\n",
            "  Stored in directory: /root/.cache/pip/wheels/c1/6a/04/d1706a53b23b2cb5f9a0a76269bf87925daa1bca09eac01b21\n",
            "  Building wheel for keras-self-attention (setup.py) ... \u001b[?25l\u001b[?25hdone\n",
            "  Created wheel for keras-self-attention: filename=keras_self_attention-0.51.0-py3-none-any.whl size=18895 sha256=eee79726d1a38b31ed7728da5994d173399c962bca11de15aad41edd63ec5003\n",
            "  Stored in directory: /root/.cache/pip/wheels/b8/f7/24/607b483144fb9c47b4ba2c5fba6b68e54aeee2d5bf6c05302e\n",
            "  Building wheel for langdetect (setup.py) ... \u001b[?25l\u001b[?25hdone\n",
            "  Created wheel for langdetect: filename=langdetect-1.0.9-py3-none-any.whl size=993225 sha256=41f14fda8e16d7081d64b7d46bbabc433008dc2f5a49ad5f8e46a1d63c724ae1\n",
            "  Stored in directory: /root/.cache/pip/wheels/95/03/7d/59ea870c70ce4e5a370638b5462a7711ab78fba2f655d05106\n",
            "  Building wheel for tika (setup.py) ... \u001b[?25l\u001b[?25hdone\n",
            "  Created wheel for tika: filename=tika-2.6.0-py3-none-any.whl size=32622 sha256=552965bb64801f1e25b8cf5345a41b5e5d3c18f8e6f206ff67e716e4ba972495\n",
            "  Stored in directory: /root/.cache/pip/wheels/5f/71/c7/b757709531121b1700cffda5b6b0d4aad095fb507ec84316d0\n",
            "Successfully built ktrain keras_bert keras-transformer keras-embed-sim keras-layer-normalization keras-multi-head keras-pos-embd keras-position-wise-feed-forward keras-self-attention langdetect tika\n",
            "Installing collected packages: whoosh, sentencepiece, syntok, langdetect, keras-self-attention, keras-position-wise-feed-forward, keras-pos-embd, keras-layer-normalization, keras-embed-sim, tika, keras-multi-head, keras-transformer, keras_bert, ktrain\n",
            "Successfully installed keras-embed-sim-0.10.0 keras-layer-normalization-0.16.0 keras-multi-head-0.29.0 keras-pos-embd-0.13.0 keras-position-wise-feed-forward-0.8.0 keras-self-attention-0.51.0 keras-transformer-0.40.0 keras_bert-0.89.0 ktrain-0.39.0 langdetect-1.0.9 sentencepiece-0.1.99 syntok-1.4.4 tika-2.6.0 whoosh-2.7.4\n"
          ]
        }
      ],
      "source": [
        "!pip3 install ktrain"
      ]
    },
    {
      "cell_type": "markdown",
      "source": [
        "## Import the needed libraries"
      ],
      "metadata": {
        "id": "KY9jDn3bUUlD"
      }
    },
    {
      "cell_type": "code",
      "source": [
        "import pandas as pd\n",
        "import numpy as np\n",
        "import matplotlib.pyplot as plt\n",
        "from sklearn.model_selection import train_test_split\n",
        "from sklearn.metrics import classification_report, accuracy_score, precision_score, recall_score, f1_score\n"
      ],
      "metadata": {
        "id": "kqbVh0OKJoci"
      },
      "execution_count": 85,
      "outputs": []
    },
    {
      "cell_type": "code",
      "source": [
        "import ktrain\n",
        "from ktrain import text\n",
        "MODEL_NAME = 'distilbert-base-uncased'"
      ],
      "metadata": {
        "id": "e6LffBEN2-L-"
      },
      "execution_count": 4,
      "outputs": []
    },
    {
      "cell_type": "code",
      "source": [
        "from google.colab import drive\n",
        "drive.mount('/content/drive')"
      ],
      "metadata": {
        "colab": {
          "base_uri": "https://localhost:8080/"
        },
        "id": "fASwLXHFlC4Q",
        "outputId": "ebeef1ed-c93f-4ccb-b413-0f9d21e922c9"
      },
      "execution_count": 106,
      "outputs": [
        {
          "output_type": "stream",
          "name": "stdout",
          "text": [
            "Mounted at /content/drive\n"
          ]
        }
      ]
    },
    {
      "cell_type": "markdown",
      "source": [
        "# Function to compute the metrics"
      ],
      "metadata": {
        "id": "iYpWaaJDVfzh"
      }
    },
    {
      "cell_type": "code",
      "source": [
        "def compute_classification_report(true_labels_column, predicted_labels_column):\n",
        "    report = classification_report(true_labels_column, predicted_labels_column)\n",
        "    accuracy = accuracy_score(true_labels_column, predicted_labels_column)\n",
        "    precision = precision_score(true_labels_column, predicted_labels_column, average='macro')\n",
        "    recall = recall_score(true_labels_column, predicted_labels_column, average='macro')\n",
        "    f1 = f1_score(true_labels_column, predicted_labels_column, average='macro')\n",
        "\n",
        "    print(\"Classification Report:\")\n",
        "    print(report)\n",
        "    print(\"Accuracy:\", accuracy)\n",
        "    print(\"Precision:\", precision)\n",
        "    print(\"Recall:\", recall)\n",
        "    print(\"F1 Score:\", f1)\n",
        "\n",
        "    return accuracy, precision, recall, f1"
      ],
      "metadata": {
        "id": "kPuWN2wSVfCK"
      },
      "execution_count": 5,
      "outputs": []
    },
    {
      "cell_type": "markdown",
      "source": [
        "# Function to plot the metrics"
      ],
      "metadata": {
        "id": "5TBdMrzLcz04"
      }
    },
    {
      "cell_type": "code",
      "source": [
        "def plot_metrics(labels, accuracy_values):\n",
        "\n",
        "    accuracy_values_scaled = [value * 100 for value in accuracy_values]\n",
        "\n",
        "    # Create a counter plot\n",
        "    fig, ax = plt.subplots()\n",
        "    bar_width = 0.2  # Smaller width\n",
        "    index = np.arange(len(labels))\n",
        "\n",
        "    bars = ax.bar(index, accuracy_values_scaled, bar_width)\n",
        "\n",
        "    # Add values on top of the bars\n",
        "    for bar, value in zip(bars, accuracy_values):\n",
        "        ax.text(bar.get_x() + bar.get_width() / 2, bar.get_height() + 0.01,\n",
        "                f'{value:.2f}%', ha='center', va='bottom')\n",
        "\n",
        "    ax.set_xlabel('Datasets')\n",
        "    ax.set_ylabel('Accuracy (%)')\n",
        "    ax.set_title('BERT Accuracy Comparison')\n",
        "    ax.set_xticks(index)\n",
        "    ax.set_xticklabels(labels)\n",
        "    ax.legend()\n",
        "\n",
        "    plt.show()"
      ],
      "metadata": {
        "id": "94ys49qZcz7t"
      },
      "execution_count": 110,
      "outputs": []
    },
    {
      "cell_type": "markdown",
      "source": [
        "# DistilBERT for 4 topics"
      ],
      "metadata": {
        "id": "0pxUfsSdUdBM"
      }
    },
    {
      "cell_type": "markdown",
      "source": [
        "## Read data"
      ],
      "metadata": {
        "id": "HrF7C4XnUhLL"
      }
    },
    {
      "cell_type": "code",
      "source": [
        "df2 = pd.read_csv(\"https://github.com/mhjabreel/CharCnn_Keras/raw/master/data/ag_news_csv/train.csv\")\n",
        "df2.columns = [\"label\" , \"title\" , \"content\"]\n",
        "df2['label'] = df2['label'].map({1: \"world\", 2: \"sports\", 3: \"business\", 4: \"sci/tech\"})\n"
      ],
      "metadata": {
        "id": "Xu2NkQgxIcUa"
      },
      "execution_count": 6,
      "outputs": []
    },
    {
      "cell_type": "code",
      "source": [
        "df2"
      ],
      "metadata": {
        "colab": {
          "base_uri": "https://localhost:8080/",
          "height": 424
        },
        "id": "sUa8_pYTrnnb",
        "outputId": "fcde1f38-df70-4dee-e437-3b887aba3898"
      },
      "execution_count": 7,
      "outputs": [
        {
          "output_type": "execute_result",
          "data": {
            "text/plain": [
              "           label                                              title  \\\n",
              "0       business  Carlyle Looks Toward Commercial Aerospace (Reu...   \n",
              "1       business    Oil and Economy Cloud Stocks' Outlook (Reuters)   \n",
              "2       business  Iraq Halts Oil Exports from Main Southern Pipe...   \n",
              "3       business  Oil prices soar to all-time record, posing new...   \n",
              "4       business        Stocks End Up, But Near Year Lows (Reuters)   \n",
              "...          ...                                                ...   \n",
              "119994     world  Pakistan's Musharraf Says Won't Quit as Army C...   \n",
              "119995    sports                  Renteria signing a top-shelf deal   \n",
              "119996    sports                    Saban not going to Dolphins yet   \n",
              "119997    sports                                  Today's NFL games   \n",
              "119998    sports                       Nets get Carter from Raptors   \n",
              "\n",
              "                                                  content  \n",
              "0       Reuters - Private investment firm Carlyle Grou...  \n",
              "1       Reuters - Soaring crude prices plus worries\\ab...  \n",
              "2       Reuters - Authorities have halted oil export\\f...  \n",
              "3       AFP - Tearaway world oil prices, toppling reco...  \n",
              "4       Reuters - Stocks ended slightly higher on Frid...  \n",
              "...                                                   ...  \n",
              "119994   KARACHI (Reuters) - Pakistani President Perve...  \n",
              "119995  Red Sox general manager Theo Epstein acknowled...  \n",
              "119996  The Miami Dolphins will put their courtship of...  \n",
              "119997  PITTSBURGH at NY GIANTS Time: 1:30 p.m. Line: ...  \n",
              "119998  INDIANAPOLIS -- All-Star Vince Carter was trad...  \n",
              "\n",
              "[119999 rows x 3 columns]"
            ],
            "text/html": [
              "\n",
              "  <div id=\"df-26b773d3-57bd-4f30-94e9-9c36d361f741\" class=\"colab-df-container\">\n",
              "    <div>\n",
              "<style scoped>\n",
              "    .dataframe tbody tr th:only-of-type {\n",
              "        vertical-align: middle;\n",
              "    }\n",
              "\n",
              "    .dataframe tbody tr th {\n",
              "        vertical-align: top;\n",
              "    }\n",
              "\n",
              "    .dataframe thead th {\n",
              "        text-align: right;\n",
              "    }\n",
              "</style>\n",
              "<table border=\"1\" class=\"dataframe\">\n",
              "  <thead>\n",
              "    <tr style=\"text-align: right;\">\n",
              "      <th></th>\n",
              "      <th>label</th>\n",
              "      <th>title</th>\n",
              "      <th>content</th>\n",
              "    </tr>\n",
              "  </thead>\n",
              "  <tbody>\n",
              "    <tr>\n",
              "      <th>0</th>\n",
              "      <td>business</td>\n",
              "      <td>Carlyle Looks Toward Commercial Aerospace (Reu...</td>\n",
              "      <td>Reuters - Private investment firm Carlyle Grou...</td>\n",
              "    </tr>\n",
              "    <tr>\n",
              "      <th>1</th>\n",
              "      <td>business</td>\n",
              "      <td>Oil and Economy Cloud Stocks' Outlook (Reuters)</td>\n",
              "      <td>Reuters - Soaring crude prices plus worries\\ab...</td>\n",
              "    </tr>\n",
              "    <tr>\n",
              "      <th>2</th>\n",
              "      <td>business</td>\n",
              "      <td>Iraq Halts Oil Exports from Main Southern Pipe...</td>\n",
              "      <td>Reuters - Authorities have halted oil export\\f...</td>\n",
              "    </tr>\n",
              "    <tr>\n",
              "      <th>3</th>\n",
              "      <td>business</td>\n",
              "      <td>Oil prices soar to all-time record, posing new...</td>\n",
              "      <td>AFP - Tearaway world oil prices, toppling reco...</td>\n",
              "    </tr>\n",
              "    <tr>\n",
              "      <th>4</th>\n",
              "      <td>business</td>\n",
              "      <td>Stocks End Up, But Near Year Lows (Reuters)</td>\n",
              "      <td>Reuters - Stocks ended slightly higher on Frid...</td>\n",
              "    </tr>\n",
              "    <tr>\n",
              "      <th>...</th>\n",
              "      <td>...</td>\n",
              "      <td>...</td>\n",
              "      <td>...</td>\n",
              "    </tr>\n",
              "    <tr>\n",
              "      <th>119994</th>\n",
              "      <td>world</td>\n",
              "      <td>Pakistan's Musharraf Says Won't Quit as Army C...</td>\n",
              "      <td>KARACHI (Reuters) - Pakistani President Perve...</td>\n",
              "    </tr>\n",
              "    <tr>\n",
              "      <th>119995</th>\n",
              "      <td>sports</td>\n",
              "      <td>Renteria signing a top-shelf deal</td>\n",
              "      <td>Red Sox general manager Theo Epstein acknowled...</td>\n",
              "    </tr>\n",
              "    <tr>\n",
              "      <th>119996</th>\n",
              "      <td>sports</td>\n",
              "      <td>Saban not going to Dolphins yet</td>\n",
              "      <td>The Miami Dolphins will put their courtship of...</td>\n",
              "    </tr>\n",
              "    <tr>\n",
              "      <th>119997</th>\n",
              "      <td>sports</td>\n",
              "      <td>Today's NFL games</td>\n",
              "      <td>PITTSBURGH at NY GIANTS Time: 1:30 p.m. Line: ...</td>\n",
              "    </tr>\n",
              "    <tr>\n",
              "      <th>119998</th>\n",
              "      <td>sports</td>\n",
              "      <td>Nets get Carter from Raptors</td>\n",
              "      <td>INDIANAPOLIS -- All-Star Vince Carter was trad...</td>\n",
              "    </tr>\n",
              "  </tbody>\n",
              "</table>\n",
              "<p>119999 rows × 3 columns</p>\n",
              "</div>\n",
              "    <div class=\"colab-df-buttons\">\n",
              "\n",
              "  <div class=\"colab-df-container\">\n",
              "    <button class=\"colab-df-convert\" onclick=\"convertToInteractive('df-26b773d3-57bd-4f30-94e9-9c36d361f741')\"\n",
              "            title=\"Convert this dataframe to an interactive table.\"\n",
              "            style=\"display:none;\">\n",
              "\n",
              "  <svg xmlns=\"http://www.w3.org/2000/svg\" height=\"24px\" viewBox=\"0 -960 960 960\">\n",
              "    <path d=\"M120-120v-720h720v720H120Zm60-500h600v-160H180v160Zm220 220h160v-160H400v160Zm0 220h160v-160H400v160ZM180-400h160v-160H180v160Zm440 0h160v-160H620v160ZM180-180h160v-160H180v160Zm440 0h160v-160H620v160Z\"/>\n",
              "  </svg>\n",
              "    </button>\n",
              "\n",
              "  <style>\n",
              "    .colab-df-container {\n",
              "      display:flex;\n",
              "      gap: 12px;\n",
              "    }\n",
              "\n",
              "    .colab-df-convert {\n",
              "      background-color: #E8F0FE;\n",
              "      border: none;\n",
              "      border-radius: 50%;\n",
              "      cursor: pointer;\n",
              "      display: none;\n",
              "      fill: #1967D2;\n",
              "      height: 32px;\n",
              "      padding: 0 0 0 0;\n",
              "      width: 32px;\n",
              "    }\n",
              "\n",
              "    .colab-df-convert:hover {\n",
              "      background-color: #E2EBFA;\n",
              "      box-shadow: 0px 1px 2px rgba(60, 64, 67, 0.3), 0px 1px 3px 1px rgba(60, 64, 67, 0.15);\n",
              "      fill: #174EA6;\n",
              "    }\n",
              "\n",
              "    .colab-df-buttons div {\n",
              "      margin-bottom: 4px;\n",
              "    }\n",
              "\n",
              "    [theme=dark] .colab-df-convert {\n",
              "      background-color: #3B4455;\n",
              "      fill: #D2E3FC;\n",
              "    }\n",
              "\n",
              "    [theme=dark] .colab-df-convert:hover {\n",
              "      background-color: #434B5C;\n",
              "      box-shadow: 0px 1px 3px 1px rgba(0, 0, 0, 0.15);\n",
              "      filter: drop-shadow(0px 1px 2px rgba(0, 0, 0, 0.3));\n",
              "      fill: #FFFFFF;\n",
              "    }\n",
              "  </style>\n",
              "\n",
              "    <script>\n",
              "      const buttonEl =\n",
              "        document.querySelector('#df-26b773d3-57bd-4f30-94e9-9c36d361f741 button.colab-df-convert');\n",
              "      buttonEl.style.display =\n",
              "        google.colab.kernel.accessAllowed ? 'block' : 'none';\n",
              "\n",
              "      async function convertToInteractive(key) {\n",
              "        const element = document.querySelector('#df-26b773d3-57bd-4f30-94e9-9c36d361f741');\n",
              "        const dataTable =\n",
              "          await google.colab.kernel.invokeFunction('convertToInteractive',\n",
              "                                                    [key], {});\n",
              "        if (!dataTable) return;\n",
              "\n",
              "        const docLinkHtml = 'Like what you see? Visit the ' +\n",
              "          '<a target=\"_blank\" href=https://colab.research.google.com/notebooks/data_table.ipynb>data table notebook</a>'\n",
              "          + ' to learn more about interactive tables.';\n",
              "        element.innerHTML = '';\n",
              "        dataTable['output_type'] = 'display_data';\n",
              "        await google.colab.output.renderOutput(dataTable, element);\n",
              "        const docLink = document.createElement('div');\n",
              "        docLink.innerHTML = docLinkHtml;\n",
              "        element.appendChild(docLink);\n",
              "      }\n",
              "    </script>\n",
              "  </div>\n",
              "\n",
              "\n",
              "<div id=\"df-cc309071-df81-4b9d-b1ce-fc43045f9076\">\n",
              "  <button class=\"colab-df-quickchart\" onclick=\"quickchart('df-cc309071-df81-4b9d-b1ce-fc43045f9076')\"\n",
              "            title=\"Suggest charts\"\n",
              "            style=\"display:none;\">\n",
              "\n",
              "<svg xmlns=\"http://www.w3.org/2000/svg\" height=\"24px\"viewBox=\"0 0 24 24\"\n",
              "     width=\"24px\">\n",
              "    <g>\n",
              "        <path d=\"M19 3H5c-1.1 0-2 .9-2 2v14c0 1.1.9 2 2 2h14c1.1 0 2-.9 2-2V5c0-1.1-.9-2-2-2zM9 17H7v-7h2v7zm4 0h-2V7h2v10zm4 0h-2v-4h2v4z\"/>\n",
              "    </g>\n",
              "</svg>\n",
              "  </button>\n",
              "\n",
              "<style>\n",
              "  .colab-df-quickchart {\n",
              "      --bg-color: #E8F0FE;\n",
              "      --fill-color: #1967D2;\n",
              "      --hover-bg-color: #E2EBFA;\n",
              "      --hover-fill-color: #174EA6;\n",
              "      --disabled-fill-color: #AAA;\n",
              "      --disabled-bg-color: #DDD;\n",
              "  }\n",
              "\n",
              "  [theme=dark] .colab-df-quickchart {\n",
              "      --bg-color: #3B4455;\n",
              "      --fill-color: #D2E3FC;\n",
              "      --hover-bg-color: #434B5C;\n",
              "      --hover-fill-color: #FFFFFF;\n",
              "      --disabled-bg-color: #3B4455;\n",
              "      --disabled-fill-color: #666;\n",
              "  }\n",
              "\n",
              "  .colab-df-quickchart {\n",
              "    background-color: var(--bg-color);\n",
              "    border: none;\n",
              "    border-radius: 50%;\n",
              "    cursor: pointer;\n",
              "    display: none;\n",
              "    fill: var(--fill-color);\n",
              "    height: 32px;\n",
              "    padding: 0;\n",
              "    width: 32px;\n",
              "  }\n",
              "\n",
              "  .colab-df-quickchart:hover {\n",
              "    background-color: var(--hover-bg-color);\n",
              "    box-shadow: 0 1px 2px rgba(60, 64, 67, 0.3), 0 1px 3px 1px rgba(60, 64, 67, 0.15);\n",
              "    fill: var(--button-hover-fill-color);\n",
              "  }\n",
              "\n",
              "  .colab-df-quickchart-complete:disabled,\n",
              "  .colab-df-quickchart-complete:disabled:hover {\n",
              "    background-color: var(--disabled-bg-color);\n",
              "    fill: var(--disabled-fill-color);\n",
              "    box-shadow: none;\n",
              "  }\n",
              "\n",
              "  .colab-df-spinner {\n",
              "    border: 2px solid var(--fill-color);\n",
              "    border-color: transparent;\n",
              "    border-bottom-color: var(--fill-color);\n",
              "    animation:\n",
              "      spin 1s steps(1) infinite;\n",
              "  }\n",
              "\n",
              "  @keyframes spin {\n",
              "    0% {\n",
              "      border-color: transparent;\n",
              "      border-bottom-color: var(--fill-color);\n",
              "      border-left-color: var(--fill-color);\n",
              "    }\n",
              "    20% {\n",
              "      border-color: transparent;\n",
              "      border-left-color: var(--fill-color);\n",
              "      border-top-color: var(--fill-color);\n",
              "    }\n",
              "    30% {\n",
              "      border-color: transparent;\n",
              "      border-left-color: var(--fill-color);\n",
              "      border-top-color: var(--fill-color);\n",
              "      border-right-color: var(--fill-color);\n",
              "    }\n",
              "    40% {\n",
              "      border-color: transparent;\n",
              "      border-right-color: var(--fill-color);\n",
              "      border-top-color: var(--fill-color);\n",
              "    }\n",
              "    60% {\n",
              "      border-color: transparent;\n",
              "      border-right-color: var(--fill-color);\n",
              "    }\n",
              "    80% {\n",
              "      border-color: transparent;\n",
              "      border-right-color: var(--fill-color);\n",
              "      border-bottom-color: var(--fill-color);\n",
              "    }\n",
              "    90% {\n",
              "      border-color: transparent;\n",
              "      border-bottom-color: var(--fill-color);\n",
              "    }\n",
              "  }\n",
              "</style>\n",
              "\n",
              "  <script>\n",
              "    async function quickchart(key) {\n",
              "      const quickchartButtonEl =\n",
              "        document.querySelector('#' + key + ' button');\n",
              "      quickchartButtonEl.disabled = true;  // To prevent multiple clicks.\n",
              "      quickchartButtonEl.classList.add('colab-df-spinner');\n",
              "      try {\n",
              "        const charts = await google.colab.kernel.invokeFunction(\n",
              "            'suggestCharts', [key], {});\n",
              "      } catch (error) {\n",
              "        console.error('Error during call to suggestCharts:', error);\n",
              "      }\n",
              "      quickchartButtonEl.classList.remove('colab-df-spinner');\n",
              "      quickchartButtonEl.classList.add('colab-df-quickchart-complete');\n",
              "    }\n",
              "    (() => {\n",
              "      let quickchartButtonEl =\n",
              "        document.querySelector('#df-cc309071-df81-4b9d-b1ce-fc43045f9076 button');\n",
              "      quickchartButtonEl.style.display =\n",
              "        google.colab.kernel.accessAllowed ? 'block' : 'none';\n",
              "    })();\n",
              "  </script>\n",
              "</div>\n",
              "\n",
              "  <div id=\"id_8285a7c1-4fc8-43f0-b6c6-f41c7d4c65f8\">\n",
              "    <style>\n",
              "      .colab-df-generate {\n",
              "        background-color: #E8F0FE;\n",
              "        border: none;\n",
              "        border-radius: 50%;\n",
              "        cursor: pointer;\n",
              "        display: none;\n",
              "        fill: #1967D2;\n",
              "        height: 32px;\n",
              "        padding: 0 0 0 0;\n",
              "        width: 32px;\n",
              "      }\n",
              "\n",
              "      .colab-df-generate:hover {\n",
              "        background-color: #E2EBFA;\n",
              "        box-shadow: 0px 1px 2px rgba(60, 64, 67, 0.3), 0px 1px 3px 1px rgba(60, 64, 67, 0.15);\n",
              "        fill: #174EA6;\n",
              "      }\n",
              "\n",
              "      [theme=dark] .colab-df-generate {\n",
              "        background-color: #3B4455;\n",
              "        fill: #D2E3FC;\n",
              "      }\n",
              "\n",
              "      [theme=dark] .colab-df-generate:hover {\n",
              "        background-color: #434B5C;\n",
              "        box-shadow: 0px 1px 3px 1px rgba(0, 0, 0, 0.15);\n",
              "        filter: drop-shadow(0px 1px 2px rgba(0, 0, 0, 0.3));\n",
              "        fill: #FFFFFF;\n",
              "      }\n",
              "    </style>\n",
              "    <button class=\"colab-df-generate\" onclick=\"generateWithVariable('df2')\"\n",
              "            title=\"Generate code using this dataframe.\"\n",
              "            style=\"display:none;\">\n",
              "\n",
              "  <svg xmlns=\"http://www.w3.org/2000/svg\" height=\"24px\"viewBox=\"0 0 24 24\"\n",
              "       width=\"24px\">\n",
              "    <path d=\"M7,19H8.4L18.45,9,17,7.55,7,17.6ZM5,21V16.75L18.45,3.32a2,2,0,0,1,2.83,0l1.4,1.43a1.91,1.91,0,0,1,.58,1.4,1.91,1.91,0,0,1-.58,1.4L9.25,21ZM18.45,9,17,7.55Zm-12,3A5.31,5.31,0,0,0,4.9,8.1,5.31,5.31,0,0,0,1,6.5,5.31,5.31,0,0,0,4.9,4.9,5.31,5.31,0,0,0,6.5,1,5.31,5.31,0,0,0,8.1,4.9,5.31,5.31,0,0,0,12,6.5,5.46,5.46,0,0,0,6.5,12Z\"/>\n",
              "  </svg>\n",
              "    </button>\n",
              "    <script>\n",
              "      (() => {\n",
              "      const buttonEl =\n",
              "        document.querySelector('#id_8285a7c1-4fc8-43f0-b6c6-f41c7d4c65f8 button.colab-df-generate');\n",
              "      buttonEl.style.display =\n",
              "        google.colab.kernel.accessAllowed ? 'block' : 'none';\n",
              "\n",
              "      buttonEl.onclick = () => {\n",
              "        google.colab.notebook.generateWithVariable('df2');\n",
              "      }\n",
              "      })();\n",
              "    </script>\n",
              "  </div>\n",
              "\n",
              "    </div>\n",
              "  </div>\n"
            ]
          },
          "metadata": {},
          "execution_count": 7
        }
      ]
    },
    {
      "cell_type": "code",
      "source": [
        "X = df2.content\n",
        "Y = df2.label"
      ],
      "metadata": {
        "id": "glrMHolbJH7B"
      },
      "execution_count": 8,
      "outputs": []
    },
    {
      "cell_type": "markdown",
      "source": [
        "## Split the data"
      ],
      "metadata": {
        "id": "OxeusB9xUjHc"
      }
    },
    {
      "cell_type": "code",
      "source": [
        "X_train, X_temp, y_train, y_temp = train_test_split(X,Y , shuffle=True, test_size = 0.8, random_state = 12342 , stratify=Y)\n",
        "\n",
        "X_val, X_test, y_val, y_test = train_test_split(X_temp, y_temp, shuffle=True, test_size = 0.8, random_state = 12342 , stratify=y_temp)\n"
      ],
      "metadata": {
        "id": "5y-e2lOEJW4k"
      },
      "execution_count": 9,
      "outputs": []
    },
    {
      "cell_type": "code",
      "source": [
        "print(X_train.shape)\n",
        "print(y_train.shape)\n",
        "print(X_val.shape)\n",
        "print(y_val.shape)\n",
        "print(X_test.shape)\n",
        "print(y_test.shape)"
      ],
      "metadata": {
        "colab": {
          "base_uri": "https://localhost:8080/"
        },
        "id": "iT27qhmnJYpx",
        "outputId": "88094e34-9a6c-4e1f-f626-5c67e966cb87"
      },
      "execution_count": 10,
      "outputs": [
        {
          "output_type": "stream",
          "name": "stdout",
          "text": [
            "(23999,)\n",
            "(23999,)\n",
            "(19200,)\n",
            "(19200,)\n",
            "(76800,)\n",
            "(76800,)\n"
          ]
        }
      ]
    },
    {
      "cell_type": "code",
      "source": [
        "x_train = X_train.values\n",
        "x_val = X_val.values\n",
        "y_train = y_train.values\n",
        "y_val = y_val.values\n",
        "x_test = X_test.values\n",
        "y_test = y_test.values"
      ],
      "metadata": {
        "id": "G6kPTlShJYsa"
      },
      "execution_count": 11,
      "outputs": []
    },
    {
      "cell_type": "markdown",
      "source": [
        "## Text preprocessing"
      ],
      "metadata": {
        "id": "8a_s2ZXxUwQD"
      }
    },
    {
      "cell_type": "code",
      "source": [
        "t = text.Transformer(MODEL_NAME, class_names=[\"world\", \"sport\", \"business\" , \"sci/tech\"])\n",
        "trn = t.preprocess_train(x_train, y_train)\n",
        "val = t.preprocess_test(x_val, y_val)"
      ],
      "metadata": {
        "colab": {
          "base_uri": "https://localhost:8080/",
          "height": 277
        },
        "id": "qdV06RSgU0Qx",
        "outputId": "604108e7-dcfc-48d5-9e4a-bc02b15d347c"
      },
      "execution_count": 15,
      "outputs": [
        {
          "output_type": "stream",
          "name": "stdout",
          "text": [
            "preprocessing train...\n",
            "language: en\n",
            "train sequence lengths:\n",
            "\tmean : 31\n",
            "\t95percentile : 45\n",
            "\t99percentile : 62\n"
          ]
        },
        {
          "output_type": "stream",
          "name": "stderr",
          "text": [
            "/usr/local/lib/python3.10/dist-packages/ktrain/utils.py:744: UserWarning: class_names argument was ignored, as they were extracted from string labels in dataset\n",
            "  warnings.warn(\n"
          ]
        },
        {
          "output_type": "display_data",
          "data": {
            "text/plain": [
              "<IPython.core.display.HTML object>"
            ],
            "text/html": [
              "\n",
              "<style>\n",
              "    /* Turns off some styling */\n",
              "    progress {\n",
              "        /* gets rid of default border in Firefox and Opera. */\n",
              "        border: none;\n",
              "        /* Needs to be in here for Safari polyfill so background images work as expected. */\n",
              "        background-size: auto;\n",
              "    }\n",
              "    progress:not([value]), progress:not([value])::-webkit-progress-bar {\n",
              "        background: repeating-linear-gradient(45deg, #7e7e7e, #7e7e7e 10px, #5c5c5c 10px, #5c5c5c 20px);\n",
              "    }\n",
              "    .progress-bar-interrupted, .progress-bar-interrupted::-webkit-progress-bar {\n",
              "        background: #F44336;\n",
              "    }\n",
              "</style>\n"
            ]
          },
          "metadata": {}
        },
        {
          "output_type": "display_data",
          "data": {
            "text/plain": [
              "<IPython.core.display.HTML object>"
            ],
            "text/html": []
          },
          "metadata": {}
        },
        {
          "output_type": "stream",
          "name": "stdout",
          "text": [
            "Is Multi-Label? False\n",
            "preprocessing test...\n",
            "language: en\n",
            "test sequence lengths:\n",
            "\tmean : 31\n",
            "\t95percentile : 45\n",
            "\t99percentile : 62\n"
          ]
        },
        {
          "output_type": "display_data",
          "data": {
            "text/plain": [
              "<IPython.core.display.HTML object>"
            ],
            "text/html": [
              "\n",
              "<style>\n",
              "    /* Turns off some styling */\n",
              "    progress {\n",
              "        /* gets rid of default border in Firefox and Opera. */\n",
              "        border: none;\n",
              "        /* Needs to be in here for Safari polyfill so background images work as expected. */\n",
              "        background-size: auto;\n",
              "    }\n",
              "    progress:not([value]), progress:not([value])::-webkit-progress-bar {\n",
              "        background: repeating-linear-gradient(45deg, #7e7e7e, #7e7e7e 10px, #5c5c5c 10px, #5c5c5c 20px);\n",
              "    }\n",
              "    .progress-bar-interrupted, .progress-bar-interrupted::-webkit-progress-bar {\n",
              "        background: #F44336;\n",
              "    }\n",
              "</style>\n"
            ]
          },
          "metadata": {}
        },
        {
          "output_type": "display_data",
          "data": {
            "text/plain": [
              "<IPython.core.display.HTML object>"
            ],
            "text/html": []
          },
          "metadata": {}
        }
      ]
    },
    {
      "cell_type": "markdown",
      "source": [
        "## Download the model"
      ],
      "metadata": {
        "id": "7GIPfnzVU4Oa"
      }
    },
    {
      "cell_type": "code",
      "source": [
        "model = t.get_classifier()\n",
        "learner_1 = ktrain.get_learner(model, train_data=trn, val_data=val, batch_size=16)\n",
        "learner_2 = ktrain.get_learner(model, train_data=trn, val_data=val, batch_size=16)"
      ],
      "metadata": {
        "id": "1GGW3HKBIHaq"
      },
      "execution_count": 16,
      "outputs": []
    },
    {
      "cell_type": "markdown",
      "source": [
        "## Using the cyclical learning rate policy"
      ],
      "metadata": {
        "id": "2EW5DM6CVKcp"
      }
    },
    {
      "cell_type": "code",
      "source": [
        "learner_1.lr_find(show_plot=True, max_epochs=4, suggest= True)\n"
      ],
      "metadata": {
        "colab": {
          "base_uri": "https://localhost:8080/",
          "height": 714
        },
        "id": "uWDpf76zIHdR",
        "outputId": "3cd70d7e-7771-4a76-a028-8856216c6fa8"
      },
      "execution_count": 17,
      "outputs": [
        {
          "output_type": "stream",
          "name": "stdout",
          "text": [
            "simulating training for different learning rates... this may take a few moments...\n",
            "Epoch 1/4\n",
            "1499/1499 [==============================] - 104s 59ms/step - loss: 0.9382 - accuracy: 0.6398\n",
            "Epoch 2/4\n",
            "1499/1499 [==============================] - 92s 61ms/step - loss: 0.5357 - accuracy: 0.7928\n",
            "Epoch 3/4\n",
            "1499/1499 [==============================] - 16s 11ms/step - loss: 1.2763 - accuracy: 0.3455\n",
            "\n",
            "\n",
            "done.\n",
            "Visually inspect loss plot and select learning rate associated with falling loss\n",
            "Three possible suggestions for LR from plot:\n",
            "\tLongest valley (red): 2.23E-06\n",
            "\tMin numerical gradient (purple): 9.12E-06\n",
            "\tMin loss divided by 10 (omitted from plot): 4.19E-06\n"
          ]
        },
        {
          "output_type": "display_data",
          "data": {
            "text/plain": [
              "<Figure size 640x480 with 1 Axes>"
            ],
            "image/png": "[encoded data removed]"
          },
          "metadata": {}
        }
      ]
    },
    {
      "cell_type": "code",
      "source": [
        "learner_1.fit_onecycle(9.12E-06, 5)"
      ],
      "metadata": {
        "id": "ts8Ij7VuIHfx",
        "colab": {
          "base_uri": "https://localhost:8080/"
        },
        "outputId": "21e9065e-ea1d-47a5-b068-642a22fb1075"
      },
      "execution_count": 18,
      "outputs": [
        {
          "output_type": "stream",
          "name": "stdout",
          "text": [
            "\n",
            "\n",
            "begin training using onecycle policy with max lr of 9.12e-06...\n",
            "Epoch 1/5\n",
            "1500/1500 [==============================] - 126s 76ms/step - loss: 0.4693 - accuracy: 0.8616 - val_loss: 0.2853 - val_accuracy: 0.9077\n",
            "Epoch 2/5\n",
            "1500/1500 [==============================] - 111s 74ms/step - loss: 0.2493 - accuracy: 0.9167 - val_loss: 0.2375 - val_accuracy: 0.9194\n",
            "Epoch 3/5\n",
            "1500/1500 [==============================] - 111s 74ms/step - loss: 0.1876 - accuracy: 0.9375 - val_loss: 0.2255 - val_accuracy: 0.9241\n",
            "Epoch 4/5\n",
            "1500/1500 [==============================] - 111s 74ms/step - loss: 0.1311 - accuracy: 0.9589 - val_loss: 0.2277 - val_accuracy: 0.9251\n",
            "Epoch 5/5\n",
            "1500/1500 [==============================] - 111s 74ms/step - loss: 0.0924 - accuracy: 0.9724 - val_loss: 0.2409 - val_accuracy: 0.9243\n"
          ]
        },
        {
          "output_type": "execute_result",
          "data": {
            "text/plain": [
              "<keras.src.callbacks.History at 0x7bd7ffbbd840>"
            ]
          },
          "metadata": {},
          "execution_count": 18
        }
      ]
    },
    {
      "cell_type": "code",
      "source": [
        "learner_1.validate(class_names=t.get_classes())"
      ],
      "metadata": {
        "id": "qzUm7TG_IHiD",
        "colab": {
          "base_uri": "https://localhost:8080/"
        },
        "outputId": "1eed0b3c-b840-40ba-d1cc-9cd8a02a8eb3"
      },
      "execution_count": 19,
      "outputs": [
        {
          "output_type": "stream",
          "name": "stdout",
          "text": [
            "600/600 [==============================] - 23s 36ms/step\n",
            "              precision    recall  f1-score   support\n",
            "\n",
            "    business       0.89      0.88      0.89      4800\n",
            "    sci/tech       0.89      0.90      0.90      4800\n",
            "      sports       0.98      0.98      0.98      4800\n",
            "       world       0.93      0.94      0.93      4800\n",
            "\n",
            "    accuracy                           0.92     19200\n",
            "   macro avg       0.92      0.92      0.92     19200\n",
            "weighted avg       0.92      0.92      0.92     19200\n",
            "\n"
          ]
        },
        {
          "output_type": "execute_result",
          "data": {
            "text/plain": [
              "array([[4246,  362,   28,  164],\n",
              "       [ 328, 4322,   13,  137],\n",
              "       [  36,   26, 4682,   56],\n",
              "       [ 135,  122,   47, 4496]])"
            ]
          },
          "metadata": {},
          "execution_count": 19
        }
      ]
    },
    {
      "cell_type": "markdown",
      "source": [
        "## Using the triangular learning rate policy"
      ],
      "metadata": {
        "id": "tItSXRZKVOny"
      }
    },
    {
      "cell_type": "code",
      "source": [
        "learner_2.lr_find(show_plot=True, max_epochs=4, suggest= True)"
      ],
      "metadata": {
        "id": "eVy3xqiG-Fwo",
        "colab": {
          "base_uri": "https://localhost:8080/",
          "height": 714
        },
        "outputId": "3e7b6f52-51d7-4ae9-e70c-1196b23709a6"
      },
      "execution_count": 20,
      "outputs": [
        {
          "output_type": "stream",
          "name": "stdout",
          "text": [
            "simulating training for different learning rates... this may take a few moments...\n",
            "Epoch 1/4\n",
            "1499/1499 [==============================] - 92s 58ms/step - loss: 1.0334 - accuracy: 0.5936\n",
            "Epoch 2/4\n",
            "1499/1499 [==============================] - 92s 61ms/step - loss: 0.4462 - accuracy: 0.8375\n",
            "Epoch 3/4\n",
            "1499/1499 [==============================] - 10s 7ms/step - loss: 1.3877 - accuracy: 0.2445\n",
            "\n",
            "\n",
            "done.\n",
            "Visually inspect loss plot and select learning rate associated with falling loss\n",
            "Three possible suggestions for LR from plot:\n",
            "\tLongest valley (red): 5.28E-06\n",
            "\tMin numerical gradient (purple): 9.06E-06\n",
            "\tMin loss divided by 10 (omitted from plot): 4.94E-06\n"
          ]
        },
        {
          "output_type": "display_data",
          "data": {
            "text/plain": [
              "<Figure size 640x480 with 1 Axes>"
            ],
            "image/png": "[encoded data removed]"
          },
          "metadata": {}
        }
      ]
    },
    {
      "cell_type": "code",
      "source": [
        "learner_2.autofit(9.06E-06, 5)"
      ],
      "metadata": {
        "id": "HQy1V18W3--2",
        "colab": {
          "base_uri": "https://localhost:8080/"
        },
        "outputId": "44ce92af-2d63-4de9-af4f-9462312eee94"
      },
      "execution_count": 22,
      "outputs": [
        {
          "output_type": "stream",
          "name": "stdout",
          "text": [
            "\n",
            "\n",
            "begin training using triangular learning rate policy with max lr of 9.06e-06...\n",
            "Epoch 1/5\n",
            "1500/1500 [==============================] - 117s 75ms/step - loss: 0.3865 - accuracy: 0.8800 - val_loss: 0.2506 - val_accuracy: 0.9158\n",
            "Epoch 2/5\n",
            "1500/1500 [==============================] - 111s 74ms/step - loss: 0.2116 - accuracy: 0.9308 - val_loss: 0.2302 - val_accuracy: 0.9231\n",
            "Epoch 3/5\n",
            "1500/1500 [==============================] - 111s 74ms/step - loss: 0.1692 - accuracy: 0.9448 - val_loss: 0.2249 - val_accuracy: 0.9235\n",
            "Epoch 4/5\n",
            "1500/1500 [==============================] - 111s 74ms/step - loss: 0.1380 - accuracy: 0.9578 - val_loss: 0.2300 - val_accuracy: 0.9246\n",
            "Epoch 5/5\n",
            "1500/1500 [==============================] - 111s 74ms/step - loss: 0.1104 - accuracy: 0.9665 - val_loss: 0.2375 - val_accuracy: 0.9253\n"
          ]
        },
        {
          "output_type": "execute_result",
          "data": {
            "text/plain": [
              "<keras.src.callbacks.History at 0x7bd7ffc96500>"
            ]
          },
          "metadata": {},
          "execution_count": 22
        }
      ]
    },
    {
      "cell_type": "code",
      "source": [
        "learner_2.validate(class_names=t.get_classes())"
      ],
      "metadata": {
        "id": "R9h3qA_o91aB",
        "colab": {
          "base_uri": "https://localhost:8080/"
        },
        "outputId": "c6819f52-dad6-483d-8453-03f22f1e40db"
      },
      "execution_count": 23,
      "outputs": [
        {
          "output_type": "stream",
          "name": "stdout",
          "text": [
            "600/600 [==============================] - 23s 36ms/step\n",
            "              precision    recall  f1-score   support\n",
            "\n",
            "    business       0.90      0.88      0.89      4800\n",
            "    sci/tech       0.89      0.91      0.90      4800\n",
            "      sports       0.98      0.97      0.98      4800\n",
            "       world       0.93      0.93      0.93      4800\n",
            "\n",
            "    accuracy                           0.93     19200\n",
            "   macro avg       0.93      0.93      0.93     19200\n",
            "weighted avg       0.93      0.93      0.93     19200\n",
            "\n"
          ]
        },
        {
          "output_type": "execute_result",
          "data": {
            "text/plain": [
              "array([[4229,  394,   26,  151],\n",
              "       [ 280, 4379,   16,  125],\n",
              "       [  32,   25, 4679,   64],\n",
              "       [ 140,  135,   47, 4478]])"
            ]
          },
          "metadata": {},
          "execution_count": 23
        }
      ]
    },
    {
      "cell_type": "markdown",
      "source": [
        "## Compute the metrics for testing set"
      ],
      "metadata": {
        "id": "2p7X-50DVx48"
      }
    },
    {
      "cell_type": "code",
      "source": [
        "predictor_1 = ktrain.get_predictor(learner_1.model, preproc=t)\n",
        "predictor_2 = ktrain.get_predictor(learner_2.model, preproc=t)"
      ],
      "metadata": {
        "id": "L7Tvw-JpIHpa"
      },
      "execution_count": 24,
      "outputs": []
    },
    {
      "cell_type": "code",
      "source": [
        "y_pred_1 = predictor_1.predict(x_test)\n",
        "y_pred_2 = predictor_2.predict(x_test)"
      ],
      "metadata": {
        "id": "1C6TWp9xWAlA"
      },
      "execution_count": 25,
      "outputs": []
    },
    {
      "cell_type": "code",
      "source": [
        "accuracy_4_1, precision_4_1, recall_4_1, f1_4_1 = compute_classification_report(y_test , y_pred_1)"
      ],
      "metadata": {
        "id": "B_2iMWESwXlL",
        "colab": {
          "base_uri": "https://localhost:8080/"
        },
        "outputId": "26a9bf3f-4976-41fa-eae9-d86bc25cf8af"
      },
      "execution_count": 26,
      "outputs": [
        {
          "output_type": "stream",
          "name": "stdout",
          "text": [
            "Classification Report:\n",
            "              precision    recall  f1-score   support\n",
            "\n",
            "    business       0.90      0.89      0.89     19200\n",
            "    sci/tech       0.89      0.90      0.89     19200\n",
            "      sports       0.98      0.98      0.98     19200\n",
            "       world       0.93      0.94      0.93     19200\n",
            "\n",
            "    accuracy                           0.92     76800\n",
            "   macro avg       0.92      0.92      0.92     76800\n",
            "weighted avg       0.92      0.92      0.92     76800\n",
            "\n",
            "Accuracy: 0.9242708333333334\n",
            "Precision: 0.9242532310923857\n",
            "Recall: 0.9242708333333334\n",
            "F1 Score: 0.924251307445173\n"
          ]
        }
      ]
    },
    {
      "cell_type": "code",
      "source": [
        "accuracy_4_2, precision_4_2, recall_4_2, f1_4_2 = compute_classification_report(y_test , y_pred_2)"
      ],
      "metadata": {
        "id": "Rv7j-2oJCzSW",
        "colab": {
          "base_uri": "https://localhost:8080/"
        },
        "outputId": "3c3a64d0-b5bf-41bf-99f3-c2c8b60532ee"
      },
      "execution_count": 27,
      "outputs": [
        {
          "output_type": "stream",
          "name": "stdout",
          "text": [
            "Classification Report:\n",
            "              precision    recall  f1-score   support\n",
            "\n",
            "    business       0.90      0.88      0.89     19200\n",
            "    sci/tech       0.88      0.91      0.90     19200\n",
            "      sports       0.98      0.98      0.98     19200\n",
            "       world       0.94      0.93      0.93     19200\n",
            "\n",
            "    accuracy                           0.92     76800\n",
            "   macro avg       0.93      0.92      0.92     76800\n",
            "weighted avg       0.93      0.92      0.92     76800\n",
            "\n",
            "Accuracy: 0.9248177083333333\n",
            "Precision: 0.9251025707215161\n",
            "Recall: 0.9248177083333334\n",
            "F1 Score: 0.924859273262152\n"
          ]
        }
      ]
    },
    {
      "cell_type": "markdown",
      "source": [
        "## Save the models"
      ],
      "metadata": {
        "id": "NKOhS44VV2Zr"
      }
    },
    {
      "cell_type": "code",
      "source": [
        "predictor_1.save('/content/drive/MyDrive/Topics/distilbert_4_topics_1_92.42')\n",
        "predictor_2.save('/content/drive/MyDrive/Topics/distilbert_4_topics_2_92.84')\n"
      ],
      "metadata": {
        "id": "E9gLkhMcIHxE"
      },
      "execution_count": 107,
      "outputs": []
    },
    {
      "cell_type": "code",
      "source": [
        "# reloaded_predictor_1 = ktrain.load_predictor('/content/tmp/distilbert_4_topics_1')\n",
        "# reloaded_predictor_2 = ktrain.load_predictor('/content/tmp/distilbert_4_topics_2')"
      ],
      "metadata": {
        "id": "HJZOrvekEkuY"
      },
      "execution_count": 105,
      "outputs": []
    },
    {
      "cell_type": "markdown",
      "source": [
        "# DistilBERT for 6 topics"
      ],
      "metadata": {
        "id": "OrwzpMk9jdA2"
      }
    },
    {
      "cell_type": "markdown",
      "source": [
        "## Read data"
      ],
      "metadata": {
        "id": "2YTDc6WXkRit"
      }
    },
    {
      "cell_type": "code",
      "source": [
        "train = pd.read_csv(\"https://github.com/AnasElbattra/News-Understanding-NLP/raw/main/TOPICS/DATA/news_data%206%20categories/train.csv\")\n",
        "test = pd.read_csv(\"https://github.com/AnasElbattra/News-Understanding-NLP/raw/main/TOPICS/DATA/news_data%206%20categories/test.csv\")"
      ],
      "metadata": {
        "id": "AYvdyoFfkRit"
      },
      "execution_count": 29,
      "outputs": []
    },
    {
      "cell_type": "code",
      "source": [
        "train"
      ],
      "metadata": {
        "colab": {
          "base_uri": "https://localhost:8080/",
          "height": 424
        },
        "outputId": "15ddd92e-35bd-463f-cac8-131c83c5da16",
        "id": "T98_4D0CkRiu"
      },
      "execution_count": 30,
      "outputs": [
        {
          "output_type": "execute_result",
          "data": {
            "text/plain": [
              "                                                  Title  \\\n",
              "0     Uefa Opens Proceedings against Barcelona, Juve...   \n",
              "1     Amazon Blames Inflation as It Increases Cost o...   \n",
              "2     Nigeria’s Parliament Passes Amended Electoral ...   \n",
              "3     Nigeria: Lagos Governor Tests Positive for Cov...   \n",
              "4     South Africa Calls For Calm as Electoral Refor...   \n",
              "...                                                 ...   \n",
              "4681  Uganda Drops Charges Against Nigerian Singers ...   \n",
              "4682                 NNPC Cuts Directors’ Fees by 60.2%   \n",
              "4683  Nigeria’s External Reserves Hit $37bn with $3....   \n",
              "4684  Transcorp Hilton Wins Africa’s Leading Busines...   \n",
              "4685  IHS Towers to Become Largest African Company o...   \n",
              "\n",
              "                                                Excerpt       Category  \n",
              "0     Uefa has opened disciplinary proceedings again...         sports  \n",
              "1     The increases are steeper than the 17 percent ...       business  \n",
              "2     Nigeria's Senate on Tuesday passed the harmoni...       politics  \n",
              "3     The Lagos State Governor, Mr. Babajide Sanwo-O...         health  \n",
              "4     South Africa has raised concerns about the det...       politics  \n",
              "...                                                 ...            ...  \n",
              "4681  Nigerian singers Omah Lay and Tems are set to ...  entertainment  \n",
              "4682  The Nigerian National Petroleum Corporation (N...       business  \n",
              "4683  Nigeria’s foreign reserves will get a timely b...       business  \n",
              "4684  Transcorp Hilton Abuja has been honoured with ...       business  \n",
              "4685  An African operator of mobile phone masts, IHS...       business  \n",
              "\n",
              "[4686 rows x 3 columns]"
            ],
            "text/html": [
              "\n",
              "  <div id=\"df-68e59f1d-293a-416e-a11c-1381202aa41b\" class=\"colab-df-container\">\n",
              "    <div>\n",
              "<style scoped>\n",
              "    .dataframe tbody tr th:only-of-type {\n",
              "        vertical-align: middle;\n",
              "    }\n",
              "\n",
              "    .dataframe tbody tr th {\n",
              "        vertical-align: top;\n",
              "    }\n",
              "\n",
              "    .dataframe thead th {\n",
              "        text-align: right;\n",
              "    }\n",
              "</style>\n",
              "<table border=\"1\" class=\"dataframe\">\n",
              "  <thead>\n",
              "    <tr style=\"text-align: right;\">\n",
              "      <th></th>\n",
              "      <th>Title</th>\n",
              "      <th>Excerpt</th>\n",
              "      <th>Category</th>\n",
              "    </tr>\n",
              "  </thead>\n",
              "  <tbody>\n",
              "    <tr>\n",
              "      <th>0</th>\n",
              "      <td>Uefa Opens Proceedings against Barcelona, Juve...</td>\n",
              "      <td>Uefa has opened disciplinary proceedings again...</td>\n",
              "      <td>sports</td>\n",
              "    </tr>\n",
              "    <tr>\n",
              "      <th>1</th>\n",
              "      <td>Amazon Blames Inflation as It Increases Cost o...</td>\n",
              "      <td>The increases are steeper than the 17 percent ...</td>\n",
              "      <td>business</td>\n",
              "    </tr>\n",
              "    <tr>\n",
              "      <th>2</th>\n",
              "      <td>Nigeria’s Parliament Passes Amended Electoral ...</td>\n",
              "      <td>Nigeria's Senate on Tuesday passed the harmoni...</td>\n",
              "      <td>politics</td>\n",
              "    </tr>\n",
              "    <tr>\n",
              "      <th>3</th>\n",
              "      <td>Nigeria: Lagos Governor Tests Positive for Cov...</td>\n",
              "      <td>The Lagos State Governor, Mr. Babajide Sanwo-O...</td>\n",
              "      <td>health</td>\n",
              "    </tr>\n",
              "    <tr>\n",
              "      <th>4</th>\n",
              "      <td>South Africa Calls For Calm as Electoral Refor...</td>\n",
              "      <td>South Africa has raised concerns about the det...</td>\n",
              "      <td>politics</td>\n",
              "    </tr>\n",
              "    <tr>\n",
              "      <th>...</th>\n",
              "      <td>...</td>\n",
              "      <td>...</td>\n",
              "      <td>...</td>\n",
              "    </tr>\n",
              "    <tr>\n",
              "      <th>4681</th>\n",
              "      <td>Uganda Drops Charges Against Nigerian Singers ...</td>\n",
              "      <td>Nigerian singers Omah Lay and Tems are set to ...</td>\n",
              "      <td>entertainment</td>\n",
              "    </tr>\n",
              "    <tr>\n",
              "      <th>4682</th>\n",
              "      <td>NNPC Cuts Directors’ Fees by 60.2%</td>\n",
              "      <td>The Nigerian National Petroleum Corporation (N...</td>\n",
              "      <td>business</td>\n",
              "    </tr>\n",
              "    <tr>\n",
              "      <th>4683</th>\n",
              "      <td>Nigeria’s External Reserves Hit $37bn with $3....</td>\n",
              "      <td>Nigeria’s foreign reserves will get a timely b...</td>\n",
              "      <td>business</td>\n",
              "    </tr>\n",
              "    <tr>\n",
              "      <th>4684</th>\n",
              "      <td>Transcorp Hilton Wins Africa’s Leading Busines...</td>\n",
              "      <td>Transcorp Hilton Abuja has been honoured with ...</td>\n",
              "      <td>business</td>\n",
              "    </tr>\n",
              "    <tr>\n",
              "      <th>4685</th>\n",
              "      <td>IHS Towers to Become Largest African Company o...</td>\n",
              "      <td>An African operator of mobile phone masts, IHS...</td>\n",
              "      <td>business</td>\n",
              "    </tr>\n",
              "  </tbody>\n",
              "</table>\n",
              "<p>4686 rows × 3 columns</p>\n",
              "</div>\n",
              "    <div class=\"colab-df-buttons\">\n",
              "\n",
              "  <div class=\"colab-df-container\">\n",
              "    <button class=\"colab-df-convert\" onclick=\"convertToInteractive('df-68e59f1d-293a-416e-a11c-1381202aa41b')\"\n",
              "            title=\"Convert this dataframe to an interactive table.\"\n",
              "            style=\"display:none;\">\n",
              "\n",
              "  <svg xmlns=\"http://www.w3.org/2000/svg\" height=\"24px\" viewBox=\"0 -960 960 960\">\n",
              "    <path d=\"M120-120v-720h720v720H120Zm60-500h600v-160H180v160Zm220 220h160v-160H400v160Zm0 220h160v-160H400v160ZM180-400h160v-160H180v160Zm440 0h160v-160H620v160ZM180-180h160v-160H180v160Zm440 0h160v-160H620v160Z\"/>\n",
              "  </svg>\n",
              "    </button>\n",
              "\n",
              "  <style>\n",
              "    .colab-df-container {\n",
              "      display:flex;\n",
              "      gap: 12px;\n",
              "    }\n",
              "\n",
              "    .colab-df-convert {\n",
              "      background-color: #E8F0FE;\n",
              "      border: none;\n",
              "      border-radius: 50%;\n",
              "      cursor: pointer;\n",
              "      display: none;\n",
              "      fill: #1967D2;\n",
              "      height: 32px;\n",
              "      padding: 0 0 0 0;\n",
              "      width: 32px;\n",
              "    }\n",
              "\n",
              "    .colab-df-convert:hover {\n",
              "      background-color: #E2EBFA;\n",
              "      box-shadow: 0px 1px 2px rgba(60, 64, 67, 0.3), 0px 1px 3px 1px rgba(60, 64, 67, 0.15);\n",
              "      fill: #174EA6;\n",
              "    }\n",
              "\n",
              "    .colab-df-buttons div {\n",
              "      margin-bottom: 4px;\n",
              "    }\n",
              "\n",
              "    [theme=dark] .colab-df-convert {\n",
              "      background-color: #3B4455;\n",
              "      fill: #D2E3FC;\n",
              "    }\n",
              "\n",
              "    [theme=dark] .colab-df-convert:hover {\n",
              "      background-color: #434B5C;\n",
              "      box-shadow: 0px 1px 3px 1px rgba(0, 0, 0, 0.15);\n",
              "      filter: drop-shadow(0px 1px 2px rgba(0, 0, 0, 0.3));\n",
              "      fill: #FFFFFF;\n",
              "    }\n",
              "  </style>\n",
              "\n",
              "    <script>\n",
              "      const buttonEl =\n",
              "        document.querySelector('#df-68e59f1d-293a-416e-a11c-1381202aa41b button.colab-df-convert');\n",
              "      buttonEl.style.display =\n",
              "        google.colab.kernel.accessAllowed ? 'block' : 'none';\n",
              "\n",
              "      async function convertToInteractive(key) {\n",
              "        const element = document.querySelector('#df-68e59f1d-293a-416e-a11c-1381202aa41b');\n",
              "        const dataTable =\n",
              "          await google.colab.kernel.invokeFunction('convertToInteractive',\n",
              "                                                    [key], {});\n",
              "        if (!dataTable) return;\n",
              "\n",
              "        const docLinkHtml = 'Like what you see? Visit the ' +\n",
              "          '<a target=\"_blank\" href=https://colab.research.google.com/notebooks/data_table.ipynb>data table notebook</a>'\n",
              "          + ' to learn more about interactive tables.';\n",
              "        element.innerHTML = '';\n",
              "        dataTable['output_type'] = 'display_data';\n",
              "        await google.colab.output.renderOutput(dataTable, element);\n",
              "        const docLink = document.createElement('div');\n",
              "        docLink.innerHTML = docLinkHtml;\n",
              "        element.appendChild(docLink);\n",
              "      }\n",
              "    </script>\n",
              "  </div>\n",
              "\n",
              "\n",
              "<div id=\"df-c231a87a-27a0-4ae9-aa48-6ecc266018b8\">\n",
              "  <button class=\"colab-df-quickchart\" onclick=\"quickchart('df-c231a87a-27a0-4ae9-aa48-6ecc266018b8')\"\n",
              "            title=\"Suggest charts\"\n",
              "            style=\"display:none;\">\n",
              "\n",
              "<svg xmlns=\"http://www.w3.org/2000/svg\" height=\"24px\"viewBox=\"0 0 24 24\"\n",
              "     width=\"24px\">\n",
              "    <g>\n",
              "        <path d=\"M19 3H5c-1.1 0-2 .9-2 2v14c0 1.1.9 2 2 2h14c1.1 0 2-.9 2-2V5c0-1.1-.9-2-2-2zM9 17H7v-7h2v7zm4 0h-2V7h2v10zm4 0h-2v-4h2v4z\"/>\n",
              "    </g>\n",
              "</svg>\n",
              "  </button>\n",
              "\n",
              "<style>\n",
              "  .colab-df-quickchart {\n",
              "      --bg-color: #E8F0FE;\n",
              "      --fill-color: #1967D2;\n",
              "      --hover-bg-color: #E2EBFA;\n",
              "      --hover-fill-color: #174EA6;\n",
              "      --disabled-fill-color: #AAA;\n",
              "      --disabled-bg-color: #DDD;\n",
              "  }\n",
              "\n",
              "  [theme=dark] .colab-df-quickchart {\n",
              "      --bg-color: #3B4455;\n",
              "      --fill-color: #D2E3FC;\n",
              "      --hover-bg-color: #434B5C;\n",
              "      --hover-fill-color: #FFFFFF;\n",
              "      --disabled-bg-color: #3B4455;\n",
              "      --disabled-fill-color: #666;\n",
              "  }\n",
              "\n",
              "  .colab-df-quickchart {\n",
              "    background-color: var(--bg-color);\n",
              "    border: none;\n",
              "    border-radius: 50%;\n",
              "    cursor: pointer;\n",
              "    display: none;\n",
              "    fill: var(--fill-color);\n",
              "    height: 32px;\n",
              "    padding: 0;\n",
              "    width: 32px;\n",
              "  }\n",
              "\n",
              "  .colab-df-quickchart:hover {\n",
              "    background-color: var(--hover-bg-color);\n",
              "    box-shadow: 0 1px 2px rgba(60, 64, 67, 0.3), 0 1px 3px 1px rgba(60, 64, 67, 0.15);\n",
              "    fill: var(--button-hover-fill-color);\n",
              "  }\n",
              "\n",
              "  .colab-df-quickchart-complete:disabled,\n",
              "  .colab-df-quickchart-complete:disabled:hover {\n",
              "    background-color: var(--disabled-bg-color);\n",
              "    fill: var(--disabled-fill-color);\n",
              "    box-shadow: none;\n",
              "  }\n",
              "\n",
              "  .colab-df-spinner {\n",
              "    border: 2px solid var(--fill-color);\n",
              "    border-color: transparent;\n",
              "    border-bottom-color: var(--fill-color);\n",
              "    animation:\n",
              "      spin 1s steps(1) infinite;\n",
              "  }\n",
              "\n",
              "  @keyframes spin {\n",
              "    0% {\n",
              "      border-color: transparent;\n",
              "      border-bottom-color: var(--fill-color);\n",
              "      border-left-color: var(--fill-color);\n",
              "    }\n",
              "    20% {\n",
              "      border-color: transparent;\n",
              "      border-left-color: var(--fill-color);\n",
              "      border-top-color: var(--fill-color);\n",
              "    }\n",
              "    30% {\n",
              "      border-color: transparent;\n",
              "      border-left-color: var(--fill-color);\n",
              "      border-top-color: var(--fill-color);\n",
              "      border-right-color: var(--fill-color);\n",
              "    }\n",
              "    40% {\n",
              "      border-color: transparent;\n",
              "      border-right-color: var(--fill-color);\n",
              "      border-top-color: var(--fill-color);\n",
              "    }\n",
              "    60% {\n",
              "      border-color: transparent;\n",
              "      border-right-color: var(--fill-color);\n",
              "    }\n",
              "    80% {\n",
              "      border-color: transparent;\n",
              "      border-right-color: var(--fill-color);\n",
              "      border-bottom-color: var(--fill-color);\n",
              "    }\n",
              "    90% {\n",
              "      border-color: transparent;\n",
              "      border-bottom-color: var(--fill-color);\n",
              "    }\n",
              "  }\n",
              "</style>\n",
              "\n",
              "  <script>\n",
              "    async function quickchart(key) {\n",
              "      const quickchartButtonEl =\n",
              "        document.querySelector('#' + key + ' button');\n",
              "      quickchartButtonEl.disabled = true;  // To prevent multiple clicks.\n",
              "      quickchartButtonEl.classList.add('colab-df-spinner');\n",
              "      try {\n",
              "        const charts = await google.colab.kernel.invokeFunction(\n",
              "            'suggestCharts', [key], {});\n",
              "      } catch (error) {\n",
              "        console.error('Error during call to suggestCharts:', error);\n",
              "      }\n",
              "      quickchartButtonEl.classList.remove('colab-df-spinner');\n",
              "      quickchartButtonEl.classList.add('colab-df-quickchart-complete');\n",
              "    }\n",
              "    (() => {\n",
              "      let quickchartButtonEl =\n",
              "        document.querySelector('#df-c231a87a-27a0-4ae9-aa48-6ecc266018b8 button');\n",
              "      quickchartButtonEl.style.display =\n",
              "        google.colab.kernel.accessAllowed ? 'block' : 'none';\n",
              "    })();\n",
              "  </script>\n",
              "</div>\n",
              "\n",
              "  <div id=\"id_59673c04-acb5-41c3-8d95-78994c340f1c\">\n",
              "    <style>\n",
              "      .colab-df-generate {\n",
              "        background-color: #E8F0FE;\n",
              "        border: none;\n",
              "        border-radius: 50%;\n",
              "        cursor: pointer;\n",
              "        display: none;\n",
              "        fill: #1967D2;\n",
              "        height: 32px;\n",
              "        padding: 0 0 0 0;\n",
              "        width: 32px;\n",
              "      }\n",
              "\n",
              "      .colab-df-generate:hover {\n",
              "        background-color: #E2EBFA;\n",
              "        box-shadow: 0px 1px 2px rgba(60, 64, 67, 0.3), 0px 1px 3px 1px rgba(60, 64, 67, 0.15);\n",
              "        fill: #174EA6;\n",
              "      }\n",
              "\n",
              "      [theme=dark] .colab-df-generate {\n",
              "        background-color: #3B4455;\n",
              "        fill: #D2E3FC;\n",
              "      }\n",
              "\n",
              "      [theme=dark] .colab-df-generate:hover {\n",
              "        background-color: #434B5C;\n",
              "        box-shadow: 0px 1px 3px 1px rgba(0, 0, 0, 0.15);\n",
              "        filter: drop-shadow(0px 1px 2px rgba(0, 0, 0, 0.3));\n",
              "        fill: #FFFFFF;\n",
              "      }\n",
              "    </style>\n",
              "    <button class=\"colab-df-generate\" onclick=\"generateWithVariable('train')\"\n",
              "            title=\"Generate code using this dataframe.\"\n",
              "            style=\"display:none;\">\n",
              "\n",
              "  <svg xmlns=\"http://www.w3.org/2000/svg\" height=\"24px\"viewBox=\"0 0 24 24\"\n",
              "       width=\"24px\">\n",
              "    <path d=\"M7,19H8.4L18.45,9,17,7.55,7,17.6ZM5,21V16.75L18.45,3.32a2,2,0,0,1,2.83,0l1.4,1.43a1.91,1.91,0,0,1,.58,1.4,1.91,1.91,0,0,1-.58,1.4L9.25,21ZM18.45,9,17,7.55Zm-12,3A5.31,5.31,0,0,0,4.9,8.1,5.31,5.31,0,0,0,1,6.5,5.31,5.31,0,0,0,4.9,4.9,5.31,5.31,0,0,0,6.5,1,5.31,5.31,0,0,0,8.1,4.9,5.31,5.31,0,0,0,12,6.5,5.46,5.46,0,0,0,6.5,12Z\"/>\n",
              "  </svg>\n",
              "    </button>\n",
              "    <script>\n",
              "      (() => {\n",
              "      const buttonEl =\n",
              "        document.querySelector('#id_59673c04-acb5-41c3-8d95-78994c340f1c button.colab-df-generate');\n",
              "      buttonEl.style.display =\n",
              "        google.colab.kernel.accessAllowed ? 'block' : 'none';\n",
              "\n",
              "      buttonEl.onclick = () => {\n",
              "        google.colab.notebook.generateWithVariable('train');\n",
              "      }\n",
              "      })();\n",
              "    </script>\n",
              "  </div>\n",
              "\n",
              "    </div>\n",
              "  </div>\n"
            ]
          },
          "metadata": {},
          "execution_count": 30
        }
      ]
    },
    {
      "cell_type": "code",
      "source": [
        "train.Category.value_counts()"
      ],
      "metadata": {
        "id": "zLFju56TkRiu",
        "colab": {
          "base_uri": "https://localhost:8080/"
        },
        "outputId": "34c2113d-c574-49aa-cd8e-0d9b8baa03ca"
      },
      "execution_count": 31,
      "outputs": [
        {
          "output_type": "execute_result",
          "data": {
            "text/plain": [
              "business         1268\n",
              "sports           1124\n",
              "politics         1073\n",
              "health            550\n",
              "entertainment     382\n",
              "tech              289\n",
              "Name: Category, dtype: int64"
            ]
          },
          "metadata": {},
          "execution_count": 31
        }
      ]
    },
    {
      "cell_type": "code",
      "source": [
        "X = train.Excerpt\n",
        "Y = train.Category"
      ],
      "metadata": {
        "id": "CfQD-Iruke6r"
      },
      "execution_count": 32,
      "outputs": []
    },
    {
      "cell_type": "markdown",
      "source": [
        "## Split the data"
      ],
      "metadata": {
        "id": "7XjdU1EvkRiu"
      }
    },
    {
      "cell_type": "code",
      "source": [
        "X_train, X_temp, y_train, y_temp = train_test_split(X,Y , shuffle=True, test_size = 0.5, random_state = 12342 , stratify=Y)\n",
        "\n",
        "X_val, X_test, y_val, y_test = train_test_split(X_temp, y_temp, shuffle=True, test_size = 0.5, random_state = 12342 , stratify=y_temp)\n"
      ],
      "metadata": {
        "id": "Wru4vC8KkRiu"
      },
      "execution_count": 35,
      "outputs": []
    },
    {
      "cell_type": "code",
      "source": [
        "print(X_train.shape)\n",
        "print(y_train.shape)\n",
        "print(X_val.shape)\n",
        "print(y_val.shape)\n",
        "print(X_test.shape)\n",
        "print(y_test.shape)"
      ],
      "metadata": {
        "colab": {
          "base_uri": "https://localhost:8080/"
        },
        "outputId": "7941cbcd-c733-47d1-b973-466268c6e02e",
        "id": "jPq6Xnl9kRiu"
      },
      "execution_count": 36,
      "outputs": [
        {
          "output_type": "stream",
          "name": "stdout",
          "text": [
            "(2343,)\n",
            "(2343,)\n",
            "(1171,)\n",
            "(1171,)\n",
            "(1172,)\n",
            "(1172,)\n"
          ]
        }
      ]
    },
    {
      "cell_type": "code",
      "source": [
        "x_train = X_train.values\n",
        "x_val = X_val.values\n",
        "y_train = y_train.values\n",
        "y_val = y_val.values\n",
        "x_test = X_test.values\n",
        "y_test = y_test.values"
      ],
      "metadata": {
        "id": "keoEoE_ekRiv"
      },
      "execution_count": 37,
      "outputs": []
    },
    {
      "cell_type": "markdown",
      "source": [
        "## Text preprocessing"
      ],
      "metadata": {
        "id": "5z08pBdxkRiv"
      }
    },
    {
      "cell_type": "code",
      "source": [
        "t = text.Transformer(MODEL_NAME, class_names=[\"business\", \"sports\", \"politics\" , \"health\", \"entertainment\", \"tech\"])\n",
        "trn = t.preprocess_train(x_train, y_train)\n",
        "val = t.preprocess_test(x_val, y_val)"
      ],
      "metadata": {
        "id": "fu5k2MJ3kRiv",
        "colab": {
          "base_uri": "https://localhost:8080/",
          "height": 277
        },
        "outputId": "6d37c4c2-f7e0-43a5-ee3b-e78f3991fdee"
      },
      "execution_count": 38,
      "outputs": [
        {
          "output_type": "stream",
          "name": "stdout",
          "text": [
            "preprocessing train...\n",
            "language: en\n",
            "train sequence lengths:\n",
            "\tmean : 20\n",
            "\t95percentile : 20\n",
            "\t99percentile : 22\n"
          ]
        },
        {
          "output_type": "stream",
          "name": "stderr",
          "text": [
            "/usr/local/lib/python3.10/dist-packages/ktrain/utils.py:744: UserWarning: class_names argument was ignored, as they were extracted from string labels in dataset\n",
            "  warnings.warn(\n"
          ]
        },
        {
          "output_type": "display_data",
          "data": {
            "text/plain": [
              "<IPython.core.display.HTML object>"
            ],
            "text/html": [
              "\n",
              "<style>\n",
              "    /* Turns off some styling */\n",
              "    progress {\n",
              "        /* gets rid of default border in Firefox and Opera. */\n",
              "        border: none;\n",
              "        /* Needs to be in here for Safari polyfill so background images work as expected. */\n",
              "        background-size: auto;\n",
              "    }\n",
              "    progress:not([value]), progress:not([value])::-webkit-progress-bar {\n",
              "        background: repeating-linear-gradient(45deg, #7e7e7e, #7e7e7e 10px, #5c5c5c 10px, #5c5c5c 20px);\n",
              "    }\n",
              "    .progress-bar-interrupted, .progress-bar-interrupted::-webkit-progress-bar {\n",
              "        background: #F44336;\n",
              "    }\n",
              "</style>\n"
            ]
          },
          "metadata": {}
        },
        {
          "output_type": "display_data",
          "data": {
            "text/plain": [
              "<IPython.core.display.HTML object>"
            ],
            "text/html": []
          },
          "metadata": {}
        },
        {
          "output_type": "stream",
          "name": "stdout",
          "text": [
            "Is Multi-Label? False\n",
            "preprocessing test...\n",
            "language: en\n",
            "test sequence lengths:\n",
            "\tmean : 20\n",
            "\t95percentile : 20\n",
            "\t99percentile : 23\n"
          ]
        },
        {
          "output_type": "display_data",
          "data": {
            "text/plain": [
              "<IPython.core.display.HTML object>"
            ],
            "text/html": [
              "\n",
              "<style>\n",
              "    /* Turns off some styling */\n",
              "    progress {\n",
              "        /* gets rid of default border in Firefox and Opera. */\n",
              "        border: none;\n",
              "        /* Needs to be in here for Safari polyfill so background images work as expected. */\n",
              "        background-size: auto;\n",
              "    }\n",
              "    progress:not([value]), progress:not([value])::-webkit-progress-bar {\n",
              "        background: repeating-linear-gradient(45deg, #7e7e7e, #7e7e7e 10px, #5c5c5c 10px, #5c5c5c 20px);\n",
              "    }\n",
              "    .progress-bar-interrupted, .progress-bar-interrupted::-webkit-progress-bar {\n",
              "        background: #F44336;\n",
              "    }\n",
              "</style>\n"
            ]
          },
          "metadata": {}
        },
        {
          "output_type": "display_data",
          "data": {
            "text/plain": [
              "<IPython.core.display.HTML object>"
            ],
            "text/html": []
          },
          "metadata": {}
        }
      ]
    },
    {
      "cell_type": "markdown",
      "source": [
        "## Download the model"
      ],
      "metadata": {
        "id": "r9lanedvkRiv"
      }
    },
    {
      "cell_type": "code",
      "source": [
        "model = t.get_classifier()\n",
        "learner_1 = ktrain.get_learner(model, train_data=trn, val_data=val, batch_size=16)\n",
        "learner_2 = ktrain.get_learner(model, train_data=trn, val_data=val, batch_size=16)"
      ],
      "metadata": {
        "id": "0e4KcKkzkRiv"
      },
      "execution_count": 39,
      "outputs": []
    },
    {
      "cell_type": "markdown",
      "source": [
        "## Using the cyclical learning rate policy"
      ],
      "metadata": {
        "id": "Cd7FOdvxkRiv"
      }
    },
    {
      "cell_type": "code",
      "source": [
        "learner_1.lr_find(show_plot=True, max_epochs=4, suggest= True)\n"
      ],
      "metadata": {
        "colab": {
          "base_uri": "https://localhost:8080/",
          "height": 749
        },
        "outputId": "4c887023-f131-4337-83cc-f1a801d7110e",
        "id": "zuztsqyNkRiv"
      },
      "execution_count": 40,
      "outputs": [
        {
          "output_type": "stream",
          "name": "stdout",
          "text": [
            "simulating training for different learning rates... this may take a few moments...\n",
            "Epoch 1/4\n",
            "146/146 [==============================] - 17s 59ms/step - loss: 1.6038 - accuracy: 0.4735\n",
            "Epoch 2/4\n",
            "146/146 [==============================] - 9s 62ms/step - loss: 0.8023 - accuracy: 0.7654\n",
            "Epoch 3/4\n",
            "146/146 [==============================] - 9s 61ms/step - loss: 2.5832 - accuracy: 0.2587\n",
            "Epoch 4/4\n",
            "146/146 [==============================] - 1s 4ms/step - loss: 8.0644 - accuracy: 0.3107\n",
            "\n",
            "\n",
            "done.\n",
            "Visually inspect loss plot and select learning rate associated with falling loss\n",
            "Three possible suggestions for LR from plot:\n",
            "\tLongest valley (red): 8.54E-06\n",
            "\tMin numerical gradient (purple): 3.64E-06\n",
            "\tMin loss divided by 10 (omitted from plot): 6.43E-05\n"
          ]
        },
        {
          "output_type": "display_data",
          "data": {
            "text/plain": [
              "<Figure size 640x480 with 1 Axes>"
            ],
            "image/png": "[encoded data removed]"
          },
          "metadata": {}
        }
      ]
    },
    {
      "cell_type": "code",
      "source": [
        "learner_1.fit_onecycle(3.64E-06, 5)"
      ],
      "metadata": {
        "colab": {
          "base_uri": "https://localhost:8080/"
        },
        "outputId": "d3919d99-6561-4555-bb79-157a4cfe6b03",
        "id": "LkQXGjMckRiw"
      },
      "execution_count": 41,
      "outputs": [
        {
          "output_type": "stream",
          "name": "stdout",
          "text": [
            "\n",
            "\n",
            "begin training using onecycle policy with max lr of 3.64e-06...\n",
            "Epoch 1/5\n",
            "147/147 [==============================] - 20s 77ms/step - loss: 1.5946 - accuracy: 0.5356 - val_loss: 1.1813 - val_accuracy: 0.7558\n",
            "Epoch 2/5\n",
            "147/147 [==============================] - 9s 64ms/step - loss: 0.8442 - accuracy: 0.8143 - val_loss: 0.6148 - val_accuracy: 0.8420\n",
            "Epoch 3/5\n",
            "147/147 [==============================] - 9s 64ms/step - loss: 0.4911 - accuracy: 0.8835 - val_loss: 0.4776 - val_accuracy: 0.8642\n",
            "Epoch 4/5\n",
            "147/147 [==============================] - 9s 64ms/step - loss: 0.3536 - accuracy: 0.9172 - val_loss: 0.4415 - val_accuracy: 0.8736\n",
            "Epoch 5/5\n",
            "147/147 [==============================] - 9s 64ms/step - loss: 0.3034 - accuracy: 0.9270 - val_loss: 0.4357 - val_accuracy: 0.8728\n"
          ]
        },
        {
          "output_type": "execute_result",
          "data": {
            "text/plain": [
              "<keras.src.callbacks.History at 0x7bd604d26b00>"
            ]
          },
          "metadata": {},
          "execution_count": 41
        }
      ]
    },
    {
      "cell_type": "code",
      "source": [
        "learner_1.validate(class_names=t.get_classes())"
      ],
      "metadata": {
        "id": "IH_GPqgjkRiw",
        "colab": {
          "base_uri": "https://localhost:8080/"
        },
        "outputId": "bdbf3d0f-38bb-4133-9c28-14c08dcfd296"
      },
      "execution_count": 42,
      "outputs": [
        {
          "output_type": "stream",
          "name": "stdout",
          "text": [
            "37/37 [==============================] - 2s 23ms/step\n",
            "               precision    recall  f1-score   support\n",
            "\n",
            "     business       0.82      0.86      0.84       317\n",
            "entertainment       0.89      0.81      0.85        96\n",
            "       health       0.86      0.85      0.86       137\n",
            "     politics       0.90      0.92      0.91       268\n",
            "       sports       0.96      0.97      0.96       281\n",
            "         tech       0.62      0.47      0.54        72\n",
            "\n",
            "     accuracy                           0.87      1171\n",
            "    macro avg       0.84      0.82      0.83      1171\n",
            " weighted avg       0.87      0.87      0.87      1171\n",
            "\n"
          ]
        },
        {
          "output_type": "execute_result",
          "data": {
            "text/plain": [
              "array([[273,   5,   7,  13,   3,  16],\n",
              "       [  5,  78,   3,   3,   5,   2],\n",
              "       [ 13,   2, 117,   4,   0,   1],\n",
              "       [  8,   1,   7, 247,   3,   2],\n",
              "       [  4,   2,   1,   1, 273,   0],\n",
              "       [ 30,   0,   1,   6,   1,  34]])"
            ]
          },
          "metadata": {},
          "execution_count": 42
        }
      ]
    },
    {
      "cell_type": "markdown",
      "source": [
        "## Using the triangular learning rate policy"
      ],
      "metadata": {
        "id": "kJZQfd6IkRiw"
      }
    },
    {
      "cell_type": "code",
      "source": [
        "learner_2.lr_find(show_plot=True, max_epochs=4, suggest= True)"
      ],
      "metadata": {
        "id": "FtNXWRa4kRiw",
        "colab": {
          "base_uri": "https://localhost:8080/",
          "height": 749
        },
        "outputId": "eaf7f9fd-19de-44ce-995e-699fb55b0423"
      },
      "execution_count": 43,
      "outputs": [
        {
          "output_type": "stream",
          "name": "stdout",
          "text": [
            "simulating training for different learning rates... this may take a few moments...\n",
            "Epoch 1/4\n",
            "146/146 [==============================] - 9s 59ms/step - loss: 1.7563 - accuracy: 0.3074\n",
            "Epoch 2/4\n",
            "146/146 [==============================] - 9s 62ms/step - loss: 0.9340 - accuracy: 0.7349\n",
            "Epoch 3/4\n",
            "146/146 [==============================] - 9s 61ms/step - loss: 1.7504 - accuracy: 0.2699\n",
            "Epoch 4/4\n",
            "146/146 [==============================] - 2s 13ms/step - loss: 510.5666 - accuracy: 0.2460\n",
            "\n",
            "\n",
            "done.\n",
            "Visually inspect loss plot and select learning rate associated with falling loss\n",
            "Three possible suggestions for LR from plot:\n",
            "\tLongest valley (red): 1.61E-05\n",
            "\tMin numerical gradient (purple): 2.20E-05\n",
            "\tMin loss divided by 10 (omitted from plot): 9.69E-05\n"
          ]
        },
        {
          "output_type": "display_data",
          "data": {
            "text/plain": [
              "<Figure size 640x480 with 1 Axes>"
            ],
            "image/png": "[encoded data removed]"
          },
          "metadata": {}
        }
      ]
    },
    {
      "cell_type": "code",
      "source": [
        "learner_2.autofit(2.20E-05, 5)"
      ],
      "metadata": {
        "id": "M8b5TikrkRiw",
        "colab": {
          "base_uri": "https://localhost:8080/"
        },
        "outputId": "c607696b-cf07-45d7-9466-23e916f4743d"
      },
      "execution_count": 44,
      "outputs": [
        {
          "output_type": "stream",
          "name": "stdout",
          "text": [
            "\n",
            "\n",
            "begin training using triangular learning rate policy with max lr of 2.2e-05...\n",
            "Epoch 1/5\n",
            "147/147 [==============================] - 19s 77ms/step - loss: 0.7791 - accuracy: 0.7759 - val_loss: 0.4010 - val_accuracy: 0.8770\n",
            "Epoch 2/5\n",
            "147/147 [==============================] - 9s 64ms/step - loss: 0.3106 - accuracy: 0.9104 - val_loss: 0.3912 - val_accuracy: 0.8770\n",
            "Epoch 3/5\n",
            "147/147 [==============================] - 9s 64ms/step - loss: 0.2139 - accuracy: 0.9368 - val_loss: 0.3989 - val_accuracy: 0.8770\n",
            "Epoch 4/5\n",
            "147/147 [==============================] - 9s 64ms/step - loss: 0.1587 - accuracy: 0.9552 - val_loss: 0.4458 - val_accuracy: 0.8753\n",
            "Epoch 5/5\n",
            "147/147 [==============================] - 9s 64ms/step - loss: 0.1297 - accuracy: 0.9616 - val_loss: 0.4675 - val_accuracy: 0.8753\n"
          ]
        },
        {
          "output_type": "execute_result",
          "data": {
            "text/plain": [
              "<keras.src.callbacks.History at 0x7bd5ec96b220>"
            ]
          },
          "metadata": {},
          "execution_count": 44
        }
      ]
    },
    {
      "cell_type": "code",
      "source": [
        "learner_2.validate(class_names=t.get_classes())"
      ],
      "metadata": {
        "id": "JRk7WMUqkRiw",
        "colab": {
          "base_uri": "https://localhost:8080/"
        },
        "outputId": "fba40305-02bf-4412-dd38-8602d9e43e75"
      },
      "execution_count": 45,
      "outputs": [
        {
          "output_type": "stream",
          "name": "stdout",
          "text": [
            "37/37 [==============================] - 2s 23ms/step\n",
            "               precision    recall  f1-score   support\n",
            "\n",
            "     business       0.85      0.82      0.83       317\n",
            "entertainment       0.87      0.86      0.87        96\n",
            "       health       0.88      0.86      0.87       137\n",
            "     politics       0.88      0.94      0.91       268\n",
            "       sports       0.98      0.97      0.97       281\n",
            "         tech       0.58      0.57      0.57        72\n",
            "\n",
            "     accuracy                           0.88      1171\n",
            "    macro avg       0.84      0.84      0.84      1171\n",
            " weighted avg       0.87      0.88      0.87      1171\n",
            "\n"
          ]
        },
        {
          "output_type": "execute_result",
          "data": {
            "text/plain": [
              "array([[259,   6,   9,  18,   2,  23],\n",
              "       [  3,  83,   2,   4,   1,   3],\n",
              "       [ 13,   1, 118,   3,   0,   2],\n",
              "       [  8,   1,   4, 251,   3,   1],\n",
              "       [  2,   2,   1,   2, 273,   1],\n",
              "       [ 21,   2,   0,   8,   0,  41]])"
            ]
          },
          "metadata": {},
          "execution_count": 45
        }
      ]
    },
    {
      "cell_type": "markdown",
      "source": [
        "## Compute the metrics for testing set"
      ],
      "metadata": {
        "id": "dV_VRDF1kRiw"
      }
    },
    {
      "cell_type": "code",
      "source": [
        "predictor_1 = ktrain.get_predictor(learner_1.model, preproc=t)\n",
        "predictor_2 = ktrain.get_predictor(learner_2.model, preproc=t)"
      ],
      "metadata": {
        "id": "L7V608OHkRiw"
      },
      "execution_count": 46,
      "outputs": []
    },
    {
      "cell_type": "code",
      "source": [
        "y_pred_1 = predictor_1.predict(x_test)\n",
        "y_pred_2 = predictor_2.predict(x_test)"
      ],
      "metadata": {
        "id": "w_En_HAJkRix"
      },
      "execution_count": 47,
      "outputs": []
    },
    {
      "cell_type": "code",
      "source": [
        "accuracy_6_1, precision_6_1, recall_6_1, f1_6_1 = compute_classification_report(y_test , y_pred_1)"
      ],
      "metadata": {
        "id": "v-ZKWgGqkRiy",
        "colab": {
          "base_uri": "https://localhost:8080/"
        },
        "outputId": "d3e11945-a80d-4a09-a20d-4f89915f9d78"
      },
      "execution_count": 48,
      "outputs": [
        {
          "output_type": "stream",
          "name": "stdout",
          "text": [
            "Classification Report:\n",
            "               precision    recall  f1-score   support\n",
            "\n",
            "     business       0.81      0.90      0.85       317\n",
            "entertainment       0.89      0.87      0.88        95\n",
            "       health       0.86      0.87      0.87       138\n",
            "     politics       0.94      0.88      0.91       269\n",
            "       sports       0.97      0.98      0.97       281\n",
            "         tech       0.58      0.46      0.51        72\n",
            "\n",
            "     accuracy                           0.88      1172\n",
            "    macro avg       0.84      0.82      0.83      1172\n",
            " weighted avg       0.88      0.88      0.88      1172\n",
            "\n",
            "Accuracy: 0.878839590443686\n",
            "Precision: 0.8430593817509727\n",
            "Recall: 0.8249823671540989\n",
            "F1 Score: 0.8322798791447915\n"
          ]
        }
      ]
    },
    {
      "cell_type": "code",
      "source": [
        "accuracy_6_2, precision_6_2, recall_6_2, f1_6_2 = compute_classification_report(y_test , y_pred_2)"
      ],
      "metadata": {
        "id": "Sg-qjLJLkRiy",
        "colab": {
          "base_uri": "https://localhost:8080/"
        },
        "outputId": "b54cb8dd-130c-4d16-dad5-7e7d34b07610"
      },
      "execution_count": 49,
      "outputs": [
        {
          "output_type": "stream",
          "name": "stdout",
          "text": [
            "Classification Report:\n",
            "               precision    recall  f1-score   support\n",
            "\n",
            "     business       0.82      0.84      0.83       317\n",
            "entertainment       0.88      0.92      0.90        95\n",
            "       health       0.86      0.88      0.87       138\n",
            "     politics       0.93      0.89      0.91       269\n",
            "       sports       0.99      0.96      0.97       281\n",
            "         tech       0.51      0.53      0.52        72\n",
            "\n",
            "     accuracy                           0.87      1172\n",
            "    macro avg       0.83      0.84      0.83      1172\n",
            " weighted avg       0.88      0.87      0.87      1172\n",
            "\n",
            "Accuracy: 0.8728668941979523\n",
            "Precision: 0.8310374636783187\n",
            "Recall: 0.8359495900195263\n",
            "F1 Score: 0.8332586203865103\n"
          ]
        }
      ]
    },
    {
      "cell_type": "markdown",
      "source": [
        "## Save the models"
      ],
      "metadata": {
        "id": "DzP7kvM9kRiy"
      }
    },
    {
      "cell_type": "code",
      "source": [
        "predictor_1.save('/content/drive/MyDrive/Topics/distilbert_6_topics_1_87.88')\n",
        "predictor_2.save('/content/drive/MyDrive/Topics/distilbert_6_topics_2_87.28')\n"
      ],
      "metadata": {
        "id": "sW8q7N8mkRiy"
      },
      "execution_count": 108,
      "outputs": []
    },
    {
      "cell_type": "markdown",
      "source": [
        "# DistilBERT for 17 topics"
      ],
      "metadata": {
        "id": "wcmAVNbwkSb7"
      }
    },
    {
      "cell_type": "markdown",
      "source": [
        "## Read data"
      ],
      "metadata": {
        "id": "772mndd3kVmV"
      }
    },
    {
      "cell_type": "code",
      "source": [
        "df = pd.read_csv(\"https://github.com/AnasElbattra/News-Understanding-NLP/raw/main/TOPICS/DATA/MN-DS-news-classification.csv\")\n",
        "df = df.rename(columns={'category_level_1': 'category_1', 'category_level_2': 'category_2'})"
      ],
      "metadata": {
        "id": "fWVS1YkKkVmV"
      },
      "execution_count": 51,
      "outputs": []
    },
    {
      "cell_type": "code",
      "source": [
        "df"
      ],
      "metadata": {
        "colab": {
          "base_uri": "https://localhost:8080/",
          "height": 1000
        },
        "outputId": "019c6f3a-d019-4d7f-b398-0d003cbea6a7",
        "id": "55Zt-q0zkVmW"
      },
      "execution_count": 52,
      "outputs": [
        {
          "output_type": "execute_result",
          "data": {
            "text/plain": [
              "       data_id                                                 id        date  \\\n",
              "0         1809  abcnews--2019-10-31--Virginia mom charged with...  2019-10-31   \n",
              "1         1980  abcnews--2019-11-07--2 escaped murder suspects...  2019-11-07   \n",
              "2         1995  abcnews--2019-11-07--Family turns in escaped b...  2019-11-07   \n",
              "3         2740  abcnews--2019-12-02--Mother charged with murde...  2019-12-02   \n",
              "4         7038  ageofautism--2019-04-12--Physician Father and ...  2019-04-12   \n",
              "...        ...                                                ...         ...   \n",
              "10912   907640  therussophileorg--2019-12-15--Iran to build ov...  2019-12-15   \n",
              "10913   892720  therussophileorg--2019-10-12--Ukraine has no m...  2019-10-12   \n",
              "10914   870499  therussophileorg--2019-07-06--Irans contributi...  2019-07-06   \n",
              "10915   887334  therussophileorg--2019-09-25--Iraqi president ...  2019-09-25   \n",
              "10916   885988  therussophileorg--2019-09-20--Russia expects t...  2019-09-20   \n",
              "\n",
              "                 source                                              title  \\\n",
              "0               abcnews  Virginia mom charged with murder in 2-year-old...   \n",
              "1               abcnews  2 escaped murder suspects arrested at US-Mexic...   \n",
              "2               abcnews  Family turns in escaped boy, 13, suspected in ...   \n",
              "3               abcnews  Mother charged with murder in deaths of 2 youn...   \n",
              "4           ageofautism  Physician, Father and Caretaker of 29 Year Old...   \n",
              "...                 ...                                                ...   \n",
              "10912  therussophileorg  Iran to build over 30,000 housing units in Syr...   \n",
              "10913  therussophileorg  Ukraine has no money for reconstruction of Don...   \n",
              "10914  therussophileorg  Iran’s contribution is needed to rebuild Iraq ...   \n",
              "10915  therussophileorg  Iraqi president demands international help for...   \n",
              "10916  therussophileorg  Russia expects to cooperate with China on Syri...   \n",
              "\n",
              "                                                 content            author  \\\n",
              "0      The Virginia woman whose 2-year-old son was fo...               NaN   \n",
              "1      Authorities are trying to determine if anyone ...               NaN   \n",
              "2      A 13-year-old suspect in a double homicide who...               NaN   \n",
              "3      The mother of two young children found hanging...               NaN   \n",
              "4      \"One family member said Derek “can be violent ...     Age of Autism   \n",
              "...                                                  ...               ...   \n",
              "10912  This post was originally published on this sit...         News Desk   \n",
              "10913  This post was originally published on this sit...  Michael Sullivan   \n",
              "10914  This\\n\\n[post](http://www.presstv.ir/Detail/20...  Michael Sullivan   \n",
              "10915  This\\n\\n[post](http://www.presstv.ir/Detail/20...  Michael Sullivan   \n",
              "10916  This\\n\\n[post](https://tass.com/politics/10791...  Michael Sullivan   \n",
              "\n",
              "                                                     url  \\\n",
              "0      https://abcnews.go.com/US/wireStory/virginia-m...   \n",
              "1      https://abcnews.go.com/US/wireStory/escaped-mu...   \n",
              "2      https://abcnews.go.com/US/wireStory/family-tur...   \n",
              "3      https://abcnews.go.com/US/wireStory/mother-cha...   \n",
              "4      http://feedproxy.google.com/~r/ageofautism/~3/...   \n",
              "...                                                  ...   \n",
              "10912  https://www.therussophile.org/iran-to-build-ov...   \n",
              "10913  https://www.therussophile.org/ukraine-has-no-m...   \n",
              "10914  https://www.therussophile.org/irans-contributi...   \n",
              "10915  https://www.therussophile.org/iraqi-president-...   \n",
              "10916  https://www.therussophile.org/russia-expects-t...   \n",
              "\n",
              "                             published  published_utc  collection_utc  \\\n",
              "0      Thu, 31 Oct 2019 16:49:56 -0400     1572554996      1572559512   \n",
              "1      Thu, 07 Nov 2019 00:13:12 -0500     1573103592      1573131986   \n",
              "2      Thu, 07 Nov 2019 07:39:54 -0500     1573130394      1573131982   \n",
              "3      Mon, 02 Dec 2019 11:30:59 -0500     1575304259      1575308811   \n",
              "4            2019-04-12 09:00:00+00:00     1555074000      1567543083   \n",
              "...                                ...            ...             ...   \n",
              "10912  Sun, 15 Dec 2019 10:42:50 +0000     1576424570      1576413702   \n",
              "10913  Sat, 12 Oct 2019 20:56:01 +0000     1570928161      1570922006   \n",
              "10914        2019-07-06 17:51:38+00:00     1562449898      1567536625   \n",
              "10915        2019-09-25 16:58:01+00:00     1569445081      1570222223   \n",
              "10916        2019-09-20 13:56:47+00:00     1569002207      1570222711   \n",
              "\n",
              "                    category_1               category_2  \n",
              "0       crime, law and justice                    crime  \n",
              "1       crime, law and justice                    crime  \n",
              "2       crime, law and justice                    crime  \n",
              "3       crime, law and justice                    crime  \n",
              "4       crime, law and justice                    crime  \n",
              "...                        ...                      ...  \n",
              "10912  conflict, war and peace  post-war reconstruction  \n",
              "10913  conflict, war and peace  post-war reconstruction  \n",
              "10914  conflict, war and peace  post-war reconstruction  \n",
              "10915  conflict, war and peace  post-war reconstruction  \n",
              "10916  conflict, war and peace  post-war reconstruction  \n",
              "\n",
              "[10917 rows x 13 columns]"
            ],
            "text/html": [
              "\n",
              "  <div id=\"df-13b88472-3249-4e3d-8cb4-2767bc1a22f0\" class=\"colab-df-container\">\n",
              "    <div>\n",
              "<style scoped>\n",
              "    .dataframe tbody tr th:only-of-type {\n",
              "        vertical-align: middle;\n",
              "    }\n",
              "\n",
              "    .dataframe tbody tr th {\n",
              "        vertical-align: top;\n",
              "    }\n",
              "\n",
              "    .dataframe thead th {\n",
              "        text-align: right;\n",
              "    }\n",
              "</style>\n",
              "<table border=\"1\" class=\"dataframe\">\n",
              "  <thead>\n",
              "    <tr style=\"text-align: right;\">\n",
              "      <th></th>\n",
              "      <th>data_id</th>\n",
              "      <th>id</th>\n",
              "      <th>date</th>\n",
              "      <th>source</th>\n",
              "      <th>title</th>\n",
              "      <th>content</th>\n",
              "      <th>author</th>\n",
              "      <th>url</th>\n",
              "      <th>published</th>\n",
              "      <th>published_utc</th>\n",
              "      <th>collection_utc</th>\n",
              "      <th>category_1</th>\n",
              "      <th>category_2</th>\n",
              "    </tr>\n",
              "  </thead>\n",
              "  <tbody>\n",
              "    <tr>\n",
              "      <th>0</th>\n",
              "      <td>1809</td>\n",
              "      <td>abcnews--2019-10-31--Virginia mom charged with...</td>\n",
              "      <td>2019-10-31</td>\n",
              "      <td>abcnews</td>\n",
              "      <td>Virginia mom charged with murder in 2-year-old...</td>\n",
              "      <td>The Virginia woman whose 2-year-old son was fo...</td>\n",
              "      <td>NaN</td>\n",
              "      <td>https://abcnews.go.com/US/wireStory/virginia-m...</td>\n",
              "      <td>Thu, 31 Oct 2019 16:49:56 -0400</td>\n",
              "      <td>1572554996</td>\n",
              "      <td>1572559512</td>\n",
              "      <td>crime, law and justice</td>\n",
              "      <td>crime</td>\n",
              "    </tr>\n",
              "    <tr>\n",
              "      <th>1</th>\n",
              "      <td>1980</td>\n",
              "      <td>abcnews--2019-11-07--2 escaped murder suspects...</td>\n",
              "      <td>2019-11-07</td>\n",
              "      <td>abcnews</td>\n",
              "      <td>2 escaped murder suspects arrested at US-Mexic...</td>\n",
              "      <td>Authorities are trying to determine if anyone ...</td>\n",
              "      <td>NaN</td>\n",
              "      <td>https://abcnews.go.com/US/wireStory/escaped-mu...</td>\n",
              "      <td>Thu, 07 Nov 2019 00:13:12 -0500</td>\n",
              "      <td>1573103592</td>\n",
              "      <td>1573131986</td>\n",
              "      <td>crime, law and justice</td>\n",
              "      <td>crime</td>\n",
              "    </tr>\n",
              "    <tr>\n",
              "      <th>2</th>\n",
              "      <td>1995</td>\n",
              "      <td>abcnews--2019-11-07--Family turns in escaped b...</td>\n",
              "      <td>2019-11-07</td>\n",
              "      <td>abcnews</td>\n",
              "      <td>Family turns in escaped boy, 13, suspected in ...</td>\n",
              "      <td>A 13-year-old suspect in a double homicide who...</td>\n",
              "      <td>NaN</td>\n",
              "      <td>https://abcnews.go.com/US/wireStory/family-tur...</td>\n",
              "      <td>Thu, 07 Nov 2019 07:39:54 -0500</td>\n",
              "      <td>1573130394</td>\n",
              "      <td>1573131982</td>\n",
              "      <td>crime, law and justice</td>\n",
              "      <td>crime</td>\n",
              "    </tr>\n",
              "    <tr>\n",
              "      <th>3</th>\n",
              "      <td>2740</td>\n",
              "      <td>abcnews--2019-12-02--Mother charged with murde...</td>\n",
              "      <td>2019-12-02</td>\n",
              "      <td>abcnews</td>\n",
              "      <td>Mother charged with murder in deaths of 2 youn...</td>\n",
              "      <td>The mother of two young children found hanging...</td>\n",
              "      <td>NaN</td>\n",
              "      <td>https://abcnews.go.com/US/wireStory/mother-cha...</td>\n",
              "      <td>Mon, 02 Dec 2019 11:30:59 -0500</td>\n",
              "      <td>1575304259</td>\n",
              "      <td>1575308811</td>\n",
              "      <td>crime, law and justice</td>\n",
              "      <td>crime</td>\n",
              "    </tr>\n",
              "    <tr>\n",
              "      <th>4</th>\n",
              "      <td>7038</td>\n",
              "      <td>ageofautism--2019-04-12--Physician Father and ...</td>\n",
              "      <td>2019-04-12</td>\n",
              "      <td>ageofautism</td>\n",
              "      <td>Physician, Father and Caretaker of 29 Year Old...</td>\n",
              "      <td>\"One family member said Derek “can be violent ...</td>\n",
              "      <td>Age of Autism</td>\n",
              "      <td>http://feedproxy.google.com/~r/ageofautism/~3/...</td>\n",
              "      <td>2019-04-12 09:00:00+00:00</td>\n",
              "      <td>1555074000</td>\n",
              "      <td>1567543083</td>\n",
              "      <td>crime, law and justice</td>\n",
              "      <td>crime</td>\n",
              "    </tr>\n",
              "    <tr>\n",
              "      <th>...</th>\n",
              "      <td>...</td>\n",
              "      <td>...</td>\n",
              "      <td>...</td>\n",
              "      <td>...</td>\n",
              "      <td>...</td>\n",
              "      <td>...</td>\n",
              "      <td>...</td>\n",
              "      <td>...</td>\n",
              "      <td>...</td>\n",
              "      <td>...</td>\n",
              "      <td>...</td>\n",
              "      <td>...</td>\n",
              "      <td>...</td>\n",
              "    </tr>\n",
              "    <tr>\n",
              "      <th>10912</th>\n",
              "      <td>907640</td>\n",
              "      <td>therussophileorg--2019-12-15--Iran to build ov...</td>\n",
              "      <td>2019-12-15</td>\n",
              "      <td>therussophileorg</td>\n",
              "      <td>Iran to build over 30,000 housing units in Syr...</td>\n",
              "      <td>This post was originally published on this sit...</td>\n",
              "      <td>News Desk</td>\n",
              "      <td>https://www.therussophile.org/iran-to-build-ov...</td>\n",
              "      <td>Sun, 15 Dec 2019 10:42:50 +0000</td>\n",
              "      <td>1576424570</td>\n",
              "      <td>1576413702</td>\n",
              "      <td>conflict, war and peace</td>\n",
              "      <td>post-war reconstruction</td>\n",
              "    </tr>\n",
              "    <tr>\n",
              "      <th>10913</th>\n",
              "      <td>892720</td>\n",
              "      <td>therussophileorg--2019-10-12--Ukraine has no m...</td>\n",
              "      <td>2019-10-12</td>\n",
              "      <td>therussophileorg</td>\n",
              "      <td>Ukraine has no money for reconstruction of Don...</td>\n",
              "      <td>This post was originally published on this sit...</td>\n",
              "      <td>Michael Sullivan</td>\n",
              "      <td>https://www.therussophile.org/ukraine-has-no-m...</td>\n",
              "      <td>Sat, 12 Oct 2019 20:56:01 +0000</td>\n",
              "      <td>1570928161</td>\n",
              "      <td>1570922006</td>\n",
              "      <td>conflict, war and peace</td>\n",
              "      <td>post-war reconstruction</td>\n",
              "    </tr>\n",
              "    <tr>\n",
              "      <th>10914</th>\n",
              "      <td>870499</td>\n",
              "      <td>therussophileorg--2019-07-06--Irans contributi...</td>\n",
              "      <td>2019-07-06</td>\n",
              "      <td>therussophileorg</td>\n",
              "      <td>Iran’s contribution is needed to rebuild Iraq ...</td>\n",
              "      <td>This\\n\\n[post](http://www.presstv.ir/Detail/20...</td>\n",
              "      <td>Michael Sullivan</td>\n",
              "      <td>https://www.therussophile.org/irans-contributi...</td>\n",
              "      <td>2019-07-06 17:51:38+00:00</td>\n",
              "      <td>1562449898</td>\n",
              "      <td>1567536625</td>\n",
              "      <td>conflict, war and peace</td>\n",
              "      <td>post-war reconstruction</td>\n",
              "    </tr>\n",
              "    <tr>\n",
              "      <th>10915</th>\n",
              "      <td>887334</td>\n",
              "      <td>therussophileorg--2019-09-25--Iraqi president ...</td>\n",
              "      <td>2019-09-25</td>\n",
              "      <td>therussophileorg</td>\n",
              "      <td>Iraqi president demands international help for...</td>\n",
              "      <td>This\\n\\n[post](http://www.presstv.ir/Detail/20...</td>\n",
              "      <td>Michael Sullivan</td>\n",
              "      <td>https://www.therussophile.org/iraqi-president-...</td>\n",
              "      <td>2019-09-25 16:58:01+00:00</td>\n",
              "      <td>1569445081</td>\n",
              "      <td>1570222223</td>\n",
              "      <td>conflict, war and peace</td>\n",
              "      <td>post-war reconstruction</td>\n",
              "    </tr>\n",
              "    <tr>\n",
              "      <th>10916</th>\n",
              "      <td>885988</td>\n",
              "      <td>therussophileorg--2019-09-20--Russia expects t...</td>\n",
              "      <td>2019-09-20</td>\n",
              "      <td>therussophileorg</td>\n",
              "      <td>Russia expects to cooperate with China on Syri...</td>\n",
              "      <td>This\\n\\n[post](https://tass.com/politics/10791...</td>\n",
              "      <td>Michael Sullivan</td>\n",
              "      <td>https://www.therussophile.org/russia-expects-t...</td>\n",
              "      <td>2019-09-20 13:56:47+00:00</td>\n",
              "      <td>1569002207</td>\n",
              "      <td>1570222711</td>\n",
              "      <td>conflict, war and peace</td>\n",
              "      <td>post-war reconstruction</td>\n",
              "    </tr>\n",
              "  </tbody>\n",
              "</table>\n",
              "<p>10917 rows × 13 columns</p>\n",
              "</div>\n",
              "    <div class=\"colab-df-buttons\">\n",
              "\n",
              "  <div class=\"colab-df-container\">\n",
              "    <button class=\"colab-df-convert\" onclick=\"convertToInteractive('df-13b88472-3249-4e3d-8cb4-2767bc1a22f0')\"\n",
              "            title=\"Convert this dataframe to an interactive table.\"\n",
              "            style=\"display:none;\">\n",
              "\n",
              "  <svg xmlns=\"http://www.w3.org/2000/svg\" height=\"24px\" viewBox=\"0 -960 960 960\">\n",
              "    <path d=\"M120-120v-720h720v720H120Zm60-500h600v-160H180v160Zm220 220h160v-160H400v160Zm0 220h160v-160H400v160ZM180-400h160v-160H180v160Zm440 0h160v-160H620v160ZM180-180h160v-160H180v160Zm440 0h160v-160H620v160Z\"/>\n",
              "  </svg>\n",
              "    </button>\n",
              "\n",
              "  <style>\n",
              "    .colab-df-container {\n",
              "      display:flex;\n",
              "      gap: 12px;\n",
              "    }\n",
              "\n",
              "    .colab-df-convert {\n",
              "      background-color: #E8F0FE;\n",
              "      border: none;\n",
              "      border-radius: 50%;\n",
              "      cursor: pointer;\n",
              "      display: none;\n",
              "      fill: #1967D2;\n",
              "      height: 32px;\n",
              "      padding: 0 0 0 0;\n",
              "      width: 32px;\n",
              "    }\n",
              "\n",
              "    .colab-df-convert:hover {\n",
              "      background-color: #E2EBFA;\n",
              "      box-shadow: 0px 1px 2px rgba(60, 64, 67, 0.3), 0px 1px 3px 1px rgba(60, 64, 67, 0.15);\n",
              "      fill: #174EA6;\n",
              "    }\n",
              "\n",
              "    .colab-df-buttons div {\n",
              "      margin-bottom: 4px;\n",
              "    }\n",
              "\n",
              "    [theme=dark] .colab-df-convert {\n",
              "      background-color: #3B4455;\n",
              "      fill: #D2E3FC;\n",
              "    }\n",
              "\n",
              "    [theme=dark] .colab-df-convert:hover {\n",
              "      background-color: #434B5C;\n",
              "      box-shadow: 0px 1px 3px 1px rgba(0, 0, 0, 0.15);\n",
              "      filter: drop-shadow(0px 1px 2px rgba(0, 0, 0, 0.3));\n",
              "      fill: #FFFFFF;\n",
              "    }\n",
              "  </style>\n",
              "\n",
              "    <script>\n",
              "      const buttonEl =\n",
              "        document.querySelector('#df-13b88472-3249-4e3d-8cb4-2767bc1a22f0 button.colab-df-convert');\n",
              "      buttonEl.style.display =\n",
              "        google.colab.kernel.accessAllowed ? 'block' : 'none';\n",
              "\n",
              "      async function convertToInteractive(key) {\n",
              "        const element = document.querySelector('#df-13b88472-3249-4e3d-8cb4-2767bc1a22f0');\n",
              "        const dataTable =\n",
              "          await google.colab.kernel.invokeFunction('convertToInteractive',\n",
              "                                                    [key], {});\n",
              "        if (!dataTable) return;\n",
              "\n",
              "        const docLinkHtml = 'Like what you see? Visit the ' +\n",
              "          '<a target=\"_blank\" href=https://colab.research.google.com/notebooks/data_table.ipynb>data table notebook</a>'\n",
              "          + ' to learn more about interactive tables.';\n",
              "        element.innerHTML = '';\n",
              "        dataTable['output_type'] = 'display_data';\n",
              "        await google.colab.output.renderOutput(dataTable, element);\n",
              "        const docLink = document.createElement('div');\n",
              "        docLink.innerHTML = docLinkHtml;\n",
              "        element.appendChild(docLink);\n",
              "      }\n",
              "    </script>\n",
              "  </div>\n",
              "\n",
              "\n",
              "<div id=\"df-96f5624c-ea8c-4148-a2dc-71ef1b154e73\">\n",
              "  <button class=\"colab-df-quickchart\" onclick=\"quickchart('df-96f5624c-ea8c-4148-a2dc-71ef1b154e73')\"\n",
              "            title=\"Suggest charts\"\n",
              "            style=\"display:none;\">\n",
              "\n",
              "<svg xmlns=\"http://www.w3.org/2000/svg\" height=\"24px\"viewBox=\"0 0 24 24\"\n",
              "     width=\"24px\">\n",
              "    <g>\n",
              "        <path d=\"M19 3H5c-1.1 0-2 .9-2 2v14c0 1.1.9 2 2 2h14c1.1 0 2-.9 2-2V5c0-1.1-.9-2-2-2zM9 17H7v-7h2v7zm4 0h-2V7h2v10zm4 0h-2v-4h2v4z\"/>\n",
              "    </g>\n",
              "</svg>\n",
              "  </button>\n",
              "\n",
              "<style>\n",
              "  .colab-df-quickchart {\n",
              "      --bg-color: #E8F0FE;\n",
              "      --fill-color: #1967D2;\n",
              "      --hover-bg-color: #E2EBFA;\n",
              "      --hover-fill-color: #174EA6;\n",
              "      --disabled-fill-color: #AAA;\n",
              "      --disabled-bg-color: #DDD;\n",
              "  }\n",
              "\n",
              "  [theme=dark] .colab-df-quickchart {\n",
              "      --bg-color: #3B4455;\n",
              "      --fill-color: #D2E3FC;\n",
              "      --hover-bg-color: #434B5C;\n",
              "      --hover-fill-color: #FFFFFF;\n",
              "      --disabled-bg-color: #3B4455;\n",
              "      --disabled-fill-color: #666;\n",
              "  }\n",
              "\n",
              "  .colab-df-quickchart {\n",
              "    background-color: var(--bg-color);\n",
              "    border: none;\n",
              "    border-radius: 50%;\n",
              "    cursor: pointer;\n",
              "    display: none;\n",
              "    fill: var(--fill-color);\n",
              "    height: 32px;\n",
              "    padding: 0;\n",
              "    width: 32px;\n",
              "  }\n",
              "\n",
              "  .colab-df-quickchart:hover {\n",
              "    background-color: var(--hover-bg-color);\n",
              "    box-shadow: 0 1px 2px rgba(60, 64, 67, 0.3), 0 1px 3px 1px rgba(60, 64, 67, 0.15);\n",
              "    fill: var(--button-hover-fill-color);\n",
              "  }\n",
              "\n",
              "  .colab-df-quickchart-complete:disabled,\n",
              "  .colab-df-quickchart-complete:disabled:hover {\n",
              "    background-color: var(--disabled-bg-color);\n",
              "    fill: var(--disabled-fill-color);\n",
              "    box-shadow: none;\n",
              "  }\n",
              "\n",
              "  .colab-df-spinner {\n",
              "    border: 2px solid var(--fill-color);\n",
              "    border-color: transparent;\n",
              "    border-bottom-color: var(--fill-color);\n",
              "    animation:\n",
              "      spin 1s steps(1) infinite;\n",
              "  }\n",
              "\n",
              "  @keyframes spin {\n",
              "    0% {\n",
              "      border-color: transparent;\n",
              "      border-bottom-color: var(--fill-color);\n",
              "      border-left-color: var(--fill-color);\n",
              "    }\n",
              "    20% {\n",
              "      border-color: transparent;\n",
              "      border-left-color: var(--fill-color);\n",
              "      border-top-color: var(--fill-color);\n",
              "    }\n",
              "    30% {\n",
              "      border-color: transparent;\n",
              "      border-left-color: var(--fill-color);\n",
              "      border-top-color: var(--fill-color);\n",
              "      border-right-color: var(--fill-color);\n",
              "    }\n",
              "    40% {\n",
              "      border-color: transparent;\n",
              "      border-right-color: var(--fill-color);\n",
              "      border-top-color: var(--fill-color);\n",
              "    }\n",
              "    60% {\n",
              "      border-color: transparent;\n",
              "      border-right-color: var(--fill-color);\n",
              "    }\n",
              "    80% {\n",
              "      border-color: transparent;\n",
              "      border-right-color: var(--fill-color);\n",
              "      border-bottom-color: var(--fill-color);\n",
              "    }\n",
              "    90% {\n",
              "      border-color: transparent;\n",
              "      border-bottom-color: var(--fill-color);\n",
              "    }\n",
              "  }\n",
              "</style>\n",
              "\n",
              "  <script>\n",
              "    async function quickchart(key) {\n",
              "      const quickchartButtonEl =\n",
              "        document.querySelector('#' + key + ' button');\n",
              "      quickchartButtonEl.disabled = true;  // To prevent multiple clicks.\n",
              "      quickchartButtonEl.classList.add('colab-df-spinner');\n",
              "      try {\n",
              "        const charts = await google.colab.kernel.invokeFunction(\n",
              "            'suggestCharts', [key], {});\n",
              "      } catch (error) {\n",
              "        console.error('Error during call to suggestCharts:', error);\n",
              "      }\n",
              "      quickchartButtonEl.classList.remove('colab-df-spinner');\n",
              "      quickchartButtonEl.classList.add('colab-df-quickchart-complete');\n",
              "    }\n",
              "    (() => {\n",
              "      let quickchartButtonEl =\n",
              "        document.querySelector('#df-96f5624c-ea8c-4148-a2dc-71ef1b154e73 button');\n",
              "      quickchartButtonEl.style.display =\n",
              "        google.colab.kernel.accessAllowed ? 'block' : 'none';\n",
              "    })();\n",
              "  </script>\n",
              "</div>\n",
              "\n",
              "  <div id=\"id_aaeab505-bf0b-4dc6-91a4-7e3098d77404\">\n",
              "    <style>\n",
              "      .colab-df-generate {\n",
              "        background-color: #E8F0FE;\n",
              "        border: none;\n",
              "        border-radius: 50%;\n",
              "        cursor: pointer;\n",
              "        display: none;\n",
              "        fill: #1967D2;\n",
              "        height: 32px;\n",
              "        padding: 0 0 0 0;\n",
              "        width: 32px;\n",
              "      }\n",
              "\n",
              "      .colab-df-generate:hover {\n",
              "        background-color: #E2EBFA;\n",
              "        box-shadow: 0px 1px 2px rgba(60, 64, 67, 0.3), 0px 1px 3px 1px rgba(60, 64, 67, 0.15);\n",
              "        fill: #174EA6;\n",
              "      }\n",
              "\n",
              "      [theme=dark] .colab-df-generate {\n",
              "        background-color: #3B4455;\n",
              "        fill: #D2E3FC;\n",
              "      }\n",
              "\n",
              "      [theme=dark] .colab-df-generate:hover {\n",
              "        background-color: #434B5C;\n",
              "        box-shadow: 0px 1px 3px 1px rgba(0, 0, 0, 0.15);\n",
              "        filter: drop-shadow(0px 1px 2px rgba(0, 0, 0, 0.3));\n",
              "        fill: #FFFFFF;\n",
              "      }\n",
              "    </style>\n",
              "    <button class=\"colab-df-generate\" onclick=\"generateWithVariable('df')\"\n",
              "            title=\"Generate code using this dataframe.\"\n",
              "            style=\"display:none;\">\n",
              "\n",
              "  <svg xmlns=\"http://www.w3.org/2000/svg\" height=\"24px\"viewBox=\"0 0 24 24\"\n",
              "       width=\"24px\">\n",
              "    <path d=\"M7,19H8.4L18.45,9,17,7.55,7,17.6ZM5,21V16.75L18.45,3.32a2,2,0,0,1,2.83,0l1.4,1.43a1.91,1.91,0,0,1,.58,1.4,1.91,1.91,0,0,1-.58,1.4L9.25,21ZM18.45,9,17,7.55Zm-12,3A5.31,5.31,0,0,0,4.9,8.1,5.31,5.31,0,0,0,1,6.5,5.31,5.31,0,0,0,4.9,4.9,5.31,5.31,0,0,0,6.5,1,5.31,5.31,0,0,0,8.1,4.9,5.31,5.31,0,0,0,12,6.5,5.46,5.46,0,0,0,6.5,12Z\"/>\n",
              "  </svg>\n",
              "    </button>\n",
              "    <script>\n",
              "      (() => {\n",
              "      const buttonEl =\n",
              "        document.querySelector('#id_aaeab505-bf0b-4dc6-91a4-7e3098d77404 button.colab-df-generate');\n",
              "      buttonEl.style.display =\n",
              "        google.colab.kernel.accessAllowed ? 'block' : 'none';\n",
              "\n",
              "      buttonEl.onclick = () => {\n",
              "        google.colab.notebook.generateWithVariable('df');\n",
              "      }\n",
              "      })();\n",
              "    </script>\n",
              "  </div>\n",
              "\n",
              "    </div>\n",
              "  </div>\n"
            ]
          },
          "metadata": {},
          "execution_count": 52
        }
      ]
    },
    {
      "cell_type": "code",
      "source": [
        "df[\"category_1\"].value_counts()"
      ],
      "metadata": {
        "id": "Gq-DtQf1tbWL",
        "colab": {
          "base_uri": "https://localhost:8080/"
        },
        "outputId": "1db2a04d-8c9e-4ff7-c928-0b768baf4f06"
      },
      "execution_count": 53,
      "outputs": [
        {
          "output_type": "execute_result",
          "data": {
            "text/plain": [
              "society                                      1100\n",
              "sport                                         907\n",
              "politics                                      900\n",
              "conflict, war and peace                       800\n",
              "religion and belief                           800\n",
              "science and technology                        800\n",
              "labour                                        703\n",
              "health                                        700\n",
              "education                                     607\n",
              "environment                                   600\n",
              "human interest                                600\n",
              "crime, law and justice                        500\n",
              "disaster, accident and emergency incident     500\n",
              "weather                                       400\n",
              "economy, business and finance                 400\n",
              "arts, culture, entertainment and media        300\n",
              "lifestyle and leisure                         300\n",
              "Name: category_1, dtype: int64"
            ]
          },
          "metadata": {},
          "execution_count": 53
        }
      ]
    },
    {
      "cell_type": "code",
      "source": [
        "X = df.content\n",
        "Y = df.category_1"
      ],
      "metadata": {
        "id": "e_7U2jCfkVmW"
      },
      "execution_count": 68,
      "outputs": []
    },
    {
      "cell_type": "markdown",
      "source": [
        "## Split the data"
      ],
      "metadata": {
        "id": "h2Y1ixZEkVmW"
      }
    },
    {
      "cell_type": "code",
      "source": [
        "X_train, X_temp, y_train, y_temp = train_test_split(X,Y , shuffle=True, test_size = 0.5, random_state = 12342 , stratify=Y)\n",
        "\n",
        "X_val, X_test, y_val, y_test = train_test_split(X_temp, y_temp, shuffle=True, test_size = 0.5, random_state = 12342 , stratify=y_temp)\n"
      ],
      "metadata": {
        "id": "3bQ3KKhRkVmW"
      },
      "execution_count": 69,
      "outputs": []
    },
    {
      "cell_type": "code",
      "source": [
        "print(X_train.shape)\n",
        "print(y_train.shape)\n",
        "print(X_val.shape)\n",
        "print(y_val.shape)\n",
        "print(X_test.shape)\n",
        "print(y_test.shape)"
      ],
      "metadata": {
        "colab": {
          "base_uri": "https://localhost:8080/"
        },
        "outputId": "9c42cd7f-ccc2-44ce-ff19-bbb2e52a1dc2",
        "id": "hJIHERpJkVmW"
      },
      "execution_count": 70,
      "outputs": [
        {
          "output_type": "stream",
          "name": "stdout",
          "text": [
            "(5458,)\n",
            "(5458,)\n",
            "(2729,)\n",
            "(2729,)\n",
            "(2730,)\n",
            "(2730,)\n"
          ]
        }
      ]
    },
    {
      "cell_type": "code",
      "source": [
        "x_train = X_train.values\n",
        "x_val = X_val.values\n",
        "y_train = y_train.values\n",
        "y_val = y_val.values\n",
        "x_test = X_test.values\n",
        "y_test = y_test.values"
      ],
      "metadata": {
        "id": "XymbkL-3kVmW"
      },
      "execution_count": 71,
      "outputs": []
    },
    {
      "cell_type": "markdown",
      "source": [
        "## Text preprocessing"
      ],
      "metadata": {
        "id": "av9aDHbwkVmX"
      }
    },
    {
      "cell_type": "code",
      "source": [
        "t = text.Transformer(MODEL_NAME, class_names=[\"society\", \"sport\", \"politics\" , \"conflict, war and peace\" , \"religion and belief\" , \"science and technology\" , \"labour\" ,\n",
        "                                                                                                        \"health\", \"education\", \"environment\", \"human interest\" , \"crime, law and justice\" , \"disaster, accident and emergency incident\" ,\n",
        "                                                                                                        \"weather\" , \"economy, business and finance\" , \"arts, culture, entertainment and media\" , \"lifestyle and leisure\"])\n",
        "trn = t.preprocess_train(x_train, y_train)\n",
        "val = t.preprocess_test(x_val, y_val)"
      ],
      "metadata": {
        "id": "97aJxwsdkVmX",
        "colab": {
          "base_uri": "https://localhost:8080/",
          "height": 277
        },
        "outputId": "ec6f5c26-325f-49c0-e738-7e86bb58d81f"
      },
      "execution_count": 72,
      "outputs": [
        {
          "output_type": "stream",
          "name": "stdout",
          "text": [
            "preprocessing train...\n",
            "language: en\n",
            "train sequence lengths:\n",
            "\tmean : 634\n",
            "\t95percentile : 1638\n",
            "\t99percentile : 3297\n"
          ]
        },
        {
          "output_type": "stream",
          "name": "stderr",
          "text": [
            "/usr/local/lib/python3.10/dist-packages/ktrain/utils.py:744: UserWarning: class_names argument was ignored, as they were extracted from string labels in dataset\n",
            "  warnings.warn(\n"
          ]
        },
        {
          "output_type": "display_data",
          "data": {
            "text/plain": [
              "<IPython.core.display.HTML object>"
            ],
            "text/html": [
              "\n",
              "<style>\n",
              "    /* Turns off some styling */\n",
              "    progress {\n",
              "        /* gets rid of default border in Firefox and Opera. */\n",
              "        border: none;\n",
              "        /* Needs to be in here for Safari polyfill so background images work as expected. */\n",
              "        background-size: auto;\n",
              "    }\n",
              "    progress:not([value]), progress:not([value])::-webkit-progress-bar {\n",
              "        background: repeating-linear-gradient(45deg, #7e7e7e, #7e7e7e 10px, #5c5c5c 10px, #5c5c5c 20px);\n",
              "    }\n",
              "    .progress-bar-interrupted, .progress-bar-interrupted::-webkit-progress-bar {\n",
              "        background: #F44336;\n",
              "    }\n",
              "</style>\n"
            ]
          },
          "metadata": {}
        },
        {
          "output_type": "display_data",
          "data": {
            "text/plain": [
              "<IPython.core.display.HTML object>"
            ],
            "text/html": []
          },
          "metadata": {}
        },
        {
          "output_type": "stream",
          "name": "stdout",
          "text": [
            "Is Multi-Label? False\n",
            "preprocessing test...\n",
            "language: en\n",
            "test sequence lengths:\n",
            "\tmean : 634\n",
            "\t95percentile : 1556\n",
            "\t99percentile : 3594\n"
          ]
        },
        {
          "output_type": "display_data",
          "data": {
            "text/plain": [
              "<IPython.core.display.HTML object>"
            ],
            "text/html": [
              "\n",
              "<style>\n",
              "    /* Turns off some styling */\n",
              "    progress {\n",
              "        /* gets rid of default border in Firefox and Opera. */\n",
              "        border: none;\n",
              "        /* Needs to be in here for Safari polyfill so background images work as expected. */\n",
              "        background-size: auto;\n",
              "    }\n",
              "    progress:not([value]), progress:not([value])::-webkit-progress-bar {\n",
              "        background: repeating-linear-gradient(45deg, #7e7e7e, #7e7e7e 10px, #5c5c5c 10px, #5c5c5c 20px);\n",
              "    }\n",
              "    .progress-bar-interrupted, .progress-bar-interrupted::-webkit-progress-bar {\n",
              "        background: #F44336;\n",
              "    }\n",
              "</style>\n"
            ]
          },
          "metadata": {}
        },
        {
          "output_type": "display_data",
          "data": {
            "text/plain": [
              "<IPython.core.display.HTML object>"
            ],
            "text/html": []
          },
          "metadata": {}
        }
      ]
    },
    {
      "cell_type": "markdown",
      "source": [
        "## Download the model"
      ],
      "metadata": {
        "id": "tsOL9j6ykVmX"
      }
    },
    {
      "cell_type": "code",
      "source": [
        "model = t.get_classifier()\n",
        "learner_1 = ktrain.get_learner(model, train_data=trn, val_data=val, batch_size=16)\n",
        "learner_2 = ktrain.get_learner(model, train_data=trn, val_data=val, batch_size=16)"
      ],
      "metadata": {
        "id": "ClyBRWVnkVmX"
      },
      "execution_count": 73,
      "outputs": []
    },
    {
      "cell_type": "markdown",
      "source": [
        "## Using the cyclical learning rate policy"
      ],
      "metadata": {
        "id": "maoYxpEbkVmX"
      }
    },
    {
      "cell_type": "code",
      "source": [
        "learner_1.lr_find(show_plot=True, max_epochs=4, suggest= True)"
      ],
      "metadata": {
        "colab": {
          "base_uri": "https://localhost:8080/",
          "height": 749
        },
        "outputId": "7a98bdfb-6360-46dc-fb69-b3bb1a836baf",
        "id": "iKcAqlZvkVmX"
      },
      "execution_count": 74,
      "outputs": [
        {
          "output_type": "stream",
          "name": "stdout",
          "text": [
            "simulating training for different learning rates... this may take a few moments...\n",
            "Epoch 1/4\n",
            "341/341 [==============================] - 29s 59ms/step - loss: 2.7012 - accuracy: 0.1996\n",
            "Epoch 2/4\n",
            "341/341 [==============================] - 21s 62ms/step - loss: 1.9116 - accuracy: 0.4552\n",
            "Epoch 3/4\n",
            "341/341 [==============================] - 21s 61ms/step - loss: 3.7900 - accuracy: 0.0836\n",
            "Epoch 4/4\n",
            "341/341 [==============================] - 21s 61ms/step - loss: 3.4976 - accuracy: 0.0722\n",
            "\n",
            "\n",
            "done.\n",
            "Visually inspect loss plot and select learning rate associated with falling loss\n",
            "Three possible suggestions for LR from plot:\n",
            "\tLongest valley (red): 5.60E-06\n",
            "\tMin numerical gradient (purple): 7.95E-06\n",
            "\tMin loss divided by 10 (omitted from plot): 2.42E-05\n"
          ]
        },
        {
          "output_type": "display_data",
          "data": {
            "text/plain": [
              "<Figure size 640x480 with 1 Axes>"
            ],
            "image/png": "[encoded data removed]"
          },
          "metadata": {}
        }
      ]
    },
    {
      "cell_type": "code",
      "source": [
        "learner_1.fit_onecycle(7.95E-06, 5)"
      ],
      "metadata": {
        "colab": {
          "base_uri": "https://localhost:8080/"
        },
        "outputId": "00ab9769-ade8-4260-d961-00d647a50d8c",
        "id": "rejsX_kVkVmX"
      },
      "execution_count": 75,
      "outputs": [
        {
          "output_type": "stream",
          "name": "stdout",
          "text": [
            "\n",
            "\n",
            "begin training using onecycle policy with max lr of 7.95e-06...\n",
            "Epoch 1/5\n",
            "342/342 [==============================] - 35s 76ms/step - loss: 2.5382 - accuracy: 0.3272 - val_loss: 2.0128 - val_accuracy: 0.5852\n",
            "Epoch 2/5\n",
            "342/342 [==============================] - 23s 68ms/step - loss: 1.6161 - accuracy: 0.6427 - val_loss: 1.3041 - val_accuracy: 0.6603\n",
            "Epoch 3/5\n",
            "342/342 [==============================] - 23s 68ms/step - loss: 1.0862 - accuracy: 0.7298 - val_loss: 1.0843 - val_accuracy: 0.6995\n",
            "Epoch 4/5\n",
            "342/342 [==============================] - 23s 68ms/step - loss: 0.7838 - accuracy: 0.8087 - val_loss: 1.0122 - val_accuracy: 0.7156\n",
            "Epoch 5/5\n",
            "342/342 [==============================] - 23s 68ms/step - loss: 0.6514 - accuracy: 0.8507 - val_loss: 0.9935 - val_accuracy: 0.7241\n"
          ]
        },
        {
          "output_type": "execute_result",
          "data": {
            "text/plain": [
              "<keras.src.callbacks.History at 0x7bd614b15630>"
            ]
          },
          "metadata": {},
          "execution_count": 75
        }
      ]
    },
    {
      "cell_type": "code",
      "source": [
        "learner_1.validate(class_names=t.get_classes())"
      ],
      "metadata": {
        "id": "Pbf3q9zEkVmX",
        "colab": {
          "base_uri": "https://localhost:8080/"
        },
        "outputId": "1ac1910e-bf5d-4553-b64b-aa96cdc2d5c7"
      },
      "execution_count": 76,
      "outputs": [
        {
          "output_type": "stream",
          "name": "stdout",
          "text": [
            "86/86 [==============================] - 5s 38ms/step\n",
            "                                           precision    recall  f1-score   support\n",
            "\n",
            "   arts, culture, entertainment and media       0.62      0.31      0.41        75\n",
            "                  conflict, war and peace       0.74      0.83      0.78       200\n",
            "                   crime, law and justice       0.72      0.71      0.72       125\n",
            "disaster, accident and emergency incident       0.70      0.58      0.63       125\n",
            "            economy, business and finance       0.74      0.70      0.72       100\n",
            "                                education       0.77      0.74      0.75       151\n",
            "                              environment       0.77      0.85      0.81       150\n",
            "                                   health       0.73      0.78      0.76       175\n",
            "                           human interest       0.53      0.60      0.56       150\n",
            "                                   labour       0.80      0.82      0.81       176\n",
            "                    lifestyle and leisure       0.81      0.52      0.63        75\n",
            "                                 politics       0.64      0.60      0.62       225\n",
            "                      religion and belief       0.78      0.78      0.78       200\n",
            "                   science and technology       0.64      0.56      0.60       200\n",
            "                                  society       0.66      0.71      0.69       275\n",
            "                                    sport       0.84      0.93      0.89       227\n",
            "                                  weather       0.81      0.95      0.88       100\n",
            "\n",
            "                                 accuracy                           0.72      2729\n",
            "                                macro avg       0.72      0.70      0.71      2729\n",
            "                             weighted avg       0.72      0.72      0.72      2729\n",
            "\n"
          ]
        },
        {
          "output_type": "execute_result",
          "data": {
            "text/plain": [
              "array([[ 23,   0,   3,   0,   0,   1,   0,   0,  16,   0,   0,   6,   4,\n",
              "          3,  13,   6,   0],\n",
              "       [  3, 166,   1,   2,   4,   1,   0,   0,   1,   2,   0,  11,   4,\n",
              "          1,   3,   0,   1],\n",
              "       [  0,   2,  89,   6,   2,   0,   1,   2,   1,   1,   0,   9,   3,\n",
              "          2,   7,   0,   0],\n",
              "       [  1,   6,   2,  72,   2,   2,   5,   2,   4,   1,   0,   3,   1,\n",
              "          3,   1,   1,  19],\n",
              "       [  0,   3,   1,   1,  70,   0,   2,   0,   0,  11,   0,   8,   0,\n",
              "          2,   2,   0,   0],\n",
              "       [  1,   2,   2,   3,   1, 112,   1,   1,   1,   5,   0,   4,   7,\n",
              "          4,   5,   2,   0],\n",
              "       [  0,   0,   0,   3,   2,   0, 127,   0,   2,   0,   0,   3,   1,\n",
              "         10,   0,   1,   1],\n",
              "       [  0,   0,   2,   1,   0,   2,   3, 137,   4,   0,   1,   4,   1,\n",
              "          9,  11,   0,   0],\n",
              "       [  3,   1,   2,   1,   1,   2,   6,   1,  90,   0,   0,   4,   2,\n",
              "          5,  19,  13,   0],\n",
              "       [  1,   0,   3,   0,   1,   6,   0,   2,   0, 144,   0,   3,   1,\n",
              "          4,   6,   4,   1],\n",
              "       [  0,   0,   0,   0,   0,   0,   2,   0,  20,   1,  39,   0,   0,\n",
              "          2,   2,   9,   0],\n",
              "       [  0,  26,   9,   8,   5,   1,   5,   5,   3,   4,   0, 135,   6,\n",
              "          7,   9,   2,   0],\n",
              "       [  0,  10,   1,   0,   2,   3,   1,   3,   9,   0,   0,   7, 156,\n",
              "          1,   7,   0,   0],\n",
              "       [  2,   1,   2,   1,   4,   9,  10,  26,   8,   2,   1,   6,   3,\n",
              "        113,  11,   1,   0],\n",
              "       [  3,   7,   6,   1,   1,   7,   2,   8,   7,   5,   4,   9,   9,\n",
              "          9, 196,   1,   0],\n",
              "       [  0,   0,   0,   0,   0,   0,   0,   0,   4,   4,   3,   0,   1,\n",
              "          0,   3, 212,   0],\n",
              "       [  0,   0,   0,   4,   0,   0,   0,   0,   0,   0,   0,   0,   0,\n",
              "          1,   0,   0,  95]])"
            ]
          },
          "metadata": {},
          "execution_count": 76
        }
      ]
    },
    {
      "cell_type": "markdown",
      "source": [
        "## Using the triangular learning rate policy"
      ],
      "metadata": {
        "id": "HevJgHw-kVmY"
      }
    },
    {
      "cell_type": "code",
      "source": [
        "learner_2.lr_find(show_plot=True, max_epochs=4, suggest= True)"
      ],
      "metadata": {
        "id": "D6qUrCMxkVmY",
        "colab": {
          "base_uri": "https://localhost:8080/",
          "height": 749
        },
        "outputId": "9f6fc682-71cc-436c-b978-193f08258456"
      },
      "execution_count": 77,
      "outputs": [
        {
          "output_type": "stream",
          "name": "stdout",
          "text": [
            "simulating training for different learning rates... this may take a few moments...\n",
            "Epoch 1/4\n",
            "341/341 [==============================] - 21s 59ms/step - loss: 2.8158 - accuracy: 0.0773\n",
            "Epoch 2/4\n",
            "341/341 [==============================] - 21s 61ms/step - loss: 2.0103 - accuracy: 0.4434\n",
            "Epoch 3/4\n",
            "341/341 [==============================] - 21s 62ms/step - loss: 2.8098 - accuracy: 0.0911\n",
            "Epoch 4/4\n",
            "341/341 [==============================] - 8s 25ms/step - loss: 487.6650 - accuracy: 0.0789\n",
            "\n",
            "\n",
            "done.\n",
            "Visually inspect loss plot and select learning rate associated with falling loss\n",
            "Three possible suggestions for LR from plot:\n",
            "\tLongest valley (red): 1.44E-05\n",
            "\tMin numerical gradient (purple): 5.71E-05\n",
            "\tMin loss divided by 10 (omitted from plot): 5.99E-05\n"
          ]
        },
        {
          "output_type": "display_data",
          "data": {
            "text/plain": [
              "<Figure size 640x480 with 1 Axes>"
            ],
            "image/png": "[encoded data removed]"
          },
          "metadata": {}
        }
      ]
    },
    {
      "cell_type": "code",
      "source": [
        "learner_2.autofit(5.71E-05, 5)"
      ],
      "metadata": {
        "id": "bph-Ra4kkVmY",
        "colab": {
          "base_uri": "https://localhost:8080/"
        },
        "outputId": "2c1c6bd6-84bc-4a14-c4eb-b38d9890e108"
      },
      "execution_count": 78,
      "outputs": [
        {
          "output_type": "stream",
          "name": "stdout",
          "text": [
            "\n",
            "\n",
            "begin training using triangular learning rate policy with max lr of 5.71e-05...\n",
            "Epoch 1/5\n",
            "342/342 [==============================] - 34s 74ms/step - loss: 1.5087 - accuracy: 0.5713 - val_loss: 1.0277 - val_accuracy: 0.7021\n",
            "Epoch 2/5\n",
            "342/342 [==============================] - 23s 69ms/step - loss: 0.7786 - accuracy: 0.7891 - val_loss: 0.9278 - val_accuracy: 0.7281\n",
            "Epoch 3/5\n",
            "342/342 [==============================] - 23s 68ms/step - loss: 0.5166 - accuracy: 0.8595 - val_loss: 0.9531 - val_accuracy: 0.7365\n",
            "Epoch 4/5\n",
            "342/342 [==============================] - 23s 68ms/step - loss: 0.3670 - accuracy: 0.9040 - val_loss: 0.9811 - val_accuracy: 0.7457\n",
            "Epoch 5/5\n",
            "342/342 [==============================] - 23s 68ms/step - loss: 0.2508 - accuracy: 0.9333 - val_loss: 1.0904 - val_accuracy: 0.7362\n"
          ]
        },
        {
          "output_type": "execute_result",
          "data": {
            "text/plain": [
              "<keras.src.callbacks.History at 0x7bd7c51fadd0>"
            ]
          },
          "metadata": {},
          "execution_count": 78
        }
      ]
    },
    {
      "cell_type": "code",
      "source": [
        "learner_2.validate(class_names=t.get_classes())"
      ],
      "metadata": {
        "id": "JlDgd7gNkVmY",
        "colab": {
          "base_uri": "https://localhost:8080/"
        },
        "outputId": "2421b79d-da35-430b-f3c4-fb57b71d0d68"
      },
      "execution_count": 79,
      "outputs": [
        {
          "output_type": "stream",
          "name": "stdout",
          "text": [
            "86/86 [==============================] - 5s 37ms/step\n",
            "                                           precision    recall  f1-score   support\n",
            "\n",
            "   arts, culture, entertainment and media       0.62      0.64      0.63        75\n",
            "                  conflict, war and peace       0.73      0.84      0.78       200\n",
            "                   crime, law and justice       0.78      0.66      0.72       125\n",
            "disaster, accident and emergency incident       0.64      0.64      0.64       125\n",
            "            economy, business and finance       0.72      0.71      0.71       100\n",
            "                                education       0.78      0.82      0.80       151\n",
            "                              environment       0.82      0.77      0.79       150\n",
            "                                   health       0.70      0.77      0.73       175\n",
            "                           human interest       0.69      0.76      0.72       150\n",
            "                                   labour       0.84      0.74      0.79       176\n",
            "                    lifestyle and leisure       0.74      0.77      0.76        75\n",
            "                                 politics       0.62      0.58      0.60       225\n",
            "                      religion and belief       0.79      0.77      0.78       200\n",
            "                   science and technology       0.68      0.55      0.61       200\n",
            "                                  society       0.66      0.69      0.68       275\n",
            "                                    sport       0.91      0.90      0.90       227\n",
            "                                  weather       0.81      0.93      0.87       100\n",
            "\n",
            "                                 accuracy                           0.74      2729\n",
            "                                macro avg       0.74      0.74      0.74      2729\n",
            "                             weighted avg       0.74      0.74      0.73      2729\n",
            "\n"
          ]
        },
        {
          "output_type": "execute_result",
          "data": {
            "text/plain": [
              "array([[ 48,   1,   2,   0,   0,   1,   0,   0,   5,   0,   1,   2,   4,\n",
              "          2,   6,   3,   0],\n",
              "       [  5, 169,   2,   1,   3,   0,   0,   2,   3,   1,   0,   5,   5,\n",
              "          0,   3,   0,   1],\n",
              "       [  1,   4,  83,   6,   1,   1,   1,   1,   0,   1,   0,  12,   3,\n",
              "          3,   8,   0,   0],\n",
              "       [  0,   4,   1,  80,   2,   2,   1,   2,   2,   2,   0,   6,   1,\n",
              "          1,   1,   0,  20],\n",
              "       [  0,   3,   0,   2,  71,   1,   2,   0,   1,   8,   0,   6,   0,\n",
              "          3,   3,   0,   0],\n",
              "       [  1,   1,   4,   3,   1, 124,   0,   1,   0,   0,   1,   3,   5,\n",
              "          4,   1,   2,   0],\n",
              "       [  0,   0,   0,   7,   3,   0, 116,   2,   6,   0,   0,   5,   1,\n",
              "          7,   1,   1,   1],\n",
              "       [  1,   1,   1,   5,   2,   4,   0, 135,   4,   0,   0,   2,   2,\n",
              "          5,  12,   1,   0],\n",
              "       [  5,   0,   2,   1,   0,   1,   3,   1, 114,   0,   2,   3,   3,\n",
              "          1,  11,   3,   0],\n",
              "       [  1,   0,   2,   1,   5,   5,   0,   4,   0, 131,   1,   5,   1,\n",
              "          3,  14,   3,   0],\n",
              "       [  2,   0,   0,   0,   0,   0,   2,   0,   6,   0,  58,   0,   0,\n",
              "          2,   1,   4,   0],\n",
              "       [  2,  38,   3,   6,   6,   2,   5,   4,   2,   4,   0, 130,   7,\n",
              "          5,   9,   2,   0],\n",
              "       [  1,   8,   0,   1,   1,   5,   2,   4,   4,   0,   0,   8, 154,\n",
              "          2,   9,   1,   0],\n",
              "       [  4,   1,   1,   2,   3,   9,   9,  31,   6,   2,   0,   9,   1,\n",
              "        109,  13,   0,   0],\n",
              "       [  4,   3,   6,   4,   1,   5,   1,   7,   8,   6,   5,  15,   7,\n",
              "         12, 190,   1,   0],\n",
              "       [  3,   0,   0,   0,   0,   0,   0,   0,   4,   1,  10,   0,   1,\n",
              "          0,   4, 204,   0],\n",
              "       [  0,   0,   0,   6,   0,   0,   0,   0,   0,   0,   0,   0,   0,\n",
              "          1,   0,   0,  93]])"
            ]
          },
          "metadata": {},
          "execution_count": 79
        }
      ]
    },
    {
      "cell_type": "markdown",
      "source": [
        "## Compute the metrics for testing set"
      ],
      "metadata": {
        "id": "JTQjJpelkVmY"
      }
    },
    {
      "cell_type": "code",
      "source": [
        "predictor_1 = ktrain.get_predictor(learner_1.model, preproc=t)\n",
        "predictor_2 = ktrain.get_predictor(learner_2.model, preproc=t)"
      ],
      "metadata": {
        "id": "JqzEBEMKkVmY"
      },
      "execution_count": 80,
      "outputs": []
    },
    {
      "cell_type": "code",
      "source": [
        "y_pred_1 = predictor_1.predict(x_test)\n",
        "y_pred_2 = predictor_2.predict(x_test)"
      ],
      "metadata": {
        "id": "scUvn7ONkVmY"
      },
      "execution_count": 81,
      "outputs": []
    },
    {
      "cell_type": "code",
      "source": [
        "accuracy_17_1, precision_17_1, recall_17_1, f1_17_1 = compute_classification_report(y_test , y_pred_1)"
      ],
      "metadata": {
        "id": "IVHUUqx7kVmZ",
        "colab": {
          "base_uri": "https://localhost:8080/"
        },
        "outputId": "dbdbf7eb-cba1-4f09-9db2-59ce390143f9"
      },
      "execution_count": 82,
      "outputs": [
        {
          "output_type": "stream",
          "name": "stdout",
          "text": [
            "Classification Report:\n",
            "                                           precision    recall  f1-score   support\n",
            "\n",
            "   arts, culture, entertainment and media       0.56      0.31      0.40        75\n",
            "                  conflict, war and peace       0.74      0.79      0.76       200\n",
            "                   crime, law and justice       0.74      0.73      0.73       125\n",
            "disaster, accident and emergency incident       0.77      0.72      0.74       125\n",
            "            economy, business and finance       0.74      0.73      0.74       100\n",
            "                                education       0.73      0.72      0.72       152\n",
            "                              environment       0.76      0.87      0.81       150\n",
            "                                   health       0.77      0.81      0.79       175\n",
            "                           human interest       0.56      0.57      0.56       150\n",
            "                                   labour       0.79      0.84      0.81       176\n",
            "                    lifestyle and leisure       0.78      0.56      0.65        75\n",
            "                                 politics       0.62      0.60      0.61       225\n",
            "                      religion and belief       0.71      0.76      0.73       200\n",
            "                   science and technology       0.69      0.59      0.64       200\n",
            "                                  society       0.67      0.69      0.68       275\n",
            "                                    sport       0.87      0.95      0.91       227\n",
            "                                  weather       0.92      0.98      0.95       100\n",
            "\n",
            "                                 accuracy                           0.73      2730\n",
            "                                macro avg       0.73      0.72      0.72      2730\n",
            "                             weighted avg       0.73      0.73      0.73      2730\n",
            "\n",
            "Accuracy: 0.7322344322344322\n",
            "Precision: 0.730790470266192\n",
            "Recall: 0.7178602367855925\n",
            "F1 Score: 0.720231162026271\n"
          ]
        }
      ]
    },
    {
      "cell_type": "code",
      "source": [
        "accuracy_17_2, precision_17_2, recall_17_2, f1_17_2 = compute_classification_report(y_test , y_pred_2)"
      ],
      "metadata": {
        "id": "At68sI2xkVmZ",
        "colab": {
          "base_uri": "https://localhost:8080/"
        },
        "outputId": "cbcc79ff-147b-45a5-bafa-6a3c106ce942"
      },
      "execution_count": 83,
      "outputs": [
        {
          "output_type": "stream",
          "name": "stdout",
          "text": [
            "Classification Report:\n",
            "                                           precision    recall  f1-score   support\n",
            "\n",
            "   arts, culture, entertainment and media       0.65      0.60      0.63        75\n",
            "                  conflict, war and peace       0.68      0.85      0.76       200\n",
            "                   crime, law and justice       0.83      0.60      0.70       125\n",
            "disaster, accident and emergency incident       0.71      0.70      0.70       125\n",
            "            economy, business and finance       0.73      0.66      0.69       100\n",
            "                                education       0.77      0.72      0.75       152\n",
            "                              environment       0.78      0.85      0.81       150\n",
            "                                   health       0.72      0.81      0.77       175\n",
            "                           human interest       0.68      0.70      0.69       150\n",
            "                                   labour       0.84      0.84      0.84       176\n",
            "                    lifestyle and leisure       0.78      0.80      0.79        75\n",
            "                                 politics       0.60      0.57      0.58       225\n",
            "                      religion and belief       0.73      0.73      0.73       200\n",
            "                   science and technology       0.72      0.60      0.66       200\n",
            "                                  society       0.63      0.67      0.65       275\n",
            "                                    sport       0.92      0.90      0.91       227\n",
            "                                  weather       0.90      0.94      0.92       100\n",
            "\n",
            "                                 accuracy                           0.74      2730\n",
            "                                macro avg       0.75      0.74      0.74      2730\n",
            "                             weighted avg       0.74      0.74      0.74      2730\n",
            "\n",
            "Accuracy: 0.7377289377289378\n",
            "Precision: 0.7469048253799275\n",
            "Recall: 0.7381754773672777\n",
            "F1 Score: 0.7399857116371258\n"
          ]
        }
      ]
    },
    {
      "cell_type": "markdown",
      "source": [
        "## Save the models"
      ],
      "metadata": {
        "id": "7cABnf6KkVmZ"
      }
    },
    {
      "cell_type": "code",
      "source": [
        "predictor_1.save('/content/drive/MyDrive/Topics/distilbert_17_topics_1_73.22')\n",
        "predictor_2.save('/content/drive/MyDrive/Topics/distilbert_17_topics_2_73.77')\n"
      ],
      "metadata": {
        "id": "8qFV5QImkVmZ"
      },
      "execution_count": 109,
      "outputs": []
    },
    {
      "cell_type": "code",
      "source": [
        "# reloaded_predictor_1 = ktrain.load_predictor('/content/distilbert/distilbert_17_topics_1')\n",
        "# reloaded_predictor_2 = ktrain.load_predictor('/content/distilbert/distilbert_17_topics_2')"
      ],
      "metadata": {
        "id": "squV_sqZkVmZ"
      },
      "execution_count": null,
      "outputs": []
    },
    {
      "cell_type": "markdown",
      "source": [
        "# Plot the metrics"
      ],
      "metadata": {
        "id": "WZqXcT7cZmlG"
      }
    },
    {
      "cell_type": "code",
      "source": [
        "accuract_list_1 = [accuracy_4_1, accuracy_6_1, accuracy_17_1]\n",
        "\n",
        "labels = ['AG_news', 'News_dataset', 'MN_DS']\n",
        "\n",
        "plot_metrics(labels, accuract_list_1)\n"
      ],
      "metadata": {
        "colab": {
          "base_uri": "https://localhost:8080/",
          "height": 489
        },
        "id": "8Fi6bRsxaIFe",
        "outputId": "b1c19e4a-4815-4b14-d694-4286855bd9f0"
      },
      "execution_count": 111,
      "outputs": [
        {
          "output_type": "stream",
          "name": "stderr",
          "text": [
            "WARNING:matplotlib.legend:No artists with labels found to put in legend.  Note that artists whose label start with an underscore are ignored when legend() is called with no argument.\n"
          ]
        },
        {
          "output_type": "display_data",
          "data": {
            "text/plain": [
              "<Figure size 640x480 with 1 Axes>"
            ],
            "image/png": "[encoded data removed]"
          },
          "metadata": {}
        }
      ]
    },
    {
      "cell_type": "code",
      "source": [],
      "metadata": {
        "id": "1FZlqjbRasDN"
      },
      "execution_count": 102,
      "outputs": []
    }
  ]
}