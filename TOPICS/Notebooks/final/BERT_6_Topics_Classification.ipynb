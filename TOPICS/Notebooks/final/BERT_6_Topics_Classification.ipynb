{
  "nbformat": 4,
  "nbformat_minor": 0,
  "metadata": {
    "colab": {
      "provenance": [],
      "gpuType": "A100",
      "machine_shape": "hm",
      "toc_visible": true
    },
    "kernelspec": {
      "name": "python3",
      "display_name": "Python 3"
    },
    "language_info": {
      "name": "python"
    },
    "accelerator": "GPU"
  },
  "cells": [
    {
      "cell_type": "markdown",
      "source": [
        "## Install the needed libraries"
      ],
      "metadata": {
        "id": "ZnPdqchVFA1h"
      }
    },
    {
      "cell_type": "code",
      "source": [
        "# !pip install --upgrade pip\n",
        "# !pip install --upgrade setuptools\n",
        "# !apt-get install -y python3-dev\n",
        "# !pip install scikit-learn\n",
        "# !pip3 install pyproject.toml-based"
      ],
      "metadata": {
        "id": "uHsXpa3OnfRp"
      },
      "execution_count": 1,
      "outputs": []
    },
    {
      "cell_type": "code",
      "source": [
        "!pip3 install ktrain"
      ],
      "metadata": {
        "colab": {
          "base_uri": "https://localhost:8080/"
        },
        "id": "QRG-TFHSlKKG",
        "outputId": "7c51bb2a-294b-4117-96c6-ced2e90abecb"
      },
      "execution_count": 2,
      "outputs": [
        {
          "output_type": "stream",
          "name": "stdout",
          "text": [
            "Collecting ktrain\n",
            "  Downloading ktrain-0.39.0.tar.gz (25.3 MB)\n",
            "\u001b[2K     \u001b[90m━━━━━━━━━━━━━━━━━━━━━━━━━━━━━━━━━━━━━━━━\u001b[0m \u001b[32m25.3/25.3 MB\u001b[0m \u001b[31m58.2 MB/s\u001b[0m eta \u001b[36m0:00:00\u001b[0m\n",
            "\u001b[?25h  Preparing metadata (setup.py) ... \u001b[?25l\u001b[?25hdone\n",
            "Requirement already satisfied: scikit-learn in /usr/local/lib/python3.10/dist-packages (from ktrain) (1.2.2)\n",
            "Requirement already satisfied: matplotlib>=3.0.0 in /usr/local/lib/python3.10/dist-packages (from ktrain) (3.7.1)\n",
            "Requirement already satisfied: pandas>=1.0.1 in /usr/local/lib/python3.10/dist-packages (from ktrain) (1.5.3)\n",
            "Requirement already satisfied: fastprogress>=0.1.21 in /usr/local/lib/python3.10/dist-packages (from ktrain) (1.0.3)\n",
            "Requirement already satisfied: requests in /usr/local/lib/python3.10/dist-packages (from ktrain) (2.31.0)\n",
            "Requirement already satisfied: joblib in /usr/local/lib/python3.10/dist-packages (from ktrain) (1.3.2)\n",
            "Requirement already satisfied: packaging in /usr/local/lib/python3.10/dist-packages (from ktrain) (23.2)\n",
            "Collecting langdetect (from ktrain)\n",
            "  Downloading langdetect-1.0.9.tar.gz (981 kB)\n",
            "\u001b[2K     \u001b[90m━━━━━━━━━━━━━━━━━━━━━━━━━━━━━━━━━━━━━━━━\u001b[0m \u001b[32m981.5/981.5 kB\u001b[0m \u001b[31m55.6 MB/s\u001b[0m eta \u001b[36m0:00:00\u001b[0m\n",
            "\u001b[?25h  Preparing metadata (setup.py) ... \u001b[?25l\u001b[?25hdone\n",
            "Requirement already satisfied: jieba in /usr/local/lib/python3.10/dist-packages (from ktrain) (0.42.1)\n",
            "Requirement already satisfied: charset-normalizer in /usr/local/lib/python3.10/dist-packages (from ktrain) (3.3.2)\n",
            "Requirement already satisfied: chardet in /usr/local/lib/python3.10/dist-packages (from ktrain) (5.2.0)\n",
            "Collecting syntok>1.3.3 (from ktrain)\n",
            "  Downloading syntok-1.4.4-py3-none-any.whl (24 kB)\n",
            "Collecting tika (from ktrain)\n",
            "  Downloading tika-2.6.0.tar.gz (27 kB)\n",
            "  Preparing metadata (setup.py) ... \u001b[?25l\u001b[?25hdone\n",
            "Requirement already satisfied: transformers>=4.17.0 in /usr/local/lib/python3.10/dist-packages (from ktrain) (4.35.2)\n",
            "Collecting sentencepiece (from ktrain)\n",
            "  Downloading sentencepiece-0.1.99-cp310-cp310-manylinux_2_17_x86_64.manylinux2014_x86_64.whl (1.3 MB)\n",
            "\u001b[2K     \u001b[90m━━━━━━━━━━━━━━━━━━━━━━━━━━━━━━━━━━━━━━━━\u001b[0m \u001b[32m1.3/1.3 MB\u001b[0m \u001b[31m64.0 MB/s\u001b[0m eta \u001b[36m0:00:00\u001b[0m\n",
            "\u001b[?25hCollecting keras_bert>=0.86.0 (from ktrain)\n",
            "  Downloading keras-bert-0.89.0.tar.gz (25 kB)\n",
            "  Preparing metadata (setup.py) ... \u001b[?25l\u001b[?25hdone\n",
            "Collecting whoosh (from ktrain)\n",
            "  Downloading Whoosh-2.7.4-py2.py3-none-any.whl (468 kB)\n",
            "\u001b[2K     \u001b[90m━━━━━━━━━━━━━━━━━━━━━━━━━━━━━━━━━━━━━━━━\u001b[0m \u001b[32m468.8/468.8 kB\u001b[0m \u001b[31m33.0 MB/s\u001b[0m eta \u001b[36m0:00:00\u001b[0m\n",
            "\u001b[?25hRequirement already satisfied: numpy in /usr/local/lib/python3.10/dist-packages (from keras_bert>=0.86.0->ktrain) (1.23.5)\n",
            "Collecting keras-transformer==0.40.0 (from keras_bert>=0.86.0->ktrain)\n",
            "  Downloading keras-transformer-0.40.0.tar.gz (9.7 kB)\n",
            "  Preparing metadata (setup.py) ... \u001b[?25l\u001b[?25hdone\n",
            "Collecting keras-pos-embd==0.13.0 (from keras-transformer==0.40.0->keras_bert>=0.86.0->ktrain)\n",
            "  Downloading keras-pos-embd-0.13.0.tar.gz (5.6 kB)\n",
            "  Preparing metadata (setup.py) ... \u001b[?25l\u001b[?25hdone\n",
            "Collecting keras-multi-head==0.29.0 (from keras-transformer==0.40.0->keras_bert>=0.86.0->ktrain)\n",
            "  Downloading keras-multi-head-0.29.0.tar.gz (13 kB)\n",
            "  Preparing metadata (setup.py) ... \u001b[?25l\u001b[?25hdone\n",
            "Collecting keras-layer-normalization==0.16.0 (from keras-transformer==0.40.0->keras_bert>=0.86.0->ktrain)\n",
            "  Downloading keras-layer-normalization-0.16.0.tar.gz (3.9 kB)\n",
            "  Preparing metadata (setup.py) ... \u001b[?25l\u001b[?25hdone\n",
            "Collecting keras-position-wise-feed-forward==0.8.0 (from keras-transformer==0.40.0->keras_bert>=0.86.0->ktrain)\n",
            "  Downloading keras-position-wise-feed-forward-0.8.0.tar.gz (4.1 kB)\n",
            "  Preparing metadata (setup.py) ... \u001b[?25l\u001b[?25hdone\n",
            "Collecting keras-embed-sim==0.10.0 (from keras-transformer==0.40.0->keras_bert>=0.86.0->ktrain)\n",
            "  Downloading keras-embed-sim-0.10.0.tar.gz (3.6 kB)\n",
            "  Preparing metadata (setup.py) ... \u001b[?25l\u001b[?25hdone\n",
            "Collecting keras-self-attention==0.51.0 (from keras-multi-head==0.29.0->keras-transformer==0.40.0->keras_bert>=0.86.0->ktrain)\n",
            "  Downloading keras-self-attention-0.51.0.tar.gz (11 kB)\n",
            "  Preparing metadata (setup.py) ... \u001b[?25l\u001b[?25hdone\n",
            "Requirement already satisfied: contourpy>=1.0.1 in /usr/local/lib/python3.10/dist-packages (from matplotlib>=3.0.0->ktrain) (1.2.0)\n",
            "Requirement already satisfied: cycler>=0.10 in /usr/local/lib/python3.10/dist-packages (from matplotlib>=3.0.0->ktrain) (0.12.1)\n",
            "Requirement already satisfied: fonttools>=4.22.0 in /usr/local/lib/python3.10/dist-packages (from matplotlib>=3.0.0->ktrain) (4.47.0)\n",
            "Requirement already satisfied: kiwisolver>=1.0.1 in /usr/local/lib/python3.10/dist-packages (from matplotlib>=3.0.0->ktrain) (1.4.5)\n",
            "Requirement already satisfied: pillow>=6.2.0 in /usr/local/lib/python3.10/dist-packages (from matplotlib>=3.0.0->ktrain) (9.4.0)\n",
            "Requirement already satisfied: pyparsing>=2.3.1 in /usr/local/lib/python3.10/dist-packages (from matplotlib>=3.0.0->ktrain) (3.1.1)\n",
            "Requirement already satisfied: python-dateutil>=2.7 in /usr/local/lib/python3.10/dist-packages (from matplotlib>=3.0.0->ktrain) (2.8.2)\n",
            "Requirement already satisfied: pytz>=2020.1 in /usr/local/lib/python3.10/dist-packages (from pandas>=1.0.1->ktrain) (2023.3.post1)\n",
            "Requirement already satisfied: regex>2016 in /usr/local/lib/python3.10/dist-packages (from syntok>1.3.3->ktrain) (2023.6.3)\n",
            "Requirement already satisfied: filelock in /usr/local/lib/python3.10/dist-packages (from transformers>=4.17.0->ktrain) (3.13.1)\n",
            "Requirement already satisfied: huggingface-hub<1.0,>=0.16.4 in /usr/local/lib/python3.10/dist-packages (from transformers>=4.17.0->ktrain) (0.20.1)\n",
            "Requirement already satisfied: pyyaml>=5.1 in /usr/local/lib/python3.10/dist-packages (from transformers>=4.17.0->ktrain) (6.0.1)\n",
            "Requirement already satisfied: tokenizers<0.19,>=0.14 in /usr/local/lib/python3.10/dist-packages (from transformers>=4.17.0->ktrain) (0.15.0)\n",
            "Requirement already satisfied: safetensors>=0.3.1 in /usr/local/lib/python3.10/dist-packages (from transformers>=4.17.0->ktrain) (0.4.1)\n",
            "Requirement already satisfied: tqdm>=4.27 in /usr/local/lib/python3.10/dist-packages (from transformers>=4.17.0->ktrain) (4.66.1)\n",
            "Requirement already satisfied: six in /usr/local/lib/python3.10/dist-packages (from langdetect->ktrain) (1.16.0)\n",
            "Requirement already satisfied: idna<4,>=2.5 in /usr/local/lib/python3.10/dist-packages (from requests->ktrain) (3.6)\n",
            "Requirement already satisfied: urllib3<3,>=1.21.1 in /usr/local/lib/python3.10/dist-packages (from requests->ktrain) (2.0.7)\n",
            "Requirement already satisfied: certifi>=2017.4.17 in /usr/local/lib/python3.10/dist-packages (from requests->ktrain) (2023.11.17)\n",
            "Requirement already satisfied: scipy>=1.3.2 in /usr/local/lib/python3.10/dist-packages (from scikit-learn->ktrain) (1.11.4)\n",
            "Requirement already satisfied: threadpoolctl>=2.0.0 in /usr/local/lib/python3.10/dist-packages (from scikit-learn->ktrain) (3.2.0)\n",
            "Requirement already satisfied: setuptools in /usr/local/lib/python3.10/dist-packages (from tika->ktrain) (67.7.2)\n",
            "Requirement already satisfied: fsspec>=2023.5.0 in /usr/local/lib/python3.10/dist-packages (from huggingface-hub<1.0,>=0.16.4->transformers>=4.17.0->ktrain) (2023.6.0)\n",
            "Requirement already satisfied: typing-extensions>=3.7.4.3 in /usr/local/lib/python3.10/dist-packages (from huggingface-hub<1.0,>=0.16.4->transformers>=4.17.0->ktrain) (4.5.0)\n",
            "Building wheels for collected packages: ktrain, keras_bert, keras-transformer, keras-embed-sim, keras-layer-normalization, keras-multi-head, keras-pos-embd, keras-position-wise-feed-forward, keras-self-attention, langdetect, tika\n",
            "  Building wheel for ktrain (setup.py) ... \u001b[?25l\u001b[?25hdone\n",
            "  Created wheel for ktrain: filename=ktrain-0.39.0-py3-none-any.whl size=25319737 sha256=14b24e90f9ddf54cc0929081857de9f9032bb746112032e0445793a6c9339fda\n",
            "  Stored in directory: /root/.cache/pip/wheels/98/fd/0a/ef6252223f3d2c49b06d18e71c74caa43bbf4c64a8c183a46e\n",
            "  Building wheel for keras_bert (setup.py) ... \u001b[?25l\u001b[?25hdone\n",
            "  Created wheel for keras_bert: filename=keras_bert-0.89.0-py3-none-any.whl size=33499 sha256=8c46d503f95f058c08269274ea5d6ad34cfca7c4538d1e5a7a1f6851a36f47f8\n",
            "  Stored in directory: /root/.cache/pip/wheels/89/0c/04/646b6fdf6375911b42c8d540a8a3fda8d5d77634e5dcbe7b26\n",
            "  Building wheel for keras-transformer (setup.py) ... \u001b[?25l\u001b[?25hdone\n",
            "  Created wheel for keras-transformer: filename=keras_transformer-0.40.0-py3-none-any.whl size=12286 sha256=d3f1c71f08e36bd2933806b23a4ba7407f30b57951676c42fe5f38f63504eb20\n",
            "  Stored in directory: /root/.cache/pip/wheels/f2/cb/22/75a0ad376129177f7c95c0d91331a18f5368fd657f4035ba7c\n",
            "  Building wheel for keras-embed-sim (setup.py) ... \u001b[?25l\u001b[?25hdone\n",
            "  Created wheel for keras-embed-sim: filename=keras_embed_sim-0.10.0-py3-none-any.whl size=3943 sha256=bafdca083ba77d9ab94b4fb1af030b9d6f74605a9d0e5232e406a9df38be554a\n",
            "  Stored in directory: /root/.cache/pip/wheels/82/32/c7/fd35d0d1b840a6c7cbd4343f808d10d0f7b87d271a4dbe796f\n",
            "  Building wheel for keras-layer-normalization (setup.py) ... \u001b[?25l\u001b[?25hdone\n",
            "  Created wheel for keras-layer-normalization: filename=keras_layer_normalization-0.16.0-py3-none-any.whl size=4653 sha256=840a59afeb4f8871a1d57eca685e67e9d8312c0740229fe240b32a644803c131\n",
            "  Stored in directory: /root/.cache/pip/wheels/ed/3a/4b/21db23c0cc56c4b219616e181f258eb7c57d36cc5d056fae9a\n",
            "  Building wheel for keras-multi-head (setup.py) ... \u001b[?25l\u001b[?25hdone\n",
            "  Created wheel for keras-multi-head: filename=keras_multi_head-0.29.0-py3-none-any.whl size=14975 sha256=42a39355728317cb9dcdd6134447fbb53804c79c2f8381184e5096d1b6df0d0d\n",
            "  Stored in directory: /root/.cache/pip/wheels/cb/23/4b/06d7ae21714f70fcc25b48f972cc8e5e7f4b6b764a038b509d\n",
            "  Building wheel for keras-pos-embd (setup.py) ... \u001b[?25l\u001b[?25hdone\n",
            "  Created wheel for keras-pos-embd: filename=keras_pos_embd-0.13.0-py3-none-any.whl size=6946 sha256=6d32daa3b91075003cfc1dd70044068fba36b23584d4e213e28f74996665c808\n",
            "  Stored in directory: /root/.cache/pip/wheels/78/07/1b/b1ca47b6ac338554b75c8f52c54e6a2bfbe1b07d79579979a4\n",
            "  Building wheel for keras-position-wise-feed-forward (setup.py) ... \u001b[?25l\u001b[?25hdone\n",
            "  Created wheel for keras-position-wise-feed-forward: filename=keras_position_wise_feed_forward-0.8.0-py3-none-any.whl size=4968 sha256=d9739fe5ed56953bd96c6e330f49ca6309661ebb56279b5519b9b27736561597\n",
            "  Stored in directory: /root/.cache/pip/wheels/c1/6a/04/d1706a53b23b2cb5f9a0a76269bf87925daa1bca09eac01b21\n",
            "  Building wheel for keras-self-attention (setup.py) ... \u001b[?25l\u001b[?25hdone\n",
            "  Created wheel for keras-self-attention: filename=keras_self_attention-0.51.0-py3-none-any.whl size=18895 sha256=22c32e0a8502d19c015b5e0cfc77bd54f0748f18dcc154f0893469de7b4fc6ea\n",
            "  Stored in directory: /root/.cache/pip/wheels/b8/f7/24/607b483144fb9c47b4ba2c5fba6b68e54aeee2d5bf6c05302e\n",
            "  Building wheel for langdetect (setup.py) ... \u001b[?25l\u001b[?25hdone\n",
            "  Created wheel for langdetect: filename=langdetect-1.0.9-py3-none-any.whl size=993225 sha256=ad11feb978e05e73b4694e4d6f7c42f4aa6f0b559ed4488f390473054400d088\n",
            "  Stored in directory: /root/.cache/pip/wheels/95/03/7d/59ea870c70ce4e5a370638b5462a7711ab78fba2f655d05106\n",
            "  Building wheel for tika (setup.py) ... \u001b[?25l\u001b[?25hdone\n",
            "  Created wheel for tika: filename=tika-2.6.0-py3-none-any.whl size=32622 sha256=550ddbd9230caaadd2c6d710e4dd74405100cd14ca5c28ceaf0ee6a467efd985\n",
            "  Stored in directory: /root/.cache/pip/wheels/5f/71/c7/b757709531121b1700cffda5b6b0d4aad095fb507ec84316d0\n",
            "Successfully built ktrain keras_bert keras-transformer keras-embed-sim keras-layer-normalization keras-multi-head keras-pos-embd keras-position-wise-feed-forward keras-self-attention langdetect tika\n",
            "Installing collected packages: whoosh, sentencepiece, syntok, langdetect, keras-self-attention, keras-position-wise-feed-forward, keras-pos-embd, keras-layer-normalization, keras-embed-sim, tika, keras-multi-head, keras-transformer, keras_bert, ktrain\n",
            "Successfully installed keras-embed-sim-0.10.0 keras-layer-normalization-0.16.0 keras-multi-head-0.29.0 keras-pos-embd-0.13.0 keras-position-wise-feed-forward-0.8.0 keras-self-attention-0.51.0 keras-transformer-0.40.0 keras_bert-0.89.0 ktrain-0.39.0 langdetect-1.0.9 sentencepiece-0.1.99 syntok-1.4.4 tika-2.6.0 whoosh-2.7.4\n"
          ]
        }
      ]
    },
    {
      "cell_type": "markdown",
      "source": [
        "### Import the needed libraries"
      ],
      "metadata": {
        "id": "1tw00OcWFHTb"
      }
    },
    {
      "cell_type": "code",
      "source": [
        "import pandas as pd\n",
        "import numpy as np\n",
        "import matplotlib.pyplot as plt\n",
        "import ktrain\n",
        "from ktrain import text\n",
        "from sklearn.model_selection import train_test_split\n",
        "from sklearn.metrics import classification_report, accuracy_score, precision_score, recall_score, f1_score"
      ],
      "metadata": {
        "id": "vwdrJLlZlB1h"
      },
      "execution_count": 3,
      "outputs": []
    },
    {
      "cell_type": "code",
      "source": [
        "from google.colab import drive\n",
        "drive.mount('/content/drive')"
      ],
      "metadata": {
        "colab": {
          "base_uri": "https://localhost:8080/"
        },
        "id": "Ky0A_Sq4m0g6",
        "outputId": "17180898-4764-4b3b-f302-bb75f482b7cc"
      },
      "execution_count": 4,
      "outputs": [
        {
          "output_type": "stream",
          "name": "stdout",
          "text": [
            "Mounted at /content/drive\n"
          ]
        }
      ]
    },
    {
      "cell_type": "markdown",
      "source": [
        "## Function to compute the metrics"
      ],
      "metadata": {
        "id": "fqdL-HuIFQio"
      }
    },
    {
      "cell_type": "code",
      "source": [
        "def compute_classification_report(true_labels_column, predicted_labels_column):\n",
        "    report = classification_report(true_labels_column, predicted_labels_column)\n",
        "    accuracy = accuracy_score(true_labels_column, predicted_labels_column)\n",
        "    precision = precision_score(true_labels_column, predicted_labels_column, average='macro')\n",
        "    recall = recall_score(true_labels_column, predicted_labels_column, average='macro')\n",
        "    f1 = f1_score(true_labels_column, predicted_labels_column, average='macro')\n",
        "\n",
        "    print(\"Classification Report:\")\n",
        "    print(report)\n",
        "    print(\"Accuracy:\", accuracy)\n",
        "    print(\"Precision:\", precision)\n",
        "    print(\"Recall:\", recall)\n",
        "    print(\"F1 Score:\", f1)\n",
        "\n",
        "    return accuracy, precision, recall, f1"
      ],
      "metadata": {
        "id": "wWJypfe__S9w"
      },
      "execution_count": 5,
      "outputs": []
    },
    {
      "cell_type": "markdown",
      "source": [
        "# Function to plot the metrics"
      ],
      "metadata": {
        "id": "ejR5wuAgrgyA"
      }
    },
    {
      "cell_type": "code",
      "source": [
        "def plot_metrics(labels, accuracy_values):\n",
        "\n",
        "    accuracy_values_scaled = [value * 100 for value in accuracy_values]\n",
        "\n",
        "    # Create a counter plot\n",
        "    fig, ax = plt.subplots()\n",
        "    bar_width = 0.2  # Smaller width\n",
        "    index = np.arange(len(labels))\n",
        "\n",
        "    bars = ax.bar(index, accuracy_values_scaled, bar_width)\n",
        "\n",
        "    # Add values on top of the bars\n",
        "    for bar, value in zip(bars, accuracy_values):\n",
        "        ax.text(bar.get_x() + bar.get_width() / 2, bar.get_height() + 0.01,\n",
        "                f'{value:.2f}%', ha='center', va='bottom')\n",
        "\n",
        "    ax.set_xlabel('Datasets')\n",
        "    ax.set_ylabel('Accuracy (%)')\n",
        "    ax.set_title('BERT Accuracy Comparison')\n",
        "    ax.set_xticks(index)\n",
        "    ax.set_xticklabels(labels)\n",
        "    ax.legend()\n",
        "\n",
        "    plt.show()"
      ],
      "metadata": {
        "id": "dbiM7loXrhli"
      },
      "execution_count": 6,
      "outputs": []
    },
    {
      "cell_type": "markdown",
      "source": [
        "# BERT for 6 topics"
      ],
      "metadata": {
        "id": "4BBedeL6S-ai"
      }
    },
    {
      "cell_type": "markdown",
      "source": [
        "## Read data"
      ],
      "metadata": {
        "id": "J7XRTrDjTLTy"
      }
    },
    {
      "cell_type": "code",
      "source": [
        "train = pd.read_csv(\"https://github.com/AnasElbattra/News-Understanding-NLP/raw/main/TOPICS/DATA/news_data%206%20categories/train.csv\")\n",
        "test = pd.read_csv(\"https://github.com/AnasElbattra/News-Understanding-NLP/raw/main/TOPICS/DATA/news_data%206%20categories/test.csv\")"
      ],
      "metadata": {
        "id": "Xr-LfEomTBxT"
      },
      "execution_count": 7,
      "outputs": []
    },
    {
      "cell_type": "code",
      "source": [
        "train"
      ],
      "metadata": {
        "id": "Neqeojn6TB0X",
        "colab": {
          "base_uri": "https://localhost:8080/",
          "height": 424
        },
        "outputId": "736fb71f-e5f5-4a57-c9f2-a1db39412c57"
      },
      "execution_count": 8,
      "outputs": [
        {
          "output_type": "execute_result",
          "data": {
            "text/plain": [
              "                                                  Title  \\\n",
              "0     Uefa Opens Proceedings against Barcelona, Juve...   \n",
              "1     Amazon Blames Inflation as It Increases Cost o...   \n",
              "2     Nigeria’s Parliament Passes Amended Electoral ...   \n",
              "3     Nigeria: Lagos Governor Tests Positive for Cov...   \n",
              "4     South Africa Calls For Calm as Electoral Refor...   \n",
              "...                                                 ...   \n",
              "4681  Uganda Drops Charges Against Nigerian Singers ...   \n",
              "4682                 NNPC Cuts Directors’ Fees by 60.2%   \n",
              "4683  Nigeria’s External Reserves Hit $37bn with $3....   \n",
              "4684  Transcorp Hilton Wins Africa’s Leading Busines...   \n",
              "4685  IHS Towers to Become Largest African Company o...   \n",
              "\n",
              "                                                Excerpt       Category  \n",
              "0     Uefa has opened disciplinary proceedings again...         sports  \n",
              "1     The increases are steeper than the 17 percent ...       business  \n",
              "2     Nigeria's Senate on Tuesday passed the harmoni...       politics  \n",
              "3     The Lagos State Governor, Mr. Babajide Sanwo-O...         health  \n",
              "4     South Africa has raised concerns about the det...       politics  \n",
              "...                                                 ...            ...  \n",
              "4681  Nigerian singers Omah Lay and Tems are set to ...  entertainment  \n",
              "4682  The Nigerian National Petroleum Corporation (N...       business  \n",
              "4683  Nigeria’s foreign reserves will get a timely b...       business  \n",
              "4684  Transcorp Hilton Abuja has been honoured with ...       business  \n",
              "4685  An African operator of mobile phone masts, IHS...       business  \n",
              "\n",
              "[4686 rows x 3 columns]"
            ],
            "text/html": [
              "\n",
              "  <div id=\"df-4e9c58ec-737e-4e09-af92-a5d7420c1a3d\" class=\"colab-df-container\">\n",
              "    <div>\n",
              "<style scoped>\n",
              "    .dataframe tbody tr th:only-of-type {\n",
              "        vertical-align: middle;\n",
              "    }\n",
              "\n",
              "    .dataframe tbody tr th {\n",
              "        vertical-align: top;\n",
              "    }\n",
              "\n",
              "    .dataframe thead th {\n",
              "        text-align: right;\n",
              "    }\n",
              "</style>\n",
              "<table border=\"1\" class=\"dataframe\">\n",
              "  <thead>\n",
              "    <tr style=\"text-align: right;\">\n",
              "      <th></th>\n",
              "      <th>Title</th>\n",
              "      <th>Excerpt</th>\n",
              "      <th>Category</th>\n",
              "    </tr>\n",
              "  </thead>\n",
              "  <tbody>\n",
              "    <tr>\n",
              "      <th>0</th>\n",
              "      <td>Uefa Opens Proceedings against Barcelona, Juve...</td>\n",
              "      <td>Uefa has opened disciplinary proceedings again...</td>\n",
              "      <td>sports</td>\n",
              "    </tr>\n",
              "    <tr>\n",
              "      <th>1</th>\n",
              "      <td>Amazon Blames Inflation as It Increases Cost o...</td>\n",
              "      <td>The increases are steeper than the 17 percent ...</td>\n",
              "      <td>business</td>\n",
              "    </tr>\n",
              "    <tr>\n",
              "      <th>2</th>\n",
              "      <td>Nigeria’s Parliament Passes Amended Electoral ...</td>\n",
              "      <td>Nigeria's Senate on Tuesday passed the harmoni...</td>\n",
              "      <td>politics</td>\n",
              "    </tr>\n",
              "    <tr>\n",
              "      <th>3</th>\n",
              "      <td>Nigeria: Lagos Governor Tests Positive for Cov...</td>\n",
              "      <td>The Lagos State Governor, Mr. Babajide Sanwo-O...</td>\n",
              "      <td>health</td>\n",
              "    </tr>\n",
              "    <tr>\n",
              "      <th>4</th>\n",
              "      <td>South Africa Calls For Calm as Electoral Refor...</td>\n",
              "      <td>South Africa has raised concerns about the det...</td>\n",
              "      <td>politics</td>\n",
              "    </tr>\n",
              "    <tr>\n",
              "      <th>...</th>\n",
              "      <td>...</td>\n",
              "      <td>...</td>\n",
              "      <td>...</td>\n",
              "    </tr>\n",
              "    <tr>\n",
              "      <th>4681</th>\n",
              "      <td>Uganda Drops Charges Against Nigerian Singers ...</td>\n",
              "      <td>Nigerian singers Omah Lay and Tems are set to ...</td>\n",
              "      <td>entertainment</td>\n",
              "    </tr>\n",
              "    <tr>\n",
              "      <th>4682</th>\n",
              "      <td>NNPC Cuts Directors’ Fees by 60.2%</td>\n",
              "      <td>The Nigerian National Petroleum Corporation (N...</td>\n",
              "      <td>business</td>\n",
              "    </tr>\n",
              "    <tr>\n",
              "      <th>4683</th>\n",
              "      <td>Nigeria’s External Reserves Hit $37bn with $3....</td>\n",
              "      <td>Nigeria’s foreign reserves will get a timely b...</td>\n",
              "      <td>business</td>\n",
              "    </tr>\n",
              "    <tr>\n",
              "      <th>4684</th>\n",
              "      <td>Transcorp Hilton Wins Africa’s Leading Busines...</td>\n",
              "      <td>Transcorp Hilton Abuja has been honoured with ...</td>\n",
              "      <td>business</td>\n",
              "    </tr>\n",
              "    <tr>\n",
              "      <th>4685</th>\n",
              "      <td>IHS Towers to Become Largest African Company o...</td>\n",
              "      <td>An African operator of mobile phone masts, IHS...</td>\n",
              "      <td>business</td>\n",
              "    </tr>\n",
              "  </tbody>\n",
              "</table>\n",
              "<p>4686 rows × 3 columns</p>\n",
              "</div>\n",
              "    <div class=\"colab-df-buttons\">\n",
              "\n",
              "  <div class=\"colab-df-container\">\n",
              "    <button class=\"colab-df-convert\" onclick=\"convertToInteractive('df-4e9c58ec-737e-4e09-af92-a5d7420c1a3d')\"\n",
              "            title=\"Convert this dataframe to an interactive table.\"\n",
              "            style=\"display:none;\">\n",
              "\n",
              "  <svg xmlns=\"http://www.w3.org/2000/svg\" height=\"24px\" viewBox=\"0 -960 960 960\">\n",
              "    <path d=\"M120-120v-720h720v720H120Zm60-500h600v-160H180v160Zm220 220h160v-160H400v160Zm0 220h160v-160H400v160ZM180-400h160v-160H180v160Zm440 0h160v-160H620v160ZM180-180h160v-160H180v160Zm440 0h160v-160H620v160Z\"/>\n",
              "  </svg>\n",
              "    </button>\n",
              "\n",
              "  <style>\n",
              "    .colab-df-container {\n",
              "      display:flex;\n",
              "      gap: 12px;\n",
              "    }\n",
              "\n",
              "    .colab-df-convert {\n",
              "      background-color: #E8F0FE;\n",
              "      border: none;\n",
              "      border-radius: 50%;\n",
              "      cursor: pointer;\n",
              "      display: none;\n",
              "      fill: #1967D2;\n",
              "      height: 32px;\n",
              "      padding: 0 0 0 0;\n",
              "      width: 32px;\n",
              "    }\n",
              "\n",
              "    .colab-df-convert:hover {\n",
              "      background-color: #E2EBFA;\n",
              "      box-shadow: 0px 1px 2px rgba(60, 64, 67, 0.3), 0px 1px 3px 1px rgba(60, 64, 67, 0.15);\n",
              "      fill: #174EA6;\n",
              "    }\n",
              "\n",
              "    .colab-df-buttons div {\n",
              "      margin-bottom: 4px;\n",
              "    }\n",
              "\n",
              "    [theme=dark] .colab-df-convert {\n",
              "      background-color: #3B4455;\n",
              "      fill: #D2E3FC;\n",
              "    }\n",
              "\n",
              "    [theme=dark] .colab-df-convert:hover {\n",
              "      background-color: #434B5C;\n",
              "      box-shadow: 0px 1px 3px 1px rgba(0, 0, 0, 0.15);\n",
              "      filter: drop-shadow(0px 1px 2px rgba(0, 0, 0, 0.3));\n",
              "      fill: #FFFFFF;\n",
              "    }\n",
              "  </style>\n",
              "\n",
              "    <script>\n",
              "      const buttonEl =\n",
              "        document.querySelector('#df-4e9c58ec-737e-4e09-af92-a5d7420c1a3d button.colab-df-convert');\n",
              "      buttonEl.style.display =\n",
              "        google.colab.kernel.accessAllowed ? 'block' : 'none';\n",
              "\n",
              "      async function convertToInteractive(key) {\n",
              "        const element = document.querySelector('#df-4e9c58ec-737e-4e09-af92-a5d7420c1a3d');\n",
              "        const dataTable =\n",
              "          await google.colab.kernel.invokeFunction('convertToInteractive',\n",
              "                                                    [key], {});\n",
              "        if (!dataTable) return;\n",
              "\n",
              "        const docLinkHtml = 'Like what you see? Visit the ' +\n",
              "          '<a target=\"_blank\" href=https://colab.research.google.com/notebooks/data_table.ipynb>data table notebook</a>'\n",
              "          + ' to learn more about interactive tables.';\n",
              "        element.innerHTML = '';\n",
              "        dataTable['output_type'] = 'display_data';\n",
              "        await google.colab.output.renderOutput(dataTable, element);\n",
              "        const docLink = document.createElement('div');\n",
              "        docLink.innerHTML = docLinkHtml;\n",
              "        element.appendChild(docLink);\n",
              "      }\n",
              "    </script>\n",
              "  </div>\n",
              "\n",
              "\n",
              "<div id=\"df-98bc5e6e-897f-465e-85af-04e1acdc4577\">\n",
              "  <button class=\"colab-df-quickchart\" onclick=\"quickchart('df-98bc5e6e-897f-465e-85af-04e1acdc4577')\"\n",
              "            title=\"Suggest charts\"\n",
              "            style=\"display:none;\">\n",
              "\n",
              "<svg xmlns=\"http://www.w3.org/2000/svg\" height=\"24px\"viewBox=\"0 0 24 24\"\n",
              "     width=\"24px\">\n",
              "    <g>\n",
              "        <path d=\"M19 3H5c-1.1 0-2 .9-2 2v14c0 1.1.9 2 2 2h14c1.1 0 2-.9 2-2V5c0-1.1-.9-2-2-2zM9 17H7v-7h2v7zm4 0h-2V7h2v10zm4 0h-2v-4h2v4z\"/>\n",
              "    </g>\n",
              "</svg>\n",
              "  </button>\n",
              "\n",
              "<style>\n",
              "  .colab-df-quickchart {\n",
              "      --bg-color: #E8F0FE;\n",
              "      --fill-color: #1967D2;\n",
              "      --hover-bg-color: #E2EBFA;\n",
              "      --hover-fill-color: #174EA6;\n",
              "      --disabled-fill-color: #AAA;\n",
              "      --disabled-bg-color: #DDD;\n",
              "  }\n",
              "\n",
              "  [theme=dark] .colab-df-quickchart {\n",
              "      --bg-color: #3B4455;\n",
              "      --fill-color: #D2E3FC;\n",
              "      --hover-bg-color: #434B5C;\n",
              "      --hover-fill-color: #FFFFFF;\n",
              "      --disabled-bg-color: #3B4455;\n",
              "      --disabled-fill-color: #666;\n",
              "  }\n",
              "\n",
              "  .colab-df-quickchart {\n",
              "    background-color: var(--bg-color);\n",
              "    border: none;\n",
              "    border-radius: 50%;\n",
              "    cursor: pointer;\n",
              "    display: none;\n",
              "    fill: var(--fill-color);\n",
              "    height: 32px;\n",
              "    padding: 0;\n",
              "    width: 32px;\n",
              "  }\n",
              "\n",
              "  .colab-df-quickchart:hover {\n",
              "    background-color: var(--hover-bg-color);\n",
              "    box-shadow: 0 1px 2px rgba(60, 64, 67, 0.3), 0 1px 3px 1px rgba(60, 64, 67, 0.15);\n",
              "    fill: var(--button-hover-fill-color);\n",
              "  }\n",
              "\n",
              "  .colab-df-quickchart-complete:disabled,\n",
              "  .colab-df-quickchart-complete:disabled:hover {\n",
              "    background-color: var(--disabled-bg-color);\n",
              "    fill: var(--disabled-fill-color);\n",
              "    box-shadow: none;\n",
              "  }\n",
              "\n",
              "  .colab-df-spinner {\n",
              "    border: 2px solid var(--fill-color);\n",
              "    border-color: transparent;\n",
              "    border-bottom-color: var(--fill-color);\n",
              "    animation:\n",
              "      spin 1s steps(1) infinite;\n",
              "  }\n",
              "\n",
              "  @keyframes spin {\n",
              "    0% {\n",
              "      border-color: transparent;\n",
              "      border-bottom-color: var(--fill-color);\n",
              "      border-left-color: var(--fill-color);\n",
              "    }\n",
              "    20% {\n",
              "      border-color: transparent;\n",
              "      border-left-color: var(--fill-color);\n",
              "      border-top-color: var(--fill-color);\n",
              "    }\n",
              "    30% {\n",
              "      border-color: transparent;\n",
              "      border-left-color: var(--fill-color);\n",
              "      border-top-color: var(--fill-color);\n",
              "      border-right-color: var(--fill-color);\n",
              "    }\n",
              "    40% {\n",
              "      border-color: transparent;\n",
              "      border-right-color: var(--fill-color);\n",
              "      border-top-color: var(--fill-color);\n",
              "    }\n",
              "    60% {\n",
              "      border-color: transparent;\n",
              "      border-right-color: var(--fill-color);\n",
              "    }\n",
              "    80% {\n",
              "      border-color: transparent;\n",
              "      border-right-color: var(--fill-color);\n",
              "      border-bottom-color: var(--fill-color);\n",
              "    }\n",
              "    90% {\n",
              "      border-color: transparent;\n",
              "      border-bottom-color: var(--fill-color);\n",
              "    }\n",
              "  }\n",
              "</style>\n",
              "\n",
              "  <script>\n",
              "    async function quickchart(key) {\n",
              "      const quickchartButtonEl =\n",
              "        document.querySelector('#' + key + ' button');\n",
              "      quickchartButtonEl.disabled = true;  // To prevent multiple clicks.\n",
              "      quickchartButtonEl.classList.add('colab-df-spinner');\n",
              "      try {\n",
              "        const charts = await google.colab.kernel.invokeFunction(\n",
              "            'suggestCharts', [key], {});\n",
              "      } catch (error) {\n",
              "        console.error('Error during call to suggestCharts:', error);\n",
              "      }\n",
              "      quickchartButtonEl.classList.remove('colab-df-spinner');\n",
              "      quickchartButtonEl.classList.add('colab-df-quickchart-complete');\n",
              "    }\n",
              "    (() => {\n",
              "      let quickchartButtonEl =\n",
              "        document.querySelector('#df-98bc5e6e-897f-465e-85af-04e1acdc4577 button');\n",
              "      quickchartButtonEl.style.display =\n",
              "        google.colab.kernel.accessAllowed ? 'block' : 'none';\n",
              "    })();\n",
              "  </script>\n",
              "</div>\n",
              "\n",
              "  <div id=\"id_9d0a2e82-a9b7-4e8a-9625-8e79aa2c5748\">\n",
              "    <style>\n",
              "      .colab-df-generate {\n",
              "        background-color: #E8F0FE;\n",
              "        border: none;\n",
              "        border-radius: 50%;\n",
              "        cursor: pointer;\n",
              "        display: none;\n",
              "        fill: #1967D2;\n",
              "        height: 32px;\n",
              "        padding: 0 0 0 0;\n",
              "        width: 32px;\n",
              "      }\n",
              "\n",
              "      .colab-df-generate:hover {\n",
              "        background-color: #E2EBFA;\n",
              "        box-shadow: 0px 1px 2px rgba(60, 64, 67, 0.3), 0px 1px 3px 1px rgba(60, 64, 67, 0.15);\n",
              "        fill: #174EA6;\n",
              "      }\n",
              "\n",
              "      [theme=dark] .colab-df-generate {\n",
              "        background-color: #3B4455;\n",
              "        fill: #D2E3FC;\n",
              "      }\n",
              "\n",
              "      [theme=dark] .colab-df-generate:hover {\n",
              "        background-color: #434B5C;\n",
              "        box-shadow: 0px 1px 3px 1px rgba(0, 0, 0, 0.15);\n",
              "        filter: drop-shadow(0px 1px 2px rgba(0, 0, 0, 0.3));\n",
              "        fill: #FFFFFF;\n",
              "      }\n",
              "    </style>\n",
              "    <button class=\"colab-df-generate\" onclick=\"generateWithVariable('train')\"\n",
              "            title=\"Generate code using this dataframe.\"\n",
              "            style=\"display:none;\">\n",
              "\n",
              "  <svg xmlns=\"http://www.w3.org/2000/svg\" height=\"24px\"viewBox=\"0 0 24 24\"\n",
              "       width=\"24px\">\n",
              "    <path d=\"M7,19H8.4L18.45,9,17,7.55,7,17.6ZM5,21V16.75L18.45,3.32a2,2,0,0,1,2.83,0l1.4,1.43a1.91,1.91,0,0,1,.58,1.4,1.91,1.91,0,0,1-.58,1.4L9.25,21ZM18.45,9,17,7.55Zm-12,3A5.31,5.31,0,0,0,4.9,8.1,5.31,5.31,0,0,0,1,6.5,5.31,5.31,0,0,0,4.9,4.9,5.31,5.31,0,0,0,6.5,1,5.31,5.31,0,0,0,8.1,4.9,5.31,5.31,0,0,0,12,6.5,5.46,5.46,0,0,0,6.5,12Z\"/>\n",
              "  </svg>\n",
              "    </button>\n",
              "    <script>\n",
              "      (() => {\n",
              "      const buttonEl =\n",
              "        document.querySelector('#id_9d0a2e82-a9b7-4e8a-9625-8e79aa2c5748 button.colab-df-generate');\n",
              "      buttonEl.style.display =\n",
              "        google.colab.kernel.accessAllowed ? 'block' : 'none';\n",
              "\n",
              "      buttonEl.onclick = () => {\n",
              "        google.colab.notebook.generateWithVariable('train');\n",
              "      }\n",
              "      })();\n",
              "    </script>\n",
              "  </div>\n",
              "\n",
              "    </div>\n",
              "  </div>\n"
            ]
          },
          "metadata": {},
          "execution_count": 8
        }
      ]
    },
    {
      "cell_type": "code",
      "source": [
        "train.Category.value_counts()"
      ],
      "metadata": {
        "id": "JdT1twqKTB3A",
        "colab": {
          "base_uri": "https://localhost:8080/"
        },
        "outputId": "600f9880-2f62-4d5f-b9f4-519e9041a955"
      },
      "execution_count": 9,
      "outputs": [
        {
          "output_type": "execute_result",
          "data": {
            "text/plain": [
              "business         1268\n",
              "sports           1124\n",
              "politics         1073\n",
              "health            550\n",
              "entertainment     382\n",
              "tech              289\n",
              "Name: Category, dtype: int64"
            ]
          },
          "metadata": {},
          "execution_count": 9
        }
      ]
    },
    {
      "cell_type": "code",
      "source": [
        "X = train.Excerpt\n",
        "Y = train.Category"
      ],
      "metadata": {
        "id": "hgQp7KwwTB5Z"
      },
      "execution_count": 10,
      "outputs": []
    },
    {
      "cell_type": "markdown",
      "source": [
        "## Split the data"
      ],
      "metadata": {
        "id": "h7lBqLMlTf2k"
      }
    },
    {
      "cell_type": "code",
      "source": [
        "X_train, X_temp, y_train, y_temp = train_test_split(X,Y , shuffle=True, test_size = 0.5, random_state = 12342 , stratify=Y)\n",
        "\n",
        "X_val, X_test, y_val, y_test = train_test_split(X_temp, y_temp, shuffle=True, test_size = 0.5, random_state = 12342 , stratify=y_temp)\n"
      ],
      "metadata": {
        "id": "OkUYhmZuTx1G"
      },
      "execution_count": 11,
      "outputs": []
    },
    {
      "cell_type": "code",
      "source": [
        "print(X_train.shape)\n",
        "print(y_train.shape)\n",
        "print(X_val.shape)\n",
        "print(y_val.shape)\n",
        "print(X_test.shape)\n",
        "print(y_test.shape)"
      ],
      "metadata": {
        "id": "DxO1vcxeTx1G",
        "colab": {
          "base_uri": "https://localhost:8080/"
        },
        "outputId": "960999bd-4ee3-4ff3-ec60-b2d784f5b9f0"
      },
      "execution_count": 12,
      "outputs": [
        {
          "output_type": "stream",
          "name": "stdout",
          "text": [
            "(2343,)\n",
            "(2343,)\n",
            "(1171,)\n",
            "(1171,)\n",
            "(1172,)\n",
            "(1172,)\n"
          ]
        }
      ]
    },
    {
      "cell_type": "code",
      "source": [
        "x_train = X_train.values\n",
        "x_val = X_val.values\n",
        "y_train = y_train.values\n",
        "y_val = y_val.values\n",
        "x_test = X_test.values\n",
        "y_test = y_test.values"
      ],
      "metadata": {
        "id": "4hwTYo6hTx1G"
      },
      "execution_count": 13,
      "outputs": []
    },
    {
      "cell_type": "markdown",
      "source": [
        "## Text preprocessing"
      ],
      "metadata": {
        "id": "mgsCqYIeTx1G"
      }
    },
    {
      "cell_type": "code",
      "source": [
        "(x_train_bert,  y_train_bert), (x_val_bert, y_val_bert), preproc = text.texts_from_array(x_train=x_train, y_train=y_train,\n",
        "                                                                                         x_test = x_val, y_test=y_val,\n",
        "                                                                                          preprocess_mode='bert',\n",
        "                                                                                          lang = 'en',\n",
        "                                                                                          maxlen = 512,\n",
        "                                                                                          max_features=36000)"
      ],
      "metadata": {
        "id": "lXfppuRyTx1G",
        "colab": {
          "base_uri": "https://localhost:8080/",
          "height": 295
        },
        "outputId": "05146dfc-54f1-4999-f1a8-d5f2010f3512"
      },
      "execution_count": 14,
      "outputs": [
        {
          "output_type": "stream",
          "name": "stdout",
          "text": [
            "downloading pretrained BERT model (uncased_L-12_H-768_A-12.zip)...\n",
            "[██████████████████████████████████████████████████]\n",
            "extracting pretrained BERT model...\n",
            "done.\n",
            "\n",
            "cleanup downloaded zip...\n",
            "done.\n",
            "\n",
            "preprocessing train...\n",
            "language: en\n"
          ]
        },
        {
          "output_type": "display_data",
          "data": {
            "text/plain": [
              "<IPython.core.display.HTML object>"
            ],
            "text/html": [
              "\n",
              "<style>\n",
              "    /* Turns off some styling */\n",
              "    progress {\n",
              "        /* gets rid of default border in Firefox and Opera. */\n",
              "        border: none;\n",
              "        /* Needs to be in here for Safari polyfill so background images work as expected. */\n",
              "        background-size: auto;\n",
              "    }\n",
              "    progress:not([value]), progress:not([value])::-webkit-progress-bar {\n",
              "        background: repeating-linear-gradient(45deg, #7e7e7e, #7e7e7e 10px, #5c5c5c 10px, #5c5c5c 20px);\n",
              "    }\n",
              "    .progress-bar-interrupted, .progress-bar-interrupted::-webkit-progress-bar {\n",
              "        background: #F44336;\n",
              "    }\n",
              "</style>\n"
            ]
          },
          "metadata": {}
        },
        {
          "output_type": "display_data",
          "data": {
            "text/plain": [
              "<IPython.core.display.HTML object>"
            ],
            "text/html": [
              "done."
            ]
          },
          "metadata": {}
        },
        {
          "output_type": "stream",
          "name": "stdout",
          "text": [
            "Is Multi-Label? False\n",
            "preprocessing test...\n",
            "language: en\n"
          ]
        },
        {
          "output_type": "display_data",
          "data": {
            "text/plain": [
              "<IPython.core.display.HTML object>"
            ],
            "text/html": [
              "\n",
              "<style>\n",
              "    /* Turns off some styling */\n",
              "    progress {\n",
              "        /* gets rid of default border in Firefox and Opera. */\n",
              "        border: none;\n",
              "        /* Needs to be in here for Safari polyfill so background images work as expected. */\n",
              "        background-size: auto;\n",
              "    }\n",
              "    progress:not([value]), progress:not([value])::-webkit-progress-bar {\n",
              "        background: repeating-linear-gradient(45deg, #7e7e7e, #7e7e7e 10px, #5c5c5c 10px, #5c5c5c 20px);\n",
              "    }\n",
              "    .progress-bar-interrupted, .progress-bar-interrupted::-webkit-progress-bar {\n",
              "        background: #F44336;\n",
              "    }\n",
              "</style>\n"
            ]
          },
          "metadata": {}
        },
        {
          "output_type": "display_data",
          "data": {
            "text/plain": [
              "<IPython.core.display.HTML object>"
            ],
            "text/html": [
              "done."
            ]
          },
          "metadata": {}
        },
        {
          "output_type": "stream",
          "name": "stdout",
          "text": [
            "task: text classification\n"
          ]
        }
      ]
    },
    {
      "cell_type": "markdown",
      "source": [
        "## Download the model"
      ],
      "metadata": {
        "id": "WSkdJU83Tx1G"
      }
    },
    {
      "cell_type": "code",
      "source": [
        "model = text.text_classifier('bert', train_data=(x_train_bert, y_train_bert), preproc=preproc)\n",
        "learner_1 = ktrain.get_learner(model, train_data=(x_train_bert, y_train_bert), val_data=(x_val_bert, y_val_bert), batch_size=6)\n",
        "learner_2 = ktrain.get_learner(model, train_data=(x_train_bert, y_train_bert), val_data=(x_val_bert, y_val_bert), batch_size=6)"
      ],
      "metadata": {
        "id": "n0YRomIRTx1H",
        "colab": {
          "base_uri": "https://localhost:8080/"
        },
        "outputId": "0e18b91b-fce6-42e0-aeca-9d8de11878c6"
      },
      "execution_count": 15,
      "outputs": [
        {
          "output_type": "stream",
          "name": "stdout",
          "text": [
            "Is Multi-Label? False\n",
            "maxlen is 512\n"
          ]
        },
        {
          "output_type": "stream",
          "name": "stderr",
          "text": [
            "/usr/local/lib/python3.10/dist-packages/keras/src/initializers/initializers.py:120: UserWarning: The initializer GlorotNormal is unseeded and being called multiple times, which will return identical values each time (even if the initializer is unseeded). Please update your code to provide a seed to the initializer, or avoid using the same initializer instance more than once.\n",
            "  warnings.warn(\n"
          ]
        },
        {
          "output_type": "stream",
          "name": "stdout",
          "text": [
            "done.\n"
          ]
        }
      ]
    },
    {
      "cell_type": "markdown",
      "source": [
        "## Using the cyclical learning rate policy"
      ],
      "metadata": {
        "id": "q_qi6DB4Tx1H"
      }
    },
    {
      "cell_type": "code",
      "source": [
        "learner_1.lr_find(show_plot=True, max_epochs=4, suggest= True)             # briefly simulate training to find good learning rate\n"
      ],
      "metadata": {
        "id": "KiJHmej5Tx1H",
        "colab": {
          "base_uri": "https://localhost:8080/",
          "height": 769
        },
        "outputId": "d631a1be-d102-4663-c708-7aa03fa2d32a"
      },
      "execution_count": 16,
      "outputs": [
        {
          "output_type": "stream",
          "name": "stdout",
          "text": [
            "simulating training for different learning rates... this may take a few moments...\n"
          ]
        },
        {
          "output_type": "stream",
          "name": "stderr",
          "text": [
            "/usr/local/lib/python3.10/dist-packages/keras/src/engine/training.py:3103: UserWarning: You are saving your model as an HDF5 file via `model.save()`. This file format is considered legacy. We recommend using instead the native Keras format, e.g. `model.save('my_model.keras')`.\n",
            "  saving_api.save_model(\n"
          ]
        },
        {
          "output_type": "stream",
          "name": "stdout",
          "text": [
            "Epoch 1/4\n",
            "391/391 [==============================] - 97s 189ms/step - loss: 1.7100 - accuracy: 0.3299\n",
            "Epoch 2/4\n",
            "391/391 [==============================] - 74s 189ms/step - loss: 0.9676 - accuracy: 0.6714\n",
            "Epoch 3/4\n",
            "391/391 [==============================] - 29s 73ms/step - loss: 2.3795 - accuracy: 0.2130\n",
            "\n",
            "\n",
            "done.\n",
            "Visually inspect loss plot and select learning rate associated with falling loss\n",
            "Three possible suggestions for LR from plot:\n",
            "\tLongest valley (red): 3.94E-06\n",
            "\tMin numerical gradient (purple): 6.86E-06\n",
            "\tMin loss divided by 10 (omitted from plot): 1.63E-05\n"
          ]
        },
        {
          "output_type": "display_data",
          "data": {
            "text/plain": [
              "<Figure size 640x480 with 1 Axes>"
            ],
            "image/png": "[encoded data removed]"
          },
          "metadata": {}
        }
      ]
    },
    {
      "cell_type": "code",
      "source": [
        "learner_1.fit_onecycle(6.86E-06, 5)"
      ],
      "metadata": {
        "id": "GPUoW9l-Tx1H",
        "colab": {
          "base_uri": "https://localhost:8080/"
        },
        "outputId": "8eb45a3b-0aa9-4e74-d9c6-808fe1635520"
      },
      "execution_count": 17,
      "outputs": [
        {
          "output_type": "stream",
          "name": "stdout",
          "text": [
            "\n",
            "\n",
            "begin training using onecycle policy with max lr of 6.86e-06...\n",
            "Epoch 1/5\n",
            "391/391 [==============================] - 109s 231ms/step - loss: 1.4056 - accuracy: 0.5070 - val_loss: 0.7966 - val_accuracy: 0.8096\n",
            "Epoch 2/5\n",
            "391/391 [==============================] - 86s 220ms/step - loss: 0.5273 - accuracy: 0.8553 - val_loss: 0.4069 - val_accuracy: 0.8753\n",
            "Epoch 3/5\n",
            "391/391 [==============================] - 86s 220ms/step - loss: 0.3146 - accuracy: 0.9023 - val_loss: 0.4227 - val_accuracy: 0.8770\n",
            "Epoch 4/5\n",
            "391/391 [==============================] - 86s 220ms/step - loss: 0.2080 - accuracy: 0.9351 - val_loss: 0.3915 - val_accuracy: 0.8813\n",
            "Epoch 5/5\n",
            "391/391 [==============================] - 86s 220ms/step - loss: 0.1520 - accuracy: 0.9518 - val_loss: 0.4000 - val_accuracy: 0.8822\n"
          ]
        },
        {
          "output_type": "execute_result",
          "data": {
            "text/plain": [
              "<keras.src.callbacks.History at 0x7cc0980ffe80>"
            ]
          },
          "metadata": {},
          "execution_count": 17
        }
      ]
    },
    {
      "cell_type": "code",
      "source": [
        "learner_1.validate(val_data=(x_val_bert, y_val_bert), class_names=[\"business\", \"sports\", \"politics\" , \"health\", \"entertainment\", \"tech\"])"
      ],
      "metadata": {
        "id": "PYkWez7TTx1H",
        "colab": {
          "base_uri": "https://localhost:8080/"
        },
        "outputId": "801c1dce-9380-4a14-b5fe-4c7b6ce414e4"
      },
      "execution_count": 18,
      "outputs": [
        {
          "output_type": "stream",
          "name": "stdout",
          "text": [
            "37/37 [==============================] - 15s 282ms/step\n",
            "               precision    recall  f1-score   support\n",
            "\n",
            "     business       0.84      0.85      0.84       317\n",
            "       sports       0.88      0.88      0.88        96\n",
            "     politics       0.89      0.85      0.87       137\n",
            "       health       0.91      0.93      0.92       268\n",
            "entertainment       0.97      0.98      0.98       281\n",
            "         tech       0.60      0.54      0.57        72\n",
            "\n",
            "     accuracy                           0.88      1171\n",
            "    macro avg       0.85      0.84      0.84      1171\n",
            " weighted avg       0.88      0.88      0.88      1171\n",
            "\n"
          ]
        },
        {
          "output_type": "execute_result",
          "data": {
            "text/plain": [
              "array([[269,   5,   6,  14,   2,  21],\n",
              "       [  6,  84,   1,   1,   2,   2],\n",
              "       [ 13,   1, 117,   4,   1,   1],\n",
              "       [  7,   3,   5, 249,   3,   1],\n",
              "       [  1,   2,   1,   1, 275,   1],\n",
              "       [ 26,   0,   1,   6,   0,  39]])"
            ]
          },
          "metadata": {},
          "execution_count": 18
        }
      ]
    },
    {
      "cell_type": "markdown",
      "source": [
        "## Using the triangular learning rate policy"
      ],
      "metadata": {
        "id": "W1OyoRhjTx1H"
      }
    },
    {
      "cell_type": "code",
      "source": [
        "learner_2.lr_find(show_plot=True, max_epochs=4, suggest= True)             # briefly simulate training to find good learning rate"
      ],
      "metadata": {
        "id": "5HFr1kh6Tx1H",
        "colab": {
          "base_uri": "https://localhost:8080/",
          "height": 804
        },
        "outputId": "0d0ee6a4-9d57-468e-d8ea-827fc2f3414f"
      },
      "execution_count": 19,
      "outputs": [
        {
          "output_type": "stream",
          "name": "stdout",
          "text": [
            "simulating training for different learning rates... this may take a few moments...\n"
          ]
        },
        {
          "output_type": "stream",
          "name": "stderr",
          "text": [
            "/usr/local/lib/python3.10/dist-packages/keras/src/engine/training.py:3103: UserWarning: You are saving your model as an HDF5 file via `model.save()`. This file format is considered legacy. We recommend using instead the native Keras format, e.g. `model.save('my_model.keras')`.\n",
            "  saving_api.save_model(\n"
          ]
        },
        {
          "output_type": "stream",
          "name": "stdout",
          "text": [
            "Epoch 1/4\n",
            "391/391 [==============================] - 74s 188ms/step - loss: 1.6852 - accuracy: 0.3325\n",
            "Epoch 2/4\n",
            "391/391 [==============================] - 74s 189ms/step - loss: 1.1446 - accuracy: 0.5617\n",
            "Epoch 3/4\n",
            "391/391 [==============================] - 31s 80ms/step - loss: 2.3474 - accuracy: 0.2048\n"
          ]
        },
        {
          "output_type": "stream",
          "name": "stderr",
          "text": [
            "/usr/local/lib/python3.10/dist-packages/keras/src/initializers/initializers.py:120: UserWarning: The initializer GlorotNormal is unseeded and being called multiple times, which will return identical values each time (even if the initializer is unseeded). Please update your code to provide a seed to the initializer, or avoid using the same initializer instance more than once.\n",
            "  warnings.warn(\n"
          ]
        },
        {
          "output_type": "stream",
          "name": "stdout",
          "text": [
            "\n",
            "\n",
            "done.\n",
            "Visually inspect loss plot and select learning rate associated with falling loss\n",
            "Three possible suggestions for LR from plot:\n",
            "\tLongest valley (red): 5.55E-06\n",
            "\tMin numerical gradient (purple): 7.11E-06\n",
            "\tMin loss divided by 10 (omitted from plot): 1.12E-05\n"
          ]
        },
        {
          "output_type": "display_data",
          "data": {
            "text/plain": [
              "<Figure size 640x480 with 1 Axes>"
            ],
            "image/png": "[encoded data removed]"
          },
          "metadata": {}
        }
      ]
    },
    {
      "cell_type": "code",
      "source": [
        "learner_2.autofit(6.94E-06)"
      ],
      "metadata": {
        "id": "59IRcyXRTx1H",
        "colab": {
          "base_uri": "https://localhost:8080/"
        },
        "outputId": "a670e997-331a-410c-8f5a-17bea8cdd5d5"
      },
      "execution_count": 20,
      "outputs": [
        {
          "output_type": "stream",
          "name": "stdout",
          "text": [
            "early_stopping automatically enabled at patience=5\n",
            "reduce_on_plateau automatically enabled at patience=2\n",
            "\n",
            "\n",
            "begin training using triangular learning rate policy with max lr of 6.94e-06...\n",
            "Epoch 1/1024\n",
            "391/391 [==============================] - 102s 232ms/step - loss: 1.0349 - accuracy: 0.6411 - val_loss: 0.4832 - val_accuracy: 0.8693\n",
            "Epoch 2/1024\n",
            "391/391 [==============================] - 86s 220ms/step - loss: 0.3907 - accuracy: 0.8869 - val_loss: 0.3969 - val_accuracy: 0.8856\n",
            "Epoch 3/1024\n",
            "391/391 [==============================] - 86s 220ms/step - loss: 0.2826 - accuracy: 0.9138 - val_loss: 0.3930 - val_accuracy: 0.8839\n",
            "Epoch 4/1024\n",
            "391/391 [==============================] - 86s 220ms/step - loss: 0.2175 - accuracy: 0.9360 - val_loss: 0.4021 - val_accuracy: 0.8856\n",
            "Epoch 5/1024\n",
            "391/391 [==============================] - ETA: 0s - loss: 0.1749 - accuracy: 0.9479\n",
            "Epoch 00005: Reducing Max LR on Plateau: new max lr will be 3.47e-06 (if not early_stopping).\n",
            "391/391 [==============================] - 86s 220ms/step - loss: 0.1749 - accuracy: 0.9479 - val_loss: 0.4186 - val_accuracy: 0.8822\n",
            "Epoch 6/1024\n",
            "391/391 [==============================] - 86s 220ms/step - loss: 0.1351 - accuracy: 0.9603 - val_loss: 0.4171 - val_accuracy: 0.8864\n",
            "Epoch 7/1024\n",
            "391/391 [==============================] - ETA: 0s - loss: 0.1204 - accuracy: 0.9633\n",
            "Epoch 00007: Reducing Max LR on Plateau: new max lr will be 1.735e-06 (if not early_stopping).\n",
            "391/391 [==============================] - 86s 220ms/step - loss: 0.1204 - accuracy: 0.9633 - val_loss: 0.4305 - val_accuracy: 0.8830\n",
            "Epoch 8/1024\n",
            "391/391 [==============================] - ETA: 0s - loss: 0.1025 - accuracy: 0.9650Restoring model weights from the end of the best epoch: 3.\n",
            "391/391 [==============================] - 86s 221ms/step - loss: 0.1025 - accuracy: 0.9650 - val_loss: 0.4421 - val_accuracy: 0.8779\n",
            "Epoch 8: early stopping\n",
            "Weights from best epoch have been loaded into model.\n"
          ]
        },
        {
          "output_type": "execute_result",
          "data": {
            "text/plain": [
              "<keras.src.callbacks.History at 0x7cbf82ab4070>"
            ]
          },
          "metadata": {},
          "execution_count": 20
        }
      ]
    },
    {
      "cell_type": "code",
      "source": [
        "learner_2.validate(val_data=(x_val_bert, y_val_bert), class_names=[\"business\", \"sports\", \"politics\" , \"health\", \"entertainment\", \"tech\"])"
      ],
      "metadata": {
        "id": "0V6A0qyNTx1H",
        "colab": {
          "base_uri": "https://localhost:8080/"
        },
        "outputId": "3b4940d7-bf17-41b4-cad0-2715d9fc2c50"
      },
      "execution_count": 21,
      "outputs": [
        {
          "output_type": "stream",
          "name": "stdout",
          "text": [
            "37/37 [==============================] - 15s 282ms/step\n",
            "               precision    recall  f1-score   support\n",
            "\n",
            "     business       0.86      0.83      0.84       317\n",
            "       sports       0.91      0.88      0.89        96\n",
            "     politics       0.87      0.85      0.86       137\n",
            "       health       0.90      0.93      0.91       268\n",
            "entertainment       0.97      0.98      0.97       281\n",
            "         tech       0.61      0.64      0.63        72\n",
            "\n",
            "     accuracy                           0.88      1171\n",
            "    macro avg       0.85      0.85      0.85      1171\n",
            " weighted avg       0.88      0.88      0.88      1171\n",
            "\n"
          ]
        },
        {
          "output_type": "execute_result",
          "data": {
            "text/plain": [
              "array([[263,   4,  10,  14,   2,  24],\n",
              "       [  3,  84,   1,   3,   2,   3],\n",
              "       [ 12,   1, 117,   5,   1,   1],\n",
              "       [  7,   1,   5, 250,   4,   1],\n",
              "       [  1,   2,   1,   2, 275,   0],\n",
              "       [ 20,   0,   1,   5,   0,  46]])"
            ]
          },
          "metadata": {},
          "execution_count": 21
        }
      ]
    },
    {
      "cell_type": "code",
      "source": [
        "# getting predictor variable\n",
        "predictor_1 = ktrain.get_predictor(learner_1.model, preproc)\n",
        "predictor_2 = ktrain.get_predictor(learner_2.model, preproc)"
      ],
      "metadata": {
        "id": "HArgK0ZQTx1I"
      },
      "execution_count": 22,
      "outputs": []
    },
    {
      "cell_type": "code",
      "source": [
        "y_pred_1 = predictor_1.predict(x_test.tolist())\n",
        "y_pred_2 = predictor_2.predict(x_test.tolist())\n"
      ],
      "metadata": {
        "id": "j-KByLKwTx1I"
      },
      "execution_count": 23,
      "outputs": []
    },
    {
      "cell_type": "markdown",
      "source": [
        "## Compute the metrics for testing set"
      ],
      "metadata": {
        "id": "db9LV4c6Tx1I"
      }
    },
    {
      "cell_type": "code",
      "source": [
        "accuracy_6_1, precision_6_1, recall_6_1, f1_6_1 = compute_classification_report(y_test , y_pred_1)"
      ],
      "metadata": {
        "id": "aWvtI3wgTx1I",
        "colab": {
          "base_uri": "https://localhost:8080/"
        },
        "outputId": "25cc385a-2adc-4a9d-a083-d12e5d2b8a5f"
      },
      "execution_count": 24,
      "outputs": [
        {
          "output_type": "stream",
          "name": "stdout",
          "text": [
            "Classification Report:\n",
            "               precision    recall  f1-score   support\n",
            "\n",
            "     business       0.81      0.87      0.84       317\n",
            "entertainment       0.88      0.88      0.88        95\n",
            "       health       0.89      0.85      0.87       138\n",
            "     politics       0.93      0.88      0.90       269\n",
            "       sports       0.98      0.98      0.98       281\n",
            "         tech       0.56      0.50      0.53        72\n",
            "\n",
            "     accuracy                           0.88      1172\n",
            "    macro avg       0.84      0.83      0.83      1172\n",
            " weighted avg       0.88      0.88      0.87      1172\n",
            "\n",
            "Accuracy: 0.8754266211604096\n",
            "Precision: 0.8410386437216211\n",
            "Recall: 0.8276168300427375\n",
            "F1 Score: 0.8336111258453393\n"
          ]
        }
      ]
    },
    {
      "cell_type": "code",
      "source": [
        "accuracy_6_2, precision_6_2, recall_6_2, f1_6_2 = compute_classification_report(y_test , y_pred_2)"
      ],
      "metadata": {
        "id": "WWwwRPskTx1I",
        "colab": {
          "base_uri": "https://localhost:8080/"
        },
        "outputId": "488fbbfc-42ac-475f-c17c-6a3709f0e536"
      },
      "execution_count": 25,
      "outputs": [
        {
          "output_type": "stream",
          "name": "stdout",
          "text": [
            "Classification Report:\n",
            "               precision    recall  f1-score   support\n",
            "\n",
            "     business       0.84      0.86      0.85       317\n",
            "entertainment       0.86      0.89      0.88        95\n",
            "       health       0.88      0.86      0.87       138\n",
            "     politics       0.93      0.88      0.90       269\n",
            "       sports       0.97      0.98      0.97       281\n",
            "         tech       0.55      0.60      0.57        72\n",
            "\n",
            "     accuracy                           0.88      1172\n",
            "    macro avg       0.84      0.84      0.84      1172\n",
            " weighted avg       0.88      0.88      0.88      1172\n",
            "\n",
            "Accuracy: 0.878839590443686\n",
            "Precision: 0.8384385628569936\n",
            "Recall: 0.8447419881849817\n",
            "F1 Score: 0.8412504173189507\n"
          ]
        }
      ]
    },
    {
      "cell_type": "markdown",
      "source": [
        "## Save the models"
      ],
      "metadata": {
        "id": "fNmvaXFOTx1I"
      }
    },
    {
      "cell_type": "code",
      "source": [
        "predictor_1.save('/content/drive/MyDrive/Topics/BERT/bert_6_topics_1')\n",
        "predictor_2.save('/content/drive/MyDrive/Topics/BERT/bert_6_topics_2')"
      ],
      "metadata": {
        "id": "VPLkmQm5Tx1I",
        "colab": {
          "base_uri": "https://localhost:8080/"
        },
        "outputId": "29b1535e-4a07-455d-c5fc-38bec7b10e65"
      },
      "execution_count": 26,
      "outputs": [
        {
          "output_type": "stream",
          "name": "stderr",
          "text": [
            "/usr/local/lib/python3.10/dist-packages/keras/src/engine/training.py:3103: UserWarning: You are saving your model as an HDF5 file via `model.save()`. This file format is considered legacy. We recommend using instead the native Keras format, e.g. `model.save('my_model.keras')`.\n",
            "  saving_api.save_model(\n"
          ]
        }
      ]
    }
  ]
}