{
  "cells": [
    {
      "cell_type": "markdown",
      "metadata": {
        "id": "gNbU8DMSgO-U"
      },
      "source": [
        "# Install Environment"
      ]
    },
    {
      "cell_type": "code",
      "execution_count": 1,
      "metadata": {
        "id": "AGC0hvYIgO-W"
      },
      "outputs": [],
      "source": [
        "# !pip install datasets\n",
        "# !pip install transformers[torch]\n",
        "\n",
        "import os\n",
        "import pandas as pd\n",
        "import torch\n",
        "import transformers as tr\n",
        "from datasets import Dataset, load_metric\n",
        "import numpy as np\n",
        "from transformers import Trainer\n",
        "from sklearn.metrics import classification_report, accuracy_score"
      ]
    },
    {
      "cell_type": "markdown",
      "metadata": {
        "id": "ojW8h6GhgO-X"
      },
      "source": [
        "# Data Importing"
      ]
    },
    {
      "cell_type": "code",
      "execution_count": 87,
      "metadata": {},
      "outputs": [],
      "source": [
        "def read_data():\n",
        "    # GonzaloA data\n",
        "    gonzaloa_train = pd.read_csv(\n",
        "        \"https://github.com/AnasElbattra/Hugging-face/raw/main/FAKE-REAL/DATA/GonzaloA_fake_news/train%20Data.csv\"\n",
        "    )  # 24359 row      0 = fake, 1 = real\n",
        "    gonzaloa_train = gonzaloa_train[[\"text\", \"label\"]]\n",
        "\n",
        "    gonzaloa_test = pd.read_csv(\n",
        "        \"https://github.com/AnasElbattra/Hugging-face/raw/main/FAKE-REAL/DATA/GonzaloA_fake_news/test%20Data.csv\"\n",
        "    )  # 16239 row    0 = fake, 1 = real\n",
        "    gonzaloa_test = gonzaloa_test[[\"text\", \"label\"]]\n",
        "\n",
        "    # pushpdeepfake_news_combined\n",
        "    pushpdeepfake_train = pd.read_csv(\n",
        "        \"https://github.com/AnasElbattra/Hugging-face/raw/main/FAKE-REAL/DATA/pushpdeepfake_news_combined/train.csv\"\n",
        "    )  # 34916 row      0 = fake, 1 = real\n",
        "    pushpdeepfake_train = pushpdeepfake_train[[\"text\", \"label\"]]\n",
        "\n",
        "    pushpdeepfake_test = pd.read_csv(\n",
        "        \"https://github.com/AnasElbattra/Hugging-face/raw/main/FAKE-REAL/DATA/pushpdeepfake_news_combined/test.csv\"\n",
        "    )  # 10003 row      0 = fake, 1 = real\n",
        "    pushpdeepfake_test = pushpdeepfake_test[[\"text\", \"label\"]]\n",
        "\n",
        "    # kaggle_datafake\n",
        "    kaggle_train = pd.read_csv(\n",
        "        \"https://github.com/AnasElbattra/News-Understanding-NLP/raw/main/FAKE-REAL/DATA/kaggle_datafake/kaggle_datafake_train.csv\"\n",
        "    )  # 24000 row      0 = fake, 1 = real\n",
        "    kaggle_train = kaggle_train[[\"text\", \"label\"]]\n",
        "\n",
        "    kaggle_test = pd.read_csv(\n",
        "        \"https://github.com/AnasElbattra/News-Understanding-NLP/raw/main/FAKE-REAL/DATA/kaggle_datafake/kaggle_datafake_test.csv\"\n",
        "    )  # 246669 row     0 = fake, 1 = real\n",
        "    kaggle_test = kaggle_test[[\"text\", \"label\"]]\n",
        "\n",
        "    # news_articles\n",
        "    news_articles = pd.read_csv(\n",
        "        \"https://github.com/AnasElbattra/News-Understanding-NLP/raw/main/FAKE-REAL/DATA/news_articles.csv\"\n",
        "    )  # 2046 row       0 = fake, 1 = real\n",
        "    news_articles = news_articles[[\"text\", \"label\"]]\n",
        "\n",
        "    # mrm8488-fake-news\n",
        "    mrm8488_fake_news = pd.read_csv(\n",
        "        \"https://github.com/AnasElbattra/News-Understanding-NLP/raw/main/FAKE-REAL/DATA/mrm8488-fake-news/fake_news.csv\"\n",
        "    )  # 44919 row    0 = fake, 1 = real\n",
        "\n",
        "    # ErfanMoosaviMonzzah\n",
        "    Erfan_train = pd.read_csv(\n",
        "        \"https://github.com/AnasElbattra/News-Understanding-NLP/raw/main/FAKE-REAL/DATA/ErfanMoosaviMonazzah/train.csv\"\n",
        "    )  # 20011 row      0 = fake, 1 = real\n",
        "    Erfan_train = Erfan_train[[\"text\", \"label\"]]\n",
        "\n",
        "    Erfan_test = pd.read_csv(\n",
        "        \"https://github.com/AnasElbattra/News-Understanding-NLP/raw/main/FAKE-REAL/DATA/ErfanMoosaviMonazzah/test.csv\"\n",
        "    )  # 24277 row      0 = fake, 1 = real\n",
        "    Erfan_test = Erfan_test[[\"text\", \"label\"]]\n",
        "\n",
        "    kaggle_competition_train = pd.read_csv(\n",
        "        \"https://github.com/AnasElbattra/News-Understanding-NLP/raw/main/FAKE-REAL/DATA/Kaggle-Competition/train.csv\"\n",
        "    )  # 15007 row      0 = fake, 1 = real\n",
        "    kaggle_competition_train = kaggle_competition_train[[\"text\", \"label\"]]\n",
        "\n",
        "    kaggle_competition_test = pd.read_csv(\n",
        "        \"https://github.com/AnasElbattra/News-Understanding-NLP/raw/main/FAKE-REAL/DATA/Kaggle-Competition/train.csv\"\n",
        "    )  # 29912 row      0 = fake, 1 = real\n",
        "    kaggle_competition_test = kaggle_competition_test[[\"text\", \"label\"]]\n",
        "\n",
        "    news_articles_cleaned = pd.read_csv(\n",
        "        \"https://github.com/AnasElbattra/News-Understanding-NLP/raw/main/FAKE-REAL/DATA/news_articles_cleaned.csv\"\n",
        "    )  # 1659 row       0 = fake, 1 = real\n",
        "    news_articles_cleaned = news_articles_cleaned[[\"text\", \"label\"]]\n",
        "\n",
        "    FAKES = pd.read_csv(\n",
        "        \"https://github.com/AnasElbattra/News-Understanding-NLP/raw/main/FAKE-REAL/DATA/FA-KES-Dataset.csv\"\n",
        "    )  # 804 row      0 = fake, 1 = real\n",
        "    FAKES = FAKES[[\"text\", \"label\"]]\n",
        "\n",
        "    news_articles_source = pd.read_csv(\n",
        "        \"https://github.com/AnasElbattra/News-Understanding-NLP/raw/main/FAKE-REAL/DATA/news_articles_source.csv\"\n",
        "    )  # 2050 row      0 = fake, 1 = real\n",
        "    news_articles_source = news_articles_source[[\"text\", \"label\"]]\n",
        "\n",
        "    return (\n",
        "        gonzaloa_train,\n",
        "        gonzaloa_test,\n",
        "        pushpdeepfake_train,\n",
        "        pushpdeepfake_test,\n",
        "        kaggle_train,\n",
        "        kaggle_test,\n",
        "        news_articles,\n",
        "        mrm8488_fake_news,\n",
        "        Erfan_train,\n",
        "        Erfan_test,\n",
        "        kaggle_competition_train,\n",
        "        kaggle_competition_test,\n",
        "        news_articles_cleaned,\n",
        "        FAKES,\n",
        "        news_articles_source,\n",
        "    )"
      ]
    },
    {
      "cell_type": "code",
      "execution_count": 88,
      "metadata": {},
      "outputs": [],
      "source": [
        "(\n",
        "    gonazaloa_train,\n",
        "    gonzaloa_test,\n",
        "    pushpdeepfake_train,\n",
        "    pushpdeepfake_test,\n",
        "    kaggle_train,\n",
        "    kaggle_test,\n",
        "    news_articles,\n",
        "    mrm8488_fake_news,\n",
        "    Erfan_train,\n",
        "    Erfan_test,\n",
        "    kaggle_competition_train,\n",
        "    kaggle_competition_test,\n",
        "    news_articles_cleaned,\n",
        "    FAKES,\n",
        "    news_articles_source,\n",
        ") = read_data()"
      ]
    },
    {
      "cell_type": "markdown",
      "metadata": {
        "id": "Og29khncy3vA"
      },
      "source": [
        "# First Trial"
      ]
    },
    {
      "cell_type": "markdown",
      "metadata": {
        "id": "uM6WmBp_gO-Z"
      },
      "source": [
        "## Data Combination"
      ]
    },
    {
      "cell_type": "code",
      "execution_count": 5,
      "metadata": {
        "id": "_yeqc08ngO-Z"
      },
      "outputs": [],
      "source": [
        "# combine gonzaloa_train, pushpdeepfake_train\n",
        "# training_data = pd.concat([gonzaloa_train, pushpdeepfake_train], ignore_index=True)\n",
        "training_data = Erfan_train\n",
        "\n",
        "dataset = Dataset.from_pandas(training_data)\n",
        "dataset = dataset.train_test_split(test_size=0.2)\n",
        "# dataset[\"train\"][\"label\"]"
      ]
    },
    {
      "cell_type": "markdown",
      "metadata": {
        "id": "QEFI6XP0gO-Z"
      },
      "source": [
        "## Fine Tuning\n"
      ]
    },
    {
      "cell_type": "code",
      "execution_count": 6,
      "metadata": {
        "id": "5MJ5t3_BgO-Z"
      },
      "outputs": [],
      "source": [
        "def to_tokens(tokenizer, label_map):\n",
        "    def apply(x):\n",
        "        target_labels = [label_map[y] for y in x[\"label\"]]\n",
        "        token_res = tokenizer(\n",
        "            x[\"text\"],\n",
        "            text_target=target_labels,\n",
        "            return_tensors=\"pt\",\n",
        "            truncation=True,\n",
        "            padding=True,\n",
        "        )\n",
        "        return token_res\n",
        "\n",
        "    return apply"
      ]
    },
    {
      "cell_type": "code",
      "execution_count": 7,
      "metadata": {
        "id": "AIG3CHiOgO-Z"
      },
      "outputs": [],
      "source": [
        "tokenizer = tr.AutoTokenizer.from_pretrained(\"t5-small\")"
      ]
    },
    {
      "cell_type": "code",
      "execution_count": 8,
      "metadata": {
        "colab": {
          "base_uri": "https://localhost:8080/",
          "height": 81,
          "referenced_widgets": [
            "b8606258feec42dbb77a45b971bcd7fc",
            "180b54219a7a480c9b2f3e53c5424533",
            "73e35cdec3ae4ba6bd439a4637c748e3",
            "5f624c2ee2264df2a9a10299b78dcaf5",
            "d556ece64cc843bc8a7951aa52507a7b",
            "8c0f46f9f7eb4e5da3dfa5ab35536a99",
            "d0a1465613194d24b27a6d8c8281ad9e",
            "36936e8a5b7a4e018f00f2febd2009a3",
            "8ca38095926348c999444f5c068f1720",
            "213c8ff67b9c44ee999d71d32b7a7a0e",
            "63414231980b44c1bde6a987664d82c0",
            "8c110bda84ad40dab1d0b03272122e3f",
            "9bcc2878898c41398d4b3fd99ee51c98",
            "409286bc7828494aa2d98d9b290a9faa",
            "ff3377ef03eb479bb44a576a5993f34e",
            "e1194af720534a99b79a3e7e3f80d7f3",
            "dcdb79c58bc54089bb2bc4bc1e9cc217",
            "cd7dc98cee6a485bbcec546811d26b56",
            "755d1111432043279a0c3a47ea8205b7",
            "19883915ae694f5d820abc676247ead9",
            "ac52896e425240118739a60c061ab20c",
            "996d021f68ea43eaa98911bad787e0e9"
          ]
        },
        "id": "phyp_jJ7gO-Z",
        "outputId": "4771eb3f-de93-4d98-8258-d64cc2b82917"
      },
      "outputs": [
        {
          "data": {
            "application/vnd.jupyter.widget-view+json": {
              "model_id": "b8606258feec42dbb77a45b971bcd7fc",
              "version_major": 2,
              "version_minor": 0
            },
            "text/plain": [
              "Map:   0%|          | 0/16000 [00:00<?, ? examples/s]"
            ]
          },
          "metadata": {},
          "output_type": "display_data"
        },
        {
          "data": {
            "application/vnd.jupyter.widget-view+json": {
              "model_id": "8c110bda84ad40dab1d0b03272122e3f",
              "version_major": 2,
              "version_minor": 0
            },
            "text/plain": [
              "Map:   0%|          | 0/4000 [00:00<?, ? examples/s]"
            ]
          },
          "metadata": {},
          "output_type": "display_data"
        }
      ],
      "source": [
        "label_lookup = {0: \"fake\", 1: \"real\"}\n",
        "to_tokens = to_tokens(tokenizer, label_lookup)\n",
        "tokenized_dataset = dataset.map(\n",
        "    to_tokens, batched=True, remove_columns=[\"text\", \"label\"]\n",
        ")"
      ]
    },
    {
      "cell_type": "code",
      "execution_count": 9,
      "metadata": {
        "id": "uzSrxBIRgO-a"
      },
      "outputs": [],
      "source": [
        "local_training_root = \"./\"\n",
        "checkpoint_name = \"test-trainer\"\n",
        "local_checkpoint_path = os.path.join(local_training_root, checkpoint_name)\n",
        "training_args = tr.TrainingArguments(\n",
        "    local_checkpoint_path,\n",
        "    num_train_epochs=1,  # default number of epochs to train is 3\n",
        "    per_device_train_batch_size=16,\n",
        "    optim=\"adamw_torch\",\n",
        "    report_to=[\"tensorboard\"],\n",
        ")"
      ]
    },
    {
      "cell_type": "code",
      "execution_count": 10,
      "metadata": {
        "id": "pxyfhESxgO-a"
      },
      "outputs": [],
      "source": [
        "t5_model = tr.AutoModelForSeq2SeqLM.from_pretrained(\"t5-small\")"
      ]
    },
    {
      "cell_type": "code",
      "execution_count": 11,
      "metadata": {
        "colab": {
          "base_uri": "https://localhost:8080/"
        },
        "id": "Gpl3p2tvgO-a",
        "outputId": "32323464-04b3-4e99-e5a9-5eeb287c8c55"
      },
      "outputs": [
        {
          "name": "stderr",
          "output_type": "stream",
          "text": [
            "<ipython-input-11-1bce426d05f6>:1: FutureWarning: load_metric is deprecated and will be removed in the next major version of datasets. Use 'evaluate.load' instead, from the new library 🤗 Evaluate: https://huggingface.co/docs/evaluate\n",
            "  metric = load_metric(\"accuracy\")\n"
          ]
        }
      ],
      "source": [
        "metric = load_metric(\"accuracy\")\n",
        "\n",
        "\n",
        "def compute_metrics(eval_pred):\n",
        "    predictions, labels = eval_pred\n",
        "    predictions = [\n",
        "        tokenizer.decode(p, skip_special_tokens=True)\n",
        "        for p in predictions.argmax(dim=-1)\n",
        "    ]\n",
        "    labels = [label_lookup[l] for l in labels]\n",
        "\n",
        "    return metric.compute(predictions=predictions, references=labels)"
      ]
    },
    {
      "cell_type": "code",
      "execution_count": 12,
      "metadata": {
        "colab": {
          "base_uri": "https://localhost:8080/",
          "height": 173
        },
        "id": "VIRzQudAgO-a",
        "outputId": "bbe29241-a97a-4156-ca21-eac86d02010b"
      },
      "outputs": [
        {
          "data": {
            "text/html": [
              "\n",
              "    <div>\n",
              "      \n",
              "      <progress value='1000' max='1000' style='width:300px; height:20px; vertical-align: middle;'></progress>\n",
              "      [1000/1000 08:12, Epoch 1/1]\n",
              "    </div>\n",
              "    <table border=\"1\" class=\"dataframe\">\n",
              "  <thead>\n",
              " <tr style=\"text-align: left;\">\n",
              "      <th>Step</th>\n",
              "      <th>Training Loss</th>\n",
              "    </tr>\n",
              "  </thead>\n",
              "  <tbody>\n",
              "    <tr>\n",
              "      <td>500</td>\n",
              "      <td>0.548900</td>\n",
              "    </tr>\n",
              "    <tr>\n",
              "      <td>1000</td>\n",
              "      <td>0.010900</td>\n",
              "    </tr>\n",
              "  </tbody>\n",
              "</table><p>"
            ],
            "text/plain": [
              "<IPython.core.display.HTML object>"
            ]
          },
          "metadata": {},
          "output_type": "display_data"
        },
        {
          "data": {
            "text/plain": [
              "TrainOutput(global_step=1000, training_loss=0.2799044542312622, metrics={'train_runtime': 495.9284, 'train_samples_per_second': 32.263, 'train_steps_per_second': 2.016, 'total_flos': 2165468823552000.0, 'train_loss': 0.2799044542312622, 'epoch': 1.0})"
            ]
          },
          "execution_count": 12,
          "metadata": {},
          "output_type": "execute_result"
        }
      ],
      "source": [
        "trainer = Trainer(\n",
        "    model=t5_model,\n",
        "    args=training_args,\n",
        "    train_dataset=tokenized_dataset[\"train\"],\n",
        "    eval_dataset=tokenized_dataset[\"test\"],\n",
        "    compute_metrics=compute_metrics,\n",
        ")\n",
        "trainer.train()"
      ]
    },
    {
      "cell_type": "code",
      "execution_count": 13,
      "metadata": {
        "id": "aDVDHaxlgO-a"
      },
      "outputs": [],
      "source": [
        "# trainer.evaluate()\n",
        "trainer.save_model()\n",
        "trainer.save_state()\n",
        "checkpoint_name = \"test-trainer-deepspeed\"\n",
        "final_model_path = f\"./llm04_fine_tuning/{checkpoint_name}\"\n",
        "\n",
        "trainer.save_model(output_dir=final_model_path)\n",
        "\n",
        "fine_tuned_model = tr.AutoModelForSeq2SeqLM.from_pretrained(final_model_path)"
      ]
    },
    {
      "cell_type": "markdown",
      "metadata": {
        "id": "pgIb6-f9gO-a"
      },
      "source": [
        "## Evaluation"
      ]
    },
    {
      "cell_type": "markdown",
      "metadata": {
        "id": "NANB95gogO-a"
      },
      "source": [
        "### Data Cleaning and sampling"
      ]
    },
    {
      "cell_type": "code",
      "execution_count": 14,
      "metadata": {
        "id": "AHRi7sllgO-a"
      },
      "outputs": [],
      "source": [
        "def clean_sample(df, n):\n",
        "    temp = df.groupby(\"label\", group_keys=False).apply(lambda x: x.sample(n))\n",
        "    temp = temp.sample(frac=1, random_state=42)\n",
        "    temp.dropna(subset=[\"text\", \"label\"], inplace=True)\n",
        "    temp[\"label\"].replace({0: \"fake\", 1: \"real\"}, inplace=True)\n",
        "    return temp"
      ]
    },
    {
      "cell_type": "code",
      "execution_count": 15,
      "metadata": {
        "id": "30lO3sTPgO-b"
      },
      "outputs": [],
      "source": [
        "def evaluate_data(df, n=50):\n",
        "    temp = clean_sample(df, n)\n",
        "\n",
        "    # Initialize an empty list to store the predictions\n",
        "    predictions = []\n",
        "\n",
        "    # Iterate through each row in the DataFrame\n",
        "    for index, row in temp.iterrows():\n",
        "        text = row[\"text\"]\n",
        "        news_report = [text]  # Create a list with the text from the DataFrame\n",
        "\n",
        "        # Tokenize and generate predictions\n",
        "        inputs = tokenizer(\n",
        "            news_report, return_tensors=\"pt\", truncation=True, padding=True\n",
        "        )\n",
        "        pred = fine_tuned_model.generate(\n",
        "            input_ids=inputs[\"input_ids\"], attention_mask=inputs[\"attention_mask\"]\n",
        "        )\n",
        "\n",
        "        # Decode the predictions and store them in the predictions list\n",
        "        classification = tokenizer.batch_decode(pred, skip_special_tokens=True)[0]\n",
        "        predictions.append(classification)\n",
        "\n",
        "    # Add the predictions to the DataFrame as a new column\n",
        "    temp[\"predictions\"] = predictions\n",
        "\n",
        "    classification_rep = classification_report(temp[\"label\"], temp[\"predictions\"])\n",
        "    print(\"Classification Report:\")\n",
        "    print(classification_rep)\n",
        "\n",
        "    accuracy = accuracy_score(temp[\"label\"], temp[\"predictions\"])\n",
        "\n",
        "    return accuracy"
      ]
    },
    {
      "cell_type": "markdown",
      "metadata": {
        "id": "4U3bZVVogO-b"
      },
      "source": [
        "### Evaluation on the samples"
      ]
    },
    {
      "cell_type": "code",
      "execution_count": 16,
      "metadata": {
        "colab": {
          "base_uri": "https://localhost:8080/"
        },
        "id": "OQoZkpOhgO-b",
        "outputId": "c156385e-23a4-426c-9cc6-a3472906c58d"
      },
      "outputs": [
        {
          "name": "stderr",
          "output_type": "stream",
          "text": [
            "/usr/local/lib/python3.10/dist-packages/transformers/generation/utils.py:1260: UserWarning: Using the model-agnostic default `max_length` (=20) to control the generation length. We recommend setting `max_new_tokens` to control the maximum length of the generation.\n",
            "  warnings.warn(\n"
          ]
        },
        {
          "name": "stdout",
          "output_type": "stream",
          "text": [
            "Classification Report:\n",
            "              precision    recall  f1-score   support\n",
            "\n",
            "        fake       0.94      1.00      0.97        50\n",
            "        real       1.00      0.94      0.97        50\n",
            "\n",
            "    accuracy                           0.97       100\n",
            "   macro avg       0.97      0.97      0.97       100\n",
            "weighted avg       0.97      0.97      0.97       100\n",
            "\n"
          ]
        }
      ],
      "source": [
        "gonzaloa_train_accuracy = evaluate_data(gonzaloa_train)"
      ]
    },
    {
      "cell_type": "code",
      "execution_count": 17,
      "metadata": {
        "colab": {
          "base_uri": "https://localhost:8080/"
        },
        "id": "zwr0ZuTZgO-b",
        "outputId": "92b8a4c3-8775-4da1-ab8a-6fb81051223e"
      },
      "outputs": [
        {
          "name": "stderr",
          "output_type": "stream",
          "text": [
            "/usr/local/lib/python3.10/dist-packages/transformers/generation/utils.py:1260: UserWarning: Using the model-agnostic default `max_length` (=20) to control the generation length. We recommend setting `max_new_tokens` to control the maximum length of the generation.\n",
            "  warnings.warn(\n"
          ]
        },
        {
          "name": "stdout",
          "output_type": "stream",
          "text": [
            "Classification Report:\n",
            "              precision    recall  f1-score   support\n",
            "\n",
            "        fake       0.98      0.96      0.97        50\n",
            "        real       0.96      0.98      0.97        50\n",
            "\n",
            "    accuracy                           0.97       100\n",
            "   macro avg       0.97      0.97      0.97       100\n",
            "weighted avg       0.97      0.97      0.97       100\n",
            "\n"
          ]
        }
      ],
      "source": [
        "gonzaloa_test_accuracy = evaluate_data(gonzaloa_test)"
      ]
    },
    {
      "cell_type": "code",
      "execution_count": 18,
      "metadata": {
        "colab": {
          "base_uri": "https://localhost:8080/"
        },
        "id": "k2okEjHBgO-b",
        "outputId": "c5d3dc81-06b9-41ce-abec-9cf59f60dba1"
      },
      "outputs": [
        {
          "name": "stderr",
          "output_type": "stream",
          "text": [
            "/usr/local/lib/python3.10/dist-packages/transformers/generation/utils.py:1260: UserWarning: Using the model-agnostic default `max_length` (=20) to control the generation length. We recommend setting `max_new_tokens` to control the maximum length of the generation.\n",
            "  warnings.warn(\n"
          ]
        },
        {
          "name": "stdout",
          "output_type": "stream",
          "text": [
            "Classification Report:\n",
            "              precision    recall  f1-score   support\n",
            "\n",
            "        fake       1.00      1.00      1.00        50\n",
            "        real       1.00      1.00      1.00        50\n",
            "\n",
            "    accuracy                           1.00       100\n",
            "   macro avg       1.00      1.00      1.00       100\n",
            "weighted avg       1.00      1.00      1.00       100\n",
            "\n"
          ]
        }
      ],
      "source": [
        "pushpdeepfake_train_accuracy = evaluate_data(pushpdeepfake_train)"
      ]
    },
    {
      "cell_type": "code",
      "execution_count": 19,
      "metadata": {
        "colab": {
          "base_uri": "https://localhost:8080/"
        },
        "id": "ePzHA0dFgO-b",
        "outputId": "6d5dc6af-f50a-4432-c78b-02105ef3ee1f"
      },
      "outputs": [
        {
          "name": "stderr",
          "output_type": "stream",
          "text": [
            "/usr/local/lib/python3.10/dist-packages/transformers/generation/utils.py:1260: UserWarning: Using the model-agnostic default `max_length` (=20) to control the generation length. We recommend setting `max_new_tokens` to control the maximum length of the generation.\n",
            "  warnings.warn(\n"
          ]
        },
        {
          "name": "stdout",
          "output_type": "stream",
          "text": [
            "Classification Report:\n",
            "              precision    recall  f1-score   support\n",
            "\n",
            "        fake       0.94      0.98      0.96        50\n",
            "        real       0.98      0.94      0.96        50\n",
            "\n",
            "    accuracy                           0.96       100\n",
            "   macro avg       0.96      0.96      0.96       100\n",
            "weighted avg       0.96      0.96      0.96       100\n",
            "\n"
          ]
        }
      ],
      "source": [
        "pushpdeepfake_test_accuracy = evaluate_data(pushpdeepfake_test)"
      ]
    },
    {
      "cell_type": "code",
      "execution_count": 20,
      "metadata": {
        "colab": {
          "base_uri": "https://localhost:8080/"
        },
        "id": "U2KLgWfCgO-c",
        "outputId": "9ecaa11e-b3b9-47f6-86cd-913305f28ff6"
      },
      "outputs": [
        {
          "name": "stderr",
          "output_type": "stream",
          "text": [
            "/usr/local/lib/python3.10/dist-packages/transformers/generation/utils.py:1260: UserWarning: Using the model-agnostic default `max_length` (=20) to control the generation length. We recommend setting `max_new_tokens` to control the maximum length of the generation.\n",
            "  warnings.warn(\n"
          ]
        },
        {
          "name": "stdout",
          "output_type": "stream",
          "text": [
            "Classification Report:\n",
            "              precision    recall  f1-score   support\n",
            "\n",
            "        fake       0.15      0.04      0.06        50\n",
            "        real       0.45      0.78      0.57        50\n",
            "\n",
            "    accuracy                           0.41       100\n",
            "   macro avg       0.30      0.41      0.32       100\n",
            "weighted avg       0.30      0.41      0.32       100\n",
            "\n"
          ]
        }
      ],
      "source": [
        "kaggle_train_accuracy = evaluate_data(kaggle_train)"
      ]
    },
    {
      "cell_type": "code",
      "execution_count": 21,
      "metadata": {
        "colab": {
          "base_uri": "https://localhost:8080/"
        },
        "id": "TT8KATz_gO-c",
        "outputId": "e3d647b2-4f3f-459e-ea3f-580000b475b2"
      },
      "outputs": [
        {
          "name": "stderr",
          "output_type": "stream",
          "text": [
            "/usr/local/lib/python3.10/dist-packages/transformers/generation/utils.py:1260: UserWarning: Using the model-agnostic default `max_length` (=20) to control the generation length. We recommend setting `max_new_tokens` to control the maximum length of the generation.\n",
            "  warnings.warn(\n"
          ]
        },
        {
          "name": "stdout",
          "output_type": "stream",
          "text": [
            "Classification Report:\n",
            "              precision    recall  f1-score   support\n",
            "\n",
            "        fake       0.13      0.04      0.06        50\n",
            "        real       0.44      0.74      0.55        50\n",
            "\n",
            "    accuracy                           0.39       100\n",
            "   macro avg       0.28      0.39      0.30       100\n",
            "weighted avg       0.28      0.39      0.30       100\n",
            "\n"
          ]
        }
      ],
      "source": [
        "kaggle_test_accuracy = evaluate_data(kaggle_test)"
      ]
    },
    {
      "cell_type": "code",
      "execution_count": 22,
      "metadata": {
        "colab": {
          "base_uri": "https://localhost:8080/"
        },
        "id": "dNNr-ta3gO-c",
        "outputId": "601a9bc4-c50a-4f90-a21f-2340510310a6"
      },
      "outputs": [
        {
          "name": "stderr",
          "output_type": "stream",
          "text": [
            "/usr/local/lib/python3.10/dist-packages/transformers/generation/utils.py:1260: UserWarning: Using the model-agnostic default `max_length` (=20) to control the generation length. We recommend setting `max_new_tokens` to control the maximum length of the generation.\n",
            "  warnings.warn(\n"
          ]
        },
        {
          "name": "stdout",
          "output_type": "stream",
          "text": [
            "Classification Report:\n",
            "              precision    recall  f1-score   support\n",
            "\n",
            "        fake       0.56      0.80      0.66        50\n",
            "   fake fake       0.00      0.00      0.00         0\n",
            "        real       0.65      0.35      0.46        48\n",
            "\n",
            "    accuracy                           0.58        98\n",
            "   macro avg       0.41      0.38      0.37        98\n",
            "weighted avg       0.61      0.58      0.56        98\n",
            "\n"
          ]
        },
        {
          "name": "stderr",
          "output_type": "stream",
          "text": [
            "/usr/local/lib/python3.10/dist-packages/sklearn/metrics/_classification.py:1344: UndefinedMetricWarning: Recall and F-score are ill-defined and being set to 0.0 in labels with no true samples. Use `zero_division` parameter to control this behavior.\n",
            "  _warn_prf(average, modifier, msg_start, len(result))\n",
            "/usr/local/lib/python3.10/dist-packages/sklearn/metrics/_classification.py:1344: UndefinedMetricWarning: Recall and F-score are ill-defined and being set to 0.0 in labels with no true samples. Use `zero_division` parameter to control this behavior.\n",
            "  _warn_prf(average, modifier, msg_start, len(result))\n",
            "/usr/local/lib/python3.10/dist-packages/sklearn/metrics/_classification.py:1344: UndefinedMetricWarning: Recall and F-score are ill-defined and being set to 0.0 in labels with no true samples. Use `zero_division` parameter to control this behavior.\n",
            "  _warn_prf(average, modifier, msg_start, len(result))\n"
          ]
        }
      ],
      "source": [
        "news_articles_accuracy = evaluate_data(news_articles)"
      ]
    },
    {
      "cell_type": "code",
      "execution_count": 23,
      "metadata": {
        "colab": {
          "base_uri": "https://localhost:8080/"
        },
        "id": "ENH1ZQYSgO-c",
        "outputId": "438061fa-c8e1-4ad8-cafb-89b6f910d8a9"
      },
      "outputs": [
        {
          "name": "stderr",
          "output_type": "stream",
          "text": [
            "/usr/local/lib/python3.10/dist-packages/transformers/generation/utils.py:1260: UserWarning: Using the model-agnostic default `max_length` (=20) to control the generation length. We recommend setting `max_new_tokens` to control the maximum length of the generation.\n",
            "  warnings.warn(\n"
          ]
        },
        {
          "name": "stdout",
          "output_type": "stream",
          "text": [
            "Classification Report:\n",
            "              precision    recall  f1-score   support\n",
            "\n",
            "        fake       1.00      1.00      1.00        50\n",
            "        real       1.00      1.00      1.00        50\n",
            "\n",
            "    accuracy                           1.00       100\n",
            "   macro avg       1.00      1.00      1.00       100\n",
            "weighted avg       1.00      1.00      1.00       100\n",
            "\n"
          ]
        }
      ],
      "source": [
        "mrm8488_fake_news_accuracy = evaluate_data(mrm8488_fake_news)"
      ]
    },
    {
      "cell_type": "code",
      "execution_count": 24,
      "metadata": {
        "colab": {
          "base_uri": "https://localhost:8080/"
        },
        "id": "eDHLxNQUgO-c",
        "outputId": "8a918236-36a2-4090-a320-84b2651da7f7"
      },
      "outputs": [
        {
          "name": "stderr",
          "output_type": "stream",
          "text": [
            "/usr/local/lib/python3.10/dist-packages/transformers/generation/utils.py:1260: UserWarning: Using the model-agnostic default `max_length` (=20) to control the generation length. We recommend setting `max_new_tokens` to control the maximum length of the generation.\n",
            "  warnings.warn(\n"
          ]
        },
        {
          "name": "stdout",
          "output_type": "stream",
          "text": [
            "Classification Report:\n",
            "              precision    recall  f1-score   support\n",
            "\n",
            "        fake       1.00      1.00      1.00        50\n",
            "        real       1.00      1.00      1.00        50\n",
            "\n",
            "    accuracy                           1.00       100\n",
            "   macro avg       1.00      1.00      1.00       100\n",
            "weighted avg       1.00      1.00      1.00       100\n",
            "\n"
          ]
        }
      ],
      "source": [
        "erfan_test_accuracy = evaluate_data(Erfan_test)"
      ]
    },
    {
      "cell_type": "markdown",
      "metadata": {
        "id": "az6RXwYXgO-c"
      },
      "source": [
        "### Bar Chart"
      ]
    },
    {
      "cell_type": "code",
      "execution_count": 25,
      "metadata": {
        "colab": {
          "base_uri": "https://localhost:8080/",
          "height": 607
        },
        "id": "88Url6pcgO-d",
        "outputId": "4bf4f0cc-0ab5-4faf-b674-4499ce799260"
      },
      "outputs": [
        {
          "data": {
            "image/png": "[encoded data removed]",
            "text/plain": [
              "<Figure size 1000x600 with 1 Axes>"
            ]
          },
          "metadata": {},
          "output_type": "display_data"
        }
      ],
      "source": [
        "import matplotlib.pyplot as plt\n",
        "\n",
        "# Model labels\n",
        "models = [\n",
        "    \"GonzaloA_train\",\n",
        "    \"GonzaloA_test\",\n",
        "    \"pushpdeepfake_train\",\n",
        "    \"pushpdeepfake_test\",\n",
        "    \"kaggle_train\",\n",
        "    \"kaggle_test\",\n",
        "    \"news_articles\",\n",
        "    \"mrm8488_fake_news\",\n",
        "    \"Erfan_test\",\n",
        "]\n",
        "\n",
        "# Accuracy values\n",
        "accuracies = [\n",
        "    gonzaloa_train_accuracy,\n",
        "    gonzaloa_test_accuracy,\n",
        "    pushpdeepfake_train_accuracy,\n",
        "    pushpdeepfake_test_accuracy,\n",
        "    kaggle_train_accuracy,\n",
        "    kaggle_train_accuracy,\n",
        "    news_articles_accuracy,\n",
        "    mrm8488_fake_news_accuracy,\n",
        "    erfan_test_accuracy,\n",
        "]\n",
        "\n",
        "# Create a color list to distinguish between 'summ' and non-summ models\n",
        "colors = [\n",
        "    \"skyblue\",\n",
        "    \"royalblue\",\n",
        "    \"mediumseagreen\",\n",
        "    \"lightcoral\",\n",
        "    \"plum\",\n",
        "    \"gold\",\n",
        "    \"lightpink\",\n",
        "    \"lightgrey\",\n",
        "    \"lightgreen\",\n",
        "]\n",
        "\n",
        "# Create the bar plot\n",
        "plt.figure(figsize=(10, 6))\n",
        "bars = plt.bar(models, accuracies, color=colors, edgecolor=\"black\")\n",
        "\n",
        "# Adding value labels on top of each bar\n",
        "for bar in bars:\n",
        "    yval = bar.get_height()\n",
        "    plt.text(\n",
        "        bar.get_x() + bar.get_width() / 2,\n",
        "        yval,\n",
        "        round(yval, 2),\n",
        "        va=\"bottom\",\n",
        "        ha=\"center\",\n",
        "    )\n",
        "\n",
        "plt.title(\"Accuracy on different datasets using fine-tuned T5-small\", fontsize=16)\n",
        "plt.ylabel(\"Accuracy\", fontsize=12)\n",
        "plt.xlabel(\"Model\", fontsize=12)\n",
        "plt.xticks(rotation=45, fontsize=10)\n",
        "\n",
        "# Adding a grid\n",
        "plt.grid(axis=\"y\", linestyle=\"--\", alpha=0.7)\n",
        "\n",
        "plt.tight_layout()\n",
        "plt.show()"
      ]
    },
    {
      "cell_type": "markdown",
      "metadata": {
        "id": "0iCtT_WqzHwA"
      },
      "source": [
        "# Second Trial"
      ]
    },
    {
      "cell_type": "markdown",
      "metadata": {
        "id": "OnC3LWiL1ZoM"
      },
      "source": [
        "### Data Importing"
      ]
    },
    {
      "cell_type": "markdown",
      "metadata": {
        "id": "gI4HW6CM1Zob"
      },
      "source": [
        "### Clean Data"
      ]
    },
    {
      "cell_type": "code",
      "execution_count": 75,
      "metadata": {
        "id": "4ZB5b5wG1Zob"
      },
      "outputs": [],
      "source": [
        "# GonzaloA data\n",
        "gonzaloa_train = pd.read_csv(\n",
        "    \"https://github.com/AnasElbattra/Hugging-face/raw/main/FAKE-REAL/DATA/GonzaloA_fake_news/train%20Data.csv\"\n",
        ")  # 24352 row\n",
        "gonzaloa_train = gonzaloa_train[[\"text\", \"label\"]]\n",
        "# gonzaloa_train['label'].replace({0: 'fake', 1: 'real'}, inplace=True)\n",
        "\n",
        "\n",
        "gonzaloa_test = pd.read_csv(\n",
        "    \"https://github.com/AnasElbattra/Hugging-face/raw/main/FAKE-REAL/DATA/GonzaloA_fake_news/test%20Data.csv\"\n",
        ")  # 16240 row\n",
        "gonzaloa_test = gonzaloa_test[[\"text\", \"label\"]]\n",
        "# gonzaloa_test['label'].replace({0: 'fake', 1: 'real'}, inplace=True)\n",
        "\n",
        "\n",
        "# pushpdeepfake_news_combined\n",
        "pushpdeepfake_train = pd.read_csv(\n",
        "    \"https://github.com/AnasElbattra/Hugging-face/raw/main/FAKE-REAL/DATA/pushpdeepfake_news_combined/train.csv\"\n",
        ")  # 34916 row\n",
        "pushpdeepfake_train = pushpdeepfake_train[[\"text\", \"label\"]]\n",
        "# clean_2_train['label'].replace({0: 'fake', 1: 'real'}, inplace=True)\n",
        "\n",
        "\n",
        "pushpdeepfake_test = pd.read_csv(\n",
        "    \"https://github.com/AnasElbattra/Hugging-face/raw/main/FAKE-REAL/DATA/pushpdeepfake_news_combined/test.csv\"\n",
        ")  # 10003 row\n",
        "pushpdeepfake_test = pushpdeepfake_test[[\"text\", \"label\"]]\n",
        "# pushpdeepfake_test['label'].replace({0: 'fake', 1: 'real'}, inplace=True)"
      ]
    },
    {
      "cell_type": "markdown",
      "metadata": {
        "id": "-EtE7BzH1Zob"
      },
      "source": [
        "### Trash Data"
      ]
    },
    {
      "cell_type": "code",
      "execution_count": 76,
      "metadata": {
        "id": "4CzAp2hv1Zoc"
      },
      "outputs": [],
      "source": [
        "# kaggle_datafake\n",
        "kaggle_train = pd.read_csv(\n",
        "    \"https://github.com/AnasElbattra/News-Understanding-NLP/raw/main/FAKE-REAL/DATA/kaggle_datafake/kaggle_datafake_train.csv\"\n",
        ")  # 24000 row\n",
        "kaggle_train = kaggle_train[[\"text\", \"label\"]]\n",
        "\n",
        "kaggle_test = pd.read_csv(\n",
        "    \"https://github.com/AnasElbattra/News-Understanding-NLP/raw/main/FAKE-REAL/DATA/kaggle_datafake/kaggle_datafake_test.csv\"\n",
        ")  # 208003 row\n",
        "kaggle_test = kaggle_test[[\"text\", \"label\"]]\n",
        "\n",
        "# news_articles\n",
        "news_articles = pd.read_csv(\n",
        "    \"https://github.com/AnasElbattra/News-Understanding-NLP/raw/main/FAKE-REAL/DATA/news_articles.csv\"\n",
        ")  # 2100 row\n",
        "news_articles = news_articles[[\"text\", \"label\"]]\n",
        "news_articles[\"label\"] = news_articles[\"label\"].str.lower()"
      ]
    },
    {
      "cell_type": "markdown",
      "metadata": {
        "id": "UgEQ1jK-1Zoc"
      },
      "source": [
        "### New Data"
      ]
    },
    {
      "cell_type": "code",
      "execution_count": 77,
      "metadata": {
        "id": "2epEvqCw1Zoc"
      },
      "outputs": [],
      "source": [
        "# mrm8488-fake-news\n",
        "mrm8488_fake_news = pd.read_csv(\n",
        "    \"https://github.com/AnasElbattra/News-Understanding-NLP/raw/main/FAKE-REAL/DATA/mrm8488-fake-news/fake_news.csv\"\n",
        ")  # 44919 row\n",
        "\n",
        "\n",
        "# ErfanMoosaviMonzzah\n",
        "Erfan_train = pd.read_csv(\n",
        "    \"https://github.com/AnasElbattra/News-Understanding-NLP/raw/main/FAKE-REAL/DATA/ErfanMoosaviMonazzah/train.csv\"\n",
        ")  # 20011 row\n",
        "Erfan_train = Erfan_train[[\"text\", \"label\"]]\n",
        "\n",
        "Erfan_test = pd.read_csv(\n",
        "    \"https://github.com/AnasElbattra/News-Understanding-NLP/raw/main/FAKE-REAL/DATA/ErfanMoosaviMonazzah/test.csv\"\n",
        ")  # 24277 row\n",
        "Erfan_test = Erfan_test[[\"text\", \"label\"]]"
      ]
    },
    {
      "cell_type": "markdown",
      "metadata": {
        "id": "wmg2uLgszLwX"
      },
      "source": [
        "### Data Combination"
      ]
    },
    {
      "cell_type": "code",
      "execution_count": 78,
      "metadata": {
        "id": "n97KlNSazLwX"
      },
      "outputs": [],
      "source": [
        "from sklearn.model_selection import train_test_split\n",
        "\n",
        "news_articles.dropna(subset=[\"text\"], inplace=True)\n",
        "news_articles[\"label\"].replace({\"fake\": 0, \"real\": 1}, inplace=True)\n",
        "kaggle_train[\"label\"].replace({\"fake\": 0, \"real\": 1}, inplace=True)\n",
        "\n",
        "\n",
        "news_articles_train, news_articles_test = train_test_split(\n",
        "    news_articles, train_size=1000, random_state=42, stratify=news_articles[\"label\"]\n",
        ")\n",
        "training_data = pd.concat(\n",
        "    [news_articles_train, kaggle_train, Erfan_train], ignore_index=True\n",
        ")\n",
        "\n",
        "\n",
        "dataset = Dataset.from_pandas(training_data)\n",
        "dataset = dataset.train_test_split(test_size=0.2)\n",
        "# dataset[\"train\"][\"label\"]"
      ]
    },
    {
      "cell_type": "markdown",
      "metadata": {
        "id": "CjRCctTTzLwX"
      },
      "source": [
        "## Fine Tuning\n"
      ]
    },
    {
      "cell_type": "code",
      "execution_count": 79,
      "metadata": {
        "id": "VyRbwW91zLwY"
      },
      "outputs": [],
      "source": [
        "def to_tokens(tokenizer, label_map):\n",
        "    def apply(x):\n",
        "        target_labels = [label_map[y] for y in x[\"label\"]]\n",
        "        token_res = tokenizer(\n",
        "            x[\"text\"],\n",
        "            text_target=target_labels,\n",
        "            return_tensors=\"pt\",\n",
        "            truncation=True,\n",
        "            padding=True,\n",
        "        )\n",
        "        return token_res\n",
        "\n",
        "    return apply"
      ]
    },
    {
      "cell_type": "code",
      "execution_count": 80,
      "metadata": {
        "id": "ZoETUXSazLwY"
      },
      "outputs": [],
      "source": [
        "tokenizer = tr.AutoTokenizer.from_pretrained(\"t5-small\")"
      ]
    },
    {
      "cell_type": "code",
      "execution_count": 81,
      "metadata": {
        "colab": {
          "base_uri": "https://localhost:8080/",
          "height": 81,
          "referenced_widgets": [
            "5b702f85d5194cc88826fcb137eb6f15",
            "db69e6e146084a56afb80f637ab53a97",
            "d9c3976f04564b788e96ec1bc53e967b",
            "26fd457ac7094bef987de1c085b9abe9",
            "ca06510d140a40dea3fddb8e89f6e219",
            "d1f1d5bcbbe040af98fcac65f97b84ab",
            "7d7df167d0d44be8977f13e0c413763e",
            "1ddac7da433d4470b99afa0ebbf15c1e",
            "a1505cd97af9452d96388023ac4ac197",
            "e52dbe9d8b9d42178fa6f21f0fefbe77",
            "1a2ce73927714b239260a555cf13a95f",
            "816e5dd7e8874584b1251f43e28b4760",
            "9996b107ee5a46a79dc7abf508c5c3b4",
            "3829792dec5242bf8b584d5f9ddab7d0",
            "9d47167014f04d689059546e408b8c77",
            "e0687c0e529043b79a28171dd80de6d9",
            "4af405a623394a57a36c6f968519c73b",
            "0317799c4d484c168e485b35466e43af",
            "286a0de59b454df7a6a91374be02f522",
            "ef9f028409f4478e855204f52e5fbd99",
            "ddf2199b8a7140439f05e4b94ec71844",
            "f3474d7d2534407893b97ee7d1fcd039"
          ]
        },
        "id": "X14kGPQqzLwY",
        "outputId": "5bfa3a4c-6b69-4a07-a242-e70988ef068b"
      },
      "outputs": [
        {
          "data": {
            "application/vnd.jupyter.widget-view+json": {
              "model_id": "5b702f85d5194cc88826fcb137eb6f15",
              "version_major": 2,
              "version_minor": 0
            },
            "text/plain": [
              "Map:   0%|          | 0/36000 [00:00<?, ? examples/s]"
            ]
          },
          "metadata": {},
          "output_type": "display_data"
        },
        {
          "data": {
            "application/vnd.jupyter.widget-view+json": {
              "model_id": "816e5dd7e8874584b1251f43e28b4760",
              "version_major": 2,
              "version_minor": 0
            },
            "text/plain": [
              "Map:   0%|          | 0/9000 [00:00<?, ? examples/s]"
            ]
          },
          "metadata": {},
          "output_type": "display_data"
        }
      ],
      "source": [
        "label_lookup = {0: \"fake\", 1: \"real\"}\n",
        "to_tokens = to_tokens(tokenizer, label_lookup)\n",
        "tokenized_dataset = dataset.map(\n",
        "    to_tokens, batched=True, remove_columns=[\"text\", \"label\"]\n",
        ")"
      ]
    },
    {
      "cell_type": "code",
      "execution_count": 82,
      "metadata": {
        "id": "1EHgg6qGzLwY"
      },
      "outputs": [],
      "source": [
        "local_training_root = \"./\"\n",
        "checkpoint_name = \"test-trainer\"\n",
        "local_checkpoint_path = os.path.join(local_training_root, checkpoint_name)\n",
        "training_args = tr.TrainingArguments(\n",
        "    local_checkpoint_path,\n",
        "    num_train_epochs=1,  # default number of epochs to train is 3\n",
        "    per_device_train_batch_size=16,\n",
        "    optim=\"adamw_torch\",\n",
        "    report_to=[\"tensorboard\"],\n",
        ")"
      ]
    },
    {
      "cell_type": "code",
      "execution_count": 83,
      "metadata": {
        "id": "Wa60gw4pzLwY"
      },
      "outputs": [],
      "source": [
        "t5_model = tr.AutoModelForSeq2SeqLM.from_pretrained(\"t5-small\")"
      ]
    },
    {
      "cell_type": "code",
      "execution_count": 84,
      "metadata": {
        "id": "HJCy5ASjzLwZ"
      },
      "outputs": [],
      "source": [
        "metric = load_metric(\"accuracy\")\n",
        "\n",
        "\n",
        "def compute_metrics(eval_pred):\n",
        "    predictions, labels = eval_pred\n",
        "    predictions = [\n",
        "        tokenizer.decode(p, skip_special_tokens=True)\n",
        "        for p in predictions.argmax(dim=-1)\n",
        "    ]\n",
        "    labels = [label_lookup[l] for l in labels]\n",
        "\n",
        "    return metric.compute(predictions=predictions, references=labels)"
      ]
    },
    {
      "cell_type": "code",
      "execution_count": 85,
      "metadata": {
        "colab": {
          "base_uri": "https://localhost:8080/",
          "height": 236
        },
        "id": "2k21UMttzLwZ",
        "outputId": "f35cdbb3-fb88-4c34-c3fb-d261d79d598b"
      },
      "outputs": [
        {
          "data": {
            "text/html": [
              "\n",
              "    <div>\n",
              "      \n",
              "      <progress value='2250' max='2250' style='width:300px; height:20px; vertical-align: middle;'></progress>\n",
              "      [2250/2250 18:13, Epoch 1/1]\n",
              "    </div>\n",
              "    <table border=\"1\" class=\"dataframe\">\n",
              "  <thead>\n",
              " <tr style=\"text-align: left;\">\n",
              "      <th>Step</th>\n",
              "      <th>Training Loss</th>\n",
              "    </tr>\n",
              "  </thead>\n",
              "  <tbody>\n",
              "    <tr>\n",
              "      <td>500</td>\n",
              "      <td>0.809400</td>\n",
              "    </tr>\n",
              "    <tr>\n",
              "      <td>1000</td>\n",
              "      <td>0.103800</td>\n",
              "    </tr>\n",
              "    <tr>\n",
              "      <td>1500</td>\n",
              "      <td>0.075300</td>\n",
              "    </tr>\n",
              "    <tr>\n",
              "      <td>2000</td>\n",
              "      <td>0.068300</td>\n",
              "    </tr>\n",
              "  </tbody>\n",
              "</table><p>"
            ],
            "text/plain": [
              "<IPython.core.display.HTML object>"
            ]
          },
          "metadata": {},
          "output_type": "display_data"
        },
        {
          "data": {
            "text/plain": [
              "TrainOutput(global_step=2250, training_loss=0.24157502534654404, metrics={'train_runtime': 1093.5993, 'train_samples_per_second': 32.919, 'train_steps_per_second': 2.057, 'total_flos': 4872304852992000.0, 'train_loss': 0.24157502534654404, 'epoch': 1.0})"
            ]
          },
          "execution_count": 85,
          "metadata": {},
          "output_type": "execute_result"
        }
      ],
      "source": [
        "trainer = Trainer(\n",
        "    model=t5_model,\n",
        "    args=training_args,\n",
        "    train_dataset=tokenized_dataset[\"train\"],\n",
        "    eval_dataset=tokenized_dataset[\"test\"],\n",
        "    compute_metrics=compute_metrics,\n",
        ")\n",
        "trainer.train()"
      ]
    },
    {
      "cell_type": "code",
      "execution_count": 86,
      "metadata": {
        "id": "nkQ1hUcCzLwZ"
      },
      "outputs": [],
      "source": [
        "# trainer.evaluate()\n",
        "trainer.save_model()\n",
        "trainer.save_state()\n",
        "checkpoint_name = \"test-trainer-deepspeed\"\n",
        "final_model_path = f\"./llm04_fine_tuning/{checkpoint_name}\"\n",
        "\n",
        "trainer.save_model(output_dir=final_model_path)\n",
        "\n",
        "fine_tuned_model = tr.AutoModelForSeq2SeqLM.from_pretrained(final_model_path)"
      ]
    },
    {
      "cell_type": "markdown",
      "metadata": {
        "id": "nmEZuFgIzLwZ"
      },
      "source": [
        "## Evaluation"
      ]
    },
    {
      "cell_type": "markdown",
      "metadata": {
        "id": "gWJGo-JVzLwZ"
      },
      "source": [
        "### Data Cleaning and sampling"
      ]
    },
    {
      "cell_type": "code",
      "execution_count": 87,
      "metadata": {
        "id": "iTRlEQtozLwZ"
      },
      "outputs": [],
      "source": [
        "# Take 100 samples from each dataset\n",
        "# gonzaloa_train\n",
        "gonzaloa_train = gonzaloa_train.groupby(\"label\", group_keys=False).apply(\n",
        "    lambda x: x.sample(min(len(x), 50))\n",
        ")\n",
        "gonzaloa_train = gonzaloa_train.sample(frac=1, random_state=42)\n",
        "gonzaloa_train.dropna(subset=[\"text\"], inplace=True)\n",
        "gonzaloa_train[\"label\"].replace({0: \"fake\", 1: \"real\"}, inplace=True)\n",
        "\n",
        "# gonzaloa_test\n",
        "gonzaloa_test = gonzaloa_test.groupby(\"label\", group_keys=False).apply(\n",
        "    lambda x: x.sample(min(len(x), 50))\n",
        ")\n",
        "gonzaloa_test = gonzaloa_test.sample(frac=1, random_state=42)\n",
        "gonzaloa_test.dropna(subset=[\"text\"], inplace=True)\n",
        "gonzaloa_test[\"label\"].replace({0: \"fake\", 1: \"real\"}, inplace=True)\n",
        "\n",
        "# pushpdeepfake_train\n",
        "pushpdeepfake_train = pushpdeepfake_train.groupby(\"label\", group_keys=False).apply(\n",
        "    lambda x: x.sample(min(len(x), 50))\n",
        ")\n",
        "pushpdeepfake_train = pushpdeepfake_train.sample(frac=1, random_state=42)\n",
        "pushpdeepfake_train.dropna(subset=[\"text\"], inplace=True)\n",
        "pushpdeepfake_train[\"label\"].replace({0: \"fake\", 1: \"real\"}, inplace=True)\n",
        "\n",
        "# pushpdeepfake_test\n",
        "pushpdeepfake_test = pushpdeepfake_test.groupby(\"label\", group_keys=False).apply(\n",
        "    lambda x: x.sample(min(len(x), 50))\n",
        ")\n",
        "pushpdeepfake_test = pushpdeepfake_test.sample(frac=1, random_state=42)\n",
        "pushpdeepfake_test.dropna(subset=[\"text\"], inplace=True)\n",
        "pushpdeepfake_test[\"label\"].replace({0: \"fake\", 1: \"real\"}, inplace=True)\n",
        "\n",
        "\n",
        "# kaggle_test\n",
        "kaggle_test = kaggle_test.groupby(\"label\", group_keys=False).apply(\n",
        "    lambda x: x.sample(min(len(x), 50))\n",
        ")\n",
        "kaggle_test = kaggle_test.sample(frac=1, random_state=42)\n",
        "kaggle_test.dropna(subset=[\"text\"], inplace=True)\n",
        "kaggle_test[\"label\"].replace({0: \"fake\", 1: \"real\"}, inplace=True)\n",
        "\n",
        "# news_articles\n",
        "news_articles_test = news_articles_test.groupby(\"label\", group_keys=False).apply(\n",
        "    lambda x: x.sample(min(len(x), 50))\n",
        ")\n",
        "news_articles_test = news_articles_test.sample(frac=1, random_state=42)\n",
        "news_articles_test.dropna(subset=[\"text\"], inplace=True)\n",
        "news_articles_test[\"label\"].replace({0: \"fake\", 1: \"real\"}, inplace=True)\n",
        "\n",
        "# mrm8488_fake_news\n",
        "mrm8488_fake_news = mrm8488_fake_news.groupby(\"label\", group_keys=False).apply(\n",
        "    lambda x: x.sample(min(len(x), 50))\n",
        ")\n",
        "mrm8488_fake_news = mrm8488_fake_news.sample(frac=1, random_state=42)\n",
        "mrm8488_fake_news.dropna(subset=[\"text\"], inplace=True)\n",
        "mrm8488_fake_news[\"label\"].replace({0: \"fake\", 1: \"real\"}, inplace=True)\n",
        "\n",
        "# Erfan_test\n",
        "Erfan_test = Erfan_test.groupby(\"label\", group_keys=False).apply(\n",
        "    lambda x: x.sample(min(len(x), 50))\n",
        ")\n",
        "Erfan_test = Erfan_test.sample(frac=1, random_state=42)\n",
        "Erfan_test.dropna(subset=[\"text\"], inplace=True)\n",
        "Erfan_test[\"label\"].replace({0: \"fake\", 1: \"real\"}, inplace=True)"
      ]
    },
    {
      "cell_type": "code",
      "execution_count": 88,
      "metadata": {
        "id": "NfGzOXUhzLwa"
      },
      "outputs": [],
      "source": [
        "def evaluate_data(df):\n",
        "    # Initialize an empty list to store the predictions\n",
        "    predictions = []\n",
        "\n",
        "    # Iterate through each row in the DataFrame\n",
        "    for index, row in df.iterrows():\n",
        "        text = row[\"text\"]\n",
        "        news_report = [text]  # Create a list with the text from the DataFrame\n",
        "\n",
        "        # Tokenize and generate predictions\n",
        "        inputs = tokenizer(\n",
        "            news_report, return_tensors=\"pt\", truncation=True, padding=True\n",
        "        )\n",
        "        pred = fine_tuned_model.generate(\n",
        "            input_ids=inputs[\"input_ids\"], attention_mask=inputs[\"attention_mask\"]\n",
        "        )\n",
        "\n",
        "        # Decode the predictions and store them in the predictions list\n",
        "        classification = tokenizer.batch_decode(pred, skip_special_tokens=True)[0]\n",
        "        predictions.append(classification)\n",
        "\n",
        "    # Add the predictions to the DataFrame as a new column\n",
        "    df[\"predictions\"] = predictions\n",
        "\n",
        "    classification_rep = classification_report(df[\"label\"], df[\"predictions\"])\n",
        "    print(\"Classification Report:\")\n",
        "    print(classification_rep)\n",
        "\n",
        "    accuracy = accuracy_score(df[\"label\"], df[\"predictions\"])\n",
        "\n",
        "    return accuracy"
      ]
    },
    {
      "cell_type": "markdown",
      "metadata": {
        "id": "4rtSTdnwzLwa"
      },
      "source": [
        "### Evaluation on the samples"
      ]
    },
    {
      "cell_type": "code",
      "execution_count": 89,
      "metadata": {
        "colab": {
          "base_uri": "https://localhost:8080/"
        },
        "id": "gOCybTJ_zLwa",
        "outputId": "be9524b1-1e17-4c12-e3bd-03fbfcfeef67"
      },
      "outputs": [
        {
          "name": "stderr",
          "output_type": "stream",
          "text": [
            "/usr/local/lib/python3.10/dist-packages/transformers/generation/utils.py:1260: UserWarning: Using the model-agnostic default `max_length` (=20) to control the generation length. We recommend setting `max_new_tokens` to control the maximum length of the generation.\n",
            "  warnings.warn(\n"
          ]
        },
        {
          "name": "stdout",
          "output_type": "stream",
          "text": [
            "Classification Report:\n",
            "              precision    recall  f1-score   support\n",
            "\n",
            "        fake       0.96      0.98      0.97        50\n",
            "        real       0.98      0.96      0.97        50\n",
            "\n",
            "    accuracy                           0.97       100\n",
            "   macro avg       0.97      0.97      0.97       100\n",
            "weighted avg       0.97      0.97      0.97       100\n",
            "\n"
          ]
        }
      ],
      "source": [
        "gonzaloa_train_accuracy = evaluate_data(gonzaloa_train)"
      ]
    },
    {
      "cell_type": "code",
      "execution_count": 90,
      "metadata": {
        "colab": {
          "base_uri": "https://localhost:8080/"
        },
        "id": "T4ZIkjHTzLwa",
        "outputId": "d309de51-3fc9-4a5f-e345-f9d40818cd23"
      },
      "outputs": [
        {
          "name": "stderr",
          "output_type": "stream",
          "text": [
            "/usr/local/lib/python3.10/dist-packages/transformers/generation/utils.py:1260: UserWarning: Using the model-agnostic default `max_length` (=20) to control the generation length. We recommend setting `max_new_tokens` to control the maximum length of the generation.\n",
            "  warnings.warn(\n"
          ]
        },
        {
          "name": "stdout",
          "output_type": "stream",
          "text": [
            "Classification Report:\n",
            "              precision    recall  f1-score   support\n",
            "\n",
            "        fake       0.98      0.90      0.94        50\n",
            "        real       0.91      0.98      0.94        50\n",
            "\n",
            "    accuracy                           0.94       100\n",
            "   macro avg       0.94      0.94      0.94       100\n",
            "weighted avg       0.94      0.94      0.94       100\n",
            "\n"
          ]
        }
      ],
      "source": [
        "gonzaloa_test_accuracy = evaluate_data(gonzaloa_test)"
      ]
    },
    {
      "cell_type": "code",
      "execution_count": 91,
      "metadata": {
        "colab": {
          "base_uri": "https://localhost:8080/"
        },
        "id": "CpQhyjlrzLwa",
        "outputId": "e2802a2f-ca17-4f82-b5d9-98eb20a14f3b"
      },
      "outputs": [
        {
          "name": "stderr",
          "output_type": "stream",
          "text": [
            "/usr/local/lib/python3.10/dist-packages/transformers/generation/utils.py:1260: UserWarning: Using the model-agnostic default `max_length` (=20) to control the generation length. We recommend setting `max_new_tokens` to control the maximum length of the generation.\n",
            "  warnings.warn(\n"
          ]
        },
        {
          "name": "stdout",
          "output_type": "stream",
          "text": [
            "Classification Report:\n",
            "              precision    recall  f1-score   support\n",
            "\n",
            "        fake       0.84      0.98      0.91        50\n",
            "        real       0.98      0.82      0.89        50\n",
            "\n",
            "    accuracy                           0.90       100\n",
            "   macro avg       0.91      0.90      0.90       100\n",
            "weighted avg       0.91      0.90      0.90       100\n",
            "\n"
          ]
        }
      ],
      "source": [
        "pushpdeepfake_train_accuracy = evaluate_data(pushpdeepfake_train)"
      ]
    },
    {
      "cell_type": "code",
      "execution_count": 92,
      "metadata": {
        "colab": {
          "base_uri": "https://localhost:8080/"
        },
        "id": "9Pz8E3yWzLwa",
        "outputId": "f984d806-4121-4ff6-dcca-73ed68b02ae0"
      },
      "outputs": [
        {
          "name": "stderr",
          "output_type": "stream",
          "text": [
            "/usr/local/lib/python3.10/dist-packages/transformers/generation/utils.py:1260: UserWarning: Using the model-agnostic default `max_length` (=20) to control the generation length. We recommend setting `max_new_tokens` to control the maximum length of the generation.\n",
            "  warnings.warn(\n"
          ]
        },
        {
          "name": "stdout",
          "output_type": "stream",
          "text": [
            "Classification Report:\n",
            "              precision    recall  f1-score   support\n",
            "\n",
            "        fake       0.89      0.94      0.91        50\n",
            "        real       0.94      0.88      0.91        50\n",
            "\n",
            "    accuracy                           0.91       100\n",
            "   macro avg       0.91      0.91      0.91       100\n",
            "weighted avg       0.91      0.91      0.91       100\n",
            "\n"
          ]
        }
      ],
      "source": [
        "pushpdeepfake_test_accuracy = evaluate_data(pushpdeepfake_test)"
      ]
    },
    {
      "cell_type": "code",
      "execution_count": 93,
      "metadata": {
        "colab": {
          "base_uri": "https://localhost:8080/"
        },
        "id": "obg45t4RzLwb",
        "outputId": "371416b9-85e2-4843-9835-cbc6d9e3506c"
      },
      "outputs": [
        {
          "name": "stderr",
          "output_type": "stream",
          "text": [
            "/usr/local/lib/python3.10/dist-packages/transformers/generation/utils.py:1260: UserWarning: Using the model-agnostic default `max_length` (=20) to control the generation length. We recommend setting `max_new_tokens` to control the maximum length of the generation.\n",
            "  warnings.warn(\n"
          ]
        },
        {
          "name": "stdout",
          "output_type": "stream",
          "text": [
            "Classification Report:\n",
            "              precision    recall  f1-score   support\n",
            "\n",
            "        fake       0.94      0.94      0.94        50\n",
            "        real       0.94      0.94      0.94        50\n",
            "\n",
            "    accuracy                           0.94       100\n",
            "   macro avg       0.94      0.94      0.94       100\n",
            "weighted avg       0.94      0.94      0.94       100\n",
            "\n"
          ]
        }
      ],
      "source": [
        "kaggle_test_accuracy = evaluate_data(kaggle_test)"
      ]
    },
    {
      "cell_type": "code",
      "execution_count": 94,
      "metadata": {
        "colab": {
          "base_uri": "https://localhost:8080/"
        },
        "id": "yJ5Dv7w1zLwb",
        "outputId": "085857f0-deea-4fdf-ac19-0494afcca5a5"
      },
      "outputs": [
        {
          "name": "stderr",
          "output_type": "stream",
          "text": [
            "/usr/local/lib/python3.10/dist-packages/transformers/generation/utils.py:1260: UserWarning: Using the model-agnostic default `max_length` (=20) to control the generation length. We recommend setting `max_new_tokens` to control the maximum length of the generation.\n",
            "  warnings.warn(\n"
          ]
        },
        {
          "name": "stdout",
          "output_type": "stream",
          "text": [
            "Classification Report:\n",
            "              precision    recall  f1-score   support\n",
            "\n",
            "        fake       0.59      0.68      0.63        50\n",
            "        real       0.62      0.52      0.57        50\n",
            "\n",
            "    accuracy                           0.60       100\n",
            "   macro avg       0.60      0.60      0.60       100\n",
            "weighted avg       0.60      0.60      0.60       100\n",
            "\n"
          ]
        }
      ],
      "source": [
        "news_articles_accuracy = evaluate_data(news_articles_test)"
      ]
    },
    {
      "cell_type": "code",
      "execution_count": 95,
      "metadata": {
        "colab": {
          "base_uri": "https://localhost:8080/"
        },
        "id": "kd06uI5VzLwb",
        "outputId": "f3353930-92f1-4e6c-9edc-826906dafb18"
      },
      "outputs": [
        {
          "name": "stderr",
          "output_type": "stream",
          "text": [
            "/usr/local/lib/python3.10/dist-packages/transformers/generation/utils.py:1260: UserWarning: Using the model-agnostic default `max_length` (=20) to control the generation length. We recommend setting `max_new_tokens` to control the maximum length of the generation.\n",
            "  warnings.warn(\n"
          ]
        },
        {
          "name": "stdout",
          "output_type": "stream",
          "text": [
            "Classification Report:\n",
            "              precision    recall  f1-score   support\n",
            "\n",
            "                   0.00      0.00      0.00         0\n",
            "        fake       0.98      0.96      0.97        50\n",
            "        real       0.98      0.98      0.98        50\n",
            "\n",
            "    accuracy                           0.97       100\n",
            "   macro avg       0.65      0.65      0.65       100\n",
            "weighted avg       0.98      0.97      0.97       100\n",
            "\n"
          ]
        },
        {
          "name": "stderr",
          "output_type": "stream",
          "text": [
            "/usr/local/lib/python3.10/dist-packages/sklearn/metrics/_classification.py:1344: UndefinedMetricWarning: Recall and F-score are ill-defined and being set to 0.0 in labels with no true samples. Use `zero_division` parameter to control this behavior.\n",
            "  _warn_prf(average, modifier, msg_start, len(result))\n",
            "/usr/local/lib/python3.10/dist-packages/sklearn/metrics/_classification.py:1344: UndefinedMetricWarning: Recall and F-score are ill-defined and being set to 0.0 in labels with no true samples. Use `zero_division` parameter to control this behavior.\n",
            "  _warn_prf(average, modifier, msg_start, len(result))\n",
            "/usr/local/lib/python3.10/dist-packages/sklearn/metrics/_classification.py:1344: UndefinedMetricWarning: Recall and F-score are ill-defined and being set to 0.0 in labels with no true samples. Use `zero_division` parameter to control this behavior.\n",
            "  _warn_prf(average, modifier, msg_start, len(result))\n"
          ]
        }
      ],
      "source": [
        "mrm8488_fake_news_accuracy = evaluate_data(mrm8488_fake_news)"
      ]
    },
    {
      "cell_type": "code",
      "execution_count": 96,
      "metadata": {
        "colab": {
          "base_uri": "https://localhost:8080/"
        },
        "id": "_-6cLjqEzLwb",
        "outputId": "10ecd181-66fa-4094-9b37-f16681f61854"
      },
      "outputs": [
        {
          "name": "stderr",
          "output_type": "stream",
          "text": [
            "/usr/local/lib/python3.10/dist-packages/transformers/generation/utils.py:1260: UserWarning: Using the model-agnostic default `max_length` (=20) to control the generation length. We recommend setting `max_new_tokens` to control the maximum length of the generation.\n",
            "  warnings.warn(\n"
          ]
        },
        {
          "name": "stdout",
          "output_type": "stream",
          "text": [
            "Classification Report:\n",
            "              precision    recall  f1-score   support\n",
            "\n",
            "        fake       1.00      0.96      0.98        50\n",
            "        real       0.96      1.00      0.98        50\n",
            "\n",
            "    accuracy                           0.98       100\n",
            "   macro avg       0.98      0.98      0.98       100\n",
            "weighted avg       0.98      0.98      0.98       100\n",
            "\n"
          ]
        }
      ],
      "source": [
        "erfan_test_accuracy = evaluate_data(Erfan_test)"
      ]
    },
    {
      "cell_type": "markdown",
      "metadata": {
        "id": "VAHmoS5KzLwb"
      },
      "source": [
        "### Bar Chart"
      ]
    },
    {
      "cell_type": "code",
      "execution_count": 97,
      "metadata": {
        "colab": {
          "base_uri": "https://localhost:8080/",
          "height": 607
        },
        "id": "oNkjsHVRzLwb",
        "outputId": "25bd619f-b048-49d4-ba0b-9a84b904821a"
      },
      "outputs": [
        {
          "data": {
            "image/png": "[encoded data removed]",
            "text/plain": [
              "<Figure size 1000x600 with 1 Axes>"
            ]
          },
          "metadata": {},
          "output_type": "display_data"
        }
      ],
      "source": [
        "import matplotlib.pyplot as plt\n",
        "\n",
        "# Model labels\n",
        "models = [\n",
        "    \"GonzaloA_train\",\n",
        "    \"GonzaloA_test\",\n",
        "    \"pushpdeepfake_train\",\n",
        "    \"pushpdeepfake_test\",\n",
        "    \"kaggle_test\",\n",
        "    \"news_articles\",\n",
        "    \"mrm8488_fake_news\",\n",
        "    \"Erfan_test\",\n",
        "]\n",
        "\n",
        "# Accuracy values\n",
        "accuracies = [\n",
        "    gonzaloa_train_accuracy,\n",
        "    gonzaloa_test_accuracy,\n",
        "    pushpdeepfake_train_accuracy,\n",
        "    pushpdeepfake_test_accuracy,\n",
        "    kaggle_test_accuracy,\n",
        "    news_articles_accuracy,\n",
        "    mrm8488_fake_news_accuracy,\n",
        "    erfan_test_accuracy,\n",
        "]\n",
        "\n",
        "# Create a color list to distinguish between 'summ' and non-summ models\n",
        "colors = [\n",
        "    \"skyblue\",\n",
        "    \"royalblue\",\n",
        "    \"mediumseagreen\",\n",
        "    \"lightcoral\",\n",
        "    \"plum\",\n",
        "    \"gold\",\n",
        "    \"lightpink\",\n",
        "    \"lightgrey\",\n",
        "]\n",
        "\n",
        "# Create the bar plot\n",
        "plt.figure(figsize=(10, 6))\n",
        "bars = plt.bar(models, accuracies, color=colors, edgecolor=\"black\")\n",
        "\n",
        "# Adding value labels on top of each bar\n",
        "for bar in bars:\n",
        "    yval = bar.get_height()\n",
        "    plt.text(\n",
        "        bar.get_x() + bar.get_width() / 2,\n",
        "        yval,\n",
        "        round(yval, 2),\n",
        "        va=\"bottom\",\n",
        "        ha=\"center\",\n",
        "    )\n",
        "\n",
        "plt.title(\"Accuracy on different datasets using fine-tuned T5-small\", fontsize=16)\n",
        "plt.ylabel(\"Accuracy\", fontsize=12)\n",
        "plt.xlabel(\"Model\", fontsize=12)\n",
        "plt.xticks(rotation=45, fontsize=10)\n",
        "\n",
        "# Adding a grid\n",
        "plt.grid(axis=\"y\", linestyle=\"--\", alpha=0.7)\n",
        "\n",
        "plt.tight_layout()\n",
        "plt.show()"
      ]
    }
  ],
  "metadata": {
    "accelerator": "GPU",
    "colab": {
      "gpuType": "T4",
      "provenance": [],
      "toc_visible": true
    },
    "kernelspec": {
      "display_name": "Python 3",
      "name": "python3"
    },
    "language_info": {
      "codemirror_mode": {
        "name": "ipython",
        "version": 3
      },
      "file_extension": ".py",
      "mimetype": "text/x-python",
      "name": "python",
      "nbconvert_exporter": "python",
      "pygments_lexer": "ipython3",
      "version": "3.11.6"
    },
    "widgets": {
      "application/vnd.jupyter.widget-state+json": {
        "0317799c4d484c168e485b35466e43af": {
          "model_module": "@jupyter-widgets/controls",
          "model_module_version": "1.5.0",
          "model_name": "DescriptionStyleModel",
          "state": {
            "_model_module": "@jupyter-widgets/controls",
            "_model_module_version": "1.5.0",
            "_model_name": "DescriptionStyleModel",
            "_view_count": null,
            "_view_module": "@jupyter-widgets/base",
            "_view_module_version": "1.2.0",
            "_view_name": "StyleView",
            "description_width": ""
          }
        },
        "180b54219a7a480c9b2f3e53c5424533": {
          "model_module": "@jupyter-widgets/controls",
          "model_module_version": "1.5.0",
          "model_name": "HTMLModel",
          "state": {
            "_dom_classes": [],
            "_model_module": "@jupyter-widgets/controls",
            "_model_module_version": "1.5.0",
            "_model_name": "HTMLModel",
            "_view_count": null,
            "_view_module": "@jupyter-widgets/controls",
            "_view_module_version": "1.5.0",
            "_view_name": "HTMLView",
            "description": "",
            "description_tooltip": null,
            "layout": "IPY_MODEL_8c0f46f9f7eb4e5da3dfa5ab35536a99",
            "placeholder": "​",
            "style": "IPY_MODEL_d0a1465613194d24b27a6d8c8281ad9e",
            "value": "Map: 100%"
          }
        },
        "19883915ae694f5d820abc676247ead9": {
          "model_module": "@jupyter-widgets/controls",
          "model_module_version": "1.5.0",
          "model_name": "ProgressStyleModel",
          "state": {
            "_model_module": "@jupyter-widgets/controls",
            "_model_module_version": "1.5.0",
            "_model_name": "ProgressStyleModel",
            "_view_count": null,
            "_view_module": "@jupyter-widgets/base",
            "_view_module_version": "1.2.0",
            "_view_name": "StyleView",
            "bar_color": null,
            "description_width": ""
          }
        },
        "1a2ce73927714b239260a555cf13a95f": {
          "model_module": "@jupyter-widgets/controls",
          "model_module_version": "1.5.0",
          "model_name": "DescriptionStyleModel",
          "state": {
            "_model_module": "@jupyter-widgets/controls",
            "_model_module_version": "1.5.0",
            "_model_name": "DescriptionStyleModel",
            "_view_count": null,
            "_view_module": "@jupyter-widgets/base",
            "_view_module_version": "1.2.0",
            "_view_name": "StyleView",
            "description_width": ""
          }
        },
        "1ddac7da433d4470b99afa0ebbf15c1e": {
          "model_module": "@jupyter-widgets/base",
          "model_module_version": "1.2.0",
          "model_name": "LayoutModel",
          "state": {
            "_model_module": "@jupyter-widgets/base",
            "_model_module_version": "1.2.0",
            "_model_name": "LayoutModel",
            "_view_count": null,
            "_view_module": "@jupyter-widgets/base",
            "_view_module_version": "1.2.0",
            "_view_name": "LayoutView",
            "align_content": null,
            "align_items": null,
            "align_self": null,
            "border": null,
            "bottom": null,
            "display": null,
            "flex": null,
            "flex_flow": null,
            "grid_area": null,
            "grid_auto_columns": null,
            "grid_auto_flow": null,
            "grid_auto_rows": null,
            "grid_column": null,
            "grid_gap": null,
            "grid_row": null,
            "grid_template_areas": null,
            "grid_template_columns": null,
            "grid_template_rows": null,
            "height": null,
            "justify_content": null,
            "justify_items": null,
            "left": null,
            "margin": null,
            "max_height": null,
            "max_width": null,
            "min_height": null,
            "min_width": null,
            "object_fit": null,
            "object_position": null,
            "order": null,
            "overflow": null,
            "overflow_x": null,
            "overflow_y": null,
            "padding": null,
            "right": null,
            "top": null,
            "visibility": null,
            "width": null
          }
        },
        "213c8ff67b9c44ee999d71d32b7a7a0e": {
          "model_module": "@jupyter-widgets/base",
          "model_module_version": "1.2.0",
          "model_name": "LayoutModel",
          "state": {
            "_model_module": "@jupyter-widgets/base",
            "_model_module_version": "1.2.0",
            "_model_name": "LayoutModel",
            "_view_count": null,
            "_view_module": "@jupyter-widgets/base",
            "_view_module_version": "1.2.0",
            "_view_name": "LayoutView",
            "align_content": null,
            "align_items": null,
            "align_self": null,
            "border": null,
            "bottom": null,
            "display": null,
            "flex": null,
            "flex_flow": null,
            "grid_area": null,
            "grid_auto_columns": null,
            "grid_auto_flow": null,
            "grid_auto_rows": null,
            "grid_column": null,
            "grid_gap": null,
            "grid_row": null,
            "grid_template_areas": null,
            "grid_template_columns": null,
            "grid_template_rows": null,
            "height": null,
            "justify_content": null,
            "justify_items": null,
            "left": null,
            "margin": null,
            "max_height": null,
            "max_width": null,
            "min_height": null,
            "min_width": null,
            "object_fit": null,
            "object_position": null,
            "order": null,
            "overflow": null,
            "overflow_x": null,
            "overflow_y": null,
            "padding": null,
            "right": null,
            "top": null,
            "visibility": null,
            "width": null
          }
        },
        "26fd457ac7094bef987de1c085b9abe9": {
          "model_module": "@jupyter-widgets/controls",
          "model_module_version": "1.5.0",
          "model_name": "HTMLModel",
          "state": {
            "_dom_classes": [],
            "_model_module": "@jupyter-widgets/controls",
            "_model_module_version": "1.5.0",
            "_model_name": "HTMLModel",
            "_view_count": null,
            "_view_module": "@jupyter-widgets/controls",
            "_view_module_version": "1.5.0",
            "_view_name": "HTMLView",
            "description": "",
            "description_tooltip": null,
            "layout": "IPY_MODEL_e52dbe9d8b9d42178fa6f21f0fefbe77",
            "placeholder": "​",
            "style": "IPY_MODEL_1a2ce73927714b239260a555cf13a95f",
            "value": " 36000/36000 [00:46&lt;00:00, 840.07 examples/s]"
          }
        },
        "286a0de59b454df7a6a91374be02f522": {
          "model_module": "@jupyter-widgets/base",
          "model_module_version": "1.2.0",
          "model_name": "LayoutModel",
          "state": {
            "_model_module": "@jupyter-widgets/base",
            "_model_module_version": "1.2.0",
            "_model_name": "LayoutModel",
            "_view_count": null,
            "_view_module": "@jupyter-widgets/base",
            "_view_module_version": "1.2.0",
            "_view_name": "LayoutView",
            "align_content": null,
            "align_items": null,
            "align_self": null,
            "border": null,
            "bottom": null,
            "display": null,
            "flex": null,
            "flex_flow": null,
            "grid_area": null,
            "grid_auto_columns": null,
            "grid_auto_flow": null,
            "grid_auto_rows": null,
            "grid_column": null,
            "grid_gap": null,
            "grid_row": null,
            "grid_template_areas": null,
            "grid_template_columns": null,
            "grid_template_rows": null,
            "height": null,
            "justify_content": null,
            "justify_items": null,
            "left": null,
            "margin": null,
            "max_height": null,
            "max_width": null,
            "min_height": null,
            "min_width": null,
            "object_fit": null,
            "object_position": null,
            "order": null,
            "overflow": null,
            "overflow_x": null,
            "overflow_y": null,
            "padding": null,
            "right": null,
            "top": null,
            "visibility": null,
            "width": null
          }
        },
        "36936e8a5b7a4e018f00f2febd2009a3": {
          "model_module": "@jupyter-widgets/base",
          "model_module_version": "1.2.0",
          "model_name": "LayoutModel",
          "state": {
            "_model_module": "@jupyter-widgets/base",
            "_model_module_version": "1.2.0",
            "_model_name": "LayoutModel",
            "_view_count": null,
            "_view_module": "@jupyter-widgets/base",
            "_view_module_version": "1.2.0",
            "_view_name": "LayoutView",
            "align_content": null,
            "align_items": null,
            "align_self": null,
            "border": null,
            "bottom": null,
            "display": null,
            "flex": null,
            "flex_flow": null,
            "grid_area": null,
            "grid_auto_columns": null,
            "grid_auto_flow": null,
            "grid_auto_rows": null,
            "grid_column": null,
            "grid_gap": null,
            "grid_row": null,
            "grid_template_areas": null,
            "grid_template_columns": null,
            "grid_template_rows": null,
            "height": null,
            "justify_content": null,
            "justify_items": null,
            "left": null,
            "margin": null,
            "max_height": null,
            "max_width": null,
            "min_height": null,
            "min_width": null,
            "object_fit": null,
            "object_position": null,
            "order": null,
            "overflow": null,
            "overflow_x": null,
            "overflow_y": null,
            "padding": null,
            "right": null,
            "top": null,
            "visibility": null,
            "width": null
          }
        },
        "3829792dec5242bf8b584d5f9ddab7d0": {
          "model_module": "@jupyter-widgets/controls",
          "model_module_version": "1.5.0",
          "model_name": "FloatProgressModel",
          "state": {
            "_dom_classes": [],
            "_model_module": "@jupyter-widgets/controls",
            "_model_module_version": "1.5.0",
            "_model_name": "FloatProgressModel",
            "_view_count": null,
            "_view_module": "@jupyter-widgets/controls",
            "_view_module_version": "1.5.0",
            "_view_name": "ProgressView",
            "bar_style": "success",
            "description": "",
            "description_tooltip": null,
            "layout": "IPY_MODEL_286a0de59b454df7a6a91374be02f522",
            "max": 9000,
            "min": 0,
            "orientation": "horizontal",
            "style": "IPY_MODEL_ef9f028409f4478e855204f52e5fbd99",
            "value": 9000
          }
        },
        "409286bc7828494aa2d98d9b290a9faa": {
          "model_module": "@jupyter-widgets/controls",
          "model_module_version": "1.5.0",
          "model_name": "FloatProgressModel",
          "state": {
            "_dom_classes": [],
            "_model_module": "@jupyter-widgets/controls",
            "_model_module_version": "1.5.0",
            "_model_name": "FloatProgressModel",
            "_view_count": null,
            "_view_module": "@jupyter-widgets/controls",
            "_view_module_version": "1.5.0",
            "_view_name": "ProgressView",
            "bar_style": "success",
            "description": "",
            "description_tooltip": null,
            "layout": "IPY_MODEL_755d1111432043279a0c3a47ea8205b7",
            "max": 4000,
            "min": 0,
            "orientation": "horizontal",
            "style": "IPY_MODEL_19883915ae694f5d820abc676247ead9",
            "value": 4000
          }
        },
        "4af405a623394a57a36c6f968519c73b": {
          "model_module": "@jupyter-widgets/base",
          "model_module_version": "1.2.0",
          "model_name": "LayoutModel",
          "state": {
            "_model_module": "@jupyter-widgets/base",
            "_model_module_version": "1.2.0",
            "_model_name": "LayoutModel",
            "_view_count": null,
            "_view_module": "@jupyter-widgets/base",
            "_view_module_version": "1.2.0",
            "_view_name": "LayoutView",
            "align_content": null,
            "align_items": null,
            "align_self": null,
            "border": null,
            "bottom": null,
            "display": null,
            "flex": null,
            "flex_flow": null,
            "grid_area": null,
            "grid_auto_columns": null,
            "grid_auto_flow": null,
            "grid_auto_rows": null,
            "grid_column": null,
            "grid_gap": null,
            "grid_row": null,
            "grid_template_areas": null,
            "grid_template_columns": null,
            "grid_template_rows": null,
            "height": null,
            "justify_content": null,
            "justify_items": null,
            "left": null,
            "margin": null,
            "max_height": null,
            "max_width": null,
            "min_height": null,
            "min_width": null,
            "object_fit": null,
            "object_position": null,
            "order": null,
            "overflow": null,
            "overflow_x": null,
            "overflow_y": null,
            "padding": null,
            "right": null,
            "top": null,
            "visibility": null,
            "width": null
          }
        },
        "5b702f85d5194cc88826fcb137eb6f15": {
          "model_module": "@jupyter-widgets/controls",
          "model_module_version": "1.5.0",
          "model_name": "HBoxModel",
          "state": {
            "_dom_classes": [],
            "_model_module": "@jupyter-widgets/controls",
            "_model_module_version": "1.5.0",
            "_model_name": "HBoxModel",
            "_view_count": null,
            "_view_module": "@jupyter-widgets/controls",
            "_view_module_version": "1.5.0",
            "_view_name": "HBoxView",
            "box_style": "",
            "children": [
              "IPY_MODEL_db69e6e146084a56afb80f637ab53a97",
              "IPY_MODEL_d9c3976f04564b788e96ec1bc53e967b",
              "IPY_MODEL_26fd457ac7094bef987de1c085b9abe9"
            ],
            "layout": "IPY_MODEL_ca06510d140a40dea3fddb8e89f6e219"
          }
        },
        "5f624c2ee2264df2a9a10299b78dcaf5": {
          "model_module": "@jupyter-widgets/controls",
          "model_module_version": "1.5.0",
          "model_name": "HTMLModel",
          "state": {
            "_dom_classes": [],
            "_model_module": "@jupyter-widgets/controls",
            "_model_module_version": "1.5.0",
            "_model_name": "HTMLModel",
            "_view_count": null,
            "_view_module": "@jupyter-widgets/controls",
            "_view_module_version": "1.5.0",
            "_view_name": "HTMLView",
            "description": "",
            "description_tooltip": null,
            "layout": "IPY_MODEL_213c8ff67b9c44ee999d71d32b7a7a0e",
            "placeholder": "​",
            "style": "IPY_MODEL_63414231980b44c1bde6a987664d82c0",
            "value": " 16000/16000 [00:53&lt;00:00, 312.73 examples/s]"
          }
        },
        "63414231980b44c1bde6a987664d82c0": {
          "model_module": "@jupyter-widgets/controls",
          "model_module_version": "1.5.0",
          "model_name": "DescriptionStyleModel",
          "state": {
            "_model_module": "@jupyter-widgets/controls",
            "_model_module_version": "1.5.0",
            "_model_name": "DescriptionStyleModel",
            "_view_count": null,
            "_view_module": "@jupyter-widgets/base",
            "_view_module_version": "1.2.0",
            "_view_name": "StyleView",
            "description_width": ""
          }
        },
        "73e35cdec3ae4ba6bd439a4637c748e3": {
          "model_module": "@jupyter-widgets/controls",
          "model_module_version": "1.5.0",
          "model_name": "FloatProgressModel",
          "state": {
            "_dom_classes": [],
            "_model_module": "@jupyter-widgets/controls",
            "_model_module_version": "1.5.0",
            "_model_name": "FloatProgressModel",
            "_view_count": null,
            "_view_module": "@jupyter-widgets/controls",
            "_view_module_version": "1.5.0",
            "_view_name": "ProgressView",
            "bar_style": "success",
            "description": "",
            "description_tooltip": null,
            "layout": "IPY_MODEL_36936e8a5b7a4e018f00f2febd2009a3",
            "max": 16000,
            "min": 0,
            "orientation": "horizontal",
            "style": "IPY_MODEL_8ca38095926348c999444f5c068f1720",
            "value": 16000
          }
        },
        "755d1111432043279a0c3a47ea8205b7": {
          "model_module": "@jupyter-widgets/base",
          "model_module_version": "1.2.0",
          "model_name": "LayoutModel",
          "state": {
            "_model_module": "@jupyter-widgets/base",
            "_model_module_version": "1.2.0",
            "_model_name": "LayoutModel",
            "_view_count": null,
            "_view_module": "@jupyter-widgets/base",
            "_view_module_version": "1.2.0",
            "_view_name": "LayoutView",
            "align_content": null,
            "align_items": null,
            "align_self": null,
            "border": null,
            "bottom": null,
            "display": null,
            "flex": null,
            "flex_flow": null,
            "grid_area": null,
            "grid_auto_columns": null,
            "grid_auto_flow": null,
            "grid_auto_rows": null,
            "grid_column": null,
            "grid_gap": null,
            "grid_row": null,
            "grid_template_areas": null,
            "grid_template_columns": null,
            "grid_template_rows": null,
            "height": null,
            "justify_content": null,
            "justify_items": null,
            "left": null,
            "margin": null,
            "max_height": null,
            "max_width": null,
            "min_height": null,
            "min_width": null,
            "object_fit": null,
            "object_position": null,
            "order": null,
            "overflow": null,
            "overflow_x": null,
            "overflow_y": null,
            "padding": null,
            "right": null,
            "top": null,
            "visibility": null,
            "width": null
          }
        },
        "7d7df167d0d44be8977f13e0c413763e": {
          "model_module": "@jupyter-widgets/controls",
          "model_module_version": "1.5.0",
          "model_name": "DescriptionStyleModel",
          "state": {
            "_model_module": "@jupyter-widgets/controls",
            "_model_module_version": "1.5.0",
            "_model_name": "DescriptionStyleModel",
            "_view_count": null,
            "_view_module": "@jupyter-widgets/base",
            "_view_module_version": "1.2.0",
            "_view_name": "StyleView",
            "description_width": ""
          }
        },
        "816e5dd7e8874584b1251f43e28b4760": {
          "model_module": "@jupyter-widgets/controls",
          "model_module_version": "1.5.0",
          "model_name": "HBoxModel",
          "state": {
            "_dom_classes": [],
            "_model_module": "@jupyter-widgets/controls",
            "_model_module_version": "1.5.0",
            "_model_name": "HBoxModel",
            "_view_count": null,
            "_view_module": "@jupyter-widgets/controls",
            "_view_module_version": "1.5.0",
            "_view_name": "HBoxView",
            "box_style": "",
            "children": [
              "IPY_MODEL_9996b107ee5a46a79dc7abf508c5c3b4",
              "IPY_MODEL_3829792dec5242bf8b584d5f9ddab7d0",
              "IPY_MODEL_9d47167014f04d689059546e408b8c77"
            ],
            "layout": "IPY_MODEL_e0687c0e529043b79a28171dd80de6d9"
          }
        },
        "8c0f46f9f7eb4e5da3dfa5ab35536a99": {
          "model_module": "@jupyter-widgets/base",
          "model_module_version": "1.2.0",
          "model_name": "LayoutModel",
          "state": {
            "_model_module": "@jupyter-widgets/base",
            "_model_module_version": "1.2.0",
            "_model_name": "LayoutModel",
            "_view_count": null,
            "_view_module": "@jupyter-widgets/base",
            "_view_module_version": "1.2.0",
            "_view_name": "LayoutView",
            "align_content": null,
            "align_items": null,
            "align_self": null,
            "border": null,
            "bottom": null,
            "display": null,
            "flex": null,
            "flex_flow": null,
            "grid_area": null,
            "grid_auto_columns": null,
            "grid_auto_flow": null,
            "grid_auto_rows": null,
            "grid_column": null,
            "grid_gap": null,
            "grid_row": null,
            "grid_template_areas": null,
            "grid_template_columns": null,
            "grid_template_rows": null,
            "height": null,
            "justify_content": null,
            "justify_items": null,
            "left": null,
            "margin": null,
            "max_height": null,
            "max_width": null,
            "min_height": null,
            "min_width": null,
            "object_fit": null,
            "object_position": null,
            "order": null,
            "overflow": null,
            "overflow_x": null,
            "overflow_y": null,
            "padding": null,
            "right": null,
            "top": null,
            "visibility": null,
            "width": null
          }
        },
        "8c110bda84ad40dab1d0b03272122e3f": {
          "model_module": "@jupyter-widgets/controls",
          "model_module_version": "1.5.0",
          "model_name": "HBoxModel",
          "state": {
            "_dom_classes": [],
            "_model_module": "@jupyter-widgets/controls",
            "_model_module_version": "1.5.0",
            "_model_name": "HBoxModel",
            "_view_count": null,
            "_view_module": "@jupyter-widgets/controls",
            "_view_module_version": "1.5.0",
            "_view_name": "HBoxView",
            "box_style": "",
            "children": [
              "IPY_MODEL_9bcc2878898c41398d4b3fd99ee51c98",
              "IPY_MODEL_409286bc7828494aa2d98d9b290a9faa",
              "IPY_MODEL_ff3377ef03eb479bb44a576a5993f34e"
            ],
            "layout": "IPY_MODEL_e1194af720534a99b79a3e7e3f80d7f3"
          }
        },
        "8ca38095926348c999444f5c068f1720": {
          "model_module": "@jupyter-widgets/controls",
          "model_module_version": "1.5.0",
          "model_name": "ProgressStyleModel",
          "state": {
            "_model_module": "@jupyter-widgets/controls",
            "_model_module_version": "1.5.0",
            "_model_name": "ProgressStyleModel",
            "_view_count": null,
            "_view_module": "@jupyter-widgets/base",
            "_view_module_version": "1.2.0",
            "_view_name": "StyleView",
            "bar_color": null,
            "description_width": ""
          }
        },
        "996d021f68ea43eaa98911bad787e0e9": {
          "model_module": "@jupyter-widgets/controls",
          "model_module_version": "1.5.0",
          "model_name": "DescriptionStyleModel",
          "state": {
            "_model_module": "@jupyter-widgets/controls",
            "_model_module_version": "1.5.0",
            "_model_name": "DescriptionStyleModel",
            "_view_count": null,
            "_view_module": "@jupyter-widgets/base",
            "_view_module_version": "1.2.0",
            "_view_name": "StyleView",
            "description_width": ""
          }
        },
        "9996b107ee5a46a79dc7abf508c5c3b4": {
          "model_module": "@jupyter-widgets/controls",
          "model_module_version": "1.5.0",
          "model_name": "HTMLModel",
          "state": {
            "_dom_classes": [],
            "_model_module": "@jupyter-widgets/controls",
            "_model_module_version": "1.5.0",
            "_model_name": "HTMLModel",
            "_view_count": null,
            "_view_module": "@jupyter-widgets/controls",
            "_view_module_version": "1.5.0",
            "_view_name": "HTMLView",
            "description": "",
            "description_tooltip": null,
            "layout": "IPY_MODEL_4af405a623394a57a36c6f968519c73b",
            "placeholder": "​",
            "style": "IPY_MODEL_0317799c4d484c168e485b35466e43af",
            "value": "Map: 100%"
          }
        },
        "9bcc2878898c41398d4b3fd99ee51c98": {
          "model_module": "@jupyter-widgets/controls",
          "model_module_version": "1.5.0",
          "model_name": "HTMLModel",
          "state": {
            "_dom_classes": [],
            "_model_module": "@jupyter-widgets/controls",
            "_model_module_version": "1.5.0",
            "_model_name": "HTMLModel",
            "_view_count": null,
            "_view_module": "@jupyter-widgets/controls",
            "_view_module_version": "1.5.0",
            "_view_name": "HTMLView",
            "description": "",
            "description_tooltip": null,
            "layout": "IPY_MODEL_dcdb79c58bc54089bb2bc4bc1e9cc217",
            "placeholder": "​",
            "style": "IPY_MODEL_cd7dc98cee6a485bbcec546811d26b56",
            "value": "Map: 100%"
          }
        },
        "9d47167014f04d689059546e408b8c77": {
          "model_module": "@jupyter-widgets/controls",
          "model_module_version": "1.5.0",
          "model_name": "HTMLModel",
          "state": {
            "_dom_classes": [],
            "_model_module": "@jupyter-widgets/controls",
            "_model_module_version": "1.5.0",
            "_model_name": "HTMLModel",
            "_view_count": null,
            "_view_module": "@jupyter-widgets/controls",
            "_view_module_version": "1.5.0",
            "_view_name": "HTMLView",
            "description": "",
            "description_tooltip": null,
            "layout": "IPY_MODEL_ddf2199b8a7140439f05e4b94ec71844",
            "placeholder": "​",
            "style": "IPY_MODEL_f3474d7d2534407893b97ee7d1fcd039",
            "value": " 9000/9000 [00:11&lt;00:00, 717.22 examples/s]"
          }
        },
        "a1505cd97af9452d96388023ac4ac197": {
          "model_module": "@jupyter-widgets/controls",
          "model_module_version": "1.5.0",
          "model_name": "ProgressStyleModel",
          "state": {
            "_model_module": "@jupyter-widgets/controls",
            "_model_module_version": "1.5.0",
            "_model_name": "ProgressStyleModel",
            "_view_count": null,
            "_view_module": "@jupyter-widgets/base",
            "_view_module_version": "1.2.0",
            "_view_name": "StyleView",
            "bar_color": null,
            "description_width": ""
          }
        },
        "ac52896e425240118739a60c061ab20c": {
          "model_module": "@jupyter-widgets/base",
          "model_module_version": "1.2.0",
          "model_name": "LayoutModel",
          "state": {
            "_model_module": "@jupyter-widgets/base",
            "_model_module_version": "1.2.0",
            "_model_name": "LayoutModel",
            "_view_count": null,
            "_view_module": "@jupyter-widgets/base",
            "_view_module_version": "1.2.0",
            "_view_name": "LayoutView",
            "align_content": null,
            "align_items": null,
            "align_self": null,
            "border": null,
            "bottom": null,
            "display": null,
            "flex": null,
            "flex_flow": null,
            "grid_area": null,
            "grid_auto_columns": null,
            "grid_auto_flow": null,
            "grid_auto_rows": null,
            "grid_column": null,
            "grid_gap": null,
            "grid_row": null,
            "grid_template_areas": null,
            "grid_template_columns": null,
            "grid_template_rows": null,
            "height": null,
            "justify_content": null,
            "justify_items": null,
            "left": null,
            "margin": null,
            "max_height": null,
            "max_width": null,
            "min_height": null,
            "min_width": null,
            "object_fit": null,
            "object_position": null,
            "order": null,
            "overflow": null,
            "overflow_x": null,
            "overflow_y": null,
            "padding": null,
            "right": null,
            "top": null,
            "visibility": null,
            "width": null
          }
        },
        "b8606258feec42dbb77a45b971bcd7fc": {
          "model_module": "@jupyter-widgets/controls",
          "model_module_version": "1.5.0",
          "model_name": "HBoxModel",
          "state": {
            "_dom_classes": [],
            "_model_module": "@jupyter-widgets/controls",
            "_model_module_version": "1.5.0",
            "_model_name": "HBoxModel",
            "_view_count": null,
            "_view_module": "@jupyter-widgets/controls",
            "_view_module_version": "1.5.0",
            "_view_name": "HBoxView",
            "box_style": "",
            "children": [
              "IPY_MODEL_180b54219a7a480c9b2f3e53c5424533",
              "IPY_MODEL_73e35cdec3ae4ba6bd439a4637c748e3",
              "IPY_MODEL_5f624c2ee2264df2a9a10299b78dcaf5"
            ],
            "layout": "IPY_MODEL_d556ece64cc843bc8a7951aa52507a7b"
          }
        },
        "ca06510d140a40dea3fddb8e89f6e219": {
          "model_module": "@jupyter-widgets/base",
          "model_module_version": "1.2.0",
          "model_name": "LayoutModel",
          "state": {
            "_model_module": "@jupyter-widgets/base",
            "_model_module_version": "1.2.0",
            "_model_name": "LayoutModel",
            "_view_count": null,
            "_view_module": "@jupyter-widgets/base",
            "_view_module_version": "1.2.0",
            "_view_name": "LayoutView",
            "align_content": null,
            "align_items": null,
            "align_self": null,
            "border": null,
            "bottom": null,
            "display": null,
            "flex": null,
            "flex_flow": null,
            "grid_area": null,
            "grid_auto_columns": null,
            "grid_auto_flow": null,
            "grid_auto_rows": null,
            "grid_column": null,
            "grid_gap": null,
            "grid_row": null,
            "grid_template_areas": null,
            "grid_template_columns": null,
            "grid_template_rows": null,
            "height": null,
            "justify_content": null,
            "justify_items": null,
            "left": null,
            "margin": null,
            "max_height": null,
            "max_width": null,
            "min_height": null,
            "min_width": null,
            "object_fit": null,
            "object_position": null,
            "order": null,
            "overflow": null,
            "overflow_x": null,
            "overflow_y": null,
            "padding": null,
            "right": null,
            "top": null,
            "visibility": null,
            "width": null
          }
        },
        "cd7dc98cee6a485bbcec546811d26b56": {
          "model_module": "@jupyter-widgets/controls",
          "model_module_version": "1.5.0",
          "model_name": "DescriptionStyleModel",
          "state": {
            "_model_module": "@jupyter-widgets/controls",
            "_model_module_version": "1.5.0",
            "_model_name": "DescriptionStyleModel",
            "_view_count": null,
            "_view_module": "@jupyter-widgets/base",
            "_view_module_version": "1.2.0",
            "_view_name": "StyleView",
            "description_width": ""
          }
        },
        "d0a1465613194d24b27a6d8c8281ad9e": {
          "model_module": "@jupyter-widgets/controls",
          "model_module_version": "1.5.0",
          "model_name": "DescriptionStyleModel",
          "state": {
            "_model_module": "@jupyter-widgets/controls",
            "_model_module_version": "1.5.0",
            "_model_name": "DescriptionStyleModel",
            "_view_count": null,
            "_view_module": "@jupyter-widgets/base",
            "_view_module_version": "1.2.0",
            "_view_name": "StyleView",
            "description_width": ""
          }
        },
        "d1f1d5bcbbe040af98fcac65f97b84ab": {
          "model_module": "@jupyter-widgets/base",
          "model_module_version": "1.2.0",
          "model_name": "LayoutModel",
          "state": {
            "_model_module": "@jupyter-widgets/base",
            "_model_module_version": "1.2.0",
            "_model_name": "LayoutModel",
            "_view_count": null,
            "_view_module": "@jupyter-widgets/base",
            "_view_module_version": "1.2.0",
            "_view_name": "LayoutView",
            "align_content": null,
            "align_items": null,
            "align_self": null,
            "border": null,
            "bottom": null,
            "display": null,
            "flex": null,
            "flex_flow": null,
            "grid_area": null,
            "grid_auto_columns": null,
            "grid_auto_flow": null,
            "grid_auto_rows": null,
            "grid_column": null,
            "grid_gap": null,
            "grid_row": null,
            "grid_template_areas": null,
            "grid_template_columns": null,
            "grid_template_rows": null,
            "height": null,
            "justify_content": null,
            "justify_items": null,
            "left": null,
            "margin": null,
            "max_height": null,
            "max_width": null,
            "min_height": null,
            "min_width": null,
            "object_fit": null,
            "object_position": null,
            "order": null,
            "overflow": null,
            "overflow_x": null,
            "overflow_y": null,
            "padding": null,
            "right": null,
            "top": null,
            "visibility": null,
            "width": null
          }
        },
        "d556ece64cc843bc8a7951aa52507a7b": {
          "model_module": "@jupyter-widgets/base",
          "model_module_version": "1.2.0",
          "model_name": "LayoutModel",
          "state": {
            "_model_module": "@jupyter-widgets/base",
            "_model_module_version": "1.2.0",
            "_model_name": "LayoutModel",
            "_view_count": null,
            "_view_module": "@jupyter-widgets/base",
            "_view_module_version": "1.2.0",
            "_view_name": "LayoutView",
            "align_content": null,
            "align_items": null,
            "align_self": null,
            "border": null,
            "bottom": null,
            "display": null,
            "flex": null,
            "flex_flow": null,
            "grid_area": null,
            "grid_auto_columns": null,
            "grid_auto_flow": null,
            "grid_auto_rows": null,
            "grid_column": null,
            "grid_gap": null,
            "grid_row": null,
            "grid_template_areas": null,
            "grid_template_columns": null,
            "grid_template_rows": null,
            "height": null,
            "justify_content": null,
            "justify_items": null,
            "left": null,
            "margin": null,
            "max_height": null,
            "max_width": null,
            "min_height": null,
            "min_width": null,
            "object_fit": null,
            "object_position": null,
            "order": null,
            "overflow": null,
            "overflow_x": null,
            "overflow_y": null,
            "padding": null,
            "right": null,
            "top": null,
            "visibility": null,
            "width": null
          }
        },
        "d9c3976f04564b788e96ec1bc53e967b": {
          "model_module": "@jupyter-widgets/controls",
          "model_module_version": "1.5.0",
          "model_name": "FloatProgressModel",
          "state": {
            "_dom_classes": [],
            "_model_module": "@jupyter-widgets/controls",
            "_model_module_version": "1.5.0",
            "_model_name": "FloatProgressModel",
            "_view_count": null,
            "_view_module": "@jupyter-widgets/controls",
            "_view_module_version": "1.5.0",
            "_view_name": "ProgressView",
            "bar_style": "success",
            "description": "",
            "description_tooltip": null,
            "layout": "IPY_MODEL_1ddac7da433d4470b99afa0ebbf15c1e",
            "max": 36000,
            "min": 0,
            "orientation": "horizontal",
            "style": "IPY_MODEL_a1505cd97af9452d96388023ac4ac197",
            "value": 36000
          }
        },
        "db69e6e146084a56afb80f637ab53a97": {
          "model_module": "@jupyter-widgets/controls",
          "model_module_version": "1.5.0",
          "model_name": "HTMLModel",
          "state": {
            "_dom_classes": [],
            "_model_module": "@jupyter-widgets/controls",
            "_model_module_version": "1.5.0",
            "_model_name": "HTMLModel",
            "_view_count": null,
            "_view_module": "@jupyter-widgets/controls",
            "_view_module_version": "1.5.0",
            "_view_name": "HTMLView",
            "description": "",
            "description_tooltip": null,
            "layout": "IPY_MODEL_d1f1d5bcbbe040af98fcac65f97b84ab",
            "placeholder": "​",
            "style": "IPY_MODEL_7d7df167d0d44be8977f13e0c413763e",
            "value": "Map: 100%"
          }
        },
        "dcdb79c58bc54089bb2bc4bc1e9cc217": {
          "model_module": "@jupyter-widgets/base",
          "model_module_version": "1.2.0",
          "model_name": "LayoutModel",
          "state": {
            "_model_module": "@jupyter-widgets/base",
            "_model_module_version": "1.2.0",
            "_model_name": "LayoutModel",
            "_view_count": null,
            "_view_module": "@jupyter-widgets/base",
            "_view_module_version": "1.2.0",
            "_view_name": "LayoutView",
            "align_content": null,
            "align_items": null,
            "align_self": null,
            "border": null,
            "bottom": null,
            "display": null,
            "flex": null,
            "flex_flow": null,
            "grid_area": null,
            "grid_auto_columns": null,
            "grid_auto_flow": null,
            "grid_auto_rows": null,
            "grid_column": null,
            "grid_gap": null,
            "grid_row": null,
            "grid_template_areas": null,
            "grid_template_columns": null,
            "grid_template_rows": null,
            "height": null,
            "justify_content": null,
            "justify_items": null,
            "left": null,
            "margin": null,
            "max_height": null,
            "max_width": null,
            "min_height": null,
            "min_width": null,
            "object_fit": null,
            "object_position": null,
            "order": null,
            "overflow": null,
            "overflow_x": null,
            "overflow_y": null,
            "padding": null,
            "right": null,
            "top": null,
            "visibility": null,
            "width": null
          }
        },
        "ddf2199b8a7140439f05e4b94ec71844": {
          "model_module": "@jupyter-widgets/base",
          "model_module_version": "1.2.0",
          "model_name": "LayoutModel",
          "state": {
            "_model_module": "@jupyter-widgets/base",
            "_model_module_version": "1.2.0",
            "_model_name": "LayoutModel",
            "_view_count": null,
            "_view_module": "@jupyter-widgets/base",
            "_view_module_version": "1.2.0",
            "_view_name": "LayoutView",
            "align_content": null,
            "align_items": null,
            "align_self": null,
            "border": null,
            "bottom": null,
            "display": null,
            "flex": null,
            "flex_flow": null,
            "grid_area": null,
            "grid_auto_columns": null,
            "grid_auto_flow": null,
            "grid_auto_rows": null,
            "grid_column": null,
            "grid_gap": null,
            "grid_row": null,
            "grid_template_areas": null,
            "grid_template_columns": null,
            "grid_template_rows": null,
            "height": null,
            "justify_content": null,
            "justify_items": null,
            "left": null,
            "margin": null,
            "max_height": null,
            "max_width": null,
            "min_height": null,
            "min_width": null,
            "object_fit": null,
            "object_position": null,
            "order": null,
            "overflow": null,
            "overflow_x": null,
            "overflow_y": null,
            "padding": null,
            "right": null,
            "top": null,
            "visibility": null,
            "width": null
          }
        },
        "e0687c0e529043b79a28171dd80de6d9": {
          "model_module": "@jupyter-widgets/base",
          "model_module_version": "1.2.0",
          "model_name": "LayoutModel",
          "state": {
            "_model_module": "@jupyter-widgets/base",
            "_model_module_version": "1.2.0",
            "_model_name": "LayoutModel",
            "_view_count": null,
            "_view_module": "@jupyter-widgets/base",
            "_view_module_version": "1.2.0",
            "_view_name": "LayoutView",
            "align_content": null,
            "align_items": null,
            "align_self": null,
            "border": null,
            "bottom": null,
            "display": null,
            "flex": null,
            "flex_flow": null,
            "grid_area": null,
            "grid_auto_columns": null,
            "grid_auto_flow": null,
            "grid_auto_rows": null,
            "grid_column": null,
            "grid_gap": null,
            "grid_row": null,
            "grid_template_areas": null,
            "grid_template_columns": null,
            "grid_template_rows": null,
            "height": null,
            "justify_content": null,
            "justify_items": null,
            "left": null,
            "margin": null,
            "max_height": null,
            "max_width": null,
            "min_height": null,
            "min_width": null,
            "object_fit": null,
            "object_position": null,
            "order": null,
            "overflow": null,
            "overflow_x": null,
            "overflow_y": null,
            "padding": null,
            "right": null,
            "top": null,
            "visibility": null,
            "width": null
          }
        },
        "e1194af720534a99b79a3e7e3f80d7f3": {
          "model_module": "@jupyter-widgets/base",
          "model_module_version": "1.2.0",
          "model_name": "LayoutModel",
          "state": {
            "_model_module": "@jupyter-widgets/base",
            "_model_module_version": "1.2.0",
            "_model_name": "LayoutModel",
            "_view_count": null,
            "_view_module": "@jupyter-widgets/base",
            "_view_module_version": "1.2.0",
            "_view_name": "LayoutView",
            "align_content": null,
            "align_items": null,
            "align_self": null,
            "border": null,
            "bottom": null,
            "display": null,
            "flex": null,
            "flex_flow": null,
            "grid_area": null,
            "grid_auto_columns": null,
            "grid_auto_flow": null,
            "grid_auto_rows": null,
            "grid_column": null,
            "grid_gap": null,
            "grid_row": null,
            "grid_template_areas": null,
            "grid_template_columns": null,
            "grid_template_rows": null,
            "height": null,
            "justify_content": null,
            "justify_items": null,
            "left": null,
            "margin": null,
            "max_height": null,
            "max_width": null,
            "min_height": null,
            "min_width": null,
            "object_fit": null,
            "object_position": null,
            "order": null,
            "overflow": null,
            "overflow_x": null,
            "overflow_y": null,
            "padding": null,
            "right": null,
            "top": null,
            "visibility": null,
            "width": null
          }
        },
        "e52dbe9d8b9d42178fa6f21f0fefbe77": {
          "model_module": "@jupyter-widgets/base",
          "model_module_version": "1.2.0",
          "model_name": "LayoutModel",
          "state": {
            "_model_module": "@jupyter-widgets/base",
            "_model_module_version": "1.2.0",
            "_model_name": "LayoutModel",
            "_view_count": null,
            "_view_module": "@jupyter-widgets/base",
            "_view_module_version": "1.2.0",
            "_view_name": "LayoutView",
            "align_content": null,
            "align_items": null,
            "align_self": null,
            "border": null,
            "bottom": null,
            "display": null,
            "flex": null,
            "flex_flow": null,
            "grid_area": null,
            "grid_auto_columns": null,
            "grid_auto_flow": null,
            "grid_auto_rows": null,
            "grid_column": null,
            "grid_gap": null,
            "grid_row": null,
            "grid_template_areas": null,
            "grid_template_columns": null,
            "grid_template_rows": null,
            "height": null,
            "justify_content": null,
            "justify_items": null,
            "left": null,
            "margin": null,
            "max_height": null,
            "max_width": null,
            "min_height": null,
            "min_width": null,
            "object_fit": null,
            "object_position": null,
            "order": null,
            "overflow": null,
            "overflow_x": null,
            "overflow_y": null,
            "padding": null,
            "right": null,
            "top": null,
            "visibility": null,
            "width": null
          }
        },
        "ef9f028409f4478e855204f52e5fbd99": {
          "model_module": "@jupyter-widgets/controls",
          "model_module_version": "1.5.0",
          "model_name": "ProgressStyleModel",
          "state": {
            "_model_module": "@jupyter-widgets/controls",
            "_model_module_version": "1.5.0",
            "_model_name": "ProgressStyleModel",
            "_view_count": null,
            "_view_module": "@jupyter-widgets/base",
            "_view_module_version": "1.2.0",
            "_view_name": "StyleView",
            "bar_color": null,
            "description_width": ""
          }
        },
        "f3474d7d2534407893b97ee7d1fcd039": {
          "model_module": "@jupyter-widgets/controls",
          "model_module_version": "1.5.0",
          "model_name": "DescriptionStyleModel",
          "state": {
            "_model_module": "@jupyter-widgets/controls",
            "_model_module_version": "1.5.0",
            "_model_name": "DescriptionStyleModel",
            "_view_count": null,
            "_view_module": "@jupyter-widgets/base",
            "_view_module_version": "1.2.0",
            "_view_name": "StyleView",
            "description_width": ""
          }
        },
        "ff3377ef03eb479bb44a576a5993f34e": {
          "model_module": "@jupyter-widgets/controls",
          "model_module_version": "1.5.0",
          "model_name": "HTMLModel",
          "state": {
            "_dom_classes": [],
            "_model_module": "@jupyter-widgets/controls",
            "_model_module_version": "1.5.0",
            "_model_name": "HTMLModel",
            "_view_count": null,
            "_view_module": "@jupyter-widgets/controls",
            "_view_module_version": "1.5.0",
            "_view_name": "HTMLView",
            "description": "",
            "description_tooltip": null,
            "layout": "IPY_MODEL_ac52896e425240118739a60c061ab20c",
            "placeholder": "​",
            "style": "IPY_MODEL_996d021f68ea43eaa98911bad787e0e9",
            "value": " 4000/4000 [00:09&lt;00:00, 438.46 examples/s]"
          }
        }
      }
    }
  },
  "nbformat": 4,
  "nbformat_minor": 0
}
