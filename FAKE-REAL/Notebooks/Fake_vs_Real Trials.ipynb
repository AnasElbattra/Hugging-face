{
 "cells": [
  {
   "cell_type": "markdown",
   "metadata": {},
   "source": [
    "# Install Environment"
   ]
  },
  {
   "cell_type": "code",
   "execution_count": 2,
   "metadata": {},
   "outputs": [
    {
     "name": "stderr",
     "output_type": "stream",
     "text": [
      "C:\\Users\\Shindy\\AppData\\Local\\Packages\\PythonSoftwareFoundation.Python.3.11_qbz5n2kfra8p0\\LocalCache\\local-packages\\Python311\\site-packages\\tqdm\\auto.py:21: TqdmWarning: IProgress not found. Please update jupyter and ipywidgets. See https://ipywidgets.readthedocs.io/en/stable/user_install.html\n",
      "  from .autonotebook import tqdm as notebook_tqdm\n"
     ]
    }
   ],
   "source": [
    "import os\n",
    "import pandas as pd\n",
    "import torch\n",
    "import transformers as tr\n",
    "from datasets import Dataset, load_metric\n",
    "import numpy as np\n",
    "from transformers import Trainer\n",
    "from sklearn.metrics import classification_report, accuracy_score"
   ]
  },
  {
   "cell_type": "markdown",
   "metadata": {},
   "source": [
    "# Data Importing"
   ]
  },
  {
   "cell_type": "markdown",
   "metadata": {},
   "source": [
    "## Clean Data"
   ]
  },
  {
   "cell_type": "code",
   "execution_count": null,
   "metadata": {},
   "outputs": [],
   "source": [
    "# GonzaloA data\n",
    "gonzaloa_train = pd.read_csv(\n",
    "    \"https://github.com/AnasElbattra/Hugging-face/raw/main/FAKE-REAL/DATA/GonzaloA_fake_news/train%20Data.csv\"\n",
    ")  # 24352 row\n",
    "gonzaloa_train = gonzaloa_train[[\"text\", \"label\"]]\n",
    "# gonzaloa_train['label'].replace({0: 'fake', 1: 'real'}, inplace=True)\n",
    "\n",
    "\n",
    "gonzaloa_test = pd.read_csv(\n",
    "    \"https://github.com/AnasElbattra/Hugging-face/raw/main/FAKE-REAL/DATA/GonzaloA_fake_news/test%20Data.csv\"\n",
    ")  # 16240 row\n",
    "gonzaloa_test = gonzaloa_test[[\"text\", \"label\"]]\n",
    "# gonzaloa_test['label'].replace({0: 'fake', 1: 'real'}, inplace=True)\n",
    "\n",
    "\n",
    "# pushpdeepfake_news_combined\n",
    "pushpdeepfake_train = pd.read_csv(\n",
    "    \"https://github.com/AnasElbattra/Hugging-face/raw/main/FAKE-REAL/DATA/pushpdeepfake_news_combined/train.csv\"\n",
    ")  # 34916 row\n",
    "pushpdeepfake_train = pushpdeepfake_train[[\"text\", \"label\"]]\n",
    "# clean_2_train['label'].replace({0: 'fake', 1: 'real'}, inplace=True)\n",
    "\n",
    "\n",
    "pushpdeepfake_test = pd.read_csv(\n",
    "    \"https://github.com/AnasElbattra/Hugging-face/raw/main/FAKE-REAL/DATA/pushpdeepfake_news_combined/test.csv\"\n",
    ")  # 10003 row\n",
    "pushpdeepfake_test = pushpdeepfake_test[[\"text\", \"label\"]]\n",
    "# pushpdeepfake_test['label'].replace({0: 'fake', 1: 'real'}, inplace=True)"
   ]
  },
  {
   "cell_type": "markdown",
   "metadata": {},
   "source": [
    "## Trash Data"
   ]
  },
  {
   "cell_type": "code",
   "execution_count": null,
   "metadata": {},
   "outputs": [],
   "source": [
    "# kaggle_datafake\n",
    "kaggle_train = pd.read_csv(\n",
    "    \"https://github.com/AnasElbattra/News-Understanding-NLP/raw/main/FAKE-REAL/DATA/kaggle_datafake/kaggle_datafake_train.csv\"\n",
    ")  # 24000 row\n",
    "kaggle_train = kaggle_train[[\"text\", \"label\"]]\n",
    "\n",
    "kaggle_test = pd.read_csv(\n",
    "    \"https://github.com/AnasElbattra/News-Understanding-NLP/raw/main/FAKE-REAL/DATA/kaggle_datafake/kaggle_datafake_test.csv\"\n",
    ")  # 208003 row\n",
    "kaggle_test = kaggle_test[[\"text\", \"label\"]]\n",
    "\n",
    "# news_articles\n",
    "news_articles = pd.read_csv(\n",
    "    \"https://github.com/AnasElbattra/News-Understanding-NLP/raw/main/FAKE-REAL/DATA/news_articles.csv\"\n",
    ")  # 2100 row\n",
    "news_articles = news_articles[[\"text\", \"label\"]]\n",
    "news_articles[\"label\"] = news_articles[\"label\"].str.lower()"
   ]
  },
  {
   "cell_type": "markdown",
   "metadata": {},
   "source": [
    "## New Data"
   ]
  },
  {
   "cell_type": "code",
   "execution_count": null,
   "metadata": {},
   "outputs": [],
   "source": [
    "# mrm8488-fake-news\n",
    "mrm8488_fake_news = pd.read_csv(\n",
    "    \"https://github.com/AnasElbattra/News-Understanding-NLP/raw/main/FAKE-REAL/DATA/mrm8488-fake-news/fake_news.csv\"\n",
    ")  # 44919 row\n",
    "\n",
    "\n",
    "# ErfanMoosaviMonzzah\n",
    "Erfan_train = pd.read_csv(\n",
    "    \"https://github.com/AnasElbattra/News-Understanding-NLP/raw/main/FAKE-REAL/DATA/ErfanMoosaviMonazzah/train.csv\"\n",
    ")  # 20011 row\n",
    "Erfan_train = Erfan_train[[\"text\", \"label\"]]\n",
    "\n",
    "Erfan_test = pd.read_csv(\n",
    "    \"https://github.com/AnasElbattra/News-Understanding-NLP/raw/main/FAKE-REAL/DATA/ErfanMoosaviMonazzah/test.csv\"\n",
    ")  # 24277 row\n",
    "Erfan_test = Erfan_test[[\"text\", \"label\"]]"
   ]
  },
  {
   "cell_type": "markdown",
   "metadata": {},
   "source": [
    "## Data Combination"
   ]
  },
  {
   "cell_type": "code",
   "execution_count": null,
   "metadata": {},
   "outputs": [],
   "source": [
    "# combine gonzaloa_train, pushpdeepfake_train\n",
    "# training_data = pd.concat([gonzaloa_train, pushpdeepfake_train], ignore_index=True)\n",
    "training_data = erfant_train\n",
    "\n",
    "dataset = Dataset.from_pandas(training_data)\n",
    "dataset = dataset.train_test_split(test_size=0.2)\n",
    "# dataset[\"train\"][\"label\"]"
   ]
  },
  {
   "cell_type": "markdown",
   "metadata": {},
   "source": [
    "# Fine Tuning\n"
   ]
  },
  {
   "cell_type": "code",
   "execution_count": null,
   "metadata": {},
   "outputs": [],
   "source": [
    "def to_tokens(tokenizer, label_map):\n",
    "    def apply(x):\n",
    "        target_labels = [label_map[y] for y in x[\"label\"]]\n",
    "        token_res = tokenizer(\n",
    "            x[\"text\"],\n",
    "            text_target=target_labels,\n",
    "            return_tensors=\"pt\",\n",
    "            truncation=True,\n",
    "            padding=True,\n",
    "        )\n",
    "        return token_res\n",
    "\n",
    "    return apply"
   ]
  },
  {
   "cell_type": "code",
   "execution_count": null,
   "metadata": {},
   "outputs": [],
   "source": [
    "tokenizer = tr.AutoTokenizer.from_pretrained(\"t5-small\")"
   ]
  },
  {
   "cell_type": "code",
   "execution_count": null,
   "metadata": {},
   "outputs": [],
   "source": [
    "label_lookup = {0: \"fake\", 1: \"real\"}\n",
    "to_tokens = to_tokens(tokenizer, label_lookup)\n",
    "tokenized_dataset = dataset.map(\n",
    "    to_tokens, batched=True, remove_columns=[\"text\", \"label\"]\n",
    ")"
   ]
  },
  {
   "cell_type": "code",
   "execution_count": null,
   "metadata": {},
   "outputs": [],
   "source": [
    "local_training_root = \"./\"\n",
    "checkpoint_name = \"test-trainer\"\n",
    "local_checkpoint_path = os.path.join(local_training_root, checkpoint_name)\n",
    "training_args = tr.TrainingArguments(\n",
    "    local_checkpoint_path,\n",
    "    num_train_epochs=1,  # default number of epochs to train is 3\n",
    "    per_device_train_batch_size=16,\n",
    "    optim=\"adamw_torch\",\n",
    "    report_to=[\"tensorboard\"],\n",
    ")"
   ]
  },
  {
   "cell_type": "code",
   "execution_count": null,
   "metadata": {},
   "outputs": [],
   "source": [
    "t5_model = tr.AutoModelForSeq2SeqLM.from_pretrained(\"t5-small\")"
   ]
  },
  {
   "cell_type": "code",
   "execution_count": null,
   "metadata": {},
   "outputs": [],
   "source": [
    "metric = load_metric(\"accuracy\")\n",
    "\n",
    "\n",
    "def compute_metrics(eval_pred):\n",
    "    predictions, labels = eval_pred\n",
    "    predictions = [\n",
    "        tokenizer.decode(p, skip_special_tokens=True)\n",
    "        for p in predictions.argmax(dim=-1)\n",
    "    ]\n",
    "    labels = [label_lookup[l] for l in labels]\n",
    "\n",
    "    return metric.compute(predictions=predictions, references=labels)"
   ]
  },
  {
   "cell_type": "code",
   "execution_count": null,
   "metadata": {},
   "outputs": [],
   "source": [
    "trainer = Trainer(\n",
    "    model=t5_model,\n",
    "    args=training_args,\n",
    "    train_dataset=tokenized_dataset[\"train\"],\n",
    "    eval_dataset=tokenized_dataset[\"test\"],\n",
    "    compute_metrics=compute_metrics,\n",
    ")\n",
    "trainer.train()"
   ]
  },
  {
   "cell_type": "code",
   "execution_count": null,
   "metadata": {},
   "outputs": [],
   "source": [
    "# trainer.evaluate()\n",
    "trainer.save_model()\n",
    "trainer.save_state()\n",
    "checkpoint_name = \"test-trainer-deepspeed\"\n",
    "final_model_path = f\"./llm04_fine_tuning/{checkpoint_name}\"\n",
    "\n",
    "trainer.save_model(output_dir=final_model_path)\n",
    "\n",
    "fine_tuned_model = tr.AutoModelForSeq2SeqLM.from_pretrained(final_model_path)"
   ]
  },
  {
   "cell_type": "markdown",
   "metadata": {},
   "source": [
    "# Evaluation"
   ]
  },
  {
   "cell_type": "markdown",
   "metadata": {},
   "source": [
    "## Data Cleaning and sampling"
   ]
  },
  {
   "cell_type": "code",
   "execution_count": null,
   "metadata": {},
   "outputs": [],
   "source": [
    "# Take 100 samples from each dataset\n",
    "# gonzaloa_train\n",
    "gonzaloa_train = gonzaloa_train.groupby(\"label\", group_keys=False).apply(\n",
    "    lambda x: x.sample(min(len(x), 50))\n",
    ")\n",
    "gonzaloa_train = gonzaloa_train.sample(frac=1, random_state=42)\n",
    "gonzaloa_train.dropna(subset=[\"text\"], inplace=True)\n",
    "gonzaloa_test[\"label\"].replace({0: \"fake\", 1: \"real\"}, inplace=True)\n",
    "\n",
    "# gonzaloa_test\n",
    "gonzaloa_test = gonzaloa_test.groupby(\"label\", group_keys=False).apply(\n",
    "    lambda x: x.sample(min(len(x), 50))\n",
    ")\n",
    "gonzaloa_test = gonzaloa_test.sample(frac=1, random_state=42)\n",
    "gonzaloa_test.dropna(subset=[\"text\"], inplace=True)\n",
    "gonzaloa_test[\"label\"].replace({0: \"fake\", 1: \"real\"}, inplace=True)\n",
    "\n",
    "# pushpdeepfake_train\n",
    "pushpdeepfake_train = pushpdeepfake_train.groupby(\"label\", group_keys=False).apply(\n",
    "    lambda x: x.sample(min(len(x), 50))\n",
    ")\n",
    "pushpdeepfake_train = pushpdeepfake_train.sample(frac=1, random_state=42)\n",
    "pushpdeepfake_train.dropna(subset=[\"text\"], inplace=True)\n",
    "pushpdeepfake_train[\"label\"].replace({0: \"fake\", 1: \"real\"}, inplace=True)\n",
    "\n",
    "# pushpdeepfake_test\n",
    "pushpdeepfake_test = pushpdeepfake_test.groupby(\"label\", group_keys=False).apply(\n",
    "    lambda x: x.sample(min(len(x), 50))\n",
    ")\n",
    "pushpdeepfake_test = pushpdeepfake_test.sample(frac=1, random_state=42)\n",
    "pushpdeepfake_test.dropna(subset=[\"text\"], inplace=True)\n",
    "pushpdeepfake_test[\"label\"].replace({0: \"fake\", 1: \"real\"}, inplace=True)\n",
    "\n",
    "# kaggle_train\n",
    "kaggle_train = kaggle_train.groupby(\"label\", group_keys=False).apply(\n",
    "    lambda x: x.sample(min(len(x), 50))\n",
    ")\n",
    "kaggle_train = kaggle_train.sample(frac=1, random_state=42)\n",
    "kaggle_train.dropna(subset=[\"text\"], inplace=True)\n",
    "kaggle_train[\"label\"].replace({0: \"fake\", 1: \"real\"}, inplace=True)\n",
    "\n",
    "# kaggle_test\n",
    "kaggle_test = kaggle_test.groupby(\"label\", group_keys=False).apply(\n",
    "    lambda x: x.sample(min(len(x), 50))\n",
    ")\n",
    "kaggle_test = kaggle_test.sample(frac=1, random_state=42)\n",
    "kaggle_test.dropna(subset=[\"text\"], inplace=True)\n",
    "kaggle_test[\"label\"].replace({0: \"fake\", 1: \"real\"}, inplace=True)\n",
    "\n",
    "# news_articles\n",
    "news_articles = news_articles.groupby(\"label\", group_keys=False).apply(\n",
    "    lambda x: x.sample(min(len(x), 50))\n",
    ")\n",
    "news_articles = news_articles.sample(frac=1, random_state=42)\n",
    "news_articles.dropna(subset=[\"text\"], inplace=True)\n",
    "news_articles[\"label\"].replace({0: \"fake\", 1: \"real\"}, inplace=True)\n",
    "\n",
    "# mrm8488_fake_news\n",
    "mrm8488_fake_news = mrm8488_fake_news.groupby(\"label\", group_keys=False).apply(\n",
    "    lambda x: x.sample(min(len(x), 50))\n",
    ")\n",
    "mrm8488_fake_news = mrm8488_fake_news.sample(frac=1, random_state=42)\n",
    "mrm8488_fake_news.dropna(subset=[\"text\"], inplace=True)\n",
    "mrm8488_fake_news[\"label\"].replace({0: \"fake\", 1: \"real\"}, inplace=True)\n",
    "\n",
    "# Erfan_test\n",
    "Erfan_test = Erfan_test.groupby(\"label\", group_keys=False).apply(\n",
    "    lambda x: x.sample(min(len(x), 50))\n",
    ")\n",
    "Erfan_test = Erfan_test.sample(frac=1, random_state=42)\n",
    "Erfan_test.dropna(subset=[\"text\"], inplace=True)\n",
    "Erfan_test[\"label\"].replace({0: \"fake\", 1: \"real\"}, inplace=True)"
   ]
  },
  {
   "cell_type": "code",
   "execution_count": null,
   "metadata": {},
   "outputs": [],
   "source": [
    "def evaluate_data(df):\n",
    "    # Initialize an empty list to store the predictions\n",
    "    predictions = []\n",
    "\n",
    "    # Iterate through each row in the DataFrame\n",
    "    for index, row in df.iterrows():\n",
    "        text = row[\"text\"]\n",
    "        news_report = [text]  # Create a list with the text from the DataFrame\n",
    "\n",
    "        # Tokenize and generate predictions\n",
    "        inputs = tokenizer(\n",
    "            news_report, return_tensors=\"pt\", truncation=True, padding=True\n",
    "        )\n",
    "        pred = fine_tuned_model.generate(\n",
    "            input_ids=inputs[\"input_ids\"], attention_mask=inputs[\"attention_mask\"]\n",
    "        )\n",
    "\n",
    "        # Decode the predictions and store them in the predictions list\n",
    "        classification = tokenizer.batch_decode(pred, skip_special_tokens=True)[0]\n",
    "        predictions.append(classification)\n",
    "\n",
    "    # Add the predictions to the DataFrame as a new column\n",
    "    df[\"predictions\"] = predictions\n",
    "\n",
    "    classification_rep = classification_report(df[\"label\"], df[\"predictions\"])\n",
    "    print(\"Classification Report:\")\n",
    "    print(classification_rep)\n",
    "\n",
    "    accuracy = accuracy_score(df[\"label\"], df[\"predictions\"])\n",
    "\n",
    "    return accuracy"
   ]
  },
  {
   "cell_type": "markdown",
   "metadata": {},
   "source": [
    "## Evaluation on the samples"
   ]
  },
  {
   "cell_type": "code",
   "execution_count": null,
   "metadata": {},
   "outputs": [],
   "source": [
    "gonzaloa_train_accuracy = evaluate_data(gonzaloa_train)"
   ]
  },
  {
   "cell_type": "code",
   "execution_count": null,
   "metadata": {},
   "outputs": [],
   "source": [
    "gonzaloa_test_accuracy = evaluate_data(gonzaloa_test)"
   ]
  },
  {
   "cell_type": "code",
   "execution_count": null,
   "metadata": {},
   "outputs": [],
   "source": [
    "pushpdeepfake_train_accuracy = evaluate_data(pushpdeepfake_train)"
   ]
  },
  {
   "cell_type": "code",
   "execution_count": null,
   "metadata": {},
   "outputs": [],
   "source": [
    "pushpdeepfake_test_accuracy = evaluate_data(pushpdeepfake_test)"
   ]
  },
  {
   "cell_type": "code",
   "execution_count": null,
   "metadata": {},
   "outputs": [],
   "source": [
    "kaggle_train_accuracy = evaluate_data(kaggle_train)"
   ]
  },
  {
   "cell_type": "code",
   "execution_count": null,
   "metadata": {},
   "outputs": [],
   "source": [
    "kaggle_train_accuracy = evaluate_data(kaggle_train)"
   ]
  },
  {
   "cell_type": "code",
   "execution_count": null,
   "metadata": {},
   "outputs": [],
   "source": [
    "news_articles_accuracy = evaluate_data(news_articles)"
   ]
  },
  {
   "cell_type": "code",
   "execution_count": null,
   "metadata": {},
   "outputs": [],
   "source": [
    "mrm8488_fake_news_accuracy = evaluate_data(mrm8488_fake_news)"
   ]
  },
  {
   "cell_type": "code",
   "execution_count": null,
   "metadata": {},
   "outputs": [],
   "source": [
    "erfan_test_accuracy = evaluate_data(Erfan_test)"
   ]
  },
  {
   "cell_type": "markdown",
   "metadata": {},
   "source": [
    "## Bar Chart"
   ]
  },
  {
   "cell_type": "code",
   "execution_count": null,
   "metadata": {},
   "outputs": [],
   "source": [
    "import matplotlib.pyplot as plt\n",
    "\n",
    "# Model labels\n",
    "models = [\n",
    "    \"GonzaloA_train\",\n",
    "    \"GonzaloA_test\",\n",
    "    \"pushpdeepfake_train\",\n",
    "    \"pushpdeepfake_test\",\n",
    "    \"kaggle_train\",\n",
    "    \"kaggle_test\",\n",
    "    \"news_articles\",\n",
    "    \"mrm8488_fake_news\",\n",
    "    \"Erfan_test\",\n",
    "]\n",
    "\n",
    "# Accuracy values\n",
    "accuracies = [\n",
    "    gonzaloa_train_accuracy,\n",
    "    gonzaloa_test_accuracy,\n",
    "    pushpdeepfake_train_accuracy,\n",
    "    pushpdeepfake_test_accuracy,\n",
    "    kaggle_train_accuracy,\n",
    "    kaggle_train_accuracy,\n",
    "    news_articles_accuracy,\n",
    "    mrm8488_fake_news_accuracy,\n",
    "    erfan_test_accuracy,\n",
    "]\n",
    "\n",
    "# Create a color list to distinguish between 'summ' and non-summ models\n",
    "colors = [\n",
    "    \"skyblue\",\n",
    "    \"royalblue\",\n",
    "    \"mediumseagreen\",\n",
    "    \"lightcoral\",\n",
    "    \"plum\",\n",
    "    \"gold\",\n",
    "    \"lightpink\",\n",
    "    \"lightgrey\",\n",
    "    \"lightgreen\",\n",
    "]\n",
    "\n",
    "# Create the bar plot\n",
    "plt.figure(figsize=(10, 6))\n",
    "bars = plt.bar(models, accuracies, color=colors, edgecolor=\"black\")\n",
    "\n",
    "# Adding value labels on top of each bar\n",
    "for bar in bars:\n",
    "    yval = bar.get_height()\n",
    "    plt.text(\n",
    "        bar.get_x() + bar.get_width() / 2,\n",
    "        yval,\n",
    "        round(yval, 2),\n",
    "        va=\"bottom\",\n",
    "        ha=\"center\",\n",
    "    )\n",
    "\n",
    "plt.title(\"Accuracy on different datasets using fine-tuned T5-small\", fontsize=16)\n",
    "plt.ylabel(\"Accuracy\", fontsize=12)\n",
    "plt.xlabel(\"Model\", fontsize=12)\n",
    "plt.xticks(rotation=45, fontsize=10)\n",
    "\n",
    "# Adding a grid\n",
    "plt.grid(axis=\"y\", linestyle=\"--\", alpha=0.7)\n",
    "\n",
    "plt.tight_layout()\n",
    "plt.show()"
   ]
  }
 ],
 "metadata": {
  "kernelspec": {
   "display_name": "Python 3",
   "language": "python",
   "name": "python3"
  },
  "language_info": {
   "codemirror_mode": {
    "name": "ipython",
    "version": 3
   },
   "file_extension": ".py",
   "mimetype": "text/x-python",
   "name": "python",
   "nbconvert_exporter": "python",
   "pygments_lexer": "ipython3",
   "version": "3.11.6"
  }
 },
 "nbformat": 4,
 "nbformat_minor": 2
}
